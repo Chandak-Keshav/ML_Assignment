{
 "cells": [
  {
   "cell_type": "code",
   "execution_count": 315,
   "id": "3deffc3d-537b-4940-aee9-ce3e281b7eac",
   "metadata": {},
   "outputs": [],
   "source": [
    "import pandas as pd\n",
    "import numpy as np\n",
    "import seaborn as sns\n",
    "import matplotlib.pyplot as plt\n",
    "from sklearn.preprocessing import OneHotEncoder,LabelEncoder\n",
    "from sklearn.model_selection import train_test_split\n",
    "from sklearn.ensemble import RandomForestClassifier\n",
    "from sklearn.model_selection import cross_val_score\n",
    "from sklearn.metrics import classification_report\n",
    "from sklearn import metrics\n",
    "import xgboost as xgb"
   ]
  },
  {
   "cell_type": "code",
   "execution_count": 316,
   "id": "86c0ff72-21f3-4c58-a1d3-5e9dd0ccc600",
   "metadata": {},
   "outputs": [],
   "source": [
    "df = pd.read_csv('data/train.csv')"
   ]
  },
  {
   "cell_type": "code",
   "execution_count": 317,
   "id": "75eb9f9a-a185-4633-8834-7d1ee0502dfd",
   "metadata": {},
   "outputs": [
    {
     "data": {
      "text/plain": [
       "No    38239\n",
       "Ch    32997\n",
       "Name: change, dtype: int64"
      ]
     },
     "execution_count": 317,
     "metadata": {},
     "output_type": "execute_result"
    }
   ],
   "source": [
    "df['change'].value_counts()"
   ]
  },
  {
   "cell_type": "code",
   "execution_count": 318,
   "id": "c6ef55ad-9e63-4254-82bd-c83eeb26a919",
   "metadata": {},
   "outputs": [
    {
     "data": {
      "text/plain": [
       "array(['Caucasian', 'AfricanAmerican', 'Hispanic', 'Asian', 'Other', nan],\n",
       "      dtype=object)"
      ]
     },
     "execution_count": 318,
     "metadata": {},
     "output_type": "execute_result"
    }
   ],
   "source": [
    "df['race'].unique()"
   ]
  },
  {
   "cell_type": "code",
   "execution_count": 319,
   "id": "ca0eb0f0-db48-443d-95e0-09fa00f3d8a0",
   "metadata": {},
   "outputs": [
    {
     "data": {
      "text/plain": [
       "enc_id                          0\n",
       "patient_id                      0\n",
       "race                         1621\n",
       "gender                          0\n",
       "age                             0\n",
       "weight                      68986\n",
       "admission_type_id               0\n",
       "discharge_disposition_id        0\n",
       "admission_source_id             0\n",
       "time_in_hospital                0\n",
       "payer_code                  28178\n",
       "medical_specialty           34930\n",
       "num_lab_procedures              0\n",
       "num_procedures                  0\n",
       "num_medications                 0\n",
       "number_outpatient               0\n",
       "number_emergency                0\n",
       "number_inpatient                0\n",
       "diag_1                         15\n",
       "diag_2                        244\n",
       "diag_3                        989\n",
       "number_diagnoses                0\n",
       "max_glu_serum               67515\n",
       "A1Cresult                   59356\n",
       "metformin                       0\n",
       "repaglinide                     0\n",
       "nateglinide                     0\n",
       "chlorpropamide                  0\n",
       "glimepiride                     0\n",
       "acetohexamide                   0\n",
       "glipizide                       0\n",
       "glyburide                       0\n",
       "tolbutamide                     0\n",
       "pioglitazone                    0\n",
       "rosiglitazone                   0\n",
       "acarbose                        0\n",
       "miglitol                        0\n",
       "troglitazone                    0\n",
       "tolazamide                      0\n",
       "examide                         0\n",
       "citoglipton                     0\n",
       "insulin                         0\n",
       "glyburide-metformin             0\n",
       "glipizide-metformin             0\n",
       "glimepiride-pioglitazone        0\n",
       "metformin-rosiglitazone         0\n",
       "metformin-pioglitazone          0\n",
       "change                          0\n",
       "diabetesMed                     0\n",
       "readmission_id                  0\n",
       "dtype: int64"
      ]
     },
     "execution_count": 319,
     "metadata": {},
     "output_type": "execute_result"
    }
   ],
   "source": [
    "df.isnull().sum()"
   ]
  },
  {
   "cell_type": "code",
   "execution_count": 320,
   "id": "52a522fa-3938-4ddb-89bd-2d2b1fc3523a",
   "metadata": {},
   "outputs": [
    {
     "data": {
      "text/plain": [
       "428    4836\n",
       "414    4618\n",
       "786    2791\n",
       "410    2537\n",
       "486    2461\n",
       "       ... \n",
       "352       1\n",
       "133       1\n",
       "10        1\n",
       "833       1\n",
       "906       1\n",
       "Name: diag_1, Length: 684, dtype: int64"
      ]
     },
     "execution_count": 320,
     "metadata": {},
     "output_type": "execute_result"
    }
   ],
   "source": [
    "df['diag_1'].value_counts()"
   ]
  },
  {
   "cell_type": "markdown",
   "id": "34ea3d71-e279-4687-9356-026fbc066358",
   "metadata": {
    "jp-MarkdownHeadingCollapsed": true
   },
   "source": [
    "## Data Visualisation"
   ]
  },
  {
   "cell_type": "code",
   "execution_count": 321,
   "id": "00c4cdc9-ad2b-4253-bcba-077500651973",
   "metadata": {},
   "outputs": [
    {
     "data": {
      "image/png": "[encoded data removed]",
      "text/plain": [
       "<Figure size 800x600 with 1 Axes>"
      ]
     },
     "metadata": {},
     "output_type": "display_data"
    }
   ],
   "source": [
    "plt.figure(figsize=(8, 6))\n",
    "sns.countplot(x='race', hue='readmission_id', data=df)\n",
    "plt.title('Effect of Race on Readmission_id')\n",
    "plt.xlabel('Race')\n",
    "plt.ylabel('Count')\n",
    "plt.show()"
   ]
  },
  {
   "cell_type": "code",
   "execution_count": 322,
   "id": "757920a4-0567-4228-b2e8-f380a80796c0",
   "metadata": {},
   "outputs": [
    {
     "data": {
      "image/png": "[encoded data removed]",
      "text/plain": [
       "<Figure size 800x600 with 1 Axes>"
      ]
     },
     "metadata": {},
     "output_type": "display_data"
    }
   ],
   "source": [
    "plt.figure(figsize=(8, 6))\n",
    "sns.countplot(x='diag_1', hue='readmission_id', data=df)\n",
    "plt.title('Effect of diag_1 on Readmission_id')\n",
    "plt.xlabel('Race')\n",
    "plt.ylabel('Count')\n",
    "plt.show()"
   ]
  },
  {
   "cell_type": "code",
   "execution_count": 323,
   "id": "9025c457-8d64-4701-b9c0-49f6a3089712",
   "metadata": {},
   "outputs": [
    {
     "data": {
      "image/png": "[encoded data removed]",
      "text/plain": [
       "<Figure size 800x600 with 1 Axes>"
      ]
     },
     "metadata": {},
     "output_type": "display_data"
    }
   ],
   "source": [
    "plt.figure(figsize=(8, 6))\n",
    "sns.countplot(x='diag_2', hue='readmission_id', data=df)\n",
    "plt.title('Effect of diag_2 on Readmission_id')\n",
    "plt.xlabel('Race')\n",
    "plt.ylabel('Count')\n",
    "plt.show()"
   ]
  },
  {
   "cell_type": "code",
   "execution_count": 324,
   "id": "2c714c71-c575-451d-b454-87260503733a",
   "metadata": {},
   "outputs": [
    {
     "data": {
      "image/png": "[encoded data removed]",
      "text/plain": [
       "<Figure size 800x600 with 1 Axes>"
      ]
     },
     "metadata": {},
     "output_type": "display_data"
    }
   ],
   "source": [
    "plt.figure(figsize=(8, 6))\n",
    "sns.countplot(x='diag_3', hue='readmission_id', data=df)\n",
    "plt.title('Effect of diag_3 on Readmission_id')\n",
    "plt.xlabel('Race')\n",
    "plt.ylabel('Count')\n",
    "plt.show()"
   ]
  },
  {
   "cell_type": "code",
   "execution_count": 325,
   "id": "f27a90c8-6b7c-43eb-9eb0-1ad6e1ec4302",
   "metadata": {},
   "outputs": [
    {
     "data": {
      "image/png": "[encoded data removed]",
      "text/plain": [
       "<Figure size 800x600 with 1 Axes>"
      ]
     },
     "metadata": {},
     "output_type": "display_data"
    }
   ],
   "source": [
    "plt.figure(figsize=(8, 6))\n",
    "sns.countplot(x='admission_type_id', hue='readmission_id', data=df)\n",
    "plt.title('Effect of admission type id on Readmission_id')\n",
    "plt.xlabel('Race')\n",
    "plt.ylabel('Count')\n",
    "plt.show()"
   ]
  },
  {
   "cell_type": "code",
   "execution_count": 326,
   "id": "e641becc-0d7e-47eb-a4a8-38128026faa8",
   "metadata": {},
   "outputs": [
    {
     "data": {
      "image/png": "[encoded data removed]",
      "text/plain": [
       "<Figure size 800x600 with 1 Axes>"
      ]
     },
     "metadata": {},
     "output_type": "display_data"
    }
   ],
   "source": [
    "plt.figure(figsize=(8, 6))\n",
    "sns.countplot(x='gender', hue='readmission_id', data=df)\n",
    "plt.title('Effect of gender on Readmission_id')\n",
    "plt.xlabel('Race')\n",
    "plt.ylabel('Count')\n",
    "plt.show()"
   ]
  },
  {
   "cell_type": "code",
   "execution_count": 327,
   "id": "8c5d4927-bed7-4d39-b9ea-e6c97bd5221d",
   "metadata": {},
   "outputs": [
    {
     "data": {
      "text/plain": [
       "[70-80)     18179\n",
       "[60-70)     15801\n",
       "[50-60)     12080\n",
       "[80-90)     12037\n",
       "[40-50)      6785\n",
       "[30-40)      2650\n",
       "[90-100)     1940\n",
       "[20-30)      1165\n",
       "[10-20)       495\n",
       "[0-10)        104\n",
       "Name: age, dtype: int64"
      ]
     },
     "execution_count": 327,
     "metadata": {},
     "output_type": "execute_result"
    }
   ],
   "source": [
    "df['age'].value_counts()"
   ]
  },
  {
   "cell_type": "code",
   "execution_count": 328,
   "id": "901efd07-bae1-4d6f-818e-fc823b61665e",
   "metadata": {},
   "outputs": [
    {
     "data": {
      "image/png": "[encoded data removed]",
      "text/plain": [
       "<Figure size 800x600 with 1 Axes>"
      ]
     },
     "metadata": {},
     "output_type": "display_data"
    }
   ],
   "source": [
    "plt.figure(figsize=(8, 6))\n",
    "sns.countplot(x='age', hue='readmission_id', data=df)\n",
    "plt.title('Effect of Age Range on Readmission_id')\n",
    "plt.xlabel('Age Range')\n",
    "plt.ylabel('Count')\n",
    "plt.xticks(rotation=45)  # Rotate x-axis labels for better readability\n",
    "plt.show()"
   ]
  },
  {
   "cell_type": "markdown",
   "id": "5cd6b0f4-145e-4792-be5e-7f34341f742c",
   "metadata": {},
   "source": [
    "## Pre-Processing"
   ]
  },
  {
   "cell_type": "code",
   "execution_count": 329,
   "id": "3389627b-6565-4f36-b1f1-e6cb51d1e228",
   "metadata": {},
   "outputs": [
    {
     "data": {
      "text/plain": [
       "[70-80)     18179\n",
       "[60-70)     15801\n",
       "[50-60)     12080\n",
       "[80-90)     12037\n",
       "[40-50)      6785\n",
       "[30-40)      2650\n",
       "[90-100)     1940\n",
       "[20-30)      1165\n",
       "[10-20)       495\n",
       "[0-10)        104\n",
       "Name: age, dtype: int64"
      ]
     },
     "execution_count": 329,
     "metadata": {},
     "output_type": "execute_result"
    }
   ],
   "source": [
    "df['age'].value_counts()"
   ]
  },
  {
   "cell_type": "code",
   "execution_count": 330,
   "id": "57f51f39-0c29-4102-a629-381a9c29f0e8",
   "metadata": {},
   "outputs": [
    {
     "name": "stdout",
     "output_type": "stream",
     "text": [
      "1    46060\n",
      "2    13977\n",
      "0    11199\n",
      "Name: Age_Category, dtype: int64\n"
     ]
    }
   ],
   "source": [
    "bins = [0, 40, 70, 100]\n",
    "labels = [0, 1, 2]\n",
    "df['Age_Category'] = pd.cut(df['age'].apply(lambda x: int(x.strip('[)').split('-')[0])), bins=bins, labels=labels,include_lowest=True)\n",
    "\n",
    "print(df['Age_Category'].value_counts())"
   ]
  },
  {
   "cell_type": "markdown",
   "id": "9637c0dc-18ad-445d-b0ee-c7a0340e6d5c",
   "metadata": {},
   "source": [
    "#### The columns citoglipton and examide have just 1 value, thus they will not affect the classification"
   ]
  },
  {
   "cell_type": "code",
   "execution_count": 331,
   "id": "9c3dede3-7c1c-49a6-aa15-0d5e1e695be8",
   "metadata": {},
   "outputs": [
    {
     "name": "stdout",
     "output_type": "stream",
     "text": [
      "(71236, 33)\n"
     ]
    }
   ],
   "source": [
    "categorical_df=df.drop(['enc_id', 'patient_id','age','weight',\n",
    "       'time_in_hospital', 'payer_code',\n",
    "       'num_lab_procedures', 'num_procedures', 'num_medications',\n",
    "       'number_outpatient', 'number_emergency', 'number_inpatient', 'number_diagnoses','diabetesMed','citoglipton','examide','max_glu_serum','A1Cresult'],axis=1)\n",
    "print(categorical_df.shape)\n",
    "drugs = ['metformin', 'repaglinide', 'nateglinide', 'chlorpropamide', 'glimepiride', 'glipizide', 'glyburide', 'pioglitazone', 'rosiglitazone', 'acarbose', 'miglitol', 'insulin', 'glyburide-metformin', 'tolazamide', 'metformin-pioglitazone','metformin-rosiglitazone', 'glimepiride-pioglitazone', 'glipizide-metformin', 'troglitazone', 'tolbutamide', 'acetohexamide']\n",
    "for drug in drugs:\n",
    "    new_col = drug + 'temp'\n",
    "    categorical_df[drug] = categorical_df[drug].apply(lambda x: 0 if (x == 'No' or x == 'Steady') else 1)"
   ]
  },
  {
   "cell_type": "code",
   "execution_count": 332,
   "id": "ebd4959f-ff59-4a1d-9046-435fa93a052b",
   "metadata": {},
   "outputs": [
    {
     "data": {
      "text/html": [
       "<div>\n",
       "<style scoped>\n",
       "    .dataframe tbody tr th:only-of-type {\n",
       "        vertical-align: middle;\n",
       "    }\n",
       "\n",
       "    .dataframe tbody tr th {\n",
       "        vertical-align: top;\n",
       "    }\n",
       "\n",
       "    .dataframe thead th {\n",
       "        text-align: right;\n",
       "    }\n",
       "</style>\n",
       "<table border=\"1\" class=\"dataframe\">\n",
       "  <thead>\n",
       "    <tr style=\"text-align: right;\">\n",
       "      <th></th>\n",
       "      <th>race</th>\n",
       "      <th>gender</th>\n",
       "      <th>admission_type_id</th>\n",
       "      <th>discharge_disposition_id</th>\n",
       "      <th>admission_source_id</th>\n",
       "      <th>medical_specialty</th>\n",
       "      <th>diag_1</th>\n",
       "      <th>diag_2</th>\n",
       "      <th>diag_3</th>\n",
       "      <th>metformin</th>\n",
       "      <th>...</th>\n",
       "      <th>tolazamide</th>\n",
       "      <th>insulin</th>\n",
       "      <th>glyburide-metformin</th>\n",
       "      <th>glipizide-metformin</th>\n",
       "      <th>glimepiride-pioglitazone</th>\n",
       "      <th>metformin-rosiglitazone</th>\n",
       "      <th>metformin-pioglitazone</th>\n",
       "      <th>change</th>\n",
       "      <th>readmission_id</th>\n",
       "      <th>Age_Category</th>\n",
       "    </tr>\n",
       "  </thead>\n",
       "  <tbody>\n",
       "    <tr>\n",
       "      <th>0</th>\n",
       "      <td>Caucasian</td>\n",
       "      <td>Male</td>\n",
       "      <td>1</td>\n",
       "      <td>2</td>\n",
       "      <td>6</td>\n",
       "      <td>Family/GeneralPractice</td>\n",
       "      <td>410</td>\n",
       "      <td>428</td>\n",
       "      <td>414</td>\n",
       "      <td>0</td>\n",
       "      <td>...</td>\n",
       "      <td>0</td>\n",
       "      <td>0</td>\n",
       "      <td>0</td>\n",
       "      <td>0</td>\n",
       "      <td>0</td>\n",
       "      <td>0</td>\n",
       "      <td>0</td>\n",
       "      <td>Ch</td>\n",
       "      <td>2</td>\n",
       "      <td>1</td>\n",
       "    </tr>\n",
       "    <tr>\n",
       "      <th>1</th>\n",
       "      <td>Caucasian</td>\n",
       "      <td>Male</td>\n",
       "      <td>2</td>\n",
       "      <td>6</td>\n",
       "      <td>1</td>\n",
       "      <td>NaN</td>\n",
       "      <td>414</td>\n",
       "      <td>424</td>\n",
       "      <td>428</td>\n",
       "      <td>0</td>\n",
       "      <td>...</td>\n",
       "      <td>0</td>\n",
       "      <td>0</td>\n",
       "      <td>0</td>\n",
       "      <td>0</td>\n",
       "      <td>0</td>\n",
       "      <td>0</td>\n",
       "      <td>0</td>\n",
       "      <td>No</td>\n",
       "      <td>1</td>\n",
       "      <td>1</td>\n",
       "    </tr>\n",
       "    <tr>\n",
       "      <th>2</th>\n",
       "      <td>Caucasian</td>\n",
       "      <td>Female</td>\n",
       "      <td>3</td>\n",
       "      <td>2</td>\n",
       "      <td>1</td>\n",
       "      <td>NaN</td>\n",
       "      <td>518</td>\n",
       "      <td>514</td>\n",
       "      <td>997</td>\n",
       "      <td>0</td>\n",
       "      <td>...</td>\n",
       "      <td>0</td>\n",
       "      <td>1</td>\n",
       "      <td>0</td>\n",
       "      <td>0</td>\n",
       "      <td>0</td>\n",
       "      <td>0</td>\n",
       "      <td>0</td>\n",
       "      <td>Ch</td>\n",
       "      <td>1</td>\n",
       "      <td>1</td>\n",
       "    </tr>\n",
       "    <tr>\n",
       "      <th>3</th>\n",
       "      <td>Caucasian</td>\n",
       "      <td>Female</td>\n",
       "      <td>1</td>\n",
       "      <td>1</td>\n",
       "      <td>7</td>\n",
       "      <td>NaN</td>\n",
       "      <td>592</td>\n",
       "      <td>591</td>\n",
       "      <td>250</td>\n",
       "      <td>0</td>\n",
       "      <td>...</td>\n",
       "      <td>0</td>\n",
       "      <td>0</td>\n",
       "      <td>0</td>\n",
       "      <td>0</td>\n",
       "      <td>0</td>\n",
       "      <td>0</td>\n",
       "      <td>0</td>\n",
       "      <td>No</td>\n",
       "      <td>2</td>\n",
       "      <td>1</td>\n",
       "    </tr>\n",
       "    <tr>\n",
       "      <th>4</th>\n",
       "      <td>Caucasian</td>\n",
       "      <td>Female</td>\n",
       "      <td>1</td>\n",
       "      <td>6</td>\n",
       "      <td>7</td>\n",
       "      <td>NaN</td>\n",
       "      <td>250.6</td>\n",
       "      <td>713</td>\n",
       "      <td>707</td>\n",
       "      <td>0</td>\n",
       "      <td>...</td>\n",
       "      <td>0</td>\n",
       "      <td>1</td>\n",
       "      <td>0</td>\n",
       "      <td>0</td>\n",
       "      <td>0</td>\n",
       "      <td>0</td>\n",
       "      <td>0</td>\n",
       "      <td>Ch</td>\n",
       "      <td>2</td>\n",
       "      <td>2</td>\n",
       "    </tr>\n",
       "    <tr>\n",
       "      <th>5</th>\n",
       "      <td>Caucasian</td>\n",
       "      <td>Female</td>\n",
       "      <td>1</td>\n",
       "      <td>6</td>\n",
       "      <td>7</td>\n",
       "      <td>NaN</td>\n",
       "      <td>599</td>\n",
       "      <td>496</td>\n",
       "      <td>276</td>\n",
       "      <td>0</td>\n",
       "      <td>...</td>\n",
       "      <td>0</td>\n",
       "      <td>0</td>\n",
       "      <td>0</td>\n",
       "      <td>0</td>\n",
       "      <td>0</td>\n",
       "      <td>0</td>\n",
       "      <td>0</td>\n",
       "      <td>Ch</td>\n",
       "      <td>1</td>\n",
       "      <td>1</td>\n",
       "    </tr>\n",
       "    <tr>\n",
       "      <th>6</th>\n",
       "      <td>Caucasian</td>\n",
       "      <td>Male</td>\n",
       "      <td>1</td>\n",
       "      <td>5</td>\n",
       "      <td>7</td>\n",
       "      <td>NaN</td>\n",
       "      <td>531</td>\n",
       "      <td>428</td>\n",
       "      <td>584</td>\n",
       "      <td>0</td>\n",
       "      <td>...</td>\n",
       "      <td>0</td>\n",
       "      <td>0</td>\n",
       "      <td>0</td>\n",
       "      <td>0</td>\n",
       "      <td>0</td>\n",
       "      <td>0</td>\n",
       "      <td>0</td>\n",
       "      <td>No</td>\n",
       "      <td>1</td>\n",
       "      <td>2</td>\n",
       "    </tr>\n",
       "    <tr>\n",
       "      <th>7</th>\n",
       "      <td>Caucasian</td>\n",
       "      <td>Male</td>\n",
       "      <td>3</td>\n",
       "      <td>18</td>\n",
       "      <td>4</td>\n",
       "      <td>PhysicalMedicineandRehabilitation</td>\n",
       "      <td>V57</td>\n",
       "      <td>707</td>\n",
       "      <td>250.7</td>\n",
       "      <td>0</td>\n",
       "      <td>...</td>\n",
       "      <td>0</td>\n",
       "      <td>0</td>\n",
       "      <td>0</td>\n",
       "      <td>0</td>\n",
       "      <td>0</td>\n",
       "      <td>0</td>\n",
       "      <td>0</td>\n",
       "      <td>No</td>\n",
       "      <td>1</td>\n",
       "      <td>1</td>\n",
       "    </tr>\n",
       "    <tr>\n",
       "      <th>8</th>\n",
       "      <td>Caucasian</td>\n",
       "      <td>Male</td>\n",
       "      <td>5</td>\n",
       "      <td>6</td>\n",
       "      <td>7</td>\n",
       "      <td>NaN</td>\n",
       "      <td>518</td>\n",
       "      <td>428</td>\n",
       "      <td>496</td>\n",
       "      <td>0</td>\n",
       "      <td>...</td>\n",
       "      <td>0</td>\n",
       "      <td>0</td>\n",
       "      <td>0</td>\n",
       "      <td>0</td>\n",
       "      <td>0</td>\n",
       "      <td>0</td>\n",
       "      <td>0</td>\n",
       "      <td>No</td>\n",
       "      <td>2</td>\n",
       "      <td>1</td>\n",
       "    </tr>\n",
       "    <tr>\n",
       "      <th>9</th>\n",
       "      <td>AfricanAmerican</td>\n",
       "      <td>Male</td>\n",
       "      <td>1</td>\n",
       "      <td>1</td>\n",
       "      <td>7</td>\n",
       "      <td>NaN</td>\n",
       "      <td>850</td>\n",
       "      <td>250.01</td>\n",
       "      <td>805</td>\n",
       "      <td>0</td>\n",
       "      <td>...</td>\n",
       "      <td>0</td>\n",
       "      <td>1</td>\n",
       "      <td>0</td>\n",
       "      <td>0</td>\n",
       "      <td>0</td>\n",
       "      <td>0</td>\n",
       "      <td>0</td>\n",
       "      <td>Ch</td>\n",
       "      <td>2</td>\n",
       "      <td>1</td>\n",
       "    </tr>\n",
       "    <tr>\n",
       "      <th>10</th>\n",
       "      <td>Caucasian</td>\n",
       "      <td>Female</td>\n",
       "      <td>6</td>\n",
       "      <td>1</td>\n",
       "      <td>7</td>\n",
       "      <td>Pulmonology</td>\n",
       "      <td>682</td>\n",
       "      <td>250.03</td>\n",
       "      <td>882</td>\n",
       "      <td>0</td>\n",
       "      <td>...</td>\n",
       "      <td>0</td>\n",
       "      <td>0</td>\n",
       "      <td>0</td>\n",
       "      <td>0</td>\n",
       "      <td>0</td>\n",
       "      <td>0</td>\n",
       "      <td>0</td>\n",
       "      <td>Ch</td>\n",
       "      <td>2</td>\n",
       "      <td>1</td>\n",
       "    </tr>\n",
       "    <tr>\n",
       "      <th>11</th>\n",
       "      <td>Caucasian</td>\n",
       "      <td>Male</td>\n",
       "      <td>6</td>\n",
       "      <td>1</td>\n",
       "      <td>17</td>\n",
       "      <td>Cardiology</td>\n",
       "      <td>410</td>\n",
       "      <td>414</td>\n",
       "      <td>250</td>\n",
       "      <td>0</td>\n",
       "      <td>...</td>\n",
       "      <td>0</td>\n",
       "      <td>0</td>\n",
       "      <td>0</td>\n",
       "      <td>0</td>\n",
       "      <td>0</td>\n",
       "      <td>0</td>\n",
       "      <td>0</td>\n",
       "      <td>No</td>\n",
       "      <td>1</td>\n",
       "      <td>2</td>\n",
       "    </tr>\n",
       "    <tr>\n",
       "      <th>12</th>\n",
       "      <td>AfricanAmerican</td>\n",
       "      <td>Male</td>\n",
       "      <td>1</td>\n",
       "      <td>1</td>\n",
       "      <td>7</td>\n",
       "      <td>Psychiatry</td>\n",
       "      <td>295</td>\n",
       "      <td>250.01</td>\n",
       "      <td>305</td>\n",
       "      <td>0</td>\n",
       "      <td>...</td>\n",
       "      <td>0</td>\n",
       "      <td>0</td>\n",
       "      <td>0</td>\n",
       "      <td>0</td>\n",
       "      <td>0</td>\n",
       "      <td>0</td>\n",
       "      <td>0</td>\n",
       "      <td>No</td>\n",
       "      <td>2</td>\n",
       "      <td>0</td>\n",
       "    </tr>\n",
       "    <tr>\n",
       "      <th>13</th>\n",
       "      <td>Caucasian</td>\n",
       "      <td>Female</td>\n",
       "      <td>1</td>\n",
       "      <td>6</td>\n",
       "      <td>7</td>\n",
       "      <td>InternalMedicine</td>\n",
       "      <td>682</td>\n",
       "      <td>250.03</td>\n",
       "      <td>41</td>\n",
       "      <td>0</td>\n",
       "      <td>...</td>\n",
       "      <td>0</td>\n",
       "      <td>1</td>\n",
       "      <td>0</td>\n",
       "      <td>0</td>\n",
       "      <td>0</td>\n",
       "      <td>0</td>\n",
       "      <td>0</td>\n",
       "      <td>Ch</td>\n",
       "      <td>2</td>\n",
       "      <td>0</td>\n",
       "    </tr>\n",
       "    <tr>\n",
       "      <th>14</th>\n",
       "      <td>AfricanAmerican</td>\n",
       "      <td>Female</td>\n",
       "      <td>2</td>\n",
       "      <td>1</td>\n",
       "      <td>7</td>\n",
       "      <td>NaN</td>\n",
       "      <td>414</td>\n",
       "      <td>428</td>\n",
       "      <td>250</td>\n",
       "      <td>0</td>\n",
       "      <td>...</td>\n",
       "      <td>0</td>\n",
       "      <td>0</td>\n",
       "      <td>0</td>\n",
       "      <td>0</td>\n",
       "      <td>0</td>\n",
       "      <td>0</td>\n",
       "      <td>0</td>\n",
       "      <td>Ch</td>\n",
       "      <td>0</td>\n",
       "      <td>2</td>\n",
       "    </tr>\n",
       "    <tr>\n",
       "      <th>15</th>\n",
       "      <td>Caucasian</td>\n",
       "      <td>Male</td>\n",
       "      <td>2</td>\n",
       "      <td>1</td>\n",
       "      <td>7</td>\n",
       "      <td>Emergency/Trauma</td>\n",
       "      <td>434</td>\n",
       "      <td>428</td>\n",
       "      <td>425</td>\n",
       "      <td>0</td>\n",
       "      <td>...</td>\n",
       "      <td>0</td>\n",
       "      <td>0</td>\n",
       "      <td>0</td>\n",
       "      <td>0</td>\n",
       "      <td>0</td>\n",
       "      <td>0</td>\n",
       "      <td>0</td>\n",
       "      <td>Ch</td>\n",
       "      <td>1</td>\n",
       "      <td>1</td>\n",
       "    </tr>\n",
       "    <tr>\n",
       "      <th>16</th>\n",
       "      <td>Caucasian</td>\n",
       "      <td>Male</td>\n",
       "      <td>3</td>\n",
       "      <td>1</td>\n",
       "      <td>7</td>\n",
       "      <td>Emergency/Trauma</td>\n",
       "      <td>413</td>\n",
       "      <td>300</td>\n",
       "      <td>274</td>\n",
       "      <td>0</td>\n",
       "      <td>...</td>\n",
       "      <td>0</td>\n",
       "      <td>0</td>\n",
       "      <td>0</td>\n",
       "      <td>0</td>\n",
       "      <td>0</td>\n",
       "      <td>0</td>\n",
       "      <td>0</td>\n",
       "      <td>No</td>\n",
       "      <td>1</td>\n",
       "      <td>1</td>\n",
       "    </tr>\n",
       "    <tr>\n",
       "      <th>17</th>\n",
       "      <td>Caucasian</td>\n",
       "      <td>Male</td>\n",
       "      <td>1</td>\n",
       "      <td>1</td>\n",
       "      <td>7</td>\n",
       "      <td>InternalMedicine</td>\n",
       "      <td>562</td>\n",
       "      <td>401</td>\n",
       "      <td>250</td>\n",
       "      <td>0</td>\n",
       "      <td>...</td>\n",
       "      <td>0</td>\n",
       "      <td>0</td>\n",
       "      <td>0</td>\n",
       "      <td>0</td>\n",
       "      <td>0</td>\n",
       "      <td>0</td>\n",
       "      <td>0</td>\n",
       "      <td>No</td>\n",
       "      <td>1</td>\n",
       "      <td>1</td>\n",
       "    </tr>\n",
       "    <tr>\n",
       "      <th>18</th>\n",
       "      <td>Caucasian</td>\n",
       "      <td>Female</td>\n",
       "      <td>1</td>\n",
       "      <td>1</td>\n",
       "      <td>7</td>\n",
       "      <td>Cardiology</td>\n",
       "      <td>414</td>\n",
       "      <td>401</td>\n",
       "      <td>244</td>\n",
       "      <td>0</td>\n",
       "      <td>...</td>\n",
       "      <td>0</td>\n",
       "      <td>0</td>\n",
       "      <td>0</td>\n",
       "      <td>0</td>\n",
       "      <td>0</td>\n",
       "      <td>0</td>\n",
       "      <td>0</td>\n",
       "      <td>No</td>\n",
       "      <td>2</td>\n",
       "      <td>1</td>\n",
       "    </tr>\n",
       "    <tr>\n",
       "      <th>19</th>\n",
       "      <td>Caucasian</td>\n",
       "      <td>Male</td>\n",
       "      <td>1</td>\n",
       "      <td>1</td>\n",
       "      <td>7</td>\n",
       "      <td>InternalMedicine</td>\n",
       "      <td>682</td>\n",
       "      <td>250.6</td>\n",
       "      <td>41</td>\n",
       "      <td>0</td>\n",
       "      <td>...</td>\n",
       "      <td>0</td>\n",
       "      <td>1</td>\n",
       "      <td>0</td>\n",
       "      <td>0</td>\n",
       "      <td>0</td>\n",
       "      <td>0</td>\n",
       "      <td>0</td>\n",
       "      <td>Ch</td>\n",
       "      <td>2</td>\n",
       "      <td>0</td>\n",
       "    </tr>\n",
       "  </tbody>\n",
       "</table>\n",
       "<p>20 rows × 33 columns</p>\n",
       "</div>"
      ],
      "text/plain": [
       "               race  gender  admission_type_id  discharge_disposition_id  \\\n",
       "0         Caucasian    Male                  1                         2   \n",
       "1         Caucasian    Male                  2                         6   \n",
       "2         Caucasian  Female                  3                         2   \n",
       "3         Caucasian  Female                  1                         1   \n",
       "4         Caucasian  Female                  1                         6   \n",
       "5         Caucasian  Female                  1                         6   \n",
       "6         Caucasian    Male                  1                         5   \n",
       "7         Caucasian    Male                  3                        18   \n",
       "8         Caucasian    Male                  5                         6   \n",
       "9   AfricanAmerican    Male                  1                         1   \n",
       "10        Caucasian  Female                  6                         1   \n",
       "11        Caucasian    Male                  6                         1   \n",
       "12  AfricanAmerican    Male                  1                         1   \n",
       "13        Caucasian  Female                  1                         6   \n",
       "14  AfricanAmerican  Female                  2                         1   \n",
       "15        Caucasian    Male                  2                         1   \n",
       "16        Caucasian    Male                  3                         1   \n",
       "17        Caucasian    Male                  1                         1   \n",
       "18        Caucasian  Female                  1                         1   \n",
       "19        Caucasian    Male                  1                         1   \n",
       "\n",
       "    admission_source_id                  medical_specialty diag_1  diag_2  \\\n",
       "0                     6             Family/GeneralPractice    410     428   \n",
       "1                     1                                NaN    414     424   \n",
       "2                     1                                NaN    518     514   \n",
       "3                     7                                NaN    592     591   \n",
       "4                     7                                NaN  250.6     713   \n",
       "5                     7                                NaN    599     496   \n",
       "6                     7                                NaN    531     428   \n",
       "7                     4  PhysicalMedicineandRehabilitation    V57     707   \n",
       "8                     7                                NaN    518     428   \n",
       "9                     7                                NaN    850  250.01   \n",
       "10                    7                        Pulmonology    682  250.03   \n",
       "11                   17                         Cardiology    410     414   \n",
       "12                    7                         Psychiatry    295  250.01   \n",
       "13                    7                   InternalMedicine    682  250.03   \n",
       "14                    7                                NaN    414     428   \n",
       "15                    7                   Emergency/Trauma    434     428   \n",
       "16                    7                   Emergency/Trauma    413     300   \n",
       "17                    7                   InternalMedicine    562     401   \n",
       "18                    7                         Cardiology    414     401   \n",
       "19                    7                   InternalMedicine    682   250.6   \n",
       "\n",
       "   diag_3  metformin  ...  tolazamide  insulin  glyburide-metformin  \\\n",
       "0     414          0  ...           0        0                    0   \n",
       "1     428          0  ...           0        0                    0   \n",
       "2     997          0  ...           0        1                    0   \n",
       "3     250          0  ...           0        0                    0   \n",
       "4     707          0  ...           0        1                    0   \n",
       "5     276          0  ...           0        0                    0   \n",
       "6     584          0  ...           0        0                    0   \n",
       "7   250.7          0  ...           0        0                    0   \n",
       "8     496          0  ...           0        0                    0   \n",
       "9     805          0  ...           0        1                    0   \n",
       "10    882          0  ...           0        0                    0   \n",
       "11    250          0  ...           0        0                    0   \n",
       "12    305          0  ...           0        0                    0   \n",
       "13     41          0  ...           0        1                    0   \n",
       "14    250          0  ...           0        0                    0   \n",
       "15    425          0  ...           0        0                    0   \n",
       "16    274          0  ...           0        0                    0   \n",
       "17    250          0  ...           0        0                    0   \n",
       "18    244          0  ...           0        0                    0   \n",
       "19     41          0  ...           0        1                    0   \n",
       "\n",
       "    glipizide-metformin  glimepiride-pioglitazone  metformin-rosiglitazone  \\\n",
       "0                     0                         0                        0   \n",
       "1                     0                         0                        0   \n",
       "2                     0                         0                        0   \n",
       "3                     0                         0                        0   \n",
       "4                     0                         0                        0   \n",
       "5                     0                         0                        0   \n",
       "6                     0                         0                        0   \n",
       "7                     0                         0                        0   \n",
       "8                     0                         0                        0   \n",
       "9                     0                         0                        0   \n",
       "10                    0                         0                        0   \n",
       "11                    0                         0                        0   \n",
       "12                    0                         0                        0   \n",
       "13                    0                         0                        0   \n",
       "14                    0                         0                        0   \n",
       "15                    0                         0                        0   \n",
       "16                    0                         0                        0   \n",
       "17                    0                         0                        0   \n",
       "18                    0                         0                        0   \n",
       "19                    0                         0                        0   \n",
       "\n",
       "    metformin-pioglitazone  change  readmission_id  Age_Category  \n",
       "0                        0      Ch               2             1  \n",
       "1                        0      No               1             1  \n",
       "2                        0      Ch               1             1  \n",
       "3                        0      No               2             1  \n",
       "4                        0      Ch               2             2  \n",
       "5                        0      Ch               1             1  \n",
       "6                        0      No               1             2  \n",
       "7                        0      No               1             1  \n",
       "8                        0      No               2             1  \n",
       "9                        0      Ch               2             1  \n",
       "10                       0      Ch               2             1  \n",
       "11                       0      No               1             2  \n",
       "12                       0      No               2             0  \n",
       "13                       0      Ch               2             0  \n",
       "14                       0      Ch               0             2  \n",
       "15                       0      Ch               1             1  \n",
       "16                       0      No               1             1  \n",
       "17                       0      No               1             1  \n",
       "18                       0      No               2             1  \n",
       "19                       0      Ch               2             0  \n",
       "\n",
       "[20 rows x 33 columns]"
      ]
     },
     "execution_count": 332,
     "metadata": {},
     "output_type": "execute_result"
    }
   ],
   "source": [
    "categorical_df.head(20)"
   ]
  },
  {
   "cell_type": "code",
   "execution_count": 333,
   "id": "a52872d7-42f9-4aab-b443-67a0f2173b4a",
   "metadata": {},
   "outputs": [],
   "source": [
    "# categorical_df = categorical_df.dropna()"
   ]
  },
  {
   "cell_type": "markdown",
   "id": "6b48a1bf-a7bb-46a9-b9cd-687afaae08e1",
   "metadata": {},
   "source": [
    "### Feature Engineering for patient details"
   ]
  },
  {
   "cell_type": "code",
   "execution_count": 334,
   "id": "54eeb741-f228-43d2-814c-24ed75201a54",
   "metadata": {},
   "outputs": [],
   "source": [
    "# categorical_df['gender'] = categorical_df['gender'].map({'Male': 0, 'Female': 1})"
   ]
  },
  {
   "cell_type": "code",
   "execution_count": 335,
   "id": "dfe42448-cf57-4c61-a83b-43c6b3e4f926",
   "metadata": {},
   "outputs": [],
   "source": [
    "features = df[['weight','num_medications','time_in_hospital','num_procedures','num_lab_procedures','number_diagnoses','readmission_id']]\n",
    "features = features.fillna(0)"
   ]
  },
  {
   "cell_type": "code",
   "execution_count": 336,
   "id": "ff9c1de1-1065-4ba3-a709-4a4d7f68f467",
   "metadata": {},
   "outputs": [
    {
     "name": "stdout",
     "output_type": "stream",
     "text": [
      "       weight  num_medications  time_in_hospital  num_procedures  \\\n",
      "1   [100-125)               35                 7               6   \n",
      "2           0               20                 7               4   \n",
      "5           0               37                12               3   \n",
      "6           0               23                11               4   \n",
      "7           0               18                 8               0   \n",
      "11          0               15                 2               6   \n",
      "15          0               15                 1               2   \n",
      "16          0                7                 1               0   \n",
      "17          0                5                 1               0   \n",
      "22          0               10                 2               0   \n",
      "23          0               19                13               2   \n",
      "27          0               12                 4               0   \n",
      "30          0                8                13               0   \n",
      "34          0               26                 6               2   \n",
      "36          0               46                 6               4   \n",
      "41          0               26                12               1   \n",
      "47          0                6                 2               0   \n",
      "54          0               29                11               1   \n",
      "55          0                7                 4               1   \n",
      "59          0               11                 8               1   \n",
      "\n",
      "    num_lab_procedures  number_diagnoses  readmission_id  \n",
      "1                   50                 9               1  \n",
      "2                   49                 9               1  \n",
      "5                   60                 9               1  \n",
      "6                   72                 7               1  \n",
      "7                   33                 7               1  \n",
      "11                  80                 9               1  \n",
      "15                   6                 9               1  \n",
      "16                  24                 6               1  \n",
      "17                  40                 7               1  \n",
      "22                  37                 7               1  \n",
      "23                  57                 9               1  \n",
      "27                  43                 9               1  \n",
      "30                  35                 5               1  \n",
      "34                  34                 7               1  \n",
      "36                  61                 9               1  \n",
      "41                  68                 6               1  \n",
      "47                  80                 9               1  \n",
      "54                  55                 9               1  \n",
      "55                  43                 2               1  \n",
      "59                  42                 9               1  \n"
     ]
    }
   ],
   "source": [
    "filtered_data = features[features['readmission_id'] == 1]\n",
    "print(filtered_data.head(20))"
   ]
  },
  {
   "cell_type": "code",
   "execution_count": 337,
   "id": "d7828efc-6152-4b24-af4e-5098e3b1373f",
   "metadata": {},
   "outputs": [],
   "source": [
    "features['new_procedure']=features['num_procedures']+features['num_lab_procedures']+features['number_diagnoses']+features['num_medications']+features['time_in_hospital']"
   ]
  },
  {
   "cell_type": "code",
   "execution_count": 338,
   "id": "2eede516-719a-40f0-9a9c-3287436e52eb",
   "metadata": {},
   "outputs": [
    {
     "data": {
      "text/plain": [
       "(71236,)"
      ]
     },
     "execution_count": 338,
     "metadata": {},
     "output_type": "execute_result"
    }
   ],
   "source": [
    "features['new_procedure'].shape"
   ]
  },
  {
   "cell_type": "code",
   "execution_count": 339,
   "id": "cb521578-f243-4f2e-8691-9372178f898b",
   "metadata": {},
   "outputs": [
    {
     "name": "stdout",
     "output_type": "stream",
     "text": [
      "72     147\n",
      "75     143\n",
      "76     140\n",
      "79     139\n",
      "81     135\n",
      "      ... \n",
      "155      1\n",
      "169      1\n",
      "154      1\n",
      "186      1\n",
      "167      1\n",
      "Name: new_procedure, Length: 160, dtype: int64\n"
     ]
    }
   ],
   "source": [
    "filtered_data = features[features['readmission_id'] == 0]\n",
    "print(filtered_data['new_procedure'].value_counts())"
   ]
  },
  {
   "cell_type": "markdown",
   "id": "cee3d023-2273-4ea2-9f90-9b37766b7dd0",
   "metadata": {},
   "source": [
    "### Training"
   ]
  },
  {
   "cell_type": "code",
   "execution_count": 340,
   "id": "868edffe-3912-4d6e-9f0e-c845d3bd7d02",
   "metadata": {},
   "outputs": [
    {
     "name": "stdout",
     "output_type": "stream",
     "text": [
      "(71236, 33)\n"
     ]
    }
   ],
   "source": [
    "X=categorical_df.drop('readmission_id',axis=1)\n",
    "y=categorical_df['readmission_id']\n",
    "label_enc = LabelEncoder()\n",
    "xgb_model = xgb.XGBClassifier(objective=\"multi:softprob\", random_state=42)\n",
    "for column in X:\n",
    "    X[column] = label_enc.fit_transform(X[column])\n",
    "X=pd.concat([X,features['new_procedure']],axis=1)\n",
    "print(X.shape)"
   ]
  },
  {
   "cell_type": "code",
   "execution_count": 341,
   "id": "9666d2ce-33f4-4d40-a555-163abaf9211f",
   "metadata": {},
   "outputs": [],
   "source": [
    "# # Reshape the 'new_procedure' column\n",
    "# new_procedure_reshaped = features['new_procedure'].values.reshape(-1, 1)\n",
    "\n",
    "# # Initialize the OneHotEncoder\n",
    "# encoder = OneHotEncoder(sparse_output=False, drop='first')\n",
    "\n",
    "# # Fit and transform the reshaped 'new_procedure' column\n",
    "# one_hot_encoded = encoder.fit_transform(new_procedure_reshaped)\n",
    "\n",
    "# # Create a DataFrame from the one-hot encoded array\n",
    "# one_hot_df = pd.DataFrame(one_hot_encoded, columns=encoder.get_feature_names_out(['new_procedure']))\n",
    "\n",
    "# # Concatenate the one-hot encoded DataFrame with the original DataFrame\n",
    "# data = pd.concat([categorical_df, one_hot_df], axis=1)\n",
    "# print(data)\n"
   ]
  },
  {
   "cell_type": "code",
   "execution_count": 342,
   "id": "4bf682fc",
   "metadata": {},
   "outputs": [
    {
     "name": "stdout",
     "output_type": "stream",
     "text": [
      "Fitting 3 folds for each of 144 candidates, totalling 432 fits\n",
      "{'max_depth': 10, 'min_samples_leaf': 2, 'min_samples_split': 5, 'n_estimators': 200}\n"
     ]
    }
   ],
   "source": [
    "# use grid search to find the best parameters for random forest\n",
    "from sklearn.model_selection import GridSearchCV\n",
    "\n",
    "param_grid = {\n",
    "    'n_estimators': [100, 200, 300, 500],\n",
    "    'max_depth': [3, 5, 7, 10],\n",
    "    'min_samples_split': [2, 5, 10],\n",
    "    'min_samples_leaf': [1, 2, 4]\n",
    "}\n",
    "\n",
    "rf = RandomForestClassifier()\n",
    "grid_search = GridSearchCV(estimator=rf, param_grid=param_grid, cv=3, n_jobs=-1, verbose=2)\n",
    "grid_search.fit(X, y)\n",
    "print(grid_search.best_params_)"
   ]
  },
  {
   "cell_type": "code",
   "execution_count": 357,
   "id": "e63c8401-2564-4866-884e-14fd0728a64f",
   "metadata": {},
   "outputs": [],
   "source": [
    "rm = grid_search.best_estimator_\n",
    "X_train, X_test, y_train, y_test = train_test_split(X, y, test_size=0.20, random_state=0)"
   ]
  },
  {
   "cell_type": "code",
   "execution_count": 358,
   "id": "be3f8b5d",
   "metadata": {},
   "outputs": [
    {
     "data": {
      "text/html": [
       "<style>#sk-container-id-5 {color: black;}#sk-container-id-5 pre{padding: 0;}#sk-container-id-5 div.sk-toggleable {background-color: white;}#sk-container-id-5 label.sk-toggleable__label {cursor: pointer;display: block;width: 100%;margin-bottom: 0;padding: 0.3em;box-sizing: border-box;text-align: center;}#sk-container-id-5 label.sk-toggleable__label-arrow:before {content: \"▸\";float: left;margin-right: 0.25em;color: #696969;}#sk-container-id-5 label.sk-toggleable__label-arrow:hover:before {color: black;}#sk-container-id-5 div.sk-estimator:hover label.sk-toggleable__label-arrow:before {color: black;}#sk-container-id-5 div.sk-toggleable__content {max-height: 0;max-width: 0;overflow: hidden;text-align: left;background-color: #f0f8ff;}#sk-container-id-5 div.sk-toggleable__content pre {margin: 0.2em;color: black;border-radius: 0.25em;background-color: #f0f8ff;}#sk-container-id-5 input.sk-toggleable__control:checked~div.sk-toggleable__content {max-height: 200px;max-width: 100%;overflow: auto;}#sk-container-id-5 input.sk-toggleable__control:checked~label.sk-toggleable__label-arrow:before {content: \"▾\";}#sk-container-id-5 div.sk-estimator input.sk-toggleable__control:checked~label.sk-toggleable__label {background-color: #d4ebff;}#sk-container-id-5 div.sk-label input.sk-toggleable__control:checked~label.sk-toggleable__label {background-color: #d4ebff;}#sk-container-id-5 input.sk-hidden--visually {border: 0;clip: rect(1px 1px 1px 1px);clip: rect(1px, 1px, 1px, 1px);height: 1px;margin: -1px;overflow: hidden;padding: 0;position: absolute;width: 1px;}#sk-container-id-5 div.sk-estimator {font-family: monospace;background-color: #f0f8ff;border: 1px dotted black;border-radius: 0.25em;box-sizing: border-box;margin-bottom: 0.5em;}#sk-container-id-5 div.sk-estimator:hover {background-color: #d4ebff;}#sk-container-id-5 div.sk-parallel-item::after {content: \"\";width: 100%;border-bottom: 1px solid gray;flex-grow: 1;}#sk-container-id-5 div.sk-label:hover label.sk-toggleable__label {background-color: #d4ebff;}#sk-container-id-5 div.sk-serial::before {content: \"\";position: absolute;border-left: 1px solid gray;box-sizing: border-box;top: 0;bottom: 0;left: 50%;z-index: 0;}#sk-container-id-5 div.sk-serial {display: flex;flex-direction: column;align-items: center;background-color: white;padding-right: 0.2em;padding-left: 0.2em;position: relative;}#sk-container-id-5 div.sk-item {position: relative;z-index: 1;}#sk-container-id-5 div.sk-parallel {display: flex;align-items: stretch;justify-content: center;background-color: white;position: relative;}#sk-container-id-5 div.sk-item::before, #sk-container-id-5 div.sk-parallel-item::before {content: \"\";position: absolute;border-left: 1px solid gray;box-sizing: border-box;top: 0;bottom: 0;left: 50%;z-index: -1;}#sk-container-id-5 div.sk-parallel-item {display: flex;flex-direction: column;z-index: 1;position: relative;background-color: white;}#sk-container-id-5 div.sk-parallel-item:first-child::after {align-self: flex-end;width: 50%;}#sk-container-id-5 div.sk-parallel-item:last-child::after {align-self: flex-start;width: 50%;}#sk-container-id-5 div.sk-parallel-item:only-child::after {width: 0;}#sk-container-id-5 div.sk-dashed-wrapped {border: 1px dashed gray;margin: 0 0.4em 0.5em 0.4em;box-sizing: border-box;padding-bottom: 0.4em;background-color: white;}#sk-container-id-5 div.sk-label label {font-family: monospace;font-weight: bold;display: inline-block;line-height: 1.2em;}#sk-container-id-5 div.sk-label-container {text-align: center;}#sk-container-id-5 div.sk-container {/* jupyter's `normalize.less` sets `[hidden] { display: none; }` but bootstrap.min.css set `[hidden] { display: none !important; }` so we also need the `!important` here to be able to override the default hidden behavior on the sphinx rendered scikit-learn.org. See: https://github.com/scikit-learn/scikit-learn/issues/21755 */display: inline-block !important;position: relative;}#sk-container-id-5 div.sk-text-repr-fallback {display: none;}</style><div id=\"sk-container-id-5\" class=\"sk-top-container\"><div class=\"sk-text-repr-fallback\"><pre>RandomForestClassifier(max_depth=10, min_samples_leaf=2, min_samples_split=5,\n",
       "                       n_estimators=200)</pre><b>In a Jupyter environment, please rerun this cell to show the HTML representation or trust the notebook. <br />On GitHub, the HTML representation is unable to render, please try loading this page with nbviewer.org.</b></div><div class=\"sk-container\" hidden><div class=\"sk-item\"><div class=\"sk-estimator sk-toggleable\"><input class=\"sk-toggleable__control sk-hidden--visually\" id=\"sk-estimator-id-5\" type=\"checkbox\" checked><label for=\"sk-estimator-id-5\" class=\"sk-toggleable__label sk-toggleable__label-arrow\">RandomForestClassifier</label><div class=\"sk-toggleable__content\"><pre>RandomForestClassifier(max_depth=10, min_samples_leaf=2, min_samples_split=5,\n",
       "                       n_estimators=200)</pre></div></div></div></div></div>"
      ],
      "text/plain": [
       "RandomForestClassifier(max_depth=10, min_samples_leaf=2, min_samples_split=5,\n",
       "                       n_estimators=200)"
      ]
     },
     "execution_count": 358,
     "metadata": {},
     "output_type": "execute_result"
    }
   ],
   "source": [
    "rm.fit(X_train, y_train)"
   ]
  },
  {
   "cell_type": "code",
   "execution_count": 359,
   "id": "bcc18c04-8612-4c86-8793-e41e6765d3ce",
   "metadata": {},
   "outputs": [
    {
     "data": {
      "text/html": [
       "<div>\n",
       "<style scoped>\n",
       "    .dataframe tbody tr th:only-of-type {\n",
       "        vertical-align: middle;\n",
       "    }\n",
       "\n",
       "    .dataframe tbody tr th {\n",
       "        vertical-align: top;\n",
       "    }\n",
       "\n",
       "    .dataframe thead th {\n",
       "        text-align: right;\n",
       "    }\n",
       "</style>\n",
       "<table border=\"1\" class=\"dataframe\">\n",
       "  <thead>\n",
       "    <tr style=\"text-align: right;\">\n",
       "      <th>Predict</th>\n",
       "      <th>1</th>\n",
       "      <th>2</th>\n",
       "      <th>All</th>\n",
       "    </tr>\n",
       "    <tr>\n",
       "      <th>Actual</th>\n",
       "      <th></th>\n",
       "      <th></th>\n",
       "      <th></th>\n",
       "    </tr>\n",
       "  </thead>\n",
       "  <tbody>\n",
       "    <tr>\n",
       "      <th>0</th>\n",
       "      <td>11</td>\n",
       "      <td>322</td>\n",
       "      <td>333</td>\n",
       "    </tr>\n",
       "    <tr>\n",
       "      <th>1</th>\n",
       "      <td>38</td>\n",
       "      <td>942</td>\n",
       "      <td>980</td>\n",
       "    </tr>\n",
       "    <tr>\n",
       "      <th>2</th>\n",
       "      <td>60</td>\n",
       "      <td>1403</td>\n",
       "      <td>1463</td>\n",
       "    </tr>\n",
       "    <tr>\n",
       "      <th>All</th>\n",
       "      <td>109</td>\n",
       "      <td>2667</td>\n",
       "      <td>2776</td>\n",
       "    </tr>\n",
       "  </tbody>\n",
       "</table>\n",
       "</div>"
      ],
      "text/plain": [
       "Predict    1     2   All\n",
       "Actual                  \n",
       "0         11   322   333\n",
       "1         38   942   980\n",
       "2         60  1403  1463\n",
       "All      109  2667  2776"
      ]
     },
     "execution_count": 359,
     "metadata": {},
     "output_type": "execute_result"
    }
   ],
   "source": [
    "y_pred = rm.predict(X_test)\n",
    "pd.crosstab(pd.Series(y_test, name = 'Actual'), pd.Series(y_pred, name = 'Predict'), margins = True)"
   ]
  },
  {
   "cell_type": "code",
   "execution_count": 360,
   "id": "f7fb9faa-6a11-4fd8-bda1-1099e57f9b47",
   "metadata": {},
   "outputs": [
    {
     "name": "stdout",
     "output_type": "stream",
     "text": [
      "Accuracy is 0.54\n",
      "micro: 0.54\n",
      "macro: 0.34 \n",
      "weighted: 0.46 \n",
      "              precision    recall  f1-score   support\n",
      "\n",
      "           0       0.00      0.00      0.00      1593\n",
      "           1       0.47      0.05      0.09      4998\n",
      "           2       0.54      0.97      0.70      7657\n",
      "\n",
      "    accuracy                           0.54     14248\n",
      "   macro avg       0.34      0.34      0.26     14248\n",
      "weighted avg       0.46      0.54      0.41     14248\n",
      "\n"
     ]
    },
    {
     "name": "stderr",
     "output_type": "stream",
     "text": [
      "C:\\Python311\\Lib\\site-packages\\sklearn\\metrics\\_classification.py:1469: UndefinedMetricWarning: Precision is ill-defined and being set to 0.0 in labels with no predicted samples. Use `zero_division` parameter to control this behavior.\n",
      "  _warn_prf(average, modifier, msg_start, len(result))\n",
      "C:\\Python311\\Lib\\site-packages\\sklearn\\metrics\\_classification.py:1469: UndefinedMetricWarning: Precision is ill-defined and being set to 0.0 in labels with no predicted samples. Use `zero_division` parameter to control this behavior.\n",
      "  _warn_prf(average, modifier, msg_start, len(result))\n",
      "C:\\Python311\\Lib\\site-packages\\sklearn\\metrics\\_classification.py:1469: UndefinedMetricWarning: Precision and F-score are ill-defined and being set to 0.0 in labels with no predicted samples. Use `zero_division` parameter to control this behavior.\n",
      "  _warn_prf(average, modifier, msg_start, len(result))\n",
      "C:\\Python311\\Lib\\site-packages\\sklearn\\metrics\\_classification.py:1469: UndefinedMetricWarning: Precision and F-score are ill-defined and being set to 0.0 in labels with no predicted samples. Use `zero_division` parameter to control this behavior.\n",
      "  _warn_prf(average, modifier, msg_start, len(result))\n",
      "C:\\Python311\\Lib\\site-packages\\sklearn\\metrics\\_classification.py:1469: UndefinedMetricWarning: Precision and F-score are ill-defined and being set to 0.0 in labels with no predicted samples. Use `zero_division` parameter to control this behavior.\n",
      "  _warn_prf(average, modifier, msg_start, len(result))\n"
     ]
    }
   ],
   "source": [
    "from sklearn.metrics import accuracy_score, precision_score, recall_score\n",
    "print(\"Accuracy is {0:.2f}\".format(accuracy_score(y_test, y_pred)))\n",
    "print(\"micro: {:.2f}\".format(metrics.precision_score(y_test, y_pred, average='micro')))\n",
    "print(\"macro: {:.2f} \".format( metrics.precision_score(y_test, y_pred, average='macro')))\n",
    "print(\"weighted: {:.2f} \".format( metrics.precision_score(y_test, y_pred, average='weighted'))) \n",
    "print(classification_report(y_test, y_pred))"
   ]
  },
  {
   "cell_type": "markdown",
   "id": "b4a997fb-f77c-4788-b174-99b8e62a95b8",
   "metadata": {},
   "source": [
    "### Test data"
   ]
  },
  {
   "cell_type": "code",
   "execution_count": 362,
   "id": "2f8f1a6a-eb8c-44a6-974e-aeed59f52e5f",
   "metadata": {},
   "outputs": [],
   "source": [
    "test=pd.read_csv(\"data/test.csv\")"
   ]
  },
  {
   "cell_type": "code",
   "execution_count": 363,
   "id": "74776d79-ea0d-46b6-a35d-23c87727c53d",
   "metadata": {},
   "outputs": [
    {
     "data": {
      "text/html": [
       "<div>\n",
       "<style scoped>\n",
       "    .dataframe tbody tr th:only-of-type {\n",
       "        vertical-align: middle;\n",
       "    }\n",
       "\n",
       "    .dataframe tbody tr th {\n",
       "        vertical-align: top;\n",
       "    }\n",
       "\n",
       "    .dataframe thead th {\n",
       "        text-align: right;\n",
       "    }\n",
       "</style>\n",
       "<table border=\"1\" class=\"dataframe\">\n",
       "  <thead>\n",
       "    <tr style=\"text-align: right;\">\n",
       "      <th></th>\n",
       "      <th>enc_id</th>\n",
       "      <th>patient_id</th>\n",
       "      <th>race</th>\n",
       "      <th>gender</th>\n",
       "      <th>age</th>\n",
       "      <th>weight</th>\n",
       "      <th>admission_type_id</th>\n",
       "      <th>discharge_disposition_id</th>\n",
       "      <th>admission_source_id</th>\n",
       "      <th>time_in_hospital</th>\n",
       "      <th>...</th>\n",
       "      <th>examide</th>\n",
       "      <th>citoglipton</th>\n",
       "      <th>insulin</th>\n",
       "      <th>glyburide-metformin</th>\n",
       "      <th>glipizide-metformin</th>\n",
       "      <th>glimepiride-pioglitazone</th>\n",
       "      <th>metformin-rosiglitazone</th>\n",
       "      <th>metformin-pioglitazone</th>\n",
       "      <th>change</th>\n",
       "      <th>diabetesMed</th>\n",
       "    </tr>\n",
       "  </thead>\n",
       "  <tbody>\n",
       "    <tr>\n",
       "      <th>0</th>\n",
       "      <td>86305392</td>\n",
       "      <td>23846112</td>\n",
       "      <td>Caucasian</td>\n",
       "      <td>Male</td>\n",
       "      <td>[40-50)</td>\n",
       "      <td>NaN</td>\n",
       "      <td>5</td>\n",
       "      <td>5</td>\n",
       "      <td>17</td>\n",
       "      <td>12</td>\n",
       "      <td>...</td>\n",
       "      <td>No</td>\n",
       "      <td>No</td>\n",
       "      <td>Steady</td>\n",
       "      <td>No</td>\n",
       "      <td>No</td>\n",
       "      <td>No</td>\n",
       "      <td>No</td>\n",
       "      <td>No</td>\n",
       "      <td>No</td>\n",
       "      <td>Yes</td>\n",
       "    </tr>\n",
       "    <tr>\n",
       "      <th>1</th>\n",
       "      <td>394919696</td>\n",
       "      <td>90620001</td>\n",
       "      <td>Caucasian</td>\n",
       "      <td>Male</td>\n",
       "      <td>[80-90)</td>\n",
       "      <td>NaN</td>\n",
       "      <td>2</td>\n",
       "      <td>3</td>\n",
       "      <td>7</td>\n",
       "      <td>3</td>\n",
       "      <td>...</td>\n",
       "      <td>No</td>\n",
       "      <td>No</td>\n",
       "      <td>Down</td>\n",
       "      <td>No</td>\n",
       "      <td>No</td>\n",
       "      <td>No</td>\n",
       "      <td>No</td>\n",
       "      <td>No</td>\n",
       "      <td>Ch</td>\n",
       "      <td>Yes</td>\n",
       "    </tr>\n",
       "    <tr>\n",
       "      <th>2</th>\n",
       "      <td>164917446</td>\n",
       "      <td>25342173</td>\n",
       "      <td>AfricanAmerican</td>\n",
       "      <td>Female</td>\n",
       "      <td>[60-70)</td>\n",
       "      <td>NaN</td>\n",
       "      <td>3</td>\n",
       "      <td>1</td>\n",
       "      <td>1</td>\n",
       "      <td>8</td>\n",
       "      <td>...</td>\n",
       "      <td>No</td>\n",
       "      <td>No</td>\n",
       "      <td>Down</td>\n",
       "      <td>No</td>\n",
       "      <td>No</td>\n",
       "      <td>No</td>\n",
       "      <td>No</td>\n",
       "      <td>No</td>\n",
       "      <td>Ch</td>\n",
       "      <td>Yes</td>\n",
       "    </tr>\n",
       "    <tr>\n",
       "      <th>3</th>\n",
       "      <td>178319040</td>\n",
       "      <td>23481783</td>\n",
       "      <td>AfricanAmerican</td>\n",
       "      <td>Female</td>\n",
       "      <td>[70-80)</td>\n",
       "      <td>NaN</td>\n",
       "      <td>1</td>\n",
       "      <td>3</td>\n",
       "      <td>7</td>\n",
       "      <td>10</td>\n",
       "      <td>...</td>\n",
       "      <td>No</td>\n",
       "      <td>No</td>\n",
       "      <td>Up</td>\n",
       "      <td>No</td>\n",
       "      <td>No</td>\n",
       "      <td>No</td>\n",
       "      <td>No</td>\n",
       "      <td>No</td>\n",
       "      <td>Ch</td>\n",
       "      <td>Yes</td>\n",
       "    </tr>\n",
       "    <tr>\n",
       "      <th>4</th>\n",
       "      <td>253585416</td>\n",
       "      <td>86500791</td>\n",
       "      <td>Caucasian</td>\n",
       "      <td>Male</td>\n",
       "      <td>[70-80)</td>\n",
       "      <td>NaN</td>\n",
       "      <td>1</td>\n",
       "      <td>6</td>\n",
       "      <td>7</td>\n",
       "      <td>5</td>\n",
       "      <td>...</td>\n",
       "      <td>No</td>\n",
       "      <td>No</td>\n",
       "      <td>No</td>\n",
       "      <td>No</td>\n",
       "      <td>No</td>\n",
       "      <td>No</td>\n",
       "      <td>No</td>\n",
       "      <td>No</td>\n",
       "      <td>No</td>\n",
       "      <td>No</td>\n",
       "    </tr>\n",
       "  </tbody>\n",
       "</table>\n",
       "<p>5 rows × 49 columns</p>\n",
       "</div>"
      ],
      "text/plain": [
       "      enc_id  patient_id             race  gender      age weight  \\\n",
       "0   86305392    23846112        Caucasian    Male  [40-50)    NaN   \n",
       "1  394919696    90620001        Caucasian    Male  [80-90)    NaN   \n",
       "2  164917446    25342173  AfricanAmerican  Female  [60-70)    NaN   \n",
       "3  178319040    23481783  AfricanAmerican  Female  [70-80)    NaN   \n",
       "4  253585416    86500791        Caucasian    Male  [70-80)    NaN   \n",
       "\n",
       "   admission_type_id  discharge_disposition_id  admission_source_id  \\\n",
       "0                  5                         5                   17   \n",
       "1                  2                         3                    7   \n",
       "2                  3                         1                    1   \n",
       "3                  1                         3                    7   \n",
       "4                  1                         6                    7   \n",
       "\n",
       "   time_in_hospital  ... examide citoglipton  insulin  glyburide-metformin  \\\n",
       "0                12  ...      No          No   Steady                   No   \n",
       "1                 3  ...      No          No     Down                   No   \n",
       "2                 8  ...      No          No     Down                   No   \n",
       "3                10  ...      No          No       Up                   No   \n",
       "4                 5  ...      No          No       No                   No   \n",
       "\n",
       "   glipizide-metformin  glimepiride-pioglitazone  metformin-rosiglitazone  \\\n",
       "0                   No                        No                       No   \n",
       "1                   No                        No                       No   \n",
       "2                   No                        No                       No   \n",
       "3                   No                        No                       No   \n",
       "4                   No                        No                       No   \n",
       "\n",
       "   metformin-pioglitazone change diabetesMed  \n",
       "0                      No     No         Yes  \n",
       "1                      No     Ch         Yes  \n",
       "2                      No     Ch         Yes  \n",
       "3                      No     Ch         Yes  \n",
       "4                      No     No          No  \n",
       "\n",
       "[5 rows x 49 columns]"
      ]
     },
     "execution_count": 363,
     "metadata": {},
     "output_type": "execute_result"
    }
   ],
   "source": [
    "test.head()"
   ]
  },
  {
   "cell_type": "code",
   "execution_count": 364,
   "id": "5678a210-25a7-4320-96ad-80b5c4d7387b",
   "metadata": {},
   "outputs": [
    {
     "name": "stdout",
     "output_type": "stream",
     "text": [
      "1    19747\n",
      "2     6013\n",
      "0     4770\n",
      "Name: Age_Category, dtype: int64\n"
     ]
    }
   ],
   "source": [
    "bins = [0, 40, 70, 100]\n",
    "labels = [0, 1, 2]\n",
    "test['Age_Category'] = pd.cut(test['age'].apply(lambda x: int(x.strip('[)').split('-')[0])), bins=bins, labels=labels,include_lowest=True)\n",
    "\n",
    "print(test['Age_Category'].value_counts())"
   ]
  },
  {
   "cell_type": "code",
   "execution_count": 365,
   "id": "8a90d672-37c4-4bb9-bb82-b9b3824c9876",
   "metadata": {},
   "outputs": [
    {
     "name": "stdout",
     "output_type": "stream",
     "text": [
      "(30530, 32)\n"
     ]
    }
   ],
   "source": [
    "test_df=test.drop(['enc_id', 'patient_id','age', 'weight',\n",
    "       'time_in_hospital', 'payer_code',\n",
    "       'num_lab_procedures', 'num_procedures', 'num_medications',\n",
    "       'number_outpatient', 'number_emergency', 'number_inpatient', 'number_diagnoses','citoglipton','examide', 'diabetesMed','max_glu_serum','A1Cresult'],axis=1)\n",
    "print(test_df.shape)"
   ]
  },
  {
   "cell_type": "code",
   "execution_count": null,
   "id": "bc67443b-e6d8-4238-9c05-238dec06bd9a",
   "metadata": {},
   "outputs": [],
   "source": []
  },
  {
   "cell_type": "code",
   "execution_count": 366,
   "id": "76114343-b95b-43d8-b702-ac9f24a88d03",
   "metadata": {},
   "outputs": [],
   "source": [
    "test['new_procedure']=test['num_procedures']+test['num_lab_procedures']+test['number_diagnoses']+test['num_medications']+test['time_in_hospital']"
   ]
  },
  {
   "cell_type": "code",
   "execution_count": 367,
   "id": "2ae0d900-0818-4ffa-bf1a-a28d9c5477b4",
   "metadata": {},
   "outputs": [
    {
     "name": "stdout",
     "output_type": "stream",
     "text": [
      "(30530, 33)\n"
     ]
    }
   ],
   "source": [
    "test_df=pd.concat([test_df,test['new_procedure']],axis=1)\n",
    "print(test_df.shape)"
   ]
  },
  {
   "cell_type": "code",
   "execution_count": 353,
   "id": "8a925927-12d5-4576-8e98-4b0734c5172e",
   "metadata": {},
   "outputs": [],
   "source": [
    "# # Reshape the 'new_procedure' column\n",
    "# new_procedure_reshaped = test['new_procedure'].values.reshape(-1, 1)\n",
    "\n",
    "# # Initialize the OneHotEncoder\n",
    "# encoder = OneHotEncoder(sparse_output=False, drop='first')\n",
    "\n",
    "# # Fit and transform the reshaped 'new_procedure' column\n",
    "# one_hot_encoded = encoder.fit_transform(new_procedure_reshaped)\n",
    "\n",
    "# # Create a DataFrame from the one-hot encoded array\n",
    "# one_hot_df = pd.DataFrame(one_hot_encoded, columns=encoder.get_feature_names_out(['new_procedure']))\n",
    "\n",
    "# # Concatenate the one-hot encoded DataFrame with the original DataFrame\n",
    "# test_df = pd.concat([test_df, one_hot_df], axis=1)\n",
    "# print(test_df.shape)\n"
   ]
  },
  {
   "cell_type": "code",
   "execution_count": 368,
   "id": "0cba251e-a009-434e-b9aa-a674972893f1",
   "metadata": {},
   "outputs": [],
   "source": [
    "label_encoder = LabelEncoder()\n",
    "for column in test_df:\n",
    "    test_df[column] = label_encoder.fit_transform(test_df[column])"
   ]
  },
  {
   "cell_type": "code",
   "execution_count": 369,
   "id": "33847da4-3053-4863-85e7-3ce1f4cd1d18",
   "metadata": {},
   "outputs": [],
   "source": [
    "test_pred = rm.predict(test_df)"
   ]
  },
  {
   "cell_type": "code",
   "execution_count": 370,
   "id": "54fc2c5d-4fbf-416c-8c39-c43a068031d2",
   "metadata": {},
   "outputs": [],
   "source": [
    "test_df['readmission_id']=test_pred\n",
    "test_df['enc_id']=test['enc_id']\n",
    "cvfile = pd.concat((test_df[\"enc_id\"], test_df[\"readmission_id\"]), axis=1)\n",
    "cvfile.head()\n",
    "cvfile.to_csv('finale.csv', index=False)"
   ]
  },
  {
   "cell_type": "code",
   "execution_count": null,
   "id": "31f223d8-8df3-4a3d-849f-859b309cdf48",
   "metadata": {},
   "outputs": [],
   "source": []
  }
 ],
 "metadata": {
  "kernelspec": {
   "display_name": "Python 3 (ipykernel)",
   "language": "python",
   "name": "python3"
  },
  "language_info": {
   "codemirror_mode": {
    "name": "ipython",
    "version": 3
   },
   "file_extension": ".py",
   "mimetype": "text/x-python",
   "name": "python",
   "nbconvert_exporter": "python",
   "pygments_lexer": "ipython3",
   "version": "3.11.1"
  }
 },
 "nbformat": 4,
 "nbformat_minor": 5
}
