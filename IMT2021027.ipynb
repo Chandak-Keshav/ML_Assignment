{
 "cells": [
  {
   "cell_type": "code",
   "execution_count": 52,
   "metadata": {},
   "outputs": [],
   "source": [
    "import numpy as np\n",
    "import pandas as pd\n",
    "import matplotlib.pyplot as plt\n",
    "import seaborn as sns"
   ]
  },
  {
   "cell_type": "code",
   "execution_count": 53,
   "metadata": {},
   "outputs": [],
   "source": [
    "df = pd.read_csv('data/train.csv')"
   ]
  },
  {
   "cell_type": "code",
   "execution_count": 54,
   "metadata": {},
   "outputs": [
    {
     "data": {
      "text/html": [
       "<div>\n",
       "<style scoped>\n",
       "    .dataframe tbody tr th:only-of-type {\n",
       "        vertical-align: middle;\n",
       "    }\n",
       "\n",
       "    .dataframe tbody tr th {\n",
       "        vertical-align: top;\n",
       "    }\n",
       "\n",
       "    .dataframe thead th {\n",
       "        text-align: right;\n",
       "    }\n",
       "</style>\n",
       "<table border=\"1\" class=\"dataframe\">\n",
       "  <thead>\n",
       "    <tr style=\"text-align: right;\">\n",
       "      <th></th>\n",
       "      <th>enc_id</th>\n",
       "      <th>patient_id</th>\n",
       "      <th>race</th>\n",
       "      <th>gender</th>\n",
       "      <th>age</th>\n",
       "      <th>weight</th>\n",
       "      <th>admission_type_id</th>\n",
       "      <th>discharge_disposition_id</th>\n",
       "      <th>admission_source_id</th>\n",
       "      <th>time_in_hospital</th>\n",
       "      <th>...</th>\n",
       "      <th>citoglipton</th>\n",
       "      <th>insulin</th>\n",
       "      <th>glyburide-metformin</th>\n",
       "      <th>glipizide-metformin</th>\n",
       "      <th>glimepiride-pioglitazone</th>\n",
       "      <th>metformin-rosiglitazone</th>\n",
       "      <th>metformin-pioglitazone</th>\n",
       "      <th>change</th>\n",
       "      <th>diabetesMed</th>\n",
       "      <th>readmission_id</th>\n",
       "    </tr>\n",
       "  </thead>\n",
       "  <tbody>\n",
       "    <tr>\n",
       "      <th>0</th>\n",
       "      <td>88346340</td>\n",
       "      <td>2488608</td>\n",
       "      <td>Caucasian</td>\n",
       "      <td>Male</td>\n",
       "      <td>[60-70)</td>\n",
       "      <td>NaN</td>\n",
       "      <td>1</td>\n",
       "      <td>2</td>\n",
       "      <td>6</td>\n",
       "      <td>3</td>\n",
       "      <td>...</td>\n",
       "      <td>No</td>\n",
       "      <td>Steady</td>\n",
       "      <td>No</td>\n",
       "      <td>No</td>\n",
       "      <td>No</td>\n",
       "      <td>No</td>\n",
       "      <td>No</td>\n",
       "      <td>Ch</td>\n",
       "      <td>Yes</td>\n",
       "      <td>2</td>\n",
       "    </tr>\n",
       "    <tr>\n",
       "      <th>1</th>\n",
       "      <td>92001408</td>\n",
       "      <td>52133202</td>\n",
       "      <td>Caucasian</td>\n",
       "      <td>Male</td>\n",
       "      <td>[70-80)</td>\n",
       "      <td>[100-125)</td>\n",
       "      <td>2</td>\n",
       "      <td>6</td>\n",
       "      <td>1</td>\n",
       "      <td>7</td>\n",
       "      <td>...</td>\n",
       "      <td>No</td>\n",
       "      <td>No</td>\n",
       "      <td>No</td>\n",
       "      <td>No</td>\n",
       "      <td>No</td>\n",
       "      <td>No</td>\n",
       "      <td>No</td>\n",
       "      <td>No</td>\n",
       "      <td>Yes</td>\n",
       "      <td>1</td>\n",
       "    </tr>\n",
       "    <tr>\n",
       "      <th>2</th>\n",
       "      <td>169424316</td>\n",
       "      <td>40945509</td>\n",
       "      <td>Caucasian</td>\n",
       "      <td>Female</td>\n",
       "      <td>[70-80)</td>\n",
       "      <td>NaN</td>\n",
       "      <td>3</td>\n",
       "      <td>2</td>\n",
       "      <td>1</td>\n",
       "      <td>7</td>\n",
       "      <td>...</td>\n",
       "      <td>No</td>\n",
       "      <td>Up</td>\n",
       "      <td>No</td>\n",
       "      <td>No</td>\n",
       "      <td>No</td>\n",
       "      <td>No</td>\n",
       "      <td>No</td>\n",
       "      <td>Ch</td>\n",
       "      <td>Yes</td>\n",
       "      <td>1</td>\n",
       "    </tr>\n",
       "    <tr>\n",
       "      <th>3</th>\n",
       "      <td>272987082</td>\n",
       "      <td>38850777</td>\n",
       "      <td>Caucasian</td>\n",
       "      <td>Female</td>\n",
       "      <td>[50-60)</td>\n",
       "      <td>NaN</td>\n",
       "      <td>1</td>\n",
       "      <td>1</td>\n",
       "      <td>7</td>\n",
       "      <td>1</td>\n",
       "      <td>...</td>\n",
       "      <td>No</td>\n",
       "      <td>No</td>\n",
       "      <td>No</td>\n",
       "      <td>No</td>\n",
       "      <td>No</td>\n",
       "      <td>No</td>\n",
       "      <td>No</td>\n",
       "      <td>No</td>\n",
       "      <td>Yes</td>\n",
       "      <td>2</td>\n",
       "    </tr>\n",
       "    <tr>\n",
       "      <th>4</th>\n",
       "      <td>150600612</td>\n",
       "      <td>72738225</td>\n",
       "      <td>Caucasian</td>\n",
       "      <td>Female</td>\n",
       "      <td>[80-90)</td>\n",
       "      <td>NaN</td>\n",
       "      <td>1</td>\n",
       "      <td>6</td>\n",
       "      <td>7</td>\n",
       "      <td>6</td>\n",
       "      <td>...</td>\n",
       "      <td>No</td>\n",
       "      <td>Down</td>\n",
       "      <td>No</td>\n",
       "      <td>No</td>\n",
       "      <td>No</td>\n",
       "      <td>No</td>\n",
       "      <td>No</td>\n",
       "      <td>Ch</td>\n",
       "      <td>Yes</td>\n",
       "      <td>2</td>\n",
       "    </tr>\n",
       "  </tbody>\n",
       "</table>\n",
       "<p>5 rows × 50 columns</p>\n",
       "</div>"
      ],
      "text/plain": [
       "      enc_id  patient_id       race  gender      age     weight  \\\n",
       "0   88346340     2488608  Caucasian    Male  [60-70)        NaN   \n",
       "1   92001408    52133202  Caucasian    Male  [70-80)  [100-125)   \n",
       "2  169424316    40945509  Caucasian  Female  [70-80)        NaN   \n",
       "3  272987082    38850777  Caucasian  Female  [50-60)        NaN   \n",
       "4  150600612    72738225  Caucasian  Female  [80-90)        NaN   \n",
       "\n",
       "   admission_type_id  discharge_disposition_id  admission_source_id  \\\n",
       "0                  1                         2                    6   \n",
       "1                  2                         6                    1   \n",
       "2                  3                         2                    1   \n",
       "3                  1                         1                    7   \n",
       "4                  1                         6                    7   \n",
       "\n",
       "   time_in_hospital  ... citoglipton insulin  glyburide-metformin  \\\n",
       "0                 3  ...          No  Steady                   No   \n",
       "1                 7  ...          No      No                   No   \n",
       "2                 7  ...          No      Up                   No   \n",
       "3                 1  ...          No      No                   No   \n",
       "4                 6  ...          No    Down                   No   \n",
       "\n",
       "   glipizide-metformin  glimepiride-pioglitazone  metformin-rosiglitazone  \\\n",
       "0                   No                        No                       No   \n",
       "1                   No                        No                       No   \n",
       "2                   No                        No                       No   \n",
       "3                   No                        No                       No   \n",
       "4                   No                        No                       No   \n",
       "\n",
       "   metformin-pioglitazone  change diabetesMed readmission_id  \n",
       "0                      No      Ch         Yes              2  \n",
       "1                      No      No         Yes              1  \n",
       "2                      No      Ch         Yes              1  \n",
       "3                      No      No         Yes              2  \n",
       "4                      No      Ch         Yes              2  \n",
       "\n",
       "[5 rows x 50 columns]"
      ]
     },
     "execution_count": 54,
     "metadata": {},
     "output_type": "execute_result"
    }
   ],
   "source": [
    "df.head()"
   ]
  },
  {
   "cell_type": "code",
   "execution_count": 55,
   "metadata": {},
   "outputs": [
    {
     "data": {
      "text/plain": [
       "(71236, 50)"
      ]
     },
     "execution_count": 55,
     "metadata": {},
     "output_type": "execute_result"
    }
   ],
   "source": [
    "df.shape"
   ]
  },
  {
   "cell_type": "code",
   "execution_count": 56,
   "metadata": {},
   "outputs": [
    {
     "data": {
      "text/plain": [
       "gender\n",
       "Female             38235\n",
       "Male               32998\n",
       "Unknown/Invalid        3\n",
       "Name: count, dtype: int64"
      ]
     },
     "execution_count": 56,
     "metadata": {},
     "output_type": "execute_result"
    }
   ],
   "source": [
    "df.gender.value_counts() # ! so we have to encode this gender column"
   ]
  },
  {
   "cell_type": "markdown",
   "metadata": {},
   "source": [
    "## Filling Missing Values\n",
    "\n",
    "- payer_code, medical_specialty have more than 40% missing values\n",
    "- weight, max_glu_serum, A1Cresult have more than 80% missing values"
   ]
  },
  {
   "cell_type": "code",
   "execution_count": 57,
   "metadata": {},
   "outputs": [],
   "source": [
    "df.drop(['payer_code','medical_specialty', 'weight'], axis = 1, inplace=True)"
   ]
  },
  {
   "cell_type": "code",
   "execution_count": 58,
   "metadata": {},
   "outputs": [
    {
     "data": {
      "text/plain": [
       "3"
      ]
     },
     "execution_count": 58,
     "metadata": {},
     "output_type": "execute_result"
    }
   ],
   "source": [
    "(df['gender'] == 'Unknown/Invalid').sum() # ! we can drop this rows"
   ]
  },
  {
   "cell_type": "code",
   "execution_count": 59,
   "metadata": {},
   "outputs": [],
   "source": [
    "# drop rows in whose gender is Unknown/Invalid\n",
    "df = df[df['gender'] != 'Unknown/Invalid']"
   ]
  },
  {
   "cell_type": "code",
   "execution_count": 60,
   "metadata": {},
   "outputs": [
    {
     "name": "stdout",
     "output_type": "stream",
     "text": [
      "citoglipton\n",
      "No    71233\n",
      "Name: count, dtype: int64\n",
      "examide\n",
      "No    71233\n",
      "Name: count, dtype: int64\n"
     ]
    }
   ],
   "source": [
    "print(df['citoglipton'].value_counts())\n",
    "print(df['examide'].value_counts())\n",
    "\n",
    "# ! have same value for all rows so we can drop these columns"
   ]
  },
  {
   "cell_type": "code",
   "execution_count": 61,
   "metadata": {},
   "outputs": [
    {
     "data": {
      "text/plain": [
       "max_glu_serum\n",
       "Norm    1790\n",
       ">200    1034\n",
       ">300     897\n",
       "Name: count, dtype: int64"
      ]
     },
     "execution_count": 61,
     "metadata": {},
     "output_type": "execute_result"
    }
   ],
   "source": [
    "df['max_glu_serum'].value_counts() # ! 96420 values are missing"
   ]
  },
  {
   "cell_type": "code",
   "execution_count": 62,
   "metadata": {},
   "outputs": [],
   "source": [
    "colsToDrop = ['citoglipton', 'examide', 'max_glu_serum', 'A1Cresult']\n",
    "df.drop(colsToDrop, axis = 1, inplace=True)"
   ]
  },
  {
   "cell_type": "code",
   "execution_count": 63,
   "metadata": {},
   "outputs": [],
   "source": [
    "# print % number of missing values in each column\n",
    "def missing_values(df):\n",
    "    for col in df.columns:\n",
    "        print(col, df[col].isnull().sum()/len(df)*100)"
   ]
  },
  {
   "cell_type": "code",
   "execution_count": 64,
   "metadata": {},
   "outputs": [],
   "source": [
    "# drop rows in columns: [diag_1, diag_2, diag_3, race] which have missing values\n",
    "df = df[df['diag_1'].notna()]\n",
    "df = df[df['diag_2'].notna()]\n",
    "df = df[df['diag_3'].notna()]\n",
    "df = df[df['race'].notna()]"
   ]
  },
  {
   "cell_type": "code",
   "execution_count": 65,
   "metadata": {},
   "outputs": [
    {
     "name": "stdout",
     "output_type": "stream",
     "text": [
      "enc_id 0.0\n",
      "patient_id 0.0\n",
      "race 0.0\n",
      "gender 0.0\n",
      "age 0.0\n",
      "admission_type_id 0.0\n",
      "discharge_disposition_id 0.0\n",
      "admission_source_id 0.0\n",
      "time_in_hospital 0.0\n",
      "num_lab_procedures 0.0\n",
      "num_procedures 0.0\n",
      "num_medications 0.0\n",
      "number_outpatient 0.0\n",
      "number_emergency 0.0\n",
      "number_inpatient 0.0\n",
      "diag_1 0.0\n",
      "diag_2 0.0\n",
      "diag_3 0.0\n",
      "number_diagnoses 0.0\n",
      "metformin 0.0\n",
      "repaglinide 0.0\n",
      "nateglinide 0.0\n",
      "chlorpropamide 0.0\n",
      "glimepiride 0.0\n",
      "acetohexamide 0.0\n",
      "glipizide 0.0\n",
      "glyburide 0.0\n",
      "tolbutamide 0.0\n",
      "pioglitazone 0.0\n",
      "rosiglitazone 0.0\n",
      "acarbose 0.0\n",
      "miglitol 0.0\n",
      "troglitazone 0.0\n",
      "tolazamide 0.0\n",
      "insulin 0.0\n",
      "glyburide-metformin 0.0\n",
      "glipizide-metformin 0.0\n",
      "glimepiride-pioglitazone 0.0\n",
      "metformin-rosiglitazone 0.0\n",
      "metformin-pioglitazone 0.0\n",
      "change 0.0\n",
      "diabetesMed 0.0\n",
      "readmission_id 0.0\n"
     ]
    }
   ],
   "source": [
    "missing_values(df)"
   ]
  },
  {
   "cell_type": "markdown",
   "metadata": {},
   "source": [
    "## Feature Engineering"
   ]
  },
  {
   "cell_type": "code",
   "execution_count": 70,
   "metadata": {},
   "outputs": [
    {
     "data": {
      "text/plain": [
       "chlorpropamide\n",
       "No        68550\n",
       "Steady       60\n",
       "Up            4\n",
       "Name: count, dtype: int64"
      ]
     },
     "execution_count": 70,
     "metadata": {},
     "output_type": "execute_result"
    }
   ],
   "source": [
    "df['chlorpropamide'].value_counts()"
   ]
  },
  {
   "cell_type": "markdown",
   "metadata": {},
   "source": [
    "* Number of medication changes: The dataset contains 23 features for 23 drugs (or combos) which indicate for each of these, whether a change in that medication was made or not during the current hospital stay of patient. Medication change for diabetics upon admission has been shown by previous research to be associated with lower readmission rates. We decided to count how many changes were made in total for each patient, and declared that a new feature. The reasoning here was to both simplify the model and possibly discover a relationship with number of changes regardless of which drug was changed."
   ]
  },
  {
   "cell_type": "code",
   "execution_count": 73,
   "metadata": {},
   "outputs": [],
   "source": [
    "drugs = ['metformin', 'repaglinide', 'nateglinide', 'chlorpropamide', 'glimepiride', 'glipizide', 'glyburide', 'pioglitazone', 'rosiglitazone', 'acarbose', 'miglitol', 'insulin', 'glyburide-metformin', 'tolazamide', 'metformin-pioglitazone','metformin-rosiglitazone', 'glimepiride-pioglitazone', 'glipizide-metformin', 'troglitazone', 'tolbutamide', 'acetohexamide']\n",
    "for drug in drugs:\n",
    "    new_col = drug + 'temp'\n",
    "    df[new_col] = df[drug].apply(lambda x: 0 if (x == 'No' or x == 'Steady') else 1)"
   ]
  },
  {
   "cell_type": "code",
   "execution_count": 74,
   "metadata": {},
   "outputs": [
    {
     "data": {
      "text/plain": [
       "Index(['enc_id', 'patient_id', 'race', 'gender', 'age', 'admission_type_id',\n",
       "       'discharge_disposition_id', 'admission_source_id', 'time_in_hospital',\n",
       "       'num_lab_procedures', 'num_procedures', 'num_medications',\n",
       "       'number_outpatient', 'number_emergency', 'number_inpatient', 'diag_1',\n",
       "       'diag_2', 'diag_3', 'number_diagnoses', 'metformin', 'repaglinide',\n",
       "       'nateglinide', 'chlorpropamide', 'glimepiride', 'acetohexamide',\n",
       "       'glipizide', 'glyburide', 'tolbutamide', 'pioglitazone',\n",
       "       'rosiglitazone', 'acarbose', 'miglitol', 'troglitazone', 'tolazamide',\n",
       "       'insulin', 'glyburide-metformin', 'glipizide-metformin',\n",
       "       'glimepiride-pioglitazone', 'metformin-rosiglitazone',\n",
       "       'metformin-pioglitazone', 'change', 'diabetesMed', 'readmission_id',\n",
       "       'metformintemp', 'repaglinidetemp', 'nateglinidetemp',\n",
       "       'chlorpropamidetemp', 'glimepiridetemp', 'glipizidetemp',\n",
       "       'glyburidetemp', 'pioglitazonetemp', 'rosiglitazonetemp',\n",
       "       'acarbosetemp', 'miglitoltemp', 'insulintemp',\n",
       "       'glyburide-metformintemp', 'tolazamidetemp',\n",
       "       'metformin-pioglitazonetemp', 'metformin-rosiglitazonetemp',\n",
       "       'glimepiride-pioglitazonetemp', 'glipizide-metformintemp',\n",
       "       'troglitazonetemp', 'tolbutamidetemp', 'acetohexamidetemp'],\n",
       "      dtype='object')"
      ]
     },
     "execution_count": 74,
     "metadata": {},
     "output_type": "execute_result"
    }
   ],
   "source": [
    "df.columns"
   ]
  },
  {
   "cell_type": "markdown",
   "metadata": {},
   "source": [
    "### "
   ]
  }
 ],
 "metadata": {
  "kernelspec": {
   "display_name": "Python 3 (ipykernel)",
   "language": "python",
   "name": "python3"
  },
  "language_info": {
   "codemirror_mode": {
    "name": "ipython",
    "version": 3
   },
   "file_extension": ".py",
   "mimetype": "text/x-python",
   "name": "python",
   "nbconvert_exporter": "python",
   "pygments_lexer": "ipython3",
   "version": "3.11.0"
  }
 },
 "nbformat": 4,
 "nbformat_minor": 4
}
