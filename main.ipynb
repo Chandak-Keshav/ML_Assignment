{
 "cells": [
  {
   "cell_type": "code",
   "execution_count": 1,
   "metadata": {},
   "outputs": [],
   "source": [
    "import pandas as pd\n",
    "from sklearn.model_selection import train_test_split\n",
    "from sklearn.preprocessing import StandardScaler, OneHotEncoder\n",
    "from sklearn.ensemble import RandomForestClassifier\n",
    "from sklearn.model_selection import GridSearchCV\n",
    "from sklearn.impute import SimpleImputer\n",
    "from sklearn.compose import ColumnTransformer\n",
    "from sklearn.pipeline import Pipeline\n",
    "from sklearn.svm import SVC\n",
    "from matplotlib.pyplot import figure\n",
    "from matplotlib.pyplot import title\n",
    "# from .preprocessing import *\n",
    "from imblearn.under_sampling import OneSidedSelection\n",
    "from sklearn.preprocessing import OneHotEncoder\n"
   ]
  },
  {
   "cell_type": "code",
   "execution_count": 2,
   "metadata": {},
   "outputs": [],
   "source": [
    "import numpy as np\n",
    "import pandas as pd\n",
    "import matplotlib.pyplot as plt\n",
    "import seaborn as sns\n",
    "from sklearn.model_selection import train_test_split\n",
    "from sklearn.metrics import accuracy_score,f1_score\n",
    "from sklearn.preprocessing import LabelEncoder\n",
    "from sklearn.preprocessing import OneHotEncoder\n",
    "from sklearn.metrics import accuracy_score\n",
    "from pprint import pprint\n",
    "\n",
    "import torch\n",
    "import torch.nn as nn\n",
    "from torch.utils.data import Dataset, DataLoader\n",
    "from tqdm import tqdm\n",
    "import optuna\n",
    "\n",
    "import gc\n",
    "import time\n",
    "\n",
    "device = torch.device('cuda' if torch.cuda.is_available() else 'cpu')"
   ]
  },
  {
   "cell_type": "code",
   "execution_count": 3,
   "metadata": {},
   "outputs": [],
   "source": [
    "# Load your data\n",
    "train_data = pd.read_csv(\"./preprocessed-data/train.csv\")\n",
    "test_data = pd.read_csv(\"./preprocessed-data/test.csv\")"
   ]
  },
  {
   "cell_type": "markdown",
   "metadata": {},
   "source": [
    "### Split Data"
   ]
  },
  {
   "cell_type": "code",
   "execution_count": 4,
   "metadata": {},
   "outputs": [],
   "source": [
    "# Splitting data into training and validation sets\n",
    "X = train_data.drop(\"readmission_id\", axis=1)\n",
    "y = train_data[\"readmission_id\"]"
   ]
  },
  {
   "cell_type": "code",
   "execution_count": 5,
   "metadata": {},
   "outputs": [],
   "source": [
    "x_train, x_val, y_train, y_val = train_test_split(X, y, test_size=0.2, random_state=42, stratify=y)"
   ]
  },
  {
   "cell_type": "markdown",
   "metadata": {},
   "source": [
    "### Pre-Processing of Numerical & Categorical Columns"
   ]
  },
  {
   "cell_type": "code",
   "execution_count": 6,
   "metadata": {},
   "outputs": [],
   "source": [
    "# Identifying categorical and numerical columns\n",
    "categorical_cols = x_train.select_dtypes(include=[\"object\"]).columns\n",
    "numerical_cols = x_train.select_dtypes(include=[\"int64\", \"float64\"]).columns"
   ]
  },
  {
   "cell_type": "code",
   "execution_count": 7,
   "metadata": {},
   "outputs": [],
   "source": [
    "# Preprocessing for numerical data\n",
    "numerical_transformer = Pipeline(\n",
    "    steps=[(\"imputer\", SimpleImputer(strategy=\"median\")), (\"scaler\", StandardScaler())]\n",
    ")\n",
    "\n",
    "# Preprocessing for categorical data\n",
    "categorical_transformer = Pipeline(\n",
    "    steps=[\n",
    "        (\"imputer\", SimpleImputer(strategy=\"most_frequent\")),\n",
    "        (\"onehot\", OneHotEncoder(handle_unknown=\"ignore\")),\n",
    "    ]\n",
    ")\n",
    "\n",
    "# Bundle preprocessing for numerical and categorical data\n",
    "preprocessor = ColumnTransformer(\n",
    "    transformers=[\n",
    "        (\"num\", numerical_transformer, numerical_cols),\n",
    "        (\"cat\", categorical_transformer, categorical_cols),\n",
    "    ]\n",
    ")"
   ]
  },
  {
   "cell_type": "code",
   "execution_count": 8,
   "metadata": {},
   "outputs": [
    {
     "name": "stdout",
     "output_type": "stream",
     "text": [
      "Before preprocessing: \n",
      "Training set:  (56988, 34)\n",
      "Validation set:  (14248, 34)\n",
      "\n",
      "After preprocessing: \n",
      "Training set:  (56988, 72)\n",
      "Validation set:  (14248, 72)\n"
     ]
    }
   ],
   "source": [
    "# Apply preprocessing\n",
    "print(\"Before preprocessing: \")\n",
    "print(\"Training set: \", x_train.shape)\n",
    "print(\"Validation set: \", x_val.shape)\n",
    "print()\n",
    "x_train = preprocessor.fit_transform(x_train)\n",
    "x_val = preprocessor.transform(x_val)\n",
    "print(\"After preprocessing: \")\n",
    "print(\"Training set: \", x_train.shape)\n",
    "print(\"Validation set: \", x_val.shape)"
   ]
  },
  {
   "cell_type": "markdown",
   "metadata": {},
   "source": [
    "### Finding most important features"
   ]
  },
  {
   "cell_type": "code",
   "execution_count": 9,
   "metadata": {},
   "outputs": [],
   "source": [
    "x_train_df = pd.DataFrame(x_train)"
   ]
  },
  {
   "cell_type": "code",
   "execution_count": 10,
   "metadata": {},
   "outputs": [
    {
     "data": {
      "text/html": [
       "<style>#sk-container-id-1 {color: black;background-color: white;}#sk-container-id-1 pre{padding: 0;}#sk-container-id-1 div.sk-toggleable {background-color: white;}#sk-container-id-1 label.sk-toggleable__label {cursor: pointer;display: block;width: 100%;margin-bottom: 0;padding: 0.3em;box-sizing: border-box;text-align: center;}#sk-container-id-1 label.sk-toggleable__label-arrow:before {content: \"▸\";float: left;margin-right: 0.25em;color: #696969;}#sk-container-id-1 label.sk-toggleable__label-arrow:hover:before {color: black;}#sk-container-id-1 div.sk-estimator:hover label.sk-toggleable__label-arrow:before {color: black;}#sk-container-id-1 div.sk-toggleable__content {max-height: 0;max-width: 0;overflow: hidden;text-align: left;background-color: #f0f8ff;}#sk-container-id-1 div.sk-toggleable__content pre {margin: 0.2em;color: black;border-radius: 0.25em;background-color: #f0f8ff;}#sk-container-id-1 input.sk-toggleable__control:checked~div.sk-toggleable__content {max-height: 200px;max-width: 100%;overflow: auto;}#sk-container-id-1 input.sk-toggleable__control:checked~label.sk-toggleable__label-arrow:before {content: \"▾\";}#sk-container-id-1 div.sk-estimator input.sk-toggleable__control:checked~label.sk-toggleable__label {background-color: #d4ebff;}#sk-container-id-1 div.sk-label input.sk-toggleable__control:checked~label.sk-toggleable__label {background-color: #d4ebff;}#sk-container-id-1 input.sk-hidden--visually {border: 0;clip: rect(1px 1px 1px 1px);clip: rect(1px, 1px, 1px, 1px);height: 1px;margin: -1px;overflow: hidden;padding: 0;position: absolute;width: 1px;}#sk-container-id-1 div.sk-estimator {font-family: monospace;background-color: #f0f8ff;border: 1px dotted black;border-radius: 0.25em;box-sizing: border-box;margin-bottom: 0.5em;}#sk-container-id-1 div.sk-estimator:hover {background-color: #d4ebff;}#sk-container-id-1 div.sk-parallel-item::after {content: \"\";width: 100%;border-bottom: 1px solid gray;flex-grow: 1;}#sk-container-id-1 div.sk-label:hover label.sk-toggleable__label {background-color: #d4ebff;}#sk-container-id-1 div.sk-serial::before {content: \"\";position: absolute;border-left: 1px solid gray;box-sizing: border-box;top: 0;bottom: 0;left: 50%;z-index: 0;}#sk-container-id-1 div.sk-serial {display: flex;flex-direction: column;align-items: center;background-color: white;padding-right: 0.2em;padding-left: 0.2em;position: relative;}#sk-container-id-1 div.sk-item {position: relative;z-index: 1;}#sk-container-id-1 div.sk-parallel {display: flex;align-items: stretch;justify-content: center;background-color: white;position: relative;}#sk-container-id-1 div.sk-item::before, #sk-container-id-1 div.sk-parallel-item::before {content: \"\";position: absolute;border-left: 1px solid gray;box-sizing: border-box;top: 0;bottom: 0;left: 50%;z-index: -1;}#sk-container-id-1 div.sk-parallel-item {display: flex;flex-direction: column;z-index: 1;position: relative;background-color: white;}#sk-container-id-1 div.sk-parallel-item:first-child::after {align-self: flex-end;width: 50%;}#sk-container-id-1 div.sk-parallel-item:last-child::after {align-self: flex-start;width: 50%;}#sk-container-id-1 div.sk-parallel-item:only-child::after {width: 0;}#sk-container-id-1 div.sk-dashed-wrapped {border: 1px dashed gray;margin: 0 0.4em 0.5em 0.4em;box-sizing: border-box;padding-bottom: 0.4em;background-color: white;}#sk-container-id-1 div.sk-label label {font-family: monospace;font-weight: bold;display: inline-block;line-height: 1.2em;}#sk-container-id-1 div.sk-label-container {text-align: center;}#sk-container-id-1 div.sk-container {/* jupyter's `normalize.less` sets `[hidden] { display: none; }` but bootstrap.min.css set `[hidden] { display: none !important; }` so we also need the `!important` here to be able to override the default hidden behavior on the sphinx rendered scikit-learn.org. See: https://github.com/scikit-learn/scikit-learn/issues/21755 */display: inline-block !important;position: relative;}#sk-container-id-1 div.sk-text-repr-fallback {display: none;}</style><div id=\"sk-container-id-1\" class=\"sk-top-container\"><div class=\"sk-text-repr-fallback\"><pre>RandomForestClassifier(random_state=42)</pre><b>In a Jupyter environment, please rerun this cell to show the HTML representation or trust the notebook. <br />On GitHub, the HTML representation is unable to render, please try loading this page with nbviewer.org.</b></div><div class=\"sk-container\" hidden><div class=\"sk-item\"><div class=\"sk-estimator sk-toggleable\"><input class=\"sk-toggleable__control sk-hidden--visually\" id=\"sk-estimator-id-1\" type=\"checkbox\" checked><label for=\"sk-estimator-id-1\" class=\"sk-toggleable__label sk-toggleable__label-arrow\">RandomForestClassifier</label><div class=\"sk-toggleable__content\"><pre>RandomForestClassifier(random_state=42)</pre></div></div></div></div></div>"
      ],
      "text/plain": [
       "RandomForestClassifier(random_state=42)"
      ]
     },
     "execution_count": 10,
     "metadata": {},
     "output_type": "execute_result"
    }
   ],
   "source": [
    "rfc = RandomForestClassifier(random_state=42)\n",
    "rfc.fit(x_train_df, y_train)"
   ]
  },
  {
   "cell_type": "code",
   "execution_count": 11,
   "metadata": {},
   "outputs": [
    {
     "data": {
      "text/plain": [
       "Text(0.5, 1.0, 'Feature Importance')"
      ]
     },
     "execution_count": 11,
     "metadata": {},
     "output_type": "execute_result"
    },
    {
     "data": {
      "image/png": "[encoded data removed]",
      "text/plain": [
       "<Figure size 1200x300 with 1 Axes>"
      ]
     },
     "metadata": {},
     "output_type": "display_data"
    }
   ],
   "source": [
    "figure(figsize=(12, 3))\n",
    "features = x_train_df.columns.values.tolist()\n",
    "importance = rfc.feature_importances_.tolist()\n",
    "feature_series = pd.Series(data=importance, index=features).sort_values(ascending=False)\n",
    "\n",
    "feature_series.plot.bar()\n",
    "title(\"Feature Importance\")"
   ]
  },
  {
   "cell_type": "code",
   "execution_count": 12,
   "metadata": {},
   "outputs": [
    {
     "data": {
      "text/plain": [
       "[18,\n",
       " 0,\n",
       " 1,\n",
       " 22,\n",
       " 21,\n",
       " 6,\n",
       " 19,\n",
       " 23,\n",
       " 8,\n",
       " 24,\n",
       " 11,\n",
       " 25,\n",
       " 20,\n",
       " 3,\n",
       " 5,\n",
       " 12,\n",
       " 7,\n",
       " 2,\n",
       " 15,\n",
       " 4,\n",
       " 14,\n",
       " 9,\n",
       " 10,\n",
       " 31]"
      ]
     },
     "execution_count": 12,
     "metadata": {},
     "output_type": "execute_result"
    }
   ],
   "source": [
    "feature_names = feature_series[:24].index.tolist()\n",
    "feature_names"
   ]
  },
  {
   "cell_type": "code",
   "execution_count": 13,
   "metadata": {},
   "outputs": [
    {
     "name": "stdout",
     "output_type": "stream",
     "text": [
      "Before dropping less important columns: \n",
      "Training set:  (56988, 72)\n",
      "Validation set:  (14248, 72)\n",
      "After dropping less important columns:\n",
      "Training set:  (56988, 24)\n",
      "Validation set:  (14248, 24)\n"
     ]
    }
   ],
   "source": [
    "print(\"Before dropping less important columns: \")\n",
    "print(\"Training set: \", x_train.shape)\n",
    "print(\"Validation set: \", x_val.shape)\n",
    "\n",
    "x_train = x_train_df[feature_names]\n",
    "x_val = x_val[:, feature_names]\n",
    "\n",
    "print(\"After dropping less important columns:\")\n",
    "print(\"Training set: \", x_train.shape)\n",
    "print(\"Validation set: \", x_val.shape)"
   ]
  },
  {
   "cell_type": "markdown",
   "metadata": {},
   "source": [
    "## NN"
   ]
  },
  {
   "cell_type": "code",
   "execution_count": 14,
   "metadata": {},
   "outputs": [
    {
     "data": {
      "text/plain": [
       "61454    0\n",
       "63374    2\n",
       "29569    0\n",
       "31619    2\n",
       "47114    0\n",
       "        ..\n",
       "30444    2\n",
       "67920    2\n",
       "7823     1\n",
       "28604    1\n",
       "63955    0\n",
       "Name: readmission_id, Length: 14248, dtype: int64"
      ]
     },
     "execution_count": 14,
     "metadata": {},
     "output_type": "execute_result"
    }
   ],
   "source": [
    "y_val"
   ]
  },
  {
   "cell_type": "code",
   "execution_count": 15,
   "metadata": {},
   "outputs": [],
   "source": [
    "class Data(Dataset):\n",
    "    def __init__(self, x, y):\n",
    "        self.x=torch.from_numpy(x)\n",
    "        self.y=torch.from_numpy(y)\n",
    "        self.len=self.x.shape[0]\n",
    "    def __getitem__(self,index):      \n",
    "        return self.x[index], self.y[index]\n",
    "    def __len__(self):\n",
    "        return self.len"
   ]
  },
  {
   "cell_type": "code",
   "execution_count": 16,
   "metadata": {},
   "outputs": [],
   "source": [
    "train_dataset = Data(x_train.to_numpy().astype('float64'), y_train.to_numpy())\n",
    "test_dataset = Data(x_val.astype('float64'), y_val.to_numpy())"
   ]
  },
  {
   "cell_type": "code",
   "execution_count": 17,
   "metadata": {},
   "outputs": [],
   "source": [
    "train_dataloader = DataLoader(train_dataset,batch_size=64)\n",
    "test_dataloader = DataLoader(test_dataset,batch_size=64)"
   ]
  },
  {
   "cell_type": "code",
   "execution_count": 18,
   "metadata": {},
   "outputs": [],
   "source": [
    "class ANN(nn.Module):\n",
    "    def __init__(\n",
    "        self,\n",
    "        in_dim: int,\n",
    "        hidden_dim_1: int,\n",
    "        hidden_dim_2: int,\n",
    "        n_classes:int = 3,\n",
    "        dropout:float = 0.2\n",
    "    ):\n",
    "        super().__init__()\n",
    "        \n",
    "        self.layer1 = nn.Sequential(\n",
    "            nn.Linear(in_features=in_dim, out_features=hidden_dim_1),\n",
    "            nn.ReLU(),\n",
    "            nn.BatchNorm1d(hidden_dim_1),\n",
    "            nn.Dropout(dropout),\n",
    "        )\n",
    "        self.layer2 = nn.Sequential(\n",
    "            nn.Linear(in_features=hidden_dim_1, out_features=hidden_dim_2),\n",
    "            nn.ReLU(),\n",
    "            nn.BatchNorm1d(hidden_dim_2),\n",
    "            nn.Dropout(dropout),\n",
    "        )\n",
    "        self.output_layer = nn.Linear(in_features=hidden_dim_2, out_features=n_classes)\n",
    "        \n",
    "    def forward(self, x:torch.Tensor) -> torch.Tensor:\n",
    "        x = x.to(dtype=torch.float)\n",
    "        # x=x.astype('float')\n",
    "        x = self.layer1(x)\n",
    "        # x=x.astype('float')\n",
    "        x = self.layer2(x)\n",
    "        # x=x.astype('float')\n",
    "        x = self.output_layer(x)\n",
    "        return x"
   ]
  },
  {
   "cell_type": "code",
   "execution_count": 19,
   "metadata": {},
   "outputs": [],
   "source": [
    "model = ANN(24,21,20).to(device)"
   ]
  },
  {
   "cell_type": "code",
   "execution_count": 20,
   "metadata": {},
   "outputs": [],
   "source": [
    "n_epochs = 25\n",
    "lr = 1e-4\n",
    "optimiser = torch.optim.Adam(model.parameters(), lr=lr)\n",
    "loss_fn = torch.nn.CrossEntropyLoss()"
   ]
  },
  {
   "cell_type": "code",
   "execution_count": 21,
   "metadata": {},
   "outputs": [],
   "source": [
    "import matplotlib.pyplot as plt\n",
    "losses = []\n",
    "accuracies = []\n",
    "f1s = []\n",
    "def train_epoch(model, dataloader, optimiser, verbose=True):\n",
    "    model.train()\n",
    "    loss_sum = 0\n",
    "    for batch in tqdm(dataloader, disable=not verbose):\n",
    "        x, y = batch[0].to(device), batch[1].to(device)\n",
    "        output = model(x)\n",
    "        output = nn.Softmax(dim=-1)(output)\n",
    "        loss = loss_fn(output, y)\n",
    "        loss_sum += loss.item()  \n",
    "\n",
    "        optimiser.zero_grad()\n",
    "        loss.backward()\n",
    "        optimiser.step()\n",
    "    loss_sum /= len(dataloader)\n",
    "    losses.append(loss_sum)\n",
    "        \n",
    "        \n",
    "def validate(model):\n",
    "    model.eval()\n",
    "    output = model(torch.from_numpy(x_val).to(device))\n",
    "    output = nn.Softmax(dim=-1)(output)\n",
    "    preds = torch.argmax(output,dim=-1)\n",
    "            \n",
    "        \n",
    "    acc = accuracy_score(y_true=y_val.to_numpy(), y_pred=preds.cpu())\n",
    "    accuracies.append(acc)\n",
    "    f1 = f1_score(y_true=y_val.to_numpy(), y_pred=preds.cpu(), average='macro')\n",
    "    f1s.append(f1)\n",
    "    \n",
    "    return acc, f1"
   ]
  },
  {
   "cell_type": "code",
   "execution_count": 22,
   "metadata": {},
   "outputs": [],
   "source": [
    "def train_model(model, train_dataloader, test_dataloader, optimiser, verbose=True):\n",
    "    for epoch in range(1, n_epochs+1):\n",
    "        start_time = time.time()\n",
    "        \n",
    "        if verbose: print(f\"========= EPOCH {epoch} STARTED =========\")\n",
    "        train_epoch(model=model, dataloader=train_dataloader, optimiser=optimiser, verbose=verbose)\n",
    "        \n",
    "        if verbose: print(f\"========= TEST EVALUATION STARTED =========\")\n",
    "        test_val_op = validate(model=model)\n",
    "        \n",
    "        if verbose: print(f\"END OF {epoch} EPOCH\")\n",
    "        if verbose: print(f\"| Time taken: {time.time() - start_time: 7.3f} |\")\n",
    "        if verbose: print(f\"| Test acc: {test_val_op[0]: 1.5f}  | Test f1: {test_val_op[1]: 1.5f}  |\")"
   ]
  },
  {
   "cell_type": "code",
   "execution_count": 23,
   "metadata": {},
   "outputs": [
    {
     "data": {
      "image/png": "[encoded data removed]",
      "text/plain": [
       "<Figure size 640x480 with 1 Axes>"
      ]
     },
     "metadata": {},
     "output_type": "display_data"
    },
    {
     "data": {
      "image/png": "[encoded data removed]",
      "text/plain": [
       "<Figure size 640x480 with 1 Axes>"
      ]
     },
     "metadata": {},
     "output_type": "display_data"
    },
    {
     "data": {
      "image/png": "[encoded data removed]",
      "text/plain": [
       "<Figure size 640x480 with 1 Axes>"
      ]
     },
     "metadata": {},
     "output_type": "display_data"
    }
   ],
   "source": [
    "train_model(\n",
    "    model=model,\n",
    "    train_dataloader=train_dataloader,\n",
    "    test_dataloader=test_dataloader,\n",
    "    optimiser=optimiser,\n",
    "    verbose=False\n",
    ")\n",
    "sns.lineplot(x=range(len(losses)), y=losses)\n",
    "plt.show()\n",
    "sns.lineplot(x=range(len(accuracies)), y=accuracies)\n",
    "plt.show()\n",
    "sns.lineplot(x=range(len(f1s)), y=f1s)\n",
    "plt.show()"
   ]
  },
  {
   "cell_type": "code",
   "execution_count": 24,
   "metadata": {},
   "outputs": [
    {
     "data": {
      "text/html": [
       "<div>\n",
       "<style scoped>\n",
       "    .dataframe tbody tr th:only-of-type {\n",
       "        vertical-align: middle;\n",
       "    }\n",
       "\n",
       "    .dataframe tbody tr th {\n",
       "        vertical-align: top;\n",
       "    }\n",
       "\n",
       "    .dataframe thead th {\n",
       "        text-align: right;\n",
       "    }\n",
       "</style>\n",
       "<table border=\"1\" class=\"dataframe\">\n",
       "  <thead>\n",
       "    <tr style=\"text-align: right;\">\n",
       "      <th></th>\n",
       "      <th>enc_id</th>\n",
       "      <th>patient_id</th>\n",
       "      <th>race</th>\n",
       "      <th>gender</th>\n",
       "      <th>age</th>\n",
       "      <th>admission_type_id</th>\n",
       "      <th>discharge_disposition_id</th>\n",
       "      <th>admission_source_id</th>\n",
       "      <th>time_in_hospital</th>\n",
       "      <th>payer_code</th>\n",
       "      <th>...</th>\n",
       "      <th>number_of_up</th>\n",
       "      <th>number_of_down</th>\n",
       "      <th>new_patient_id</th>\n",
       "      <th>num_medications|time_in_hospital</th>\n",
       "      <th>num_medications|num_procedures</th>\n",
       "      <th>time_in_hospital|num_lab_procedures</th>\n",
       "      <th>num_medications|num_lab_procedures</th>\n",
       "      <th>num_medications|number_diagnoses</th>\n",
       "      <th>number_diagnoses|time_in_hospital</th>\n",
       "      <th>service_utilization</th>\n",
       "    </tr>\n",
       "  </thead>\n",
       "  <tbody>\n",
       "    <tr>\n",
       "      <th>0</th>\n",
       "      <td>86305392</td>\n",
       "      <td>23846112</td>\n",
       "      <td>Caucasian</td>\n",
       "      <td>Male</td>\n",
       "      <td>[40-50)</td>\n",
       "      <td>5</td>\n",
       "      <td>5</td>\n",
       "      <td>17</td>\n",
       "      <td>12</td>\n",
       "      <td>MC</td>\n",
       "      <td>...</td>\n",
       "      <td>0</td>\n",
       "      <td>0</td>\n",
       "      <td>7</td>\n",
       "      <td>348</td>\n",
       "      <td>87</td>\n",
       "      <td>300</td>\n",
       "      <td>725</td>\n",
       "      <td>261</td>\n",
       "      <td>108</td>\n",
       "      <td>4</td>\n",
       "    </tr>\n",
       "    <tr>\n",
       "      <th>1</th>\n",
       "      <td>394919696</td>\n",
       "      <td>90620001</td>\n",
       "      <td>Caucasian</td>\n",
       "      <td>Male</td>\n",
       "      <td>[80-90)</td>\n",
       "      <td>2</td>\n",
       "      <td>3</td>\n",
       "      <td>7</td>\n",
       "      <td>3</td>\n",
       "      <td>MC</td>\n",
       "      <td>...</td>\n",
       "      <td>0</td>\n",
       "      <td>1</td>\n",
       "      <td>1</td>\n",
       "      <td>72</td>\n",
       "      <td>0</td>\n",
       "      <td>177</td>\n",
       "      <td>1416</td>\n",
       "      <td>216</td>\n",
       "      <td>27</td>\n",
       "      <td>1</td>\n",
       "    </tr>\n",
       "    <tr>\n",
       "      <th>2</th>\n",
       "      <td>164917446</td>\n",
       "      <td>25342173</td>\n",
       "      <td>AfricanAmerican</td>\n",
       "      <td>Female</td>\n",
       "      <td>[60-70)</td>\n",
       "      <td>3</td>\n",
       "      <td>1</td>\n",
       "      <td>1</td>\n",
       "      <td>8</td>\n",
       "      <td>HM</td>\n",
       "      <td>...</td>\n",
       "      <td>0</td>\n",
       "      <td>1</td>\n",
       "      <td>3</td>\n",
       "      <td>184</td>\n",
       "      <td>0</td>\n",
       "      <td>376</td>\n",
       "      <td>1081</td>\n",
       "      <td>207</td>\n",
       "      <td>72</td>\n",
       "      <td>0</td>\n",
       "    </tr>\n",
       "    <tr>\n",
       "      <th>3</th>\n",
       "      <td>178319040</td>\n",
       "      <td>23481783</td>\n",
       "      <td>AfricanAmerican</td>\n",
       "      <td>Female</td>\n",
       "      <td>[70-80)</td>\n",
       "      <td>1</td>\n",
       "      <td>3</td>\n",
       "      <td>7</td>\n",
       "      <td>10</td>\n",
       "      <td>Other</td>\n",
       "      <td>...</td>\n",
       "      <td>1</td>\n",
       "      <td>0</td>\n",
       "      <td>12</td>\n",
       "      <td>380</td>\n",
       "      <td>228</td>\n",
       "      <td>460</td>\n",
       "      <td>1748</td>\n",
       "      <td>342</td>\n",
       "      <td>90</td>\n",
       "      <td>9</td>\n",
       "    </tr>\n",
       "    <tr>\n",
       "      <th>4</th>\n",
       "      <td>253585416</td>\n",
       "      <td>86500791</td>\n",
       "      <td>Caucasian</td>\n",
       "      <td>Male</td>\n",
       "      <td>[70-80)</td>\n",
       "      <td>1</td>\n",
       "      <td>6</td>\n",
       "      <td>7</td>\n",
       "      <td>5</td>\n",
       "      <td>HM</td>\n",
       "      <td>...</td>\n",
       "      <td>0</td>\n",
       "      <td>0</td>\n",
       "      <td>4</td>\n",
       "      <td>80</td>\n",
       "      <td>16</td>\n",
       "      <td>320</td>\n",
       "      <td>1024</td>\n",
       "      <td>144</td>\n",
       "      <td>45</td>\n",
       "      <td>1</td>\n",
       "    </tr>\n",
       "    <tr>\n",
       "      <th>...</th>\n",
       "      <td>...</td>\n",
       "      <td>...</td>\n",
       "      <td>...</td>\n",
       "      <td>...</td>\n",
       "      <td>...</td>\n",
       "      <td>...</td>\n",
       "      <td>...</td>\n",
       "      <td>...</td>\n",
       "      <td>...</td>\n",
       "      <td>...</td>\n",
       "      <td>...</td>\n",
       "      <td>...</td>\n",
       "      <td>...</td>\n",
       "      <td>...</td>\n",
       "      <td>...</td>\n",
       "      <td>...</td>\n",
       "      <td>...</td>\n",
       "      <td>...</td>\n",
       "      <td>...</td>\n",
       "      <td>...</td>\n",
       "      <td>...</td>\n",
       "    </tr>\n",
       "    <tr>\n",
       "      <th>30525</th>\n",
       "      <td>169542282</td>\n",
       "      <td>23401863</td>\n",
       "      <td>AfricanAmerican</td>\n",
       "      <td>Female</td>\n",
       "      <td>[70-80)</td>\n",
       "      <td>1</td>\n",
       "      <td>6</td>\n",
       "      <td>7</td>\n",
       "      <td>2</td>\n",
       "      <td>MC</td>\n",
       "      <td>...</td>\n",
       "      <td>0</td>\n",
       "      <td>0</td>\n",
       "      <td>3</td>\n",
       "      <td>38</td>\n",
       "      <td>0</td>\n",
       "      <td>88</td>\n",
       "      <td>836</td>\n",
       "      <td>95</td>\n",
       "      <td>10</td>\n",
       "      <td>2</td>\n",
       "    </tr>\n",
       "    <tr>\n",
       "      <th>30526</th>\n",
       "      <td>37906254</td>\n",
       "      <td>12267054</td>\n",
       "      <td>Caucasian</td>\n",
       "      <td>Male</td>\n",
       "      <td>[50-60)</td>\n",
       "      <td>3</td>\n",
       "      <td>18</td>\n",
       "      <td>4</td>\n",
       "      <td>2</td>\n",
       "      <td>Other</td>\n",
       "      <td>...</td>\n",
       "      <td>0</td>\n",
       "      <td>0</td>\n",
       "      <td>1</td>\n",
       "      <td>20</td>\n",
       "      <td>30</td>\n",
       "      <td>38</td>\n",
       "      <td>190</td>\n",
       "      <td>80</td>\n",
       "      <td>16</td>\n",
       "      <td>0</td>\n",
       "    </tr>\n",
       "    <tr>\n",
       "      <th>30527</th>\n",
       "      <td>242799822</td>\n",
       "      <td>98403552</td>\n",
       "      <td>Caucasian</td>\n",
       "      <td>Female</td>\n",
       "      <td>[70-80)</td>\n",
       "      <td>1</td>\n",
       "      <td>3</td>\n",
       "      <td>7</td>\n",
       "      <td>5</td>\n",
       "      <td>MC</td>\n",
       "      <td>...</td>\n",
       "      <td>1</td>\n",
       "      <td>0</td>\n",
       "      <td>4</td>\n",
       "      <td>120</td>\n",
       "      <td>72</td>\n",
       "      <td>365</td>\n",
       "      <td>1752</td>\n",
       "      <td>216</td>\n",
       "      <td>45</td>\n",
       "      <td>1</td>\n",
       "    </tr>\n",
       "    <tr>\n",
       "      <th>30528</th>\n",
       "      <td>204193212</td>\n",
       "      <td>87646410</td>\n",
       "      <td>Caucasian</td>\n",
       "      <td>Female</td>\n",
       "      <td>[80-90)</td>\n",
       "      <td>1</td>\n",
       "      <td>3</td>\n",
       "      <td>7</td>\n",
       "      <td>2</td>\n",
       "      <td>MC</td>\n",
       "      <td>...</td>\n",
       "      <td>0</td>\n",
       "      <td>0</td>\n",
       "      <td>4</td>\n",
       "      <td>26</td>\n",
       "      <td>0</td>\n",
       "      <td>126</td>\n",
       "      <td>819</td>\n",
       "      <td>117</td>\n",
       "      <td>18</td>\n",
       "      <td>1</td>\n",
       "    </tr>\n",
       "    <tr>\n",
       "      <th>30529</th>\n",
       "      <td>288766194</td>\n",
       "      <td>45794169</td>\n",
       "      <td>Caucasian</td>\n",
       "      <td>Male</td>\n",
       "      <td>[70-80)</td>\n",
       "      <td>1</td>\n",
       "      <td>1</td>\n",
       "      <td>7</td>\n",
       "      <td>6</td>\n",
       "      <td>MC</td>\n",
       "      <td>...</td>\n",
       "      <td>0</td>\n",
       "      <td>0</td>\n",
       "      <td>2</td>\n",
       "      <td>144</td>\n",
       "      <td>144</td>\n",
       "      <td>318</td>\n",
       "      <td>1272</td>\n",
       "      <td>216</td>\n",
       "      <td>54</td>\n",
       "      <td>0</td>\n",
       "    </tr>\n",
       "  </tbody>\n",
       "</table>\n",
       "<p>30530 rows × 34 columns</p>\n",
       "</div>"
      ],
      "text/plain": [
       "          enc_id  patient_id             race  gender      age  \\\n",
       "0       86305392    23846112        Caucasian    Male  [40-50)   \n",
       "1      394919696    90620001        Caucasian    Male  [80-90)   \n",
       "2      164917446    25342173  AfricanAmerican  Female  [60-70)   \n",
       "3      178319040    23481783  AfricanAmerican  Female  [70-80)   \n",
       "4      253585416    86500791        Caucasian    Male  [70-80)   \n",
       "...          ...         ...              ...     ...      ...   \n",
       "30525  169542282    23401863  AfricanAmerican  Female  [70-80)   \n",
       "30526   37906254    12267054        Caucasian    Male  [50-60)   \n",
       "30527  242799822    98403552        Caucasian  Female  [70-80)   \n",
       "30528  204193212    87646410        Caucasian  Female  [80-90)   \n",
       "30529  288766194    45794169        Caucasian    Male  [70-80)   \n",
       "\n",
       "       admission_type_id  discharge_disposition_id  admission_source_id  \\\n",
       "0                      5                         5                   17   \n",
       "1                      2                         3                    7   \n",
       "2                      3                         1                    1   \n",
       "3                      1                         3                    7   \n",
       "4                      1                         6                    7   \n",
       "...                  ...                       ...                  ...   \n",
       "30525                  1                         6                    7   \n",
       "30526                  3                        18                    4   \n",
       "30527                  1                         3                    7   \n",
       "30528                  1                         3                    7   \n",
       "30529                  1                         1                    7   \n",
       "\n",
       "       time_in_hospital payer_code  ...  number_of_up  number_of_down  \\\n",
       "0                    12         MC  ...             0               0   \n",
       "1                     3         MC  ...             0               1   \n",
       "2                     8         HM  ...             0               1   \n",
       "3                    10      Other  ...             1               0   \n",
       "4                     5         HM  ...             0               0   \n",
       "...                 ...        ...  ...           ...             ...   \n",
       "30525                 2         MC  ...             0               0   \n",
       "30526                 2      Other  ...             0               0   \n",
       "30527                 5         MC  ...             1               0   \n",
       "30528                 2         MC  ...             0               0   \n",
       "30529                 6         MC  ...             0               0   \n",
       "\n",
       "       new_patient_id  num_medications|time_in_hospital  \\\n",
       "0                   7                               348   \n",
       "1                   1                                72   \n",
       "2                   3                               184   \n",
       "3                  12                               380   \n",
       "4                   4                                80   \n",
       "...               ...                               ...   \n",
       "30525               3                                38   \n",
       "30526               1                                20   \n",
       "30527               4                               120   \n",
       "30528               4                                26   \n",
       "30529               2                               144   \n",
       "\n",
       "       num_medications|num_procedures  time_in_hospital|num_lab_procedures  \\\n",
       "0                                  87                                  300   \n",
       "1                                   0                                  177   \n",
       "2                                   0                                  376   \n",
       "3                                 228                                  460   \n",
       "4                                  16                                  320   \n",
       "...                               ...                                  ...   \n",
       "30525                               0                                   88   \n",
       "30526                              30                                   38   \n",
       "30527                              72                                  365   \n",
       "30528                               0                                  126   \n",
       "30529                             144                                  318   \n",
       "\n",
       "       num_medications|num_lab_procedures num_medications|number_diagnoses  \\\n",
       "0                                     725                              261   \n",
       "1                                    1416                              216   \n",
       "2                                    1081                              207   \n",
       "3                                    1748                              342   \n",
       "4                                    1024                              144   \n",
       "...                                   ...                              ...   \n",
       "30525                                 836                               95   \n",
       "30526                                 190                               80   \n",
       "30527                                1752                              216   \n",
       "30528                                 819                              117   \n",
       "30529                                1272                              216   \n",
       "\n",
       "      number_diagnoses|time_in_hospital service_utilization  \n",
       "0                                   108                   4  \n",
       "1                                    27                   1  \n",
       "2                                    72                   0  \n",
       "3                                    90                   9  \n",
       "4                                    45                   1  \n",
       "...                                 ...                 ...  \n",
       "30525                                10                   2  \n",
       "30526                                16                   0  \n",
       "30527                                45                   1  \n",
       "30528                                18                   1  \n",
       "30529                                54                   0  \n",
       "\n",
       "[30530 rows x 34 columns]"
      ]
     },
     "execution_count": 24,
     "metadata": {},
     "output_type": "execute_result"
    }
   ],
   "source": [
    "test_data"
   ]
  },
  {
   "cell_type": "code",
   "execution_count": 25,
   "metadata": {},
   "outputs": [],
   "source": [
    "X_test = preprocessor.transform(test_data)\n",
    "X_test_df = pd.DataFrame(X_test)\n",
    "x = X_test_df[feature_names]"
   ]
  },
  {
   "cell_type": "code",
   "execution_count": 26,
   "metadata": {},
   "outputs": [
    {
     "data": {
      "text/plain": [
       "(30530, 24)"
      ]
     },
     "execution_count": 26,
     "metadata": {},
     "output_type": "execute_result"
    }
   ],
   "source": [
    "x.shape"
   ]
  },
  {
   "cell_type": "code",
   "execution_count": 27,
   "metadata": {},
   "outputs": [
    {
     "data": {
      "text/html": [
       "<div>\n",
       "<style scoped>\n",
       "    .dataframe tbody tr th:only-of-type {\n",
       "        vertical-align: middle;\n",
       "    }\n",
       "\n",
       "    .dataframe tbody tr th {\n",
       "        vertical-align: top;\n",
       "    }\n",
       "\n",
       "    .dataframe thead th {\n",
       "        text-align: right;\n",
       "    }\n",
       "</style>\n",
       "<table border=\"1\" class=\"dataframe\">\n",
       "  <thead>\n",
       "    <tr style=\"text-align: right;\">\n",
       "      <th></th>\n",
       "      <th>18</th>\n",
       "      <th>0</th>\n",
       "      <th>1</th>\n",
       "      <th>22</th>\n",
       "      <th>21</th>\n",
       "      <th>6</th>\n",
       "      <th>19</th>\n",
       "      <th>23</th>\n",
       "      <th>8</th>\n",
       "      <th>24</th>\n",
       "      <th>...</th>\n",
       "      <th>5</th>\n",
       "      <th>12</th>\n",
       "      <th>7</th>\n",
       "      <th>2</th>\n",
       "      <th>15</th>\n",
       "      <th>4</th>\n",
       "      <th>14</th>\n",
       "      <th>9</th>\n",
       "      <th>10</th>\n",
       "      <th>31</th>\n",
       "    </tr>\n",
       "  </thead>\n",
       "  <tbody>\n",
       "    <tr>\n",
       "      <th>0</th>\n",
       "      <td>1.937071</td>\n",
       "      <td>-0.766208</td>\n",
       "      <td>-0.782838</td>\n",
       "      <td>-0.014830</td>\n",
       "      <td>0.461962</td>\n",
       "      <td>-0.920799</td>\n",
       "      <td>2.962042</td>\n",
       "      <td>1.823948</td>\n",
       "      <td>1.592330</td>\n",
       "      <td>2.817821</td>\n",
       "      <td>...</td>\n",
       "      <td>2.545438</td>\n",
       "      <td>0.822113</td>\n",
       "      <td>0.966230</td>\n",
       "      <td>2.072167</td>\n",
       "      <td>0.115235</td>\n",
       "      <td>2.778822</td>\n",
       "      <td>0.197470</td>\n",
       "      <td>-0.290078</td>\n",
       "      <td>-0.224091</td>\n",
       "      <td>0.0</td>\n",
       "    </tr>\n",
       "    <tr>\n",
       "      <th>1</th>\n",
       "      <td>-0.514565</td>\n",
       "      <td>2.234808</td>\n",
       "      <td>0.944860</td>\n",
       "      <td>1.157631</td>\n",
       "      <td>-0.157606</td>\n",
       "      <td>0.808546</td>\n",
       "      <td>-0.109477</td>\n",
       "      <td>1.229489</td>\n",
       "      <td>0.978880</td>\n",
       "      <td>-0.261424</td>\n",
       "      <td>...</td>\n",
       "      <td>-0.468046</td>\n",
       "      <td>0.822113</td>\n",
       "      <td>-0.787646</td>\n",
       "      <td>-0.012805</td>\n",
       "      <td>-0.996497</td>\n",
       "      <td>0.311194</td>\n",
       "      <td>0.197470</td>\n",
       "      <td>-0.290078</td>\n",
       "      <td>0.907444</td>\n",
       "      <td>0.0</td>\n",
       "    </tr>\n",
       "    <tr>\n",
       "      <th>2</th>\n",
       "      <td>0.302647</td>\n",
       "      <td>-0.001771</td>\n",
       "      <td>-0.744130</td>\n",
       "      <td>0.589217</td>\n",
       "      <td>0.844784</td>\n",
       "      <td>0.198189</td>\n",
       "      <td>1.136936</td>\n",
       "      <td>1.110597</td>\n",
       "      <td>0.856190</td>\n",
       "      <td>1.449268</td>\n",
       "      <td>...</td>\n",
       "      <td>1.206111</td>\n",
       "      <td>0.822113</td>\n",
       "      <td>-0.787646</td>\n",
       "      <td>0.682185</td>\n",
       "      <td>-0.996497</td>\n",
       "      <td>-1.169382</td>\n",
       "      <td>0.197470</td>\n",
       "      <td>-0.290078</td>\n",
       "      <td>-0.224091</td>\n",
       "      <td>1.0</td>\n",
       "    </tr>\n",
       "    <tr>\n",
       "      <th>3</th>\n",
       "      <td>3.980100</td>\n",
       "      <td>0.128548</td>\n",
       "      <td>-0.792265</td>\n",
       "      <td>1.720955</td>\n",
       "      <td>1.267904</td>\n",
       "      <td>0.147326</td>\n",
       "      <td>3.318160</td>\n",
       "      <td>2.893976</td>\n",
       "      <td>2.696542</td>\n",
       "      <td>2.133544</td>\n",
       "      <td>...</td>\n",
       "      <td>1.875775</td>\n",
       "      <td>0.822113</td>\n",
       "      <td>2.720106</td>\n",
       "      <td>-0.707796</td>\n",
       "      <td>0.115235</td>\n",
       "      <td>0.311194</td>\n",
       "      <td>-0.887513</td>\n",
       "      <td>-0.290078</td>\n",
       "      <td>2.038980</td>\n",
       "      <td>1.0</td>\n",
       "    </tr>\n",
       "    <tr>\n",
       "      <th>4</th>\n",
       "      <td>0.711253</td>\n",
       "      <td>0.860450</td>\n",
       "      <td>0.838281</td>\n",
       "      <td>0.492501</td>\n",
       "      <td>0.562705</td>\n",
       "      <td>1.062861</td>\n",
       "      <td>-0.020448</td>\n",
       "      <td>0.278353</td>\n",
       "      <td>-0.002642</td>\n",
       "      <td>0.422853</td>\n",
       "      <td>...</td>\n",
       "      <td>0.201617</td>\n",
       "      <td>0.822113</td>\n",
       "      <td>-0.203021</td>\n",
       "      <td>-0.707796</td>\n",
       "      <td>-0.996497</td>\n",
       "      <td>0.311194</td>\n",
       "      <td>1.282454</td>\n",
       "      <td>-0.290078</td>\n",
       "      <td>-0.224091</td>\n",
       "      <td>0.0</td>\n",
       "    </tr>\n",
       "  </tbody>\n",
       "</table>\n",
       "<p>5 rows × 24 columns</p>\n",
       "</div>"
      ],
      "text/plain": [
       "         18        0         1         22        21        6         19  \\\n",
       "0  1.937071 -0.766208 -0.782838 -0.014830  0.461962 -0.920799  2.962042   \n",
       "1 -0.514565  2.234808  0.944860  1.157631 -0.157606  0.808546 -0.109477   \n",
       "2  0.302647 -0.001771 -0.744130  0.589217  0.844784  0.198189  1.136936   \n",
       "3  3.980100  0.128548 -0.792265  1.720955  1.267904  0.147326  3.318160   \n",
       "4  0.711253  0.860450  0.838281  0.492501  0.562705  1.062861 -0.020448   \n",
       "\n",
       "         23        8         24  ...        5         12        7         2   \\\n",
       "0  1.823948  1.592330  2.817821  ...  2.545438  0.822113  0.966230  2.072167   \n",
       "1  1.229489  0.978880 -0.261424  ... -0.468046  0.822113 -0.787646 -0.012805   \n",
       "2  1.110597  0.856190  1.449268  ...  1.206111  0.822113 -0.787646  0.682185   \n",
       "3  2.893976  2.696542  2.133544  ...  1.875775  0.822113  2.720106 -0.707796   \n",
       "4  0.278353 -0.002642  0.422853  ...  0.201617  0.822113 -0.203021 -0.707796   \n",
       "\n",
       "         15        4         14        9         10   31  \n",
       "0  0.115235  2.778822  0.197470 -0.290078 -0.224091  0.0  \n",
       "1 -0.996497  0.311194  0.197470 -0.290078  0.907444  0.0  \n",
       "2 -0.996497 -1.169382  0.197470 -0.290078 -0.224091  1.0  \n",
       "3  0.115235  0.311194 -0.887513 -0.290078  2.038980  1.0  \n",
       "4 -0.996497  0.311194  1.282454 -0.290078 -0.224091  0.0  \n",
       "\n",
       "[5 rows x 24 columns]"
      ]
     },
     "execution_count": 27,
     "metadata": {},
     "output_type": "execute_result"
    }
   ],
   "source": [
    "x.head()"
   ]
  },
  {
   "cell_type": "code",
   "execution_count": 28,
   "metadata": {},
   "outputs": [],
   "source": [
    "# makes a submission file; input -> transfromed test data\n",
    "def submit(df, model=model):\n",
    "    output = model(torch.from_numpy(df.to_numpy()).to(device))\n",
    "    output = nn.Softmax(dim=-1)(output)\n",
    "    preds = torch.argmax(output,dim=-1)\n",
    "\n",
    "    submission = pd.DataFrame({\"enc_id\":test_data[\"enc_id\"], \"readmission_id\": preds.cpu().numpy()})\n",
    "    submission.to_csv(\"./submission.csv\", index=False)\n",
    "\n",
    "# prints the predictions and their counts\n",
    "def print_pred_stats(df, model=model):\n",
    "    output = model(torch.from_numpy(df.to_numpy()).to(device))\n",
    "    output = nn.Softmax(dim=-1)(output)\n",
    "    preds = torch.argmax(output,dim=-1)\n",
    "    print(preds.cpu(), np.unique(preds.cpu(), return_counts=True))\n",
    "\n",
    "def get_train_stats(df, model=model):\n",
    "    output = model(torch.from_numpy(df.to_numpy()).to(device))\n",
    "    output = nn.Softmax(dim=-1)(output)\n",
    "    preds = torch.argmax(output,dim=-1)\n",
    "    print(accuracy_score(y_true=y_train.to_numpy(), y_pred=preds.cpu()))"
   ]
  },
  {
   "cell_type": "code",
   "execution_count": 29,
   "metadata": {},
   "outputs": [
    {
     "name": "stdout",
     "output_type": "stream",
     "text": [
      "tensor([1, 2, 1,  ..., 1, 1, 1]) (array([0, 1, 2], dtype=int64), array([   93, 11219, 19218], dtype=int64))\n"
     ]
    }
   ],
   "source": [
    "print_pred_stats(x)\n",
    "submit(x) "
   ]
  },
  {
   "cell_type": "markdown",
   "metadata": {},
   "source": [
    "### Hyperparameter Tuning"
   ]
  },
  {
   "cell_type": "code",
   "execution_count": 70,
   "metadata": {},
   "outputs": [],
   "source": [
    "def task(trial):\n",
    "    in_dim = X.shape[1]\n",
    "    num_layers = trial.suggest_int('num_layers', 1, 3)  # Number of layers to optimize\n",
    "    layer_units = [in_dim] + [trial.suggest_int(f'layer_units_{i}', in_dim // 2**(i+1), in_dim // 2**i) for i in range(num_layers)]\n",
    "    dropout = trial.suggest_float('dropout', 0.2, 0.5)\n",
    "    lr = trial.suggest_float('lr', 1e-5, 1e-2, log=True)\n",
    "    n_epochs = 25\n",
    "    train_model(\n",
    "        model=model,            # global variable model used\n",
    "        train_dataloader=train_dataloader,\n",
    "        test_dataloader=test_dataloader,\n",
    "        optimiser=optimiser,    # global optimiser used\n",
    "        verbose=False\n",
    "    )\n",
    "\n",
    "    acc, _ = validate(model=model)\n",
    "    return acc"
   ]
  },
  {
   "cell_type": "code",
   "execution_count": 71,
   "metadata": {},
   "outputs": [
    {
     "name": "stderr",
     "output_type": "stream",
     "text": [
      "[I 2023-12-17 13:57:20,535] A new study created in memory with name: no-name-1993866f-e3bb-43d3-9633-67992ffb371a\n",
      "C:\\Users\\patel\\AppData\\Local\\Temp\\ipykernel_73972\\2609389762.py:3: FutureWarning: suggest_int() got {'step'} as positional arguments but they were expected to be given as keyword arguments.\n",
      "  num_layers = trial.suggest_int('num_layers', 1, 2, 3)  # Number of layers to optimize\n",
      "C:\\Users\\patel\\AppData\\Roaming\\Python\\Python311\\site-packages\\optuna\\distributions.py:700: UserWarning: The distribution is specified by [1, 2] and step=3, but the range is not divisible by `step`. It will be replaced by [1, 1].\n",
      "  warnings.warn(\n"
     ]
    },
    {
     "name": "stdout",
     "output_type": "stream",
     "text": [
      "========= EPOCH 1 STARTED =========\n"
     ]
    },
    {
     "name": "stderr",
     "output_type": "stream",
     "text": [
      "100%|██████████| 891/891 [00:02<00:00, 420.66it/s]\n"
     ]
    },
    {
     "name": "stdout",
     "output_type": "stream",
     "text": [
      "========= TEST EVALUATION STARTED =========\n",
      "END OF 1 EPOCH\n",
      "| Time taken:   2.134 |\n",
      "| Test acc:  0.72179  | Test f1:  0.51447  |\n",
      "========= EPOCH 2 STARTED =========\n"
     ]
    },
    {
     "name": "stderr",
     "output_type": "stream",
     "text": [
      "100%|██████████| 891/891 [00:02<00:00, 410.53it/s]\n"
     ]
    },
    {
     "name": "stdout",
     "output_type": "stream",
     "text": [
      "========= TEST EVALUATION STARTED =========\n",
      "END OF 2 EPOCH\n",
      "| Time taken:   2.185 |\n",
      "| Test acc:  0.72193  | Test f1:  0.51244  |\n",
      "========= EPOCH 3 STARTED =========\n"
     ]
    },
    {
     "name": "stderr",
     "output_type": "stream",
     "text": [
      "100%|██████████| 891/891 [00:02<00:00, 400.22it/s]\n"
     ]
    },
    {
     "name": "stdout",
     "output_type": "stream",
     "text": [
      "========= TEST EVALUATION STARTED =========\n",
      "END OF 3 EPOCH\n",
      "| Time taken:   2.237 |\n",
      "| Test acc:  0.72333  | Test f1:  0.51591  |\n",
      "========= EPOCH 4 STARTED =========\n"
     ]
    },
    {
     "name": "stderr",
     "output_type": "stream",
     "text": [
      "100%|██████████| 891/891 [00:02<00:00, 409.94it/s]\n"
     ]
    },
    {
     "name": "stdout",
     "output_type": "stream",
     "text": [
      "========= TEST EVALUATION STARTED =========\n",
      "END OF 4 EPOCH\n",
      "| Time taken:   2.187 |\n",
      "| Test acc:  0.72101  | Test f1:  0.51321  |\n",
      "========= EPOCH 5 STARTED =========\n"
     ]
    },
    {
     "name": "stderr",
     "output_type": "stream",
     "text": [
      "100%|██████████| 891/891 [00:02<00:00, 405.98it/s]\n"
     ]
    },
    {
     "name": "stdout",
     "output_type": "stream",
     "text": [
      "========= TEST EVALUATION STARTED =========\n",
      "END OF 5 EPOCH\n",
      "| Time taken:   2.201 |\n",
      "| Test acc:  0.72143  | Test f1:  0.51155  |\n",
      "========= EPOCH 6 STARTED =========\n"
     ]
    },
    {
     "name": "stderr",
     "output_type": "stream",
     "text": [
      "100%|██████████| 891/891 [00:02<00:00, 416.17it/s]\n"
     ]
    },
    {
     "name": "stdout",
     "output_type": "stream",
     "text": [
      "========= TEST EVALUATION STARTED =========\n",
      "END OF 6 EPOCH\n",
      "| Time taken:   2.159 |\n",
      "| Test acc:  0.72094  | Test f1:  0.51173  |\n",
      "========= EPOCH 7 STARTED =========\n"
     ]
    },
    {
     "name": "stderr",
     "output_type": "stream",
     "text": [
      "100%|██████████| 891/891 [00:02<00:00, 402.25it/s]\n"
     ]
    },
    {
     "name": "stdout",
     "output_type": "stream",
     "text": [
      "========= TEST EVALUATION STARTED =========\n",
      "END OF 7 EPOCH\n",
      "| Time taken:   2.226 |\n",
      "| Test acc:  0.72193  | Test f1:  0.51494  |\n",
      "========= EPOCH 8 STARTED =========\n"
     ]
    },
    {
     "name": "stderr",
     "output_type": "stream",
     "text": [
      "100%|██████████| 891/891 [00:02<00:00, 404.75it/s]\n"
     ]
    },
    {
     "name": "stdout",
     "output_type": "stream",
     "text": [
      "========= TEST EVALUATION STARTED =========\n",
      "END OF 8 EPOCH\n",
      "| Time taken:   2.218 |\n",
      "| Test acc:  0.72101  | Test f1:  0.51464  |\n",
      "========= EPOCH 9 STARTED =========\n"
     ]
    },
    {
     "name": "stderr",
     "output_type": "stream",
     "text": [
      "100%|██████████| 891/891 [00:02<00:00, 414.11it/s]\n"
     ]
    },
    {
     "name": "stdout",
     "output_type": "stream",
     "text": [
      "========= TEST EVALUATION STARTED =========\n",
      "END OF 9 EPOCH\n",
      "| Time taken:   2.167 |\n",
      "| Test acc:  0.72108  | Test f1:  0.51339  |\n",
      "========= EPOCH 10 STARTED =========\n"
     ]
    },
    {
     "name": "stderr",
     "output_type": "stream",
     "text": [
      "100%|██████████| 891/891 [00:02<00:00, 403.47it/s]\n"
     ]
    },
    {
     "name": "stdout",
     "output_type": "stream",
     "text": [
      "========= TEST EVALUATION STARTED =========\n",
      "END OF 10 EPOCH\n",
      "| Time taken:   2.220 |\n",
      "| Test acc:  0.72165  | Test f1:  0.51263  |\n",
      "========= EPOCH 11 STARTED =========\n"
     ]
    },
    {
     "name": "stderr",
     "output_type": "stream",
     "text": [
      "100%|██████████| 891/891 [00:02<00:00, 411.24it/s]\n"
     ]
    },
    {
     "name": "stdout",
     "output_type": "stream",
     "text": [
      "========= TEST EVALUATION STARTED =========\n",
      "END OF 11 EPOCH\n",
      "| Time taken:   2.176 |\n",
      "| Test acc:  0.72066  | Test f1:  0.51324  |\n",
      "========= EPOCH 12 STARTED =========\n"
     ]
    },
    {
     "name": "stderr",
     "output_type": "stream",
     "text": [
      "100%|██████████| 891/891 [00:02<00:00, 395.69it/s]\n"
     ]
    },
    {
     "name": "stdout",
     "output_type": "stream",
     "text": [
      "========= TEST EVALUATION STARTED =========\n",
      "END OF 12 EPOCH\n",
      "| Time taken:   2.269 |\n",
      "| Test acc:  0.72122  | Test f1:  0.51364  |\n",
      "========= EPOCH 13 STARTED =========\n"
     ]
    },
    {
     "name": "stderr",
     "output_type": "stream",
     "text": [
      "100%|██████████| 891/891 [00:02<00:00, 406.20it/s]\n"
     ]
    },
    {
     "name": "stdout",
     "output_type": "stream",
     "text": [
      "========= TEST EVALUATION STARTED =========\n",
      "END OF 13 EPOCH\n",
      "| Time taken:   2.205 |\n",
      "| Test acc:  0.72143  | Test f1:  0.51484  |\n",
      "========= EPOCH 14 STARTED =========\n"
     ]
    },
    {
     "name": "stderr",
     "output_type": "stream",
     "text": [
      "100%|██████████| 891/891 [00:02<00:00, 400.55it/s]\n"
     ]
    },
    {
     "name": "stdout",
     "output_type": "stream",
     "text": [
      "========= TEST EVALUATION STARTED =========\n",
      "END OF 14 EPOCH\n",
      "| Time taken:   2.233 |\n",
      "| Test acc:  0.72115  | Test f1:  0.51619  |\n",
      "========= EPOCH 15 STARTED =========\n"
     ]
    },
    {
     "name": "stderr",
     "output_type": "stream",
     "text": [
      "100%|██████████| 891/891 [00:02<00:00, 411.03it/s]\n"
     ]
    },
    {
     "name": "stdout",
     "output_type": "stream",
     "text": [
      "========= TEST EVALUATION STARTED =========\n",
      "END OF 15 EPOCH\n",
      "| Time taken:   2.181 |\n",
      "| Test acc:  0.72094  | Test f1:  0.51464  |\n",
      "========= EPOCH 16 STARTED =========\n"
     ]
    },
    {
     "name": "stderr",
     "output_type": "stream",
     "text": [
      "100%|██████████| 891/891 [00:02<00:00, 404.17it/s]\n"
     ]
    },
    {
     "name": "stdout",
     "output_type": "stream",
     "text": [
      "========= TEST EVALUATION STARTED =========\n",
      "END OF 16 EPOCH\n",
      "| Time taken:   2.220 |\n",
      "| Test acc:  0.72080  | Test f1:  0.51529  |\n",
      "========= EPOCH 17 STARTED =========\n"
     ]
    },
    {
     "name": "stderr",
     "output_type": "stream",
     "text": [
      "100%|██████████| 891/891 [00:02<00:00, 409.94it/s]\n"
     ]
    },
    {
     "name": "stdout",
     "output_type": "stream",
     "text": [
      "========= TEST EVALUATION STARTED =========\n",
      "END OF 17 EPOCH\n",
      "| Time taken:   2.187 |\n",
      "| Test acc:  0.72059  | Test f1:  0.51416  |\n",
      "========= EPOCH 18 STARTED =========\n"
     ]
    },
    {
     "name": "stderr",
     "output_type": "stream",
     "text": [
      "100%|██████████| 891/891 [00:02<00:00, 429.75it/s]\n"
     ]
    },
    {
     "name": "stdout",
     "output_type": "stream",
     "text": [
      "========= TEST EVALUATION STARTED =========\n",
      "END OF 18 EPOCH\n",
      "| Time taken:   2.101 |\n",
      "| Test acc:  0.72066  | Test f1:  0.51236  |\n",
      "========= EPOCH 19 STARTED =========\n"
     ]
    },
    {
     "name": "stderr",
     "output_type": "stream",
     "text": [
      "100%|██████████| 891/891 [00:02<00:00, 407.78it/s]\n"
     ]
    },
    {
     "name": "stdout",
     "output_type": "stream",
     "text": [
      "========= TEST EVALUATION STARTED =========\n",
      "END OF 19 EPOCH\n",
      "| Time taken:   2.199 |\n",
      "| Test acc:  0.72052  | Test f1:  0.51266  |\n",
      "========= EPOCH 20 STARTED =========\n"
     ]
    },
    {
     "name": "stderr",
     "output_type": "stream",
     "text": [
      "100%|██████████| 891/891 [00:02<00:00, 409.96it/s]\n"
     ]
    },
    {
     "name": "stdout",
     "output_type": "stream",
     "text": [
      "========= TEST EVALUATION STARTED =========\n",
      "END OF 20 EPOCH\n",
      "| Time taken:   2.187 |\n",
      "| Test acc:  0.72136  | Test f1:  0.51522  |\n",
      "========= EPOCH 21 STARTED =========\n"
     ]
    },
    {
     "name": "stderr",
     "output_type": "stream",
     "text": [
      "100%|██████████| 891/891 [00:02<00:00, 407.22it/s]\n"
     ]
    },
    {
     "name": "stdout",
     "output_type": "stream",
     "text": [
      "========= TEST EVALUATION STARTED =========\n",
      "END OF 21 EPOCH\n",
      "| Time taken:   2.202 |\n",
      "| Test acc:  0.72179  | Test f1:  0.51521  |\n",
      "========= EPOCH 22 STARTED =========\n"
     ]
    },
    {
     "name": "stderr",
     "output_type": "stream",
     "text": [
      "100%|██████████| 891/891 [00:02<00:00, 410.40it/s]\n"
     ]
    },
    {
     "name": "stdout",
     "output_type": "stream",
     "text": [
      "========= TEST EVALUATION STARTED =========\n",
      "END OF 22 EPOCH\n",
      "| Time taken:   2.187 |\n",
      "| Test acc:  0.72150  | Test f1:  0.51521  |\n",
      "========= EPOCH 23 STARTED =========\n"
     ]
    },
    {
     "name": "stderr",
     "output_type": "stream",
     "text": [
      "100%|██████████| 891/891 [00:02<00:00, 404.58it/s]\n"
     ]
    },
    {
     "name": "stdout",
     "output_type": "stream",
     "text": [
      "========= TEST EVALUATION STARTED =========\n",
      "END OF 23 EPOCH\n",
      "| Time taken:   2.216 |\n",
      "| Test acc:  0.72115  | Test f1:  0.51343  |\n",
      "========= EPOCH 24 STARTED =========\n"
     ]
    },
    {
     "name": "stderr",
     "output_type": "stream",
     "text": [
      "100%|██████████| 891/891 [00:02<00:00, 411.68it/s]\n"
     ]
    },
    {
     "name": "stdout",
     "output_type": "stream",
     "text": [
      "========= TEST EVALUATION STARTED =========\n",
      "END OF 24 EPOCH\n",
      "| Time taken:   2.173 |\n",
      "| Test acc:  0.72038  | Test f1:  0.51031  |\n",
      "========= EPOCH 25 STARTED =========\n"
     ]
    },
    {
     "name": "stderr",
     "output_type": "stream",
     "text": [
      "100%|██████████| 891/891 [00:02<00:00, 408.27it/s]\n",
      "[I 2023-12-17 13:58:15,418] Trial 0 finished with value: 0.7212240314430095 and parameters: {'num_layers': 1, 'layer_units_0': 23, 'dropout': 0.3217362902301998, 'lr': 0.005751888876747987}. Best is trial 0 with value: 0.7212240314430095.\n",
      "C:\\Users\\patel\\AppData\\Local\\Temp\\ipykernel_73972\\2609389762.py:3: FutureWarning: suggest_int() got {'step'} as positional arguments but they were expected to be given as keyword arguments.\n",
      "  num_layers = trial.suggest_int('num_layers', 1, 2, 3)  # Number of layers to optimize\n",
      "C:\\Users\\patel\\AppData\\Roaming\\Python\\Python311\\site-packages\\optuna\\distributions.py:700: UserWarning: The distribution is specified by [1, 2] and step=3, but the range is not divisible by `step`. It will be replaced by [1, 1].\n",
      "  warnings.warn(\n"
     ]
    },
    {
     "name": "stdout",
     "output_type": "stream",
     "text": [
      "========= TEST EVALUATION STARTED =========\n",
      "END OF 25 EPOCH\n",
      "| Time taken:   2.200 |\n",
      "| Test acc:  0.72122  | Test f1:  0.51340  |\n",
      "========= EPOCH 1 STARTED =========\n"
     ]
    },
    {
     "name": "stderr",
     "output_type": "stream",
     "text": [
      "100%|██████████| 891/891 [00:02<00:00, 403.24it/s]\n"
     ]
    },
    {
     "name": "stdout",
     "output_type": "stream",
     "text": [
      "========= TEST EVALUATION STARTED =========\n",
      "END OF 1 EPOCH\n",
      "| Time taken:   2.222 |\n",
      "| Test acc:  0.72094  | Test f1:  0.51401  |\n",
      "========= EPOCH 2 STARTED =========\n"
     ]
    },
    {
     "name": "stderr",
     "output_type": "stream",
     "text": [
      "100%|██████████| 891/891 [00:02<00:00, 405.66it/s]\n"
     ]
    },
    {
     "name": "stdout",
     "output_type": "stream",
     "text": [
      "========= TEST EVALUATION STARTED =========\n",
      "END OF 2 EPOCH\n",
      "| Time taken:   2.206 |\n",
      "| Test acc:  0.72122  | Test f1:  0.51294  |\n",
      "========= EPOCH 3 STARTED =========\n"
     ]
    },
    {
     "name": "stderr",
     "output_type": "stream",
     "text": [
      "100%|██████████| 891/891 [00:02<00:00, 409.73it/s]\n"
     ]
    },
    {
     "name": "stdout",
     "output_type": "stream",
     "text": [
      "========= TEST EVALUATION STARTED =========\n",
      "END OF 3 EPOCH\n",
      "| Time taken:   2.188 |\n",
      "| Test acc:  0.72101  | Test f1:  0.51404  |\n",
      "========= EPOCH 4 STARTED =========\n"
     ]
    },
    {
     "name": "stderr",
     "output_type": "stream",
     "text": [
      "100%|██████████| 891/891 [00:02<00:00, 406.02it/s]\n"
     ]
    },
    {
     "name": "stdout",
     "output_type": "stream",
     "text": [
      "========= TEST EVALUATION STARTED =========\n",
      "END OF 4 EPOCH\n",
      "| Time taken:   2.206 |\n",
      "| Test acc:  0.72186  | Test f1:  0.51365  |\n",
      "========= EPOCH 5 STARTED =========\n"
     ]
    },
    {
     "name": "stderr",
     "output_type": "stream",
     "text": [
      "100%|██████████| 891/891 [00:02<00:00, 401.40it/s]\n"
     ]
    },
    {
     "name": "stdout",
     "output_type": "stream",
     "text": [
      "========= TEST EVALUATION STARTED =========\n",
      "END OF 5 EPOCH\n",
      "| Time taken:   2.229 |\n",
      "| Test acc:  0.72172  | Test f1:  0.51415  |\n",
      "========= EPOCH 6 STARTED =========\n"
     ]
    },
    {
     "name": "stderr",
     "output_type": "stream",
     "text": [
      "100%|██████████| 891/891 [00:02<00:00, 405.98it/s]\n"
     ]
    },
    {
     "name": "stdout",
     "output_type": "stream",
     "text": [
      "========= TEST EVALUATION STARTED =========\n",
      "END OF 6 EPOCH\n",
      "| Time taken:   2.210 |\n",
      "| Test acc:  0.72200  | Test f1:  0.51502  |\n",
      "========= EPOCH 7 STARTED =========\n"
     ]
    },
    {
     "name": "stderr",
     "output_type": "stream",
     "text": [
      "100%|██████████| 891/891 [00:02<00:00, 400.07it/s]\n"
     ]
    },
    {
     "name": "stdout",
     "output_type": "stream",
     "text": [
      "========= TEST EVALUATION STARTED =========\n",
      "END OF 7 EPOCH\n",
      "| Time taken:   2.242 |\n",
      "| Test acc:  0.72066  | Test f1:  0.51219  |\n",
      "========= EPOCH 8 STARTED =========\n"
     ]
    },
    {
     "name": "stderr",
     "output_type": "stream",
     "text": [
      "100%|██████████| 891/891 [00:02<00:00, 400.90it/s]\n"
     ]
    },
    {
     "name": "stdout",
     "output_type": "stream",
     "text": [
      "========= TEST EVALUATION STARTED =========\n",
      "END OF 8 EPOCH\n",
      "| Time taken:   2.235 |\n",
      "| Test acc:  0.72066  | Test f1:  0.51600  |\n",
      "========= EPOCH 9 STARTED =========\n"
     ]
    },
    {
     "name": "stderr",
     "output_type": "stream",
     "text": [
      "100%|██████████| 891/891 [00:02<00:00, 433.37it/s]\n"
     ]
    },
    {
     "name": "stdout",
     "output_type": "stream",
     "text": [
      "========= TEST EVALUATION STARTED =========\n",
      "END OF 9 EPOCH\n",
      "| Time taken:   2.069 |\n",
      "| Test acc:  0.72052  | Test f1:  0.51215  |\n",
      "========= EPOCH 10 STARTED =========\n"
     ]
    },
    {
     "name": "stderr",
     "output_type": "stream",
     "text": [
      "100%|██████████| 891/891 [00:02<00:00, 407.12it/s]\n"
     ]
    },
    {
     "name": "stdout",
     "output_type": "stream",
     "text": [
      "========= TEST EVALUATION STARTED =========\n",
      "END OF 10 EPOCH\n",
      "| Time taken:   2.205 |\n",
      "| Test acc:  0.72143  | Test f1:  0.51529  |\n",
      "========= EPOCH 11 STARTED =========\n"
     ]
    },
    {
     "name": "stderr",
     "output_type": "stream",
     "text": [
      "100%|██████████| 891/891 [00:02<00:00, 407.97it/s]\n"
     ]
    },
    {
     "name": "stdout",
     "output_type": "stream",
     "text": [
      "========= TEST EVALUATION STARTED =========\n",
      "END OF 11 EPOCH\n",
      "| Time taken:   2.200 |\n",
      "| Test acc:  0.72122  | Test f1:  0.51199  |\n",
      "========= EPOCH 12 STARTED =========\n"
     ]
    },
    {
     "name": "stderr",
     "output_type": "stream",
     "text": [
      "100%|██████████| 891/891 [00:02<00:00, 408.96it/s]\n"
     ]
    },
    {
     "name": "stdout",
     "output_type": "stream",
     "text": [
      "========= TEST EVALUATION STARTED =========\n",
      "END OF 12 EPOCH\n",
      "| Time taken:   2.186 |\n",
      "| Test acc:  0.72101  | Test f1:  0.51242  |\n",
      "========= EPOCH 13 STARTED =========\n"
     ]
    },
    {
     "name": "stderr",
     "output_type": "stream",
     "text": [
      "100%|██████████| 891/891 [00:02<00:00, 406.21it/s]\n"
     ]
    },
    {
     "name": "stdout",
     "output_type": "stream",
     "text": [
      "========= TEST EVALUATION STARTED =========\n",
      "END OF 13 EPOCH\n",
      "| Time taken:   2.210 |\n",
      "| Test acc:  0.72059  | Test f1:  0.51364  |\n",
      "========= EPOCH 14 STARTED =========\n"
     ]
    },
    {
     "name": "stderr",
     "output_type": "stream",
     "text": [
      "100%|██████████| 891/891 [00:02<00:00, 399.38it/s]\n"
     ]
    },
    {
     "name": "stdout",
     "output_type": "stream",
     "text": [
      "========= TEST EVALUATION STARTED =========\n",
      "END OF 14 EPOCH\n",
      "| Time taken:   2.248 |\n",
      "| Test acc:  0.72101  | Test f1:  0.51391  |\n",
      "========= EPOCH 15 STARTED =========\n"
     ]
    },
    {
     "name": "stderr",
     "output_type": "stream",
     "text": [
      "100%|██████████| 891/891 [00:02<00:00, 402.19it/s]\n"
     ]
    },
    {
     "name": "stdout",
     "output_type": "stream",
     "text": [
      "========= TEST EVALUATION STARTED =========\n",
      "END OF 15 EPOCH\n",
      "| Time taken:   2.223 |\n",
      "| Test acc:  0.72087  | Test f1:  0.51448  |\n",
      "========= EPOCH 16 STARTED =========\n"
     ]
    },
    {
     "name": "stderr",
     "output_type": "stream",
     "text": [
      "100%|██████████| 891/891 [00:02<00:00, 399.56it/s]\n"
     ]
    },
    {
     "name": "stdout",
     "output_type": "stream",
     "text": [
      "========= TEST EVALUATION STARTED =========\n",
      "END OF 16 EPOCH\n",
      "| Time taken:   2.250 |\n",
      "| Test acc:  0.72122  | Test f1:  0.51385  |\n",
      "========= EPOCH 17 STARTED =========\n"
     ]
    },
    {
     "name": "stderr",
     "output_type": "stream",
     "text": [
      "100%|██████████| 891/891 [00:02<00:00, 411.32it/s]\n"
     ]
    },
    {
     "name": "stdout",
     "output_type": "stream",
     "text": [
      "========= TEST EVALUATION STARTED =========\n",
      "END OF 17 EPOCH\n",
      "| Time taken:   2.173 |\n",
      "| Test acc:  0.72108  | Test f1:  0.51408  |\n",
      "========= EPOCH 18 STARTED =========\n"
     ]
    },
    {
     "name": "stderr",
     "output_type": "stream",
     "text": [
      "100%|██████████| 891/891 [00:02<00:00, 401.46it/s]\n"
     ]
    },
    {
     "name": "stdout",
     "output_type": "stream",
     "text": [
      "========= TEST EVALUATION STARTED =========\n",
      "END OF 18 EPOCH\n",
      "| Time taken:   2.236 |\n",
      "| Test acc:  0.72129  | Test f1:  0.51232  |\n",
      "========= EPOCH 19 STARTED =========\n"
     ]
    },
    {
     "name": "stderr",
     "output_type": "stream",
     "text": [
      "100%|██████████| 891/891 [00:02<00:00, 405.87it/s]\n"
     ]
    },
    {
     "name": "stdout",
     "output_type": "stream",
     "text": [
      "========= TEST EVALUATION STARTED =========\n",
      "END OF 19 EPOCH\n",
      "| Time taken:   2.206 |\n",
      "| Test acc:  0.72087  | Test f1:  0.51304  |\n",
      "========= EPOCH 20 STARTED =========\n"
     ]
    },
    {
     "name": "stderr",
     "output_type": "stream",
     "text": [
      "100%|██████████| 891/891 [00:02<00:00, 402.26it/s]\n"
     ]
    },
    {
     "name": "stdout",
     "output_type": "stream",
     "text": [
      "========= TEST EVALUATION STARTED =========\n",
      "END OF 20 EPOCH\n",
      "| Time taken:   2.225 |\n",
      "| Test acc:  0.72136  | Test f1:  0.51286  |\n",
      "========= EPOCH 21 STARTED =========\n"
     ]
    },
    {
     "name": "stderr",
     "output_type": "stream",
     "text": [
      "100%|██████████| 891/891 [00:02<00:00, 400.04it/s]\n"
     ]
    },
    {
     "name": "stdout",
     "output_type": "stream",
     "text": [
      "========= TEST EVALUATION STARTED =========\n",
      "END OF 21 EPOCH\n",
      "| Time taken:   2.236 |\n",
      "| Test acc:  0.72052  | Test f1:  0.51557  |\n",
      "========= EPOCH 22 STARTED =========\n"
     ]
    },
    {
     "name": "stderr",
     "output_type": "stream",
     "text": [
      "100%|██████████| 891/891 [00:02<00:00, 403.17it/s]\n"
     ]
    },
    {
     "name": "stdout",
     "output_type": "stream",
     "text": [
      "========= TEST EVALUATION STARTED =========\n",
      "END OF 22 EPOCH\n",
      "| Time taken:   2.221 |\n",
      "| Test acc:  0.71996  | Test f1:  0.51363  |\n",
      "========= EPOCH 23 STARTED =========\n"
     ]
    },
    {
     "name": "stderr",
     "output_type": "stream",
     "text": [
      "100%|██████████| 891/891 [00:02<00:00, 405.58it/s]\n"
     ]
    },
    {
     "name": "stdout",
     "output_type": "stream",
     "text": [
      "========= TEST EVALUATION STARTED =========\n",
      "END OF 23 EPOCH\n",
      "| Time taken:   2.210 |\n",
      "| Test acc:  0.72115  | Test f1:  0.51378  |\n",
      "========= EPOCH 24 STARTED =========\n"
     ]
    },
    {
     "name": "stderr",
     "output_type": "stream",
     "text": [
      "100%|██████████| 891/891 [00:02<00:00, 438.56it/s]\n"
     ]
    },
    {
     "name": "stdout",
     "output_type": "stream",
     "text": [
      "========= TEST EVALUATION STARTED =========\n",
      "END OF 24 EPOCH\n",
      "| Time taken:   2.034 |\n",
      "| Test acc:  0.71947  | Test f1:  0.51440  |\n",
      "========= EPOCH 25 STARTED =========\n"
     ]
    },
    {
     "name": "stderr",
     "output_type": "stream",
     "text": [
      "100%|██████████| 891/891 [00:02<00:00, 435.44it/s]\n",
      "[I 2023-12-17 13:59:10,380] Trial 1 finished with value: 0.7203818079730488 and parameters: {'num_layers': 1, 'layer_units_0': 32, 'dropout': 0.20493650775111336, 'lr': 0.00637711476741722}. Best is trial 0 with value: 0.7212240314430095.\n",
      "C:\\Users\\patel\\AppData\\Local\\Temp\\ipykernel_73972\\2609389762.py:3: FutureWarning: suggest_int() got {'step'} as positional arguments but they were expected to be given as keyword arguments.\n",
      "  num_layers = trial.suggest_int('num_layers', 1, 2, 3)  # Number of layers to optimize\n",
      "C:\\Users\\patel\\AppData\\Roaming\\Python\\Python311\\site-packages\\optuna\\distributions.py:700: UserWarning: The distribution is specified by [1, 2] and step=3, but the range is not divisible by `step`. It will be replaced by [1, 1].\n",
      "  warnings.warn(\n"
     ]
    },
    {
     "name": "stdout",
     "output_type": "stream",
     "text": [
      "========= TEST EVALUATION STARTED =========\n",
      "END OF 25 EPOCH\n",
      "| Time taken:   2.077 |\n",
      "| Test acc:  0.72038  | Test f1:  0.51326  |\n",
      "========= EPOCH 1 STARTED =========\n"
     ]
    },
    {
     "name": "stderr",
     "output_type": "stream",
     "text": [
      "100%|██████████| 891/891 [00:02<00:00, 433.66it/s]\n"
     ]
    },
    {
     "name": "stdout",
     "output_type": "stream",
     "text": [
      "========= TEST EVALUATION STARTED =========\n",
      "END OF 1 EPOCH\n",
      "| Time taken:   2.071 |\n",
      "| Test acc:  0.72080  | Test f1:  0.51206  |\n",
      "========= EPOCH 2 STARTED =========\n"
     ]
    },
    {
     "name": "stderr",
     "output_type": "stream",
     "text": [
      "100%|██████████| 891/891 [00:02<00:00, 433.48it/s]\n"
     ]
    },
    {
     "name": "stdout",
     "output_type": "stream",
     "text": [
      "========= TEST EVALUATION STARTED =========\n",
      "END OF 2 EPOCH\n",
      "| Time taken:   2.071 |\n",
      "| Test acc:  0.71982  | Test f1:  0.51427  |\n",
      "========= EPOCH 3 STARTED =========\n"
     ]
    },
    {
     "name": "stderr",
     "output_type": "stream",
     "text": [
      "100%|██████████| 891/891 [00:02<00:00, 386.52it/s]\n"
     ]
    },
    {
     "name": "stdout",
     "output_type": "stream",
     "text": [
      "========= TEST EVALUATION STARTED =========\n",
      "END OF 3 EPOCH\n",
      "| Time taken:   2.315 |\n",
      "| Test acc:  0.72087  | Test f1:  0.51289  |\n",
      "========= EPOCH 4 STARTED =========\n"
     ]
    },
    {
     "name": "stderr",
     "output_type": "stream",
     "text": [
      "100%|██████████| 891/891 [00:02<00:00, 390.19it/s]\n"
     ]
    },
    {
     "name": "stdout",
     "output_type": "stream",
     "text": [
      "========= TEST EVALUATION STARTED =========\n",
      "END OF 4 EPOCH\n",
      "| Time taken:   2.294 |\n",
      "| Test acc:  0.72150  | Test f1:  0.51250  |\n",
      "========= EPOCH 5 STARTED =========\n"
     ]
    },
    {
     "name": "stderr",
     "output_type": "stream",
     "text": [
      "100%|██████████| 891/891 [00:02<00:00, 413.46it/s]\n"
     ]
    },
    {
     "name": "stdout",
     "output_type": "stream",
     "text": [
      "========= TEST EVALUATION STARTED =========\n",
      "END OF 5 EPOCH\n",
      "| Time taken:   2.172 |\n",
      "| Test acc:  0.72214  | Test f1:  0.51353  |\n",
      "========= EPOCH 6 STARTED =========\n"
     ]
    },
    {
     "name": "stderr",
     "output_type": "stream",
     "text": [
      "100%|██████████| 891/891 [00:02<00:00, 403.61it/s]\n"
     ]
    },
    {
     "name": "stdout",
     "output_type": "stream",
     "text": [
      "========= TEST EVALUATION STARTED =========\n",
      "END OF 6 EPOCH\n",
      "| Time taken:   2.220 |\n",
      "| Test acc:  0.72045  | Test f1:  0.51345  |\n",
      "========= EPOCH 7 STARTED =========\n"
     ]
    },
    {
     "name": "stderr",
     "output_type": "stream",
     "text": [
      "100%|██████████| 891/891 [00:02<00:00, 400.88it/s]\n"
     ]
    },
    {
     "name": "stdout",
     "output_type": "stream",
     "text": [
      "========= TEST EVALUATION STARTED =========\n",
      "END OF 7 EPOCH\n",
      "| Time taken:   2.232 |\n",
      "| Test acc:  0.72179  | Test f1:  0.51464  |\n",
      "========= EPOCH 8 STARTED =========\n"
     ]
    },
    {
     "name": "stderr",
     "output_type": "stream",
     "text": [
      "100%|██████████| 891/891 [00:02<00:00, 398.63it/s]\n"
     ]
    },
    {
     "name": "stdout",
     "output_type": "stream",
     "text": [
      "========= TEST EVALUATION STARTED =========\n",
      "END OF 8 EPOCH\n",
      "| Time taken:   2.250 |\n",
      "| Test acc:  0.72172  | Test f1:  0.51408  |\n",
      "========= EPOCH 9 STARTED =========\n"
     ]
    },
    {
     "name": "stderr",
     "output_type": "stream",
     "text": [
      "100%|██████████| 891/891 [00:02<00:00, 400.80it/s]\n"
     ]
    },
    {
     "name": "stdout",
     "output_type": "stream",
     "text": [
      "========= TEST EVALUATION STARTED =========\n",
      "END OF 9 EPOCH\n",
      "| Time taken:   2.235 |\n",
      "| Test acc:  0.72186  | Test f1:  0.51588  |\n",
      "========= EPOCH 10 STARTED =========\n"
     ]
    },
    {
     "name": "stderr",
     "output_type": "stream",
     "text": [
      "100%|██████████| 891/891 [00:02<00:00, 403.73it/s]\n"
     ]
    },
    {
     "name": "stdout",
     "output_type": "stream",
     "text": [
      "========= TEST EVALUATION STARTED =========\n",
      "END OF 10 EPOCH\n",
      "| Time taken:   2.218 |\n",
      "| Test acc:  0.72214  | Test f1:  0.51503  |\n",
      "========= EPOCH 11 STARTED =========\n"
     ]
    },
    {
     "name": "stderr",
     "output_type": "stream",
     "text": [
      "100%|██████████| 891/891 [00:02<00:00, 404.57it/s]\n"
     ]
    },
    {
     "name": "stdout",
     "output_type": "stream",
     "text": [
      "========= TEST EVALUATION STARTED =========\n",
      "END OF 11 EPOCH\n",
      "| Time taken:   2.214 |\n",
      "| Test acc:  0.72059  | Test f1:  0.51114  |\n",
      "========= EPOCH 12 STARTED =========\n"
     ]
    },
    {
     "name": "stderr",
     "output_type": "stream",
     "text": [
      "100%|██████████| 891/891 [00:02<00:00, 398.58it/s]\n"
     ]
    },
    {
     "name": "stdout",
     "output_type": "stream",
     "text": [
      "========= TEST EVALUATION STARTED =========\n",
      "END OF 12 EPOCH\n",
      "| Time taken:   2.242 |\n",
      "| Test acc:  0.72235  | Test f1:  0.51608  |\n",
      "========= EPOCH 13 STARTED =========\n"
     ]
    },
    {
     "name": "stderr",
     "output_type": "stream",
     "text": [
      "100%|██████████| 891/891 [00:02<00:00, 404.49it/s]\n"
     ]
    },
    {
     "name": "stdout",
     "output_type": "stream",
     "text": [
      "========= TEST EVALUATION STARTED =========\n",
      "END OF 13 EPOCH\n",
      "| Time taken:   2.221 |\n",
      "| Test acc:  0.72165  | Test f1:  0.51426  |\n",
      "========= EPOCH 14 STARTED =========\n"
     ]
    },
    {
     "name": "stderr",
     "output_type": "stream",
     "text": [
      "100%|██████████| 891/891 [00:02<00:00, 404.74it/s]\n"
     ]
    },
    {
     "name": "stdout",
     "output_type": "stream",
     "text": [
      "========= TEST EVALUATION STARTED =========\n",
      "END OF 14 EPOCH\n",
      "| Time taken:   2.210 |\n",
      "| Test acc:  0.72172  | Test f1:  0.51453  |\n",
      "========= EPOCH 15 STARTED =========\n"
     ]
    },
    {
     "name": "stderr",
     "output_type": "stream",
     "text": [
      "100%|██████████| 891/891 [00:02<00:00, 431.79it/s]\n"
     ]
    },
    {
     "name": "stdout",
     "output_type": "stream",
     "text": [
      "========= TEST EVALUATION STARTED =========\n",
      "END OF 15 EPOCH\n",
      "| Time taken:   2.085 |\n",
      "| Test acc:  0.72242  | Test f1:  0.51533  |\n",
      "========= EPOCH 16 STARTED =========\n"
     ]
    },
    {
     "name": "stderr",
     "output_type": "stream",
     "text": [
      "100%|██████████| 891/891 [00:02<00:00, 428.23it/s]\n"
     ]
    },
    {
     "name": "stdout",
     "output_type": "stream",
     "text": [
      "========= TEST EVALUATION STARTED =========\n",
      "END OF 16 EPOCH\n",
      "| Time taken:   2.088 |\n",
      "| Test acc:  0.72122  | Test f1:  0.51262  |\n",
      "========= EPOCH 17 STARTED =========\n"
     ]
    },
    {
     "name": "stderr",
     "output_type": "stream",
     "text": [
      "100%|██████████| 891/891 [00:02<00:00, 399.38it/s]\n"
     ]
    },
    {
     "name": "stdout",
     "output_type": "stream",
     "text": [
      "========= TEST EVALUATION STARTED =========\n",
      "END OF 17 EPOCH\n",
      "| Time taken:   2.249 |\n",
      "| Test acc:  0.72101  | Test f1:  0.51120  |\n",
      "========= EPOCH 18 STARTED =========\n"
     ]
    },
    {
     "name": "stderr",
     "output_type": "stream",
     "text": [
      "100%|██████████| 891/891 [00:02<00:00, 402.23it/s]\n"
     ]
    },
    {
     "name": "stdout",
     "output_type": "stream",
     "text": [
      "========= TEST EVALUATION STARTED =========\n",
      "END OF 18 EPOCH\n",
      "| Time taken:   2.223 |\n",
      "| Test acc:  0.72066  | Test f1:  0.51124  |\n",
      "========= EPOCH 19 STARTED =========\n"
     ]
    },
    {
     "name": "stderr",
     "output_type": "stream",
     "text": [
      "100%|██████████| 891/891 [00:02<00:00, 401.99it/s]\n"
     ]
    },
    {
     "name": "stdout",
     "output_type": "stream",
     "text": [
      "========= TEST EVALUATION STARTED =========\n",
      "END OF 19 EPOCH\n",
      "| Time taken:   2.230 |\n",
      "| Test acc:  0.72186  | Test f1:  0.51295  |\n",
      "========= EPOCH 20 STARTED =========\n"
     ]
    },
    {
     "name": "stderr",
     "output_type": "stream",
     "text": [
      "100%|██████████| 891/891 [00:02<00:00, 407.05it/s]\n"
     ]
    },
    {
     "name": "stdout",
     "output_type": "stream",
     "text": [
      "========= TEST EVALUATION STARTED =========\n",
      "END OF 20 EPOCH\n",
      "| Time taken:   2.208 |\n",
      "| Test acc:  0.72115  | Test f1:  0.51419  |\n",
      "========= EPOCH 21 STARTED =========\n"
     ]
    },
    {
     "name": "stderr",
     "output_type": "stream",
     "text": [
      "100%|██████████| 891/891 [00:02<00:00, 405.94it/s]\n"
     ]
    },
    {
     "name": "stdout",
     "output_type": "stream",
     "text": [
      "========= TEST EVALUATION STARTED =========\n",
      "END OF 21 EPOCH\n",
      "| Time taken:   2.210 |\n",
      "| Test acc:  0.72094  | Test f1:  0.51309  |\n",
      "========= EPOCH 22 STARTED =========\n"
     ]
    },
    {
     "name": "stderr",
     "output_type": "stream",
     "text": [
      "100%|██████████| 891/891 [00:02<00:00, 402.08it/s]\n"
     ]
    },
    {
     "name": "stdout",
     "output_type": "stream",
     "text": [
      "========= TEST EVALUATION STARTED =========\n",
      "END OF 22 EPOCH\n",
      "| Time taken:   2.227 |\n",
      "| Test acc:  0.72094  | Test f1:  0.51035  |\n",
      "========= EPOCH 23 STARTED =========\n"
     ]
    },
    {
     "name": "stderr",
     "output_type": "stream",
     "text": [
      "100%|██████████| 891/891 [00:02<00:00, 438.11it/s]\n"
     ]
    },
    {
     "name": "stdout",
     "output_type": "stream",
     "text": [
      "========= TEST EVALUATION STARTED =========\n",
      "END OF 23 EPOCH\n",
      "| Time taken:   2.034 |\n",
      "| Test acc:  0.72136  | Test f1:  0.51379  |\n",
      "========= EPOCH 24 STARTED =========\n"
     ]
    },
    {
     "name": "stderr",
     "output_type": "stream",
     "text": [
      "100%|██████████| 891/891 [00:02<00:00, 433.48it/s]\n"
     ]
    },
    {
     "name": "stdout",
     "output_type": "stream",
     "text": [
      "========= TEST EVALUATION STARTED =========\n",
      "END OF 24 EPOCH\n",
      "| Time taken:   2.055 |\n",
      "| Test acc:  0.72157  | Test f1:  0.51449  |\n",
      "========= EPOCH 25 STARTED =========\n"
     ]
    },
    {
     "name": "stderr",
     "output_type": "stream",
     "text": [
      "100%|██████████| 891/891 [00:02<00:00, 424.85it/s]\n",
      "[I 2023-12-17 14:00:05,065] Trial 2 finished with value: 0.7214345873104997 and parameters: {'num_layers': 1, 'layer_units_0': 23, 'dropout': 0.27806962524879897, 'lr': 0.005885849033224942}. Best is trial 2 with value: 0.7214345873104997.\n",
      "C:\\Users\\patel\\AppData\\Local\\Temp\\ipykernel_73972\\2609389762.py:3: FutureWarning: suggest_int() got {'step'} as positional arguments but they were expected to be given as keyword arguments.\n",
      "  num_layers = trial.suggest_int('num_layers', 1, 2, 3)  # Number of layers to optimize\n",
      "C:\\Users\\patel\\AppData\\Roaming\\Python\\Python311\\site-packages\\optuna\\distributions.py:700: UserWarning: The distribution is specified by [1, 2] and step=3, but the range is not divisible by `step`. It will be replaced by [1, 1].\n",
      "  warnings.warn(\n"
     ]
    },
    {
     "name": "stdout",
     "output_type": "stream",
     "text": [
      "========= TEST EVALUATION STARTED =========\n",
      "END OF 25 EPOCH\n",
      "| Time taken:   2.107 |\n",
      "| Test acc:  0.72143  | Test f1:  0.51439  |\n",
      "========= EPOCH 1 STARTED =========\n"
     ]
    },
    {
     "name": "stderr",
     "output_type": "stream",
     "text": [
      "100%|██████████| 891/891 [00:02<00:00, 431.98it/s]\n"
     ]
    },
    {
     "name": "stdout",
     "output_type": "stream",
     "text": [
      "========= TEST EVALUATION STARTED =========\n",
      "END OF 1 EPOCH\n",
      "| Time taken:   2.080 |\n",
      "| Test acc:  0.72087  | Test f1:  0.51515  |\n",
      "========= EPOCH 2 STARTED =========\n"
     ]
    },
    {
     "name": "stderr",
     "output_type": "stream",
     "text": [
      "100%|██████████| 891/891 [00:02<00:00, 432.02it/s]\n"
     ]
    },
    {
     "name": "stdout",
     "output_type": "stream",
     "text": [
      "========= TEST EVALUATION STARTED =========\n",
      "END OF 2 EPOCH\n",
      "| Time taken:   2.062 |\n",
      "| Test acc:  0.72179  | Test f1:  0.51285  |\n",
      "========= EPOCH 3 STARTED =========\n"
     ]
    },
    {
     "name": "stderr",
     "output_type": "stream",
     "text": [
      "100%|██████████| 891/891 [00:02<00:00, 436.58it/s]\n"
     ]
    },
    {
     "name": "stdout",
     "output_type": "stream",
     "text": [
      "========= TEST EVALUATION STARTED =========\n",
      "END OF 3 EPOCH\n",
      "| Time taken:   2.054 |\n",
      "| Test acc:  0.72150  | Test f1:  0.51364  |\n",
      "========= EPOCH 4 STARTED =========\n"
     ]
    },
    {
     "name": "stderr",
     "output_type": "stream",
     "text": [
      "100%|██████████| 891/891 [00:02<00:00, 435.68it/s]\n"
     ]
    },
    {
     "name": "stdout",
     "output_type": "stream",
     "text": [
      "========= TEST EVALUATION STARTED =========\n",
      "END OF 4 EPOCH\n",
      "| Time taken:   2.064 |\n",
      "| Test acc:  0.72073  | Test f1:  0.51108  |\n",
      "========= EPOCH 5 STARTED =========\n"
     ]
    },
    {
     "name": "stderr",
     "output_type": "stream",
     "text": [
      "100%|██████████| 891/891 [00:02<00:00, 404.37it/s]\n"
     ]
    },
    {
     "name": "stdout",
     "output_type": "stream",
     "text": [
      "========= TEST EVALUATION STARTED =========\n",
      "END OF 5 EPOCH\n",
      "| Time taken:   2.214 |\n",
      "| Test acc:  0.72136  | Test f1:  0.51117  |\n",
      "========= EPOCH 6 STARTED =========\n"
     ]
    },
    {
     "name": "stderr",
     "output_type": "stream",
     "text": [
      "100%|██████████| 891/891 [00:02<00:00, 408.83it/s]\n"
     ]
    },
    {
     "name": "stdout",
     "output_type": "stream",
     "text": [
      "========= TEST EVALUATION STARTED =========\n",
      "END OF 6 EPOCH\n",
      "| Time taken:   2.190 |\n",
      "| Test acc:  0.72094  | Test f1:  0.51211  |\n",
      "========= EPOCH 7 STARTED =========\n"
     ]
    },
    {
     "name": "stderr",
     "output_type": "stream",
     "text": [
      "100%|██████████| 891/891 [00:02<00:00, 402.62it/s]\n"
     ]
    },
    {
     "name": "stdout",
     "output_type": "stream",
     "text": [
      "========= TEST EVALUATION STARTED =========\n",
      "END OF 7 EPOCH\n",
      "| Time taken:   2.227 |\n",
      "| Test acc:  0.72073  | Test f1:  0.51264  |\n",
      "========= EPOCH 8 STARTED =========\n"
     ]
    },
    {
     "name": "stderr",
     "output_type": "stream",
     "text": [
      "100%|██████████| 891/891 [00:02<00:00, 408.51it/s]\n"
     ]
    },
    {
     "name": "stdout",
     "output_type": "stream",
     "text": [
      "========= TEST EVALUATION STARTED =========\n",
      "END OF 8 EPOCH\n",
      "| Time taken:   2.188 |\n",
      "| Test acc:  0.72087  | Test f1:  0.51337  |\n",
      "========= EPOCH 9 STARTED =========\n"
     ]
    },
    {
     "name": "stderr",
     "output_type": "stream",
     "text": [
      "100%|██████████| 891/891 [00:02<00:00, 393.55it/s]\n"
     ]
    },
    {
     "name": "stdout",
     "output_type": "stream",
     "text": [
      "========= TEST EVALUATION STARTED =========\n",
      "END OF 9 EPOCH\n",
      "| Time taken:   2.277 |\n",
      "| Test acc:  0.72024  | Test f1:  0.51379  |\n",
      "========= EPOCH 10 STARTED =========\n"
     ]
    },
    {
     "name": "stderr",
     "output_type": "stream",
     "text": [
      "100%|██████████| 891/891 [00:02<00:00, 389.72it/s]\n"
     ]
    },
    {
     "name": "stdout",
     "output_type": "stream",
     "text": [
      "========= TEST EVALUATION STARTED =========\n",
      "END OF 10 EPOCH\n",
      "| Time taken:   2.306 |\n",
      "| Test acc:  0.72094  | Test f1:  0.51485  |\n",
      "========= EPOCH 11 STARTED =========\n"
     ]
    },
    {
     "name": "stderr",
     "output_type": "stream",
     "text": [
      "100%|██████████| 891/891 [00:02<00:00, 392.39it/s]\n"
     ]
    },
    {
     "name": "stdout",
     "output_type": "stream",
     "text": [
      "========= TEST EVALUATION STARTED =========\n",
      "END OF 11 EPOCH\n",
      "| Time taken:   2.284 |\n",
      "| Test acc:  0.72094  | Test f1:  0.51027  |\n",
      "========= EPOCH 12 STARTED =========\n"
     ]
    },
    {
     "name": "stderr",
     "output_type": "stream",
     "text": [
      "100%|██████████| 891/891 [00:02<00:00, 391.16it/s]\n"
     ]
    },
    {
     "name": "stdout",
     "output_type": "stream",
     "text": [
      "========= TEST EVALUATION STARTED =========\n",
      "END OF 12 EPOCH\n",
      "| Time taken:   2.292 |\n",
      "| Test acc:  0.72045  | Test f1:  0.51203  |\n",
      "========= EPOCH 13 STARTED =========\n"
     ]
    },
    {
     "name": "stderr",
     "output_type": "stream",
     "text": [
      "100%|██████████| 891/891 [00:02<00:00, 437.60it/s]\n"
     ]
    },
    {
     "name": "stdout",
     "output_type": "stream",
     "text": [
      "========= TEST EVALUATION STARTED =========\n",
      "END OF 13 EPOCH\n",
      "| Time taken:   2.049 |\n",
      "| Test acc:  0.72024  | Test f1:  0.51026  |\n",
      "========= EPOCH 14 STARTED =========\n"
     ]
    },
    {
     "name": "stderr",
     "output_type": "stream",
     "text": [
      "100%|██████████| 891/891 [00:02<00:00, 401.15it/s]\n"
     ]
    },
    {
     "name": "stdout",
     "output_type": "stream",
     "text": [
      "========= TEST EVALUATION STARTED =========\n",
      "END OF 14 EPOCH\n",
      "| Time taken:   2.232 |\n",
      "| Test acc:  0.72193  | Test f1:  0.51344  |\n",
      "========= EPOCH 15 STARTED =========\n"
     ]
    },
    {
     "name": "stderr",
     "output_type": "stream",
     "text": [
      "100%|██████████| 891/891 [00:02<00:00, 406.22it/s]\n"
     ]
    },
    {
     "name": "stdout",
     "output_type": "stream",
     "text": [
      "========= TEST EVALUATION STARTED =========\n",
      "END OF 15 EPOCH\n",
      "| Time taken:   2.205 |\n",
      "| Test acc:  0.72115  | Test f1:  0.51021  |\n",
      "========= EPOCH 16 STARTED =========\n"
     ]
    },
    {
     "name": "stderr",
     "output_type": "stream",
     "text": [
      "100%|██████████| 891/891 [00:02<00:00, 399.60it/s]\n"
     ]
    },
    {
     "name": "stdout",
     "output_type": "stream",
     "text": [
      "========= TEST EVALUATION STARTED =========\n",
      "END OF 16 EPOCH\n",
      "| Time taken:   2.243 |\n",
      "| Test acc:  0.72108  | Test f1:  0.51110  |\n",
      "========= EPOCH 17 STARTED =========\n"
     ]
    },
    {
     "name": "stderr",
     "output_type": "stream",
     "text": [
      "100%|██████████| 891/891 [00:02<00:00, 407.54it/s]\n"
     ]
    },
    {
     "name": "stdout",
     "output_type": "stream",
     "text": [
      "========= TEST EVALUATION STARTED =========\n",
      "END OF 17 EPOCH\n",
      "| Time taken:   2.200 |\n",
      "| Test acc:  0.72073  | Test f1:  0.51408  |\n",
      "========= EPOCH 18 STARTED =========\n"
     ]
    },
    {
     "name": "stderr",
     "output_type": "stream",
     "text": [
      "100%|██████████| 891/891 [00:02<00:00, 406.05it/s]\n"
     ]
    },
    {
     "name": "stdout",
     "output_type": "stream",
     "text": [
      "========= TEST EVALUATION STARTED =========\n",
      "END OF 18 EPOCH\n",
      "| Time taken:   2.208 |\n",
      "| Test acc:  0.72214  | Test f1:  0.51465  |\n",
      "========= EPOCH 19 STARTED =========\n"
     ]
    },
    {
     "name": "stderr",
     "output_type": "stream",
     "text": [
      "100%|██████████| 891/891 [00:02<00:00, 400.09it/s]\n"
     ]
    },
    {
     "name": "stdout",
     "output_type": "stream",
     "text": [
      "========= TEST EVALUATION STARTED =========\n",
      "END OF 19 EPOCH\n",
      "| Time taken:   2.239 |\n",
      "| Test acc:  0.72235  | Test f1:  0.51383  |\n",
      "========= EPOCH 20 STARTED =========\n"
     ]
    },
    {
     "name": "stderr",
     "output_type": "stream",
     "text": [
      "100%|██████████| 891/891 [00:02<00:00, 411.33it/s]\n"
     ]
    },
    {
     "name": "stdout",
     "output_type": "stream",
     "text": [
      "========= TEST EVALUATION STARTED =========\n",
      "END OF 20 EPOCH\n",
      "| Time taken:   2.175 |\n",
      "| Test acc:  0.72186  | Test f1:  0.51143  |\n",
      "========= EPOCH 21 STARTED =========\n"
     ]
    },
    {
     "name": "stderr",
     "output_type": "stream",
     "text": [
      "100%|██████████| 891/891 [00:02<00:00, 411.07it/s]\n"
     ]
    },
    {
     "name": "stdout",
     "output_type": "stream",
     "text": [
      "========= TEST EVALUATION STARTED =========\n",
      "END OF 21 EPOCH\n",
      "| Time taken:   2.186 |\n",
      "| Test acc:  0.72291  | Test f1:  0.51557  |\n",
      "========= EPOCH 22 STARTED =========\n"
     ]
    },
    {
     "name": "stderr",
     "output_type": "stream",
     "text": [
      "100%|██████████| 891/891 [00:02<00:00, 405.28it/s]\n"
     ]
    },
    {
     "name": "stdout",
     "output_type": "stream",
     "text": [
      "========= TEST EVALUATION STARTED =========\n",
      "END OF 22 EPOCH\n",
      "| Time taken:   2.209 |\n",
      "| Test acc:  0.72045  | Test f1:  0.51393  |\n",
      "========= EPOCH 23 STARTED =========\n"
     ]
    },
    {
     "name": "stderr",
     "output_type": "stream",
     "text": [
      "100%|██████████| 891/891 [00:02<00:00, 409.29it/s]\n"
     ]
    },
    {
     "name": "stdout",
     "output_type": "stream",
     "text": [
      "========= TEST EVALUATION STARTED =========\n",
      "END OF 23 EPOCH\n",
      "| Time taken:   2.203 |\n",
      "| Test acc:  0.72143  | Test f1:  0.51335  |\n",
      "========= EPOCH 24 STARTED =========\n"
     ]
    },
    {
     "name": "stderr",
     "output_type": "stream",
     "text": [
      "100%|██████████| 891/891 [00:02<00:00, 436.05it/s]\n"
     ]
    },
    {
     "name": "stdout",
     "output_type": "stream",
     "text": [
      "========= TEST EVALUATION STARTED =========\n",
      "END OF 24 EPOCH\n",
      "| Time taken:   2.060 |\n",
      "| Test acc:  0.72080  | Test f1:  0.51170  |\n",
      "========= EPOCH 25 STARTED =========\n"
     ]
    },
    {
     "name": "stderr",
     "output_type": "stream",
     "text": [
      "100%|██████████| 891/891 [00:02<00:00, 430.63it/s]\n",
      "[I 2023-12-17 14:00:59,613] Trial 3 finished with value: 0.7219258843346434 and parameters: {'num_layers': 1, 'layer_units_0': 21, 'dropout': 0.3920997163518337, 'lr': 0.007618416528710563}. Best is trial 3 with value: 0.7219258843346434.\n",
      "C:\\Users\\patel\\AppData\\Local\\Temp\\ipykernel_73972\\2609389762.py:3: FutureWarning: suggest_int() got {'step'} as positional arguments but they were expected to be given as keyword arguments.\n",
      "  num_layers = trial.suggest_int('num_layers', 1, 2, 3)  # Number of layers to optimize\n",
      "C:\\Users\\patel\\AppData\\Roaming\\Python\\Python311\\site-packages\\optuna\\distributions.py:700: UserWarning: The distribution is specified by [1, 2] and step=3, but the range is not divisible by `step`. It will be replaced by [1, 1].\n",
      "  warnings.warn(\n"
     ]
    },
    {
     "name": "stdout",
     "output_type": "stream",
     "text": [
      "========= TEST EVALUATION STARTED =========\n",
      "END OF 25 EPOCH\n",
      "| Time taken:   2.085 |\n",
      "| Test acc:  0.72193  | Test f1:  0.51401  |\n",
      "========= EPOCH 1 STARTED =========\n"
     ]
    },
    {
     "name": "stderr",
     "output_type": "stream",
     "text": [
      "100%|██████████| 891/891 [00:02<00:00, 401.30it/s]\n"
     ]
    },
    {
     "name": "stdout",
     "output_type": "stream",
     "text": [
      "========= TEST EVALUATION STARTED =========\n",
      "END OF 1 EPOCH\n",
      "| Time taken:   2.233 |\n",
      "| Test acc:  0.72087  | Test f1:  0.51390  |\n",
      "========= EPOCH 2 STARTED =========\n"
     ]
    },
    {
     "name": "stderr",
     "output_type": "stream",
     "text": [
      "100%|██████████| 891/891 [00:02<00:00, 398.70it/s]\n"
     ]
    },
    {
     "name": "stdout",
     "output_type": "stream",
     "text": [
      "========= TEST EVALUATION STARTED =========\n",
      "END OF 2 EPOCH\n",
      "| Time taken:   2.245 |\n",
      "| Test acc:  0.72214  | Test f1:  0.51569  |\n",
      "========= EPOCH 3 STARTED =========\n"
     ]
    },
    {
     "name": "stderr",
     "output_type": "stream",
     "text": [
      "100%|██████████| 891/891 [00:02<00:00, 436.26it/s]\n"
     ]
    },
    {
     "name": "stdout",
     "output_type": "stream",
     "text": [
      "========= TEST EVALUATION STARTED =========\n",
      "END OF 3 EPOCH\n",
      "| Time taken:   2.042 |\n",
      "| Test acc:  0.72157  | Test f1:  0.51640  |\n",
      "========= EPOCH 4 STARTED =========\n"
     ]
    },
    {
     "name": "stderr",
     "output_type": "stream",
     "text": [
      "100%|██████████| 891/891 [00:02<00:00, 422.21it/s]\n"
     ]
    },
    {
     "name": "stdout",
     "output_type": "stream",
     "text": [
      "========= TEST EVALUATION STARTED =========\n",
      "END OF 4 EPOCH\n",
      "| Time taken:   2.124 |\n",
      "| Test acc:  0.72108  | Test f1:  0.51420  |\n",
      "========= EPOCH 5 STARTED =========\n"
     ]
    },
    {
     "name": "stderr",
     "output_type": "stream",
     "text": [
      "100%|██████████| 891/891 [00:02<00:00, 420.75it/s]\n"
     ]
    },
    {
     "name": "stdout",
     "output_type": "stream",
     "text": [
      "========= TEST EVALUATION STARTED =========\n",
      "END OF 5 EPOCH\n",
      "| Time taken:   2.133 |\n",
      "| Test acc:  0.72094  | Test f1:  0.51075  |\n",
      "========= EPOCH 6 STARTED =========\n"
     ]
    },
    {
     "name": "stderr",
     "output_type": "stream",
     "text": [
      "100%|██████████| 891/891 [00:02<00:00, 407.49it/s]\n"
     ]
    },
    {
     "name": "stdout",
     "output_type": "stream",
     "text": [
      "========= TEST EVALUATION STARTED =========\n",
      "END OF 6 EPOCH\n",
      "| Time taken:   2.200 |\n",
      "| Test acc:  0.72207  | Test f1:  0.51668  |\n",
      "========= EPOCH 7 STARTED =========\n"
     ]
    },
    {
     "name": "stderr",
     "output_type": "stream",
     "text": [
      "100%|██████████| 891/891 [00:02<00:00, 432.65it/s]\n"
     ]
    },
    {
     "name": "stdout",
     "output_type": "stream",
     "text": [
      "========= TEST EVALUATION STARTED =========\n",
      "END OF 7 EPOCH\n",
      "| Time taken:   2.062 |\n",
      "| Test acc:  0.72221  | Test f1:  0.51507  |\n",
      "========= EPOCH 8 STARTED =========\n"
     ]
    },
    {
     "name": "stderr",
     "output_type": "stream",
     "text": [
      "100%|██████████| 891/891 [00:02<00:00, 440.14it/s]\n"
     ]
    },
    {
     "name": "stdout",
     "output_type": "stream",
     "text": [
      "========= TEST EVALUATION STARTED =========\n",
      "END OF 8 EPOCH\n",
      "| Time taken:   2.047 |\n",
      "| Test acc:  0.72228  | Test f1:  0.51608  |\n",
      "========= EPOCH 9 STARTED =========\n"
     ]
    },
    {
     "name": "stderr",
     "output_type": "stream",
     "text": [
      "100%|██████████| 891/891 [00:02<00:00, 411.22it/s]\n"
     ]
    },
    {
     "name": "stdout",
     "output_type": "stream",
     "text": [
      "========= TEST EVALUATION STARTED =========\n",
      "END OF 9 EPOCH\n",
      "| Time taken:   2.182 |\n",
      "| Test acc:  0.72221  | Test f1:  0.51084  |\n",
      "========= EPOCH 10 STARTED =========\n"
     ]
    },
    {
     "name": "stderr",
     "output_type": "stream",
     "text": [
      "100%|██████████| 891/891 [00:02<00:00, 431.29it/s]\n"
     ]
    },
    {
     "name": "stdout",
     "output_type": "stream",
     "text": [
      "========= TEST EVALUATION STARTED =========\n",
      "END OF 10 EPOCH\n",
      "| Time taken:   2.066 |\n",
      "| Test acc:  0.72052  | Test f1:  0.51176  |\n",
      "========= EPOCH 11 STARTED =========\n"
     ]
    },
    {
     "name": "stderr",
     "output_type": "stream",
     "text": [
      "100%|██████████| 891/891 [00:02<00:00, 428.40it/s]\n"
     ]
    },
    {
     "name": "stdout",
     "output_type": "stream",
     "text": [
      "========= TEST EVALUATION STARTED =========\n",
      "END OF 11 EPOCH\n",
      "| Time taken:   2.095 |\n",
      "| Test acc:  0.72200  | Test f1:  0.51338  |\n",
      "========= EPOCH 12 STARTED =========\n"
     ]
    },
    {
     "name": "stderr",
     "output_type": "stream",
     "text": [
      "100%|██████████| 891/891 [00:02<00:00, 435.25it/s]\n"
     ]
    },
    {
     "name": "stdout",
     "output_type": "stream",
     "text": [
      "========= TEST EVALUATION STARTED =========\n",
      "END OF 12 EPOCH\n",
      "| Time taken:   2.057 |\n",
      "| Test acc:  0.72256  | Test f1:  0.51321  |\n",
      "========= EPOCH 13 STARTED =========\n"
     ]
    },
    {
     "name": "stderr",
     "output_type": "stream",
     "text": [
      "100%|██████████| 891/891 [00:02<00:00, 442.45it/s]\n"
     ]
    },
    {
     "name": "stdout",
     "output_type": "stream",
     "text": [
      "========= TEST EVALUATION STARTED =========\n",
      "END OF 13 EPOCH\n",
      "| Time taken:   2.025 |\n",
      "| Test acc:  0.72179  | Test f1:  0.51363  |\n",
      "========= EPOCH 14 STARTED =========\n"
     ]
    },
    {
     "name": "stderr",
     "output_type": "stream",
     "text": [
      "100%|██████████| 891/891 [00:02<00:00, 404.50it/s]\n"
     ]
    },
    {
     "name": "stdout",
     "output_type": "stream",
     "text": [
      "========= TEST EVALUATION STARTED =========\n",
      "END OF 14 EPOCH\n",
      "| Time taken:   2.216 |\n",
      "| Test acc:  0.72150  | Test f1:  0.51396  |\n",
      "========= EPOCH 15 STARTED =========\n"
     ]
    },
    {
     "name": "stderr",
     "output_type": "stream",
     "text": [
      "100%|██████████| 891/891 [00:02<00:00, 411.35it/s]\n"
     ]
    },
    {
     "name": "stdout",
     "output_type": "stream",
     "text": [
      "========= TEST EVALUATION STARTED =========\n",
      "END OF 15 EPOCH\n",
      "| Time taken:   2.181 |\n",
      "| Test acc:  0.72228  | Test f1:  0.51546  |\n",
      "========= EPOCH 16 STARTED =========\n"
     ]
    },
    {
     "name": "stderr",
     "output_type": "stream",
     "text": [
      "100%|██████████| 891/891 [00:02<00:00, 409.79it/s]\n"
     ]
    },
    {
     "name": "stdout",
     "output_type": "stream",
     "text": [
      "========= TEST EVALUATION STARTED =========\n",
      "END OF 16 EPOCH\n",
      "| Time taken:   2.188 |\n",
      "| Test acc:  0.72172  | Test f1:  0.51046  |\n",
      "========= EPOCH 17 STARTED =========\n"
     ]
    },
    {
     "name": "stderr",
     "output_type": "stream",
     "text": [
      "100%|██████████| 891/891 [00:02<00:00, 437.24it/s]\n"
     ]
    },
    {
     "name": "stdout",
     "output_type": "stream",
     "text": [
      "========= TEST EVALUATION STARTED =========\n",
      "END OF 17 EPOCH\n",
      "| Time taken:   2.040 |\n",
      "| Test acc:  0.72136  | Test f1:  0.51065  |\n",
      "========= EPOCH 18 STARTED =========\n"
     ]
    },
    {
     "name": "stderr",
     "output_type": "stream",
     "text": [
      "100%|██████████| 891/891 [00:02<00:00, 431.69it/s]\n"
     ]
    },
    {
     "name": "stdout",
     "output_type": "stream",
     "text": [
      "========= TEST EVALUATION STARTED =========\n",
      "END OF 18 EPOCH\n",
      "| Time taken:   2.064 |\n",
      "| Test acc:  0.72101  | Test f1:  0.51104  |\n",
      "========= EPOCH 19 STARTED =========\n"
     ]
    },
    {
     "name": "stderr",
     "output_type": "stream",
     "text": [
      "100%|██████████| 891/891 [00:02<00:00, 437.12it/s]\n"
     ]
    },
    {
     "name": "stdout",
     "output_type": "stream",
     "text": [
      "========= TEST EVALUATION STARTED =========\n",
      "END OF 19 EPOCH\n",
      "| Time taken:   2.054 |\n",
      "| Test acc:  0.72270  | Test f1:  0.51426  |\n",
      "========= EPOCH 20 STARTED =========\n"
     ]
    },
    {
     "name": "stderr",
     "output_type": "stream",
     "text": [
      "100%|██████████| 891/891 [00:02<00:00, 433.36it/s]\n"
     ]
    },
    {
     "name": "stdout",
     "output_type": "stream",
     "text": [
      "========= TEST EVALUATION STARTED =========\n",
      "END OF 20 EPOCH\n",
      "| Time taken:   2.072 |\n",
      "| Test acc:  0.72172  | Test f1:  0.51243  |\n",
      "========= EPOCH 21 STARTED =========\n"
     ]
    },
    {
     "name": "stderr",
     "output_type": "stream",
     "text": [
      "100%|██████████| 891/891 [00:02<00:00, 401.61it/s]\n"
     ]
    },
    {
     "name": "stdout",
     "output_type": "stream",
     "text": [
      "========= TEST EVALUATION STARTED =========\n",
      "END OF 21 EPOCH\n",
      "| Time taken:   2.228 |\n",
      "| Test acc:  0.72066  | Test f1:  0.51214  |\n",
      "========= EPOCH 22 STARTED =========\n"
     ]
    },
    {
     "name": "stderr",
     "output_type": "stream",
     "text": [
      "100%|██████████| 891/891 [00:02<00:00, 408.49it/s]\n"
     ]
    },
    {
     "name": "stdout",
     "output_type": "stream",
     "text": [
      "========= TEST EVALUATION STARTED =========\n",
      "END OF 22 EPOCH\n",
      "| Time taken:   2.193 |\n",
      "| Test acc:  0.72143  | Test f1:  0.51476  |\n",
      "========= EPOCH 23 STARTED =========\n"
     ]
    },
    {
     "name": "stderr",
     "output_type": "stream",
     "text": [
      "100%|██████████| 891/891 [00:02<00:00, 433.17it/s]\n"
     ]
    },
    {
     "name": "stdout",
     "output_type": "stream",
     "text": [
      "========= TEST EVALUATION STARTED =========\n",
      "END OF 23 EPOCH\n",
      "| Time taken:   2.074 |\n",
      "| Test acc:  0.72122  | Test f1:  0.51275  |\n",
      "========= EPOCH 24 STARTED =========\n"
     ]
    },
    {
     "name": "stderr",
     "output_type": "stream",
     "text": [
      "100%|██████████| 891/891 [00:02<00:00, 432.75it/s]\n"
     ]
    },
    {
     "name": "stdout",
     "output_type": "stream",
     "text": [
      "========= TEST EVALUATION STARTED =========\n",
      "END OF 24 EPOCH\n",
      "| Time taken:   2.075 |\n",
      "| Test acc:  0.72179  | Test f1:  0.51515  |\n",
      "========= EPOCH 25 STARTED =========\n"
     ]
    },
    {
     "name": "stderr",
     "output_type": "stream",
     "text": [
      "100%|██████████| 891/891 [00:02<00:00, 404.94it/s]\n",
      "[I 2023-12-17 14:01:52,728] Trial 4 finished with value: 0.7215047725996631 and parameters: {'num_layers': 1, 'layer_units_0': 24, 'dropout': 0.22140475521662714, 'lr': 0.009063695155801127}. Best is trial 3 with value: 0.7219258843346434.\n",
      "C:\\Users\\patel\\AppData\\Local\\Temp\\ipykernel_73972\\2609389762.py:3: FutureWarning: suggest_int() got {'step'} as positional arguments but they were expected to be given as keyword arguments.\n",
      "  num_layers = trial.suggest_int('num_layers', 1, 2, 3)  # Number of layers to optimize\n",
      "C:\\Users\\patel\\AppData\\Roaming\\Python\\Python311\\site-packages\\optuna\\distributions.py:700: UserWarning: The distribution is specified by [1, 2] and step=3, but the range is not divisible by `step`. It will be replaced by [1, 1].\n",
      "  warnings.warn(\n"
     ]
    },
    {
     "name": "stdout",
     "output_type": "stream",
     "text": [
      "========= TEST EVALUATION STARTED =========\n",
      "END OF 25 EPOCH\n",
      "| Time taken:   2.214 |\n",
      "| Test acc:  0.72150  | Test f1:  0.51417  |\n",
      "========= EPOCH 1 STARTED =========\n"
     ]
    },
    {
     "name": "stderr",
     "output_type": "stream",
     "text": [
      "100%|██████████| 891/891 [00:02<00:00, 436.46it/s]\n"
     ]
    },
    {
     "name": "stdout",
     "output_type": "stream",
     "text": [
      "========= TEST EVALUATION STARTED =========\n",
      "END OF 1 EPOCH\n",
      "| Time taken:   2.064 |\n",
      "| Test acc:  0.72172  | Test f1:  0.51062  |\n",
      "========= EPOCH 2 STARTED =========\n"
     ]
    },
    {
     "name": "stderr",
     "output_type": "stream",
     "text": [
      "100%|██████████| 891/891 [00:02<00:00, 402.48it/s]\n"
     ]
    },
    {
     "name": "stdout",
     "output_type": "stream",
     "text": [
      "========= TEST EVALUATION STARTED =========\n",
      "END OF 2 EPOCH\n",
      "| Time taken:   2.221 |\n",
      "| Test acc:  0.72270  | Test f1:  0.51698  |\n",
      "========= EPOCH 3 STARTED =========\n"
     ]
    },
    {
     "name": "stderr",
     "output_type": "stream",
     "text": [
      "100%|██████████| 891/891 [00:02<00:00, 432.04it/s]\n"
     ]
    },
    {
     "name": "stdout",
     "output_type": "stream",
     "text": [
      "========= TEST EVALUATION STARTED =========\n",
      "END OF 3 EPOCH\n",
      "| Time taken:   2.085 |\n",
      "| Test acc:  0.72150  | Test f1:  0.51327  |\n",
      "========= EPOCH 4 STARTED =========\n"
     ]
    },
    {
     "name": "stderr",
     "output_type": "stream",
     "text": [
      "100%|██████████| 891/891 [00:02<00:00, 434.90it/s]\n"
     ]
    },
    {
     "name": "stdout",
     "output_type": "stream",
     "text": [
      "========= TEST EVALUATION STARTED =========\n",
      "END OF 4 EPOCH\n",
      "| Time taken:   2.064 |\n",
      "| Test acc:  0.72249  | Test f1:  0.51354  |\n",
      "========= EPOCH 5 STARTED =========\n"
     ]
    },
    {
     "name": "stderr",
     "output_type": "stream",
     "text": [
      "100%|██████████| 891/891 [00:02<00:00, 396.45it/s]\n"
     ]
    },
    {
     "name": "stdout",
     "output_type": "stream",
     "text": [
      "========= TEST EVALUATION STARTED =========\n",
      "END OF 5 EPOCH\n",
      "| Time taken:   2.261 |\n",
      "| Test acc:  0.72256  | Test f1:  0.51471  |\n",
      "========= EPOCH 6 STARTED =========\n"
     ]
    },
    {
     "name": "stderr",
     "output_type": "stream",
     "text": [
      "100%|██████████| 891/891 [00:02<00:00, 433.23it/s]\n"
     ]
    },
    {
     "name": "stdout",
     "output_type": "stream",
     "text": [
      "========= TEST EVALUATION STARTED =========\n",
      "END OF 6 EPOCH\n",
      "| Time taken:   2.072 |\n",
      "| Test acc:  0.72270  | Test f1:  0.51398  |\n",
      "========= EPOCH 7 STARTED =========\n"
     ]
    },
    {
     "name": "stderr",
     "output_type": "stream",
     "text": [
      "100%|██████████| 891/891 [00:02<00:00, 433.98it/s]\n"
     ]
    },
    {
     "name": "stdout",
     "output_type": "stream",
     "text": [
      "========= TEST EVALUATION STARTED =========\n",
      "END OF 7 EPOCH\n",
      "| Time taken:   2.067 |\n",
      "| Test acc:  0.72157  | Test f1:  0.51248  |\n",
      "========= EPOCH 8 STARTED =========\n"
     ]
    },
    {
     "name": "stderr",
     "output_type": "stream",
     "text": [
      "100%|██████████| 891/891 [00:02<00:00, 402.94it/s]\n"
     ]
    },
    {
     "name": "stdout",
     "output_type": "stream",
     "text": [
      "========= TEST EVALUATION STARTED =========\n",
      "END OF 8 EPOCH\n",
      "| Time taken:   2.226 |\n",
      "| Test acc:  0.72270  | Test f1:  0.51432  |\n",
      "========= EPOCH 9 STARTED =========\n"
     ]
    },
    {
     "name": "stderr",
     "output_type": "stream",
     "text": [
      "100%|██████████| 891/891 [00:02<00:00, 428.65it/s]\n"
     ]
    },
    {
     "name": "stdout",
     "output_type": "stream",
     "text": [
      "========= TEST EVALUATION STARTED =========\n",
      "END OF 9 EPOCH\n",
      "| Time taken:   2.095 |\n",
      "| Test acc:  0.72256  | Test f1:  0.51260  |\n",
      "========= EPOCH 10 STARTED =========\n"
     ]
    },
    {
     "name": "stderr",
     "output_type": "stream",
     "text": [
      "100%|██████████| 891/891 [00:02<00:00, 415.01it/s]\n"
     ]
    },
    {
     "name": "stdout",
     "output_type": "stream",
     "text": [
      "========= TEST EVALUATION STARTED =========\n",
      "END OF 10 EPOCH\n",
      "| Time taken:   2.154 |\n",
      "| Test acc:  0.72115  | Test f1:  0.51100  |\n",
      "========= EPOCH 11 STARTED =========\n"
     ]
    },
    {
     "name": "stderr",
     "output_type": "stream",
     "text": [
      "100%|██████████| 891/891 [00:02<00:00, 404.04it/s]\n"
     ]
    },
    {
     "name": "stdout",
     "output_type": "stream",
     "text": [
      "========= TEST EVALUATION STARTED =========\n",
      "END OF 11 EPOCH\n",
      "| Time taken:   2.217 |\n",
      "| Test acc:  0.72263  | Test f1:  0.51375  |\n",
      "========= EPOCH 12 STARTED =========\n"
     ]
    },
    {
     "name": "stderr",
     "output_type": "stream",
     "text": [
      "100%|██████████| 891/891 [00:02<00:00, 400.90it/s]\n"
     ]
    },
    {
     "name": "stdout",
     "output_type": "stream",
     "text": [
      "========= TEST EVALUATION STARTED =========\n",
      "END OF 12 EPOCH\n",
      "| Time taken:   2.238 |\n",
      "| Test acc:  0.72157  | Test f1:  0.51032  |\n",
      "========= EPOCH 13 STARTED =========\n"
     ]
    },
    {
     "name": "stderr",
     "output_type": "stream",
     "text": [
      "100%|██████████| 891/891 [00:02<00:00, 414.90it/s]\n"
     ]
    },
    {
     "name": "stdout",
     "output_type": "stream",
     "text": [
      "========= TEST EVALUATION STARTED =========\n",
      "END OF 13 EPOCH\n",
      "| Time taken:   2.160 |\n",
      "| Test acc:  0.72087  | Test f1:  0.50929  |\n",
      "========= EPOCH 14 STARTED =========\n"
     ]
    },
    {
     "name": "stderr",
     "output_type": "stream",
     "text": [
      "100%|██████████| 891/891 [00:02<00:00, 417.56it/s]\n"
     ]
    },
    {
     "name": "stdout",
     "output_type": "stream",
     "text": [
      "========= TEST EVALUATION STARTED =========\n",
      "END OF 14 EPOCH\n",
      "| Time taken:   2.146 |\n",
      "| Test acc:  0.72157  | Test f1:  0.51181  |\n",
      "========= EPOCH 15 STARTED =========\n"
     ]
    },
    {
     "name": "stderr",
     "output_type": "stream",
     "text": [
      "100%|██████████| 891/891 [00:02<00:00, 438.06it/s]\n"
     ]
    },
    {
     "name": "stdout",
     "output_type": "stream",
     "text": [
      "========= TEST EVALUATION STARTED =========\n",
      "END OF 15 EPOCH\n",
      "| Time taken:   2.041 |\n",
      "| Test acc:  0.72038  | Test f1:  0.51070  |\n",
      "========= EPOCH 16 STARTED =========\n"
     ]
    },
    {
     "name": "stderr",
     "output_type": "stream",
     "text": [
      "100%|██████████| 891/891 [00:02<00:00, 433.36it/s]\n"
     ]
    },
    {
     "name": "stdout",
     "output_type": "stream",
     "text": [
      "========= TEST EVALUATION STARTED =========\n",
      "END OF 16 EPOCH\n",
      "| Time taken:   2.078 |\n",
      "| Test acc:  0.72059  | Test f1:  0.51285  |\n",
      "========= EPOCH 17 STARTED =========\n"
     ]
    },
    {
     "name": "stderr",
     "output_type": "stream",
     "text": [
      "100%|██████████| 891/891 [00:02<00:00, 432.00it/s]\n"
     ]
    },
    {
     "name": "stdout",
     "output_type": "stream",
     "text": [
      "========= TEST EVALUATION STARTED =========\n",
      "END OF 17 EPOCH\n",
      "| Time taken:   2.078 |\n",
      "| Test acc:  0.72094  | Test f1:  0.51129  |\n",
      "========= EPOCH 18 STARTED =========\n"
     ]
    },
    {
     "name": "stderr",
     "output_type": "stream",
     "text": [
      "100%|██████████| 891/891 [00:02<00:00, 435.33it/s]\n"
     ]
    },
    {
     "name": "stdout",
     "output_type": "stream",
     "text": [
      "========= TEST EVALUATION STARTED =========\n",
      "END OF 18 EPOCH\n",
      "| Time taken:   2.056 |\n",
      "| Test acc:  0.72031  | Test f1:  0.51022  |\n",
      "========= EPOCH 19 STARTED =========\n"
     ]
    },
    {
     "name": "stderr",
     "output_type": "stream",
     "text": [
      "100%|██████████| 891/891 [00:02<00:00, 401.60it/s]\n"
     ]
    },
    {
     "name": "stdout",
     "output_type": "stream",
     "text": [
      "========= TEST EVALUATION STARTED =========\n",
      "END OF 19 EPOCH\n",
      "| Time taken:   2.232 |\n",
      "| Test acc:  0.72129  | Test f1:  0.51538  |\n",
      "========= EPOCH 20 STARTED =========\n"
     ]
    },
    {
     "name": "stderr",
     "output_type": "stream",
     "text": [
      "100%|██████████| 891/891 [00:02<00:00, 442.39it/s]\n"
     ]
    },
    {
     "name": "stdout",
     "output_type": "stream",
     "text": [
      "========= TEST EVALUATION STARTED =========\n",
      "END OF 20 EPOCH\n",
      "| Time taken:   2.024 |\n",
      "| Test acc:  0.72108  | Test f1:  0.51548  |\n",
      "========= EPOCH 21 STARTED =========\n"
     ]
    },
    {
     "name": "stderr",
     "output_type": "stream",
     "text": [
      "100%|██████████| 891/891 [00:02<00:00, 419.56it/s]\n"
     ]
    },
    {
     "name": "stdout",
     "output_type": "stream",
     "text": [
      "========= TEST EVALUATION STARTED =========\n",
      "END OF 21 EPOCH\n",
      "| Time taken:   2.139 |\n",
      "| Test acc:  0.71968  | Test f1:  0.51229  |\n",
      "========= EPOCH 22 STARTED =========\n"
     ]
    },
    {
     "name": "stderr",
     "output_type": "stream",
     "text": [
      "100%|██████████| 891/891 [00:02<00:00, 403.83it/s]\n"
     ]
    },
    {
     "name": "stdout",
     "output_type": "stream",
     "text": [
      "========= TEST EVALUATION STARTED =========\n",
      "END OF 22 EPOCH\n",
      "| Time taken:   2.213 |\n",
      "| Test acc:  0.72122  | Test f1:  0.51342  |\n",
      "========= EPOCH 23 STARTED =========\n"
     ]
    },
    {
     "name": "stderr",
     "output_type": "stream",
     "text": [
      "100%|██████████| 891/891 [00:02<00:00, 431.88it/s]\n"
     ]
    },
    {
     "name": "stdout",
     "output_type": "stream",
     "text": [
      "========= TEST EVALUATION STARTED =========\n",
      "END OF 23 EPOCH\n",
      "| Time taken:   2.078 |\n",
      "| Test acc:  0.72108  | Test f1:  0.51494  |\n",
      "========= EPOCH 24 STARTED =========\n"
     ]
    },
    {
     "name": "stderr",
     "output_type": "stream",
     "text": [
      "100%|██████████| 891/891 [00:02<00:00, 435.91it/s]\n"
     ]
    },
    {
     "name": "stdout",
     "output_type": "stream",
     "text": [
      "========= TEST EVALUATION STARTED =========\n",
      "END OF 24 EPOCH\n",
      "| Time taken:   2.062 |\n",
      "| Test acc:  0.72087  | Test f1:  0.51626  |\n",
      "========= EPOCH 25 STARTED =========\n"
     ]
    },
    {
     "name": "stderr",
     "output_type": "stream",
     "text": [
      "100%|██████████| 891/891 [00:02<00:00, 442.41it/s]\n",
      "[I 2023-12-17 14:02:45,829] Trial 5 finished with value: 0.7210836608646828 and parameters: {'num_layers': 1, 'layer_units_0': 33, 'dropout': 0.4210729747489148, 'lr': 1.5786095668722928e-05}. Best is trial 3 with value: 0.7219258843346434.\n",
      "C:\\Users\\patel\\AppData\\Local\\Temp\\ipykernel_73972\\2609389762.py:3: FutureWarning: suggest_int() got {'step'} as positional arguments but they were expected to be given as keyword arguments.\n",
      "  num_layers = trial.suggest_int('num_layers', 1, 2, 3)  # Number of layers to optimize\n",
      "C:\\Users\\patel\\AppData\\Roaming\\Python\\Python311\\site-packages\\optuna\\distributions.py:700: UserWarning: The distribution is specified by [1, 2] and step=3, but the range is not divisible by `step`. It will be replaced by [1, 1].\n",
      "  warnings.warn(\n"
     ]
    },
    {
     "name": "stdout",
     "output_type": "stream",
     "text": [
      "========= TEST EVALUATION STARTED =========\n",
      "END OF 25 EPOCH\n",
      "| Time taken:   2.030 |\n",
      "| Test acc:  0.72108  | Test f1:  0.51494  |\n",
      "========= EPOCH 1 STARTED =========\n"
     ]
    },
    {
     "name": "stderr",
     "output_type": "stream",
     "text": [
      "100%|██████████| 891/891 [00:02<00:00, 395.47it/s]\n"
     ]
    },
    {
     "name": "stdout",
     "output_type": "stream",
     "text": [
      "========= TEST EVALUATION STARTED =========\n",
      "END OF 1 EPOCH\n",
      "| Time taken:   2.267 |\n",
      "| Test acc:  0.72087  | Test f1:  0.51352  |\n",
      "========= EPOCH 2 STARTED =========\n"
     ]
    },
    {
     "name": "stderr",
     "output_type": "stream",
     "text": [
      "100%|██████████| 891/891 [00:02<00:00, 438.04it/s]\n"
     ]
    },
    {
     "name": "stdout",
     "output_type": "stream",
     "text": [
      "========= TEST EVALUATION STARTED =========\n",
      "END OF 2 EPOCH\n",
      "| Time taken:   2.056 |\n",
      "| Test acc:  0.72129  | Test f1:  0.51367  |\n",
      "========= EPOCH 3 STARTED =========\n"
     ]
    },
    {
     "name": "stderr",
     "output_type": "stream",
     "text": [
      "100%|██████████| 891/891 [00:02<00:00, 411.24it/s]\n"
     ]
    },
    {
     "name": "stdout",
     "output_type": "stream",
     "text": [
      "========= TEST EVALUATION STARTED =========\n",
      "END OF 3 EPOCH\n",
      "| Time taken:   2.179 |\n",
      "| Test acc:  0.72235  | Test f1:  0.51684  |\n",
      "========= EPOCH 4 STARTED =========\n"
     ]
    },
    {
     "name": "stderr",
     "output_type": "stream",
     "text": [
      "100%|██████████| 891/891 [00:02<00:00, 404.41it/s]\n"
     ]
    },
    {
     "name": "stdout",
     "output_type": "stream",
     "text": [
      "========= TEST EVALUATION STARTED =========\n",
      "END OF 4 EPOCH\n",
      "| Time taken:   2.215 |\n",
      "| Test acc:  0.72080  | Test f1:  0.51443  |\n",
      "========= EPOCH 5 STARTED =========\n"
     ]
    },
    {
     "name": "stderr",
     "output_type": "stream",
     "text": [
      "100%|██████████| 891/891 [00:02<00:00, 406.13it/s]\n"
     ]
    },
    {
     "name": "stdout",
     "output_type": "stream",
     "text": [
      "========= TEST EVALUATION STARTED =========\n",
      "END OF 5 EPOCH\n",
      "| Time taken:   2.210 |\n",
      "| Test acc:  0.72172  | Test f1:  0.51336  |\n",
      "========= EPOCH 6 STARTED =========\n"
     ]
    },
    {
     "name": "stderr",
     "output_type": "stream",
     "text": [
      "100%|██████████| 891/891 [00:02<00:00, 436.56it/s]\n"
     ]
    },
    {
     "name": "stdout",
     "output_type": "stream",
     "text": [
      "========= TEST EVALUATION STARTED =========\n",
      "END OF 6 EPOCH\n",
      "| Time taken:   2.054 |\n",
      "| Test acc:  0.72101  | Test f1:  0.51615  |\n",
      "========= EPOCH 7 STARTED =========\n"
     ]
    },
    {
     "name": "stderr",
     "output_type": "stream",
     "text": [
      "100%|██████████| 891/891 [00:02<00:00, 435.02it/s]\n"
     ]
    },
    {
     "name": "stdout",
     "output_type": "stream",
     "text": [
      "========= TEST EVALUATION STARTED =========\n",
      "END OF 7 EPOCH\n",
      "| Time taken:   2.062 |\n",
      "| Test acc:  0.72157  | Test f1:  0.51395  |\n",
      "========= EPOCH 8 STARTED =========\n"
     ]
    },
    {
     "name": "stderr",
     "output_type": "stream",
     "text": [
      "100%|██████████| 891/891 [00:02<00:00, 402.27it/s]\n"
     ]
    },
    {
     "name": "stdout",
     "output_type": "stream",
     "text": [
      "========= TEST EVALUATION STARTED =========\n",
      "END OF 8 EPOCH\n",
      "| Time taken:   2.228 |\n",
      "| Test acc:  0.72052  | Test f1:  0.51592  |\n",
      "========= EPOCH 9 STARTED =========\n"
     ]
    },
    {
     "name": "stderr",
     "output_type": "stream",
     "text": [
      "100%|██████████| 891/891 [00:01<00:00, 445.64it/s]\n"
     ]
    },
    {
     "name": "stdout",
     "output_type": "stream",
     "text": [
      "========= TEST EVALUATION STARTED =========\n",
      "END OF 9 EPOCH\n",
      "| Time taken:   2.025 |\n",
      "| Test acc:  0.71940  | Test f1:  0.51179  |\n",
      "========= EPOCH 10 STARTED =========\n"
     ]
    },
    {
     "name": "stderr",
     "output_type": "stream",
     "text": [
      "100%|██████████| 891/891 [00:02<00:00, 415.03it/s]\n"
     ]
    },
    {
     "name": "stdout",
     "output_type": "stream",
     "text": [
      "========= TEST EVALUATION STARTED =========\n",
      "END OF 10 EPOCH\n",
      "| Time taken:   2.159 |\n",
      "| Test acc:  0.72038  | Test f1:  0.51385  |\n",
      "========= EPOCH 11 STARTED =========\n"
     ]
    },
    {
     "name": "stderr",
     "output_type": "stream",
     "text": [
      "100%|██████████| 891/891 [00:02<00:00, 409.92it/s]\n"
     ]
    },
    {
     "name": "stdout",
     "output_type": "stream",
     "text": [
      "========= TEST EVALUATION STARTED =========\n",
      "END OF 11 EPOCH\n",
      "| Time taken:   2.184 |\n",
      "| Test acc:  0.72080  | Test f1:  0.51533  |\n",
      "========= EPOCH 12 STARTED =========\n"
     ]
    },
    {
     "name": "stderr",
     "output_type": "stream",
     "text": [
      "100%|██████████| 891/891 [00:02<00:00, 388.58it/s]\n"
     ]
    },
    {
     "name": "stdout",
     "output_type": "stream",
     "text": [
      "========= TEST EVALUATION STARTED =========\n",
      "END OF 12 EPOCH\n",
      "| Time taken:   2.310 |\n",
      "| Test acc:  0.72143  | Test f1:  0.51430  |\n",
      "========= EPOCH 13 STARTED =========\n"
     ]
    },
    {
     "name": "stderr",
     "output_type": "stream",
     "text": [
      "100%|██████████| 891/891 [00:02<00:00, 404.33it/s]\n"
     ]
    },
    {
     "name": "stdout",
     "output_type": "stream",
     "text": [
      "========= TEST EVALUATION STARTED =========\n",
      "END OF 13 EPOCH\n",
      "| Time taken:   2.215 |\n",
      "| Test acc:  0.72073  | Test f1:  0.51394  |\n",
      "========= EPOCH 14 STARTED =========\n"
     ]
    },
    {
     "name": "stderr",
     "output_type": "stream",
     "text": [
      "100%|██████████| 891/891 [00:02<00:00, 423.06it/s]\n"
     ]
    },
    {
     "name": "stdout",
     "output_type": "stream",
     "text": [
      "========= TEST EVALUATION STARTED =========\n",
      "END OF 14 EPOCH\n",
      "| Time taken:   2.124 |\n",
      "| Test acc:  0.72108  | Test f1:  0.51372  |\n",
      "========= EPOCH 15 STARTED =========\n"
     ]
    },
    {
     "name": "stderr",
     "output_type": "stream",
     "text": [
      "100%|██████████| 891/891 [00:02<00:00, 435.25it/s]\n"
     ]
    },
    {
     "name": "stdout",
     "output_type": "stream",
     "text": [
      "========= TEST EVALUATION STARTED =========\n",
      "END OF 15 EPOCH\n",
      "| Time taken:   2.061 |\n",
      "| Test acc:  0.71975  | Test f1:  0.51188  |\n",
      "========= EPOCH 16 STARTED =========\n"
     ]
    },
    {
     "name": "stderr",
     "output_type": "stream",
     "text": [
      "100%|██████████| 891/891 [00:02<00:00, 440.66it/s]\n"
     ]
    },
    {
     "name": "stdout",
     "output_type": "stream",
     "text": [
      "========= TEST EVALUATION STARTED =========\n",
      "END OF 16 EPOCH\n",
      "| Time taken:   2.027 |\n",
      "| Test acc:  0.71968  | Test f1:  0.51230  |\n",
      "========= EPOCH 17 STARTED =========\n"
     ]
    },
    {
     "name": "stderr",
     "output_type": "stream",
     "text": [
      "100%|██████████| 891/891 [00:02<00:00, 435.06it/s]\n"
     ]
    },
    {
     "name": "stdout",
     "output_type": "stream",
     "text": [
      "========= TEST EVALUATION STARTED =========\n",
      "END OF 17 EPOCH\n",
      "| Time taken:   2.059 |\n",
      "| Test acc:  0.72003  | Test f1:  0.51334  |\n",
      "========= EPOCH 18 STARTED =========\n"
     ]
    },
    {
     "name": "stderr",
     "output_type": "stream",
     "text": [
      "100%|██████████| 891/891 [00:02<00:00, 441.75it/s]\n"
     ]
    },
    {
     "name": "stdout",
     "output_type": "stream",
     "text": [
      "========= TEST EVALUATION STARTED =========\n",
      "END OF 18 EPOCH\n",
      "| Time taken:   2.030 |\n",
      "| Test acc:  0.72094  | Test f1:  0.51308  |\n",
      "========= EPOCH 19 STARTED =========\n"
     ]
    },
    {
     "name": "stderr",
     "output_type": "stream",
     "text": [
      "100%|██████████| 891/891 [00:02<00:00, 430.63it/s]\n"
     ]
    },
    {
     "name": "stdout",
     "output_type": "stream",
     "text": [
      "========= TEST EVALUATION STARTED =========\n",
      "END OF 19 EPOCH\n",
      "| Time taken:   2.081 |\n",
      "| Test acc:  0.72024  | Test f1:  0.51340  |\n",
      "========= EPOCH 20 STARTED =========\n"
     ]
    },
    {
     "name": "stderr",
     "output_type": "stream",
     "text": [
      "100%|██████████| 891/891 [00:02<00:00, 438.48it/s]\n"
     ]
    },
    {
     "name": "stdout",
     "output_type": "stream",
     "text": [
      "========= TEST EVALUATION STARTED =========\n",
      "END OF 20 EPOCH\n",
      "| Time taken:   2.034 |\n",
      "| Test acc:  0.72115  | Test f1:  0.51433  |\n",
      "========= EPOCH 21 STARTED =========\n"
     ]
    },
    {
     "name": "stderr",
     "output_type": "stream",
     "text": [
      "100%|██████████| 891/891 [00:02<00:00, 437.92it/s]\n"
     ]
    },
    {
     "name": "stdout",
     "output_type": "stream",
     "text": [
      "========= TEST EVALUATION STARTED =========\n",
      "END OF 21 EPOCH\n",
      "| Time taken:   2.050 |\n",
      "| Test acc:  0.72157  | Test f1:  0.51362  |\n",
      "========= EPOCH 22 STARTED =========\n"
     ]
    },
    {
     "name": "stderr",
     "output_type": "stream",
     "text": [
      "100%|██████████| 891/891 [00:02<00:00, 426.94it/s]\n"
     ]
    },
    {
     "name": "stdout",
     "output_type": "stream",
     "text": [
      "========= TEST EVALUATION STARTED =========\n",
      "END OF 22 EPOCH\n",
      "| Time taken:   2.103 |\n",
      "| Test acc:  0.72094  | Test f1:  0.51320  |\n",
      "========= EPOCH 23 STARTED =========\n"
     ]
    },
    {
     "name": "stderr",
     "output_type": "stream",
     "text": [
      "100%|██████████| 891/891 [00:02<00:00, 432.53it/s]\n"
     ]
    },
    {
     "name": "stdout",
     "output_type": "stream",
     "text": [
      "========= TEST EVALUATION STARTED =========\n",
      "END OF 23 EPOCH\n",
      "| Time taken:   2.062 |\n",
      "| Test acc:  0.72143  | Test f1:  0.51359  |\n",
      "========= EPOCH 24 STARTED =========\n"
     ]
    },
    {
     "name": "stderr",
     "output_type": "stream",
     "text": [
      "100%|██████████| 891/891 [00:02<00:00, 431.46it/s]\n"
     ]
    },
    {
     "name": "stdout",
     "output_type": "stream",
     "text": [
      "========= TEST EVALUATION STARTED =========\n",
      "END OF 24 EPOCH\n",
      "| Time taken:   2.078 |\n",
      "| Test acc:  0.72207  | Test f1:  0.51353  |\n",
      "========= EPOCH 25 STARTED =========\n"
     ]
    },
    {
     "name": "stderr",
     "output_type": "stream",
     "text": [
      "100%|██████████| 891/891 [00:02<00:00, 429.45it/s]\n",
      "[I 2023-12-17 14:03:38,816] Trial 6 finished with value: 0.7217153284671532 and parameters: {'num_layers': 1, 'layer_units_0': 30, 'dropout': 0.41471691529038524, 'lr': 1.1235506884126442e-05}. Best is trial 3 with value: 0.7219258843346434.\n",
      "C:\\Users\\patel\\AppData\\Local\\Temp\\ipykernel_73972\\2609389762.py:3: FutureWarning: suggest_int() got {'step'} as positional arguments but they were expected to be given as keyword arguments.\n",
      "  num_layers = trial.suggest_int('num_layers', 1, 2, 3)  # Number of layers to optimize\n",
      "C:\\Users\\patel\\AppData\\Roaming\\Python\\Python311\\site-packages\\optuna\\distributions.py:700: UserWarning: The distribution is specified by [1, 2] and step=3, but the range is not divisible by `step`. It will be replaced by [1, 1].\n",
      "  warnings.warn(\n"
     ]
    },
    {
     "name": "stdout",
     "output_type": "stream",
     "text": [
      "========= TEST EVALUATION STARTED =========\n",
      "END OF 25 EPOCH\n",
      "| Time taken:   2.075 |\n",
      "| Test acc:  0.72172  | Test f1:  0.51247  |\n",
      "========= EPOCH 1 STARTED =========\n"
     ]
    },
    {
     "name": "stderr",
     "output_type": "stream",
     "text": [
      "100%|██████████| 891/891 [00:02<00:00, 439.65it/s]\n"
     ]
    },
    {
     "name": "stdout",
     "output_type": "stream",
     "text": [
      "========= TEST EVALUATION STARTED =========\n",
      "END OF 1 EPOCH\n",
      "| Time taken:   2.053 |\n",
      "| Test acc:  0.72024  | Test f1:  0.51109  |\n",
      "========= EPOCH 2 STARTED =========\n"
     ]
    },
    {
     "name": "stderr",
     "output_type": "stream",
     "text": [
      "100%|██████████| 891/891 [00:02<00:00, 431.76it/s]\n"
     ]
    },
    {
     "name": "stdout",
     "output_type": "stream",
     "text": [
      "========= TEST EVALUATION STARTED =========\n",
      "END OF 2 EPOCH\n",
      "| Time taken:   2.068 |\n",
      "| Test acc:  0.72052  | Test f1:  0.51355  |\n",
      "========= EPOCH 3 STARTED =========\n"
     ]
    },
    {
     "name": "stderr",
     "output_type": "stream",
     "text": [
      "100%|██████████| 891/891 [00:02<00:00, 389.70it/s]\n"
     ]
    },
    {
     "name": "stdout",
     "output_type": "stream",
     "text": [
      "========= TEST EVALUATION STARTED =========\n",
      "END OF 3 EPOCH\n",
      "| Time taken:   2.294 |\n",
      "| Test acc:  0.71996  | Test f1:  0.51226  |\n",
      "========= EPOCH 4 STARTED =========\n"
     ]
    },
    {
     "name": "stderr",
     "output_type": "stream",
     "text": [
      "100%|██████████| 891/891 [00:02<00:00, 425.71it/s]\n"
     ]
    },
    {
     "name": "stdout",
     "output_type": "stream",
     "text": [
      "========= TEST EVALUATION STARTED =========\n",
      "END OF 4 EPOCH\n",
      "| Time taken:   2.123 |\n",
      "| Test acc:  0.72080  | Test f1:  0.51301  |\n",
      "========= EPOCH 5 STARTED =========\n"
     ]
    },
    {
     "name": "stderr",
     "output_type": "stream",
     "text": [
      "100%|██████████| 891/891 [00:02<00:00, 432.75it/s]\n"
     ]
    },
    {
     "name": "stdout",
     "output_type": "stream",
     "text": [
      "========= TEST EVALUATION STARTED =========\n",
      "END OF 5 EPOCH\n",
      "| Time taken:   2.071 |\n",
      "| Test acc:  0.72094  | Test f1:  0.51529  |\n",
      "========= EPOCH 6 STARTED =========\n"
     ]
    },
    {
     "name": "stderr",
     "output_type": "stream",
     "text": [
      "100%|██████████| 891/891 [00:02<00:00, 397.38it/s]\n"
     ]
    },
    {
     "name": "stdout",
     "output_type": "stream",
     "text": [
      "========= TEST EVALUATION STARTED =========\n",
      "END OF 6 EPOCH\n",
      "| Time taken:   2.256 |\n",
      "| Test acc:  0.72101  | Test f1:  0.51527  |\n",
      "========= EPOCH 7 STARTED =========\n"
     ]
    },
    {
     "name": "stderr",
     "output_type": "stream",
     "text": [
      "100%|██████████| 891/891 [00:02<00:00, 406.22it/s]\n"
     ]
    },
    {
     "name": "stdout",
     "output_type": "stream",
     "text": [
      "========= TEST EVALUATION STARTED =========\n",
      "END OF 7 EPOCH\n",
      "| Time taken:   2.205 |\n",
      "| Test acc:  0.72059  | Test f1:  0.51290  |\n",
      "========= EPOCH 8 STARTED =========\n"
     ]
    },
    {
     "name": "stderr",
     "output_type": "stream",
     "text": [
      "100%|██████████| 891/891 [00:02<00:00, 399.17it/s]\n"
     ]
    },
    {
     "name": "stdout",
     "output_type": "stream",
     "text": [
      "========= TEST EVALUATION STARTED =========\n",
      "END OF 8 EPOCH\n",
      "| Time taken:   2.245 |\n",
      "| Test acc:  0.72122  | Test f1:  0.51660  |\n",
      "========= EPOCH 9 STARTED =========\n"
     ]
    },
    {
     "name": "stderr",
     "output_type": "stream",
     "text": [
      "100%|██████████| 891/891 [00:02<00:00, 395.86it/s]\n"
     ]
    },
    {
     "name": "stdout",
     "output_type": "stream",
     "text": [
      "========= TEST EVALUATION STARTED =========\n",
      "END OF 9 EPOCH\n",
      "| Time taken:   2.264 |\n",
      "| Test acc:  0.72045  | Test f1:  0.51037  |\n",
      "========= EPOCH 10 STARTED =========\n"
     ]
    },
    {
     "name": "stderr",
     "output_type": "stream",
     "text": [
      "100%|██████████| 891/891 [00:02<00:00, 434.34it/s]\n"
     ]
    },
    {
     "name": "stdout",
     "output_type": "stream",
     "text": [
      "========= TEST EVALUATION STARTED =========\n",
      "END OF 10 EPOCH\n",
      "| Time taken:   2.063 |\n",
      "| Test acc:  0.72087  | Test f1:  0.51177  |\n",
      "========= EPOCH 11 STARTED =========\n"
     ]
    },
    {
     "name": "stderr",
     "output_type": "stream",
     "text": [
      "100%|██████████| 891/891 [00:02<00:00, 432.03it/s]\n"
     ]
    },
    {
     "name": "stdout",
     "output_type": "stream",
     "text": [
      "========= TEST EVALUATION STARTED =========\n",
      "END OF 11 EPOCH\n",
      "| Time taken:   2.068 |\n",
      "| Test acc:  0.72087  | Test f1:  0.51121  |\n",
      "========= EPOCH 12 STARTED =========\n"
     ]
    },
    {
     "name": "stderr",
     "output_type": "stream",
     "text": [
      "100%|██████████| 891/891 [00:02<00:00, 419.58it/s]\n"
     ]
    },
    {
     "name": "stdout",
     "output_type": "stream",
     "text": [
      "========= TEST EVALUATION STARTED =========\n",
      "END OF 12 EPOCH\n",
      "| Time taken:   2.146 |\n",
      "| Test acc:  0.72115  | Test f1:  0.51457  |\n",
      "========= EPOCH 13 STARTED =========\n"
     ]
    },
    {
     "name": "stderr",
     "output_type": "stream",
     "text": [
      "100%|██████████| 891/891 [00:02<00:00, 415.55it/s]\n"
     ]
    },
    {
     "name": "stdout",
     "output_type": "stream",
     "text": [
      "========= TEST EVALUATION STARTED =========\n",
      "END OF 13 EPOCH\n",
      "| Time taken:   2.157 |\n",
      "| Test acc:  0.72108  | Test f1:  0.51357  |\n",
      "========= EPOCH 14 STARTED =========\n"
     ]
    },
    {
     "name": "stderr",
     "output_type": "stream",
     "text": [
      "100%|██████████| 891/891 [00:02<00:00, 406.48it/s]\n"
     ]
    },
    {
     "name": "stdout",
     "output_type": "stream",
     "text": [
      "========= TEST EVALUATION STARTED =========\n",
      "END OF 14 EPOCH\n",
      "| Time taken:   2.203 |\n",
      "| Test acc:  0.72031  | Test f1:  0.51250  |\n",
      "========= EPOCH 15 STARTED =========\n"
     ]
    },
    {
     "name": "stderr",
     "output_type": "stream",
     "text": [
      "100%|██████████| 891/891 [00:02<00:00, 422.05it/s]\n"
     ]
    },
    {
     "name": "stdout",
     "output_type": "stream",
     "text": [
      "========= TEST EVALUATION STARTED =========\n",
      "END OF 15 EPOCH\n",
      "| Time taken:   2.122 |\n",
      "| Test acc:  0.72186  | Test f1:  0.51517  |\n",
      "========= EPOCH 16 STARTED =========\n"
     ]
    },
    {
     "name": "stderr",
     "output_type": "stream",
     "text": [
      "100%|██████████| 891/891 [00:02<00:00, 438.27it/s]\n"
     ]
    },
    {
     "name": "stdout",
     "output_type": "stream",
     "text": [
      "========= TEST EVALUATION STARTED =========\n",
      "END OF 16 EPOCH\n",
      "| Time taken:   2.040 |\n",
      "| Test acc:  0.72108  | Test f1:  0.51448  |\n",
      "========= EPOCH 17 STARTED =========\n"
     ]
    },
    {
     "name": "stderr",
     "output_type": "stream",
     "text": [
      "100%|██████████| 891/891 [00:02<00:00, 403.37it/s]\n"
     ]
    },
    {
     "name": "stdout",
     "output_type": "stream",
     "text": [
      "========= TEST EVALUATION STARTED =========\n",
      "END OF 17 EPOCH\n",
      "| Time taken:   2.215 |\n",
      "| Test acc:  0.72066  | Test f1:  0.51416  |\n",
      "========= EPOCH 18 STARTED =========\n"
     ]
    },
    {
     "name": "stderr",
     "output_type": "stream",
     "text": [
      "100%|██████████| 891/891 [00:02<00:00, 433.35it/s]\n"
     ]
    },
    {
     "name": "stdout",
     "output_type": "stream",
     "text": [
      "========= TEST EVALUATION STARTED =========\n",
      "END OF 18 EPOCH\n",
      "| Time taken:   2.063 |\n",
      "| Test acc:  0.72101  | Test f1:  0.51331  |\n",
      "========= EPOCH 19 STARTED =========\n"
     ]
    },
    {
     "name": "stderr",
     "output_type": "stream",
     "text": [
      "100%|██████████| 891/891 [00:02<00:00, 433.81it/s]\n"
     ]
    },
    {
     "name": "stdout",
     "output_type": "stream",
     "text": [
      "========= TEST EVALUATION STARTED =========\n",
      "END OF 19 EPOCH\n",
      "| Time taken:   2.085 |\n",
      "| Test acc:  0.72031  | Test f1:  0.51370  |\n",
      "========= EPOCH 20 STARTED =========\n"
     ]
    },
    {
     "name": "stderr",
     "output_type": "stream",
     "text": [
      "100%|██████████| 891/891 [00:02<00:00, 415.27it/s]\n"
     ]
    },
    {
     "name": "stdout",
     "output_type": "stream",
     "text": [
      "========= TEST EVALUATION STARTED =========\n",
      "END OF 20 EPOCH\n",
      "| Time taken:   2.158 |\n",
      "| Test acc:  0.72052  | Test f1:  0.51071  |\n",
      "========= EPOCH 21 STARTED =========\n"
     ]
    },
    {
     "name": "stderr",
     "output_type": "stream",
     "text": [
      "100%|██████████| 891/891 [00:02<00:00, 392.61it/s]\n"
     ]
    },
    {
     "name": "stdout",
     "output_type": "stream",
     "text": [
      "========= TEST EVALUATION STARTED =========\n",
      "END OF 21 EPOCH\n",
      "| Time taken:   2.285 |\n",
      "| Test acc:  0.72080  | Test f1:  0.51299  |\n",
      "========= EPOCH 22 STARTED =========\n"
     ]
    },
    {
     "name": "stderr",
     "output_type": "stream",
     "text": [
      "100%|██████████| 891/891 [00:02<00:00, 380.67it/s]\n"
     ]
    },
    {
     "name": "stdout",
     "output_type": "stream",
     "text": [
      "========= TEST EVALUATION STARTED =========\n",
      "END OF 22 EPOCH\n",
      "| Time taken:   2.347 |\n",
      "| Test acc:  0.71989  | Test f1:  0.51277  |\n",
      "========= EPOCH 23 STARTED =========\n"
     ]
    },
    {
     "name": "stderr",
     "output_type": "stream",
     "text": [
      "100%|██████████| 891/891 [00:02<00:00, 432.86it/s]\n"
     ]
    },
    {
     "name": "stdout",
     "output_type": "stream",
     "text": [
      "========= TEST EVALUATION STARTED =========\n",
      "END OF 23 EPOCH\n",
      "| Time taken:   2.076 |\n",
      "| Test acc:  0.72010  | Test f1:  0.51123  |\n",
      "========= EPOCH 24 STARTED =========\n"
     ]
    },
    {
     "name": "stderr",
     "output_type": "stream",
     "text": [
      "100%|██████████| 891/891 [00:02<00:00, 435.27it/s]\n"
     ]
    },
    {
     "name": "stdout",
     "output_type": "stream",
     "text": [
      "========= TEST EVALUATION STARTED =========\n",
      "END OF 24 EPOCH\n",
      "| Time taken:   2.048 |\n",
      "| Test acc:  0.71947  | Test f1:  0.50941  |\n",
      "========= EPOCH 25 STARTED =========\n"
     ]
    },
    {
     "name": "stderr",
     "output_type": "stream",
     "text": [
      "100%|██████████| 891/891 [00:02<00:00, 390.05it/s]\n",
      "[I 2023-12-17 14:04:32,794] Trial 7 finished with value: 0.720241437394722 and parameters: {'num_layers': 1, 'layer_units_0': 24, 'dropout': 0.2708102341829473, 'lr': 4.989013690589548e-05}. Best is trial 3 with value: 0.7219258843346434.\n",
      "C:\\Users\\patel\\AppData\\Local\\Temp\\ipykernel_73972\\2609389762.py:3: FutureWarning: suggest_int() got {'step'} as positional arguments but they were expected to be given as keyword arguments.\n",
      "  num_layers = trial.suggest_int('num_layers', 1, 2, 3)  # Number of layers to optimize\n",
      "C:\\Users\\patel\\AppData\\Roaming\\Python\\Python311\\site-packages\\optuna\\distributions.py:700: UserWarning: The distribution is specified by [1, 2] and step=3, but the range is not divisible by `step`. It will be replaced by [1, 1].\n",
      "  warnings.warn(\n"
     ]
    },
    {
     "name": "stdout",
     "output_type": "stream",
     "text": [
      "========= TEST EVALUATION STARTED =========\n",
      "END OF 25 EPOCH\n",
      "| Time taken:   2.314 |\n",
      "| Test acc:  0.72024  | Test f1:  0.51098  |\n",
      "========= EPOCH 1 STARTED =========\n"
     ]
    },
    {
     "name": "stderr",
     "output_type": "stream",
     "text": [
      "100%|██████████| 891/891 [00:02<00:00, 400.05it/s]\n"
     ]
    },
    {
     "name": "stdout",
     "output_type": "stream",
     "text": [
      "========= TEST EVALUATION STARTED =========\n",
      "END OF 1 EPOCH\n",
      "| Time taken:   2.237 |\n",
      "| Test acc:  0.72080  | Test f1:  0.51090  |\n",
      "========= EPOCH 2 STARTED =========\n"
     ]
    },
    {
     "name": "stderr",
     "output_type": "stream",
     "text": [
      "100%|██████████| 891/891 [00:02<00:00, 431.68it/s]\n"
     ]
    },
    {
     "name": "stdout",
     "output_type": "stream",
     "text": [
      "========= TEST EVALUATION STARTED =========\n",
      "END OF 2 EPOCH\n",
      "| Time taken:   2.080 |\n",
      "| Test acc:  0.71996  | Test f1:  0.50964  |\n",
      "========= EPOCH 3 STARTED =========\n"
     ]
    },
    {
     "name": "stderr",
     "output_type": "stream",
     "text": [
      "100%|██████████| 891/891 [00:02<00:00, 399.05it/s]\n"
     ]
    },
    {
     "name": "stdout",
     "output_type": "stream",
     "text": [
      "========= TEST EVALUATION STARTED =========\n",
      "END OF 3 EPOCH\n",
      "| Time taken:   2.247 |\n",
      "| Test acc:  0.72094  | Test f1:  0.51279  |\n",
      "========= EPOCH 4 STARTED =========\n"
     ]
    },
    {
     "name": "stderr",
     "output_type": "stream",
     "text": [
      "100%|██████████| 891/891 [00:02<00:00, 426.97it/s]\n"
     ]
    },
    {
     "name": "stdout",
     "output_type": "stream",
     "text": [
      "========= TEST EVALUATION STARTED =========\n",
      "END OF 4 EPOCH\n",
      "| Time taken:   2.099 |\n",
      "| Test acc:  0.71982  | Test f1:  0.51163  |\n",
      "========= EPOCH 5 STARTED =========\n"
     ]
    },
    {
     "name": "stderr",
     "output_type": "stream",
     "text": [
      "100%|██████████| 891/891 [00:02<00:00, 435.27it/s]\n"
     ]
    },
    {
     "name": "stdout",
     "output_type": "stream",
     "text": [
      "========= TEST EVALUATION STARTED =========\n",
      "END OF 5 EPOCH\n",
      "| Time taken:   2.047 |\n",
      "| Test acc:  0.72017  | Test f1:  0.51341  |\n",
      "========= EPOCH 6 STARTED =========\n"
     ]
    },
    {
     "name": "stderr",
     "output_type": "stream",
     "text": [
      "100%|██████████| 891/891 [00:02<00:00, 436.76it/s]\n"
     ]
    },
    {
     "name": "stdout",
     "output_type": "stream",
     "text": [
      "========= TEST EVALUATION STARTED =========\n",
      "END OF 6 EPOCH\n",
      "| Time taken:   2.064 |\n",
      "| Test acc:  0.71989  | Test f1:  0.51300  |\n",
      "========= EPOCH 7 STARTED =========\n"
     ]
    },
    {
     "name": "stderr",
     "output_type": "stream",
     "text": [
      "100%|██████████| 891/891 [00:02<00:00, 433.09it/s]\n"
     ]
    },
    {
     "name": "stdout",
     "output_type": "stream",
     "text": [
      "========= TEST EVALUATION STARTED =========\n",
      "END OF 7 EPOCH\n",
      "| Time taken:   2.068 |\n",
      "| Test acc:  0.72017  | Test f1:  0.51295  |\n",
      "========= EPOCH 8 STARTED =========\n"
     ]
    },
    {
     "name": "stderr",
     "output_type": "stream",
     "text": [
      "100%|██████████| 891/891 [00:02<00:00, 430.49it/s]\n"
     ]
    },
    {
     "name": "stdout",
     "output_type": "stream",
     "text": [
      "========= TEST EVALUATION STARTED =========\n",
      "END OF 8 EPOCH\n",
      "| Time taken:   2.070 |\n",
      "| Test acc:  0.72115  | Test f1:  0.51151  |\n",
      "========= EPOCH 9 STARTED =========\n"
     ]
    },
    {
     "name": "stderr",
     "output_type": "stream",
     "text": [
      "100%|██████████| 891/891 [00:02<00:00, 431.67it/s]\n"
     ]
    },
    {
     "name": "stdout",
     "output_type": "stream",
     "text": [
      "========= TEST EVALUATION STARTED =========\n",
      "END OF 9 EPOCH\n",
      "| Time taken:   2.080 |\n",
      "| Test acc:  0.72066  | Test f1:  0.51303  |\n",
      "========= EPOCH 10 STARTED =========\n"
     ]
    },
    {
     "name": "stderr",
     "output_type": "stream",
     "text": [
      "100%|██████████| 891/891 [00:02<00:00, 435.69it/s]\n"
     ]
    },
    {
     "name": "stdout",
     "output_type": "stream",
     "text": [
      "========= TEST EVALUATION STARTED =========\n",
      "END OF 10 EPOCH\n",
      "| Time taken:   2.045 |\n",
      "| Test acc:  0.72024  | Test f1:  0.51568  |\n",
      "========= EPOCH 11 STARTED =========\n"
     ]
    },
    {
     "name": "stderr",
     "output_type": "stream",
     "text": [
      "100%|██████████| 891/891 [00:02<00:00, 433.08it/s]\n"
     ]
    },
    {
     "name": "stdout",
     "output_type": "stream",
     "text": [
      "========= TEST EVALUATION STARTED =========\n",
      "END OF 11 EPOCH\n",
      "| Time taken:   2.089 |\n",
      "| Test acc:  0.72045  | Test f1:  0.51148  |\n",
      "========= EPOCH 12 STARTED =========\n"
     ]
    },
    {
     "name": "stderr",
     "output_type": "stream",
     "text": [
      "100%|██████████| 891/891 [00:02<00:00, 431.45it/s]\n"
     ]
    },
    {
     "name": "stdout",
     "output_type": "stream",
     "text": [
      "========= TEST EVALUATION STARTED =========\n",
      "END OF 12 EPOCH\n",
      "| Time taken:   2.078 |\n",
      "| Test acc:  0.71954  | Test f1:  0.51087  |\n",
      "========= EPOCH 13 STARTED =========\n"
     ]
    },
    {
     "name": "stderr",
     "output_type": "stream",
     "text": [
      "100%|██████████| 891/891 [00:02<00:00, 426.22it/s]\n"
     ]
    },
    {
     "name": "stdout",
     "output_type": "stream",
     "text": [
      "========= TEST EVALUATION STARTED =========\n",
      "END OF 13 EPOCH\n",
      "| Time taken:   2.107 |\n",
      "| Test acc:  0.72038  | Test f1:  0.51225  |\n",
      "========= EPOCH 14 STARTED =========\n"
     ]
    },
    {
     "name": "stderr",
     "output_type": "stream",
     "text": [
      "100%|██████████| 891/891 [00:02<00:00, 437.26it/s]\n"
     ]
    },
    {
     "name": "stdout",
     "output_type": "stream",
     "text": [
      "========= TEST EVALUATION STARTED =========\n",
      "END OF 14 EPOCH\n",
      "| Time taken:   2.046 |\n",
      "| Test acc:  0.72059  | Test f1:  0.50931  |\n",
      "========= EPOCH 15 STARTED =========\n"
     ]
    },
    {
     "name": "stderr",
     "output_type": "stream",
     "text": [
      "100%|██████████| 891/891 [00:02<00:00, 434.45it/s]\n"
     ]
    },
    {
     "name": "stdout",
     "output_type": "stream",
     "text": [
      "========= TEST EVALUATION STARTED =========\n",
      "END OF 15 EPOCH\n",
      "| Time taken:   2.061 |\n",
      "| Test acc:  0.72010  | Test f1:  0.51018  |\n",
      "========= EPOCH 16 STARTED =========\n"
     ]
    },
    {
     "name": "stderr",
     "output_type": "stream",
     "text": [
      "100%|██████████| 891/891 [00:02<00:00, 431.79it/s]\n"
     ]
    },
    {
     "name": "stdout",
     "output_type": "stream",
     "text": [
      "========= TEST EVALUATION STARTED =========\n",
      "END OF 16 EPOCH\n",
      "| Time taken:   2.075 |\n",
      "| Test acc:  0.72052  | Test f1:  0.51107  |\n",
      "========= EPOCH 17 STARTED =========\n"
     ]
    },
    {
     "name": "stderr",
     "output_type": "stream",
     "text": [
      "100%|██████████| 891/891 [00:02<00:00, 431.59it/s]\n"
     ]
    },
    {
     "name": "stdout",
     "output_type": "stream",
     "text": [
      "========= TEST EVALUATION STARTED =========\n",
      "END OF 17 EPOCH\n",
      "| Time taken:   2.072 |\n",
      "| Test acc:  0.71975  | Test f1:  0.51328  |\n",
      "========= EPOCH 18 STARTED =========\n"
     ]
    },
    {
     "name": "stderr",
     "output_type": "stream",
     "text": [
      "100%|██████████| 891/891 [00:02<00:00, 426.11it/s]\n"
     ]
    },
    {
     "name": "stdout",
     "output_type": "stream",
     "text": [
      "========= TEST EVALUATION STARTED =========\n",
      "END OF 18 EPOCH\n",
      "| Time taken:   2.105 |\n",
      "| Test acc:  0.72045  | Test f1:  0.51132  |\n",
      "========= EPOCH 19 STARTED =========\n"
     ]
    },
    {
     "name": "stderr",
     "output_type": "stream",
     "text": [
      "100%|██████████| 891/891 [00:02<00:00, 427.83it/s]\n"
     ]
    },
    {
     "name": "stdout",
     "output_type": "stream",
     "text": [
      "========= TEST EVALUATION STARTED =========\n",
      "END OF 19 EPOCH\n",
      "| Time taken:   2.096 |\n",
      "| Test acc:  0.72066  | Test f1:  0.51121  |\n",
      "========= EPOCH 20 STARTED =========\n"
     ]
    },
    {
     "name": "stderr",
     "output_type": "stream",
     "text": [
      "100%|██████████| 891/891 [00:02<00:00, 433.48it/s]\n"
     ]
    },
    {
     "name": "stdout",
     "output_type": "stream",
     "text": [
      "========= TEST EVALUATION STARTED =========\n",
      "END OF 20 EPOCH\n",
      "| Time taken:   2.071 |\n",
      "| Test acc:  0.72031  | Test f1:  0.50844  |\n",
      "========= EPOCH 21 STARTED =========\n"
     ]
    },
    {
     "name": "stderr",
     "output_type": "stream",
     "text": [
      "100%|██████████| 891/891 [00:02<00:00, 435.86it/s]\n"
     ]
    },
    {
     "name": "stdout",
     "output_type": "stream",
     "text": [
      "========= TEST EVALUATION STARTED =========\n",
      "END OF 21 EPOCH\n",
      "| Time taken:   2.055 |\n",
      "| Test acc:  0.72045  | Test f1:  0.51042  |\n",
      "========= EPOCH 22 STARTED =========\n"
     ]
    },
    {
     "name": "stderr",
     "output_type": "stream",
     "text": [
      "100%|██████████| 891/891 [00:02<00:00, 435.39it/s]\n"
     ]
    },
    {
     "name": "stdout",
     "output_type": "stream",
     "text": [
      "========= TEST EVALUATION STARTED =========\n",
      "END OF 22 EPOCH\n",
      "| Time taken:   2.047 |\n",
      "| Test acc:  0.72066  | Test f1:  0.51148  |\n",
      "========= EPOCH 23 STARTED =========\n"
     ]
    },
    {
     "name": "stderr",
     "output_type": "stream",
     "text": [
      "100%|██████████| 891/891 [00:02<00:00, 413.66it/s]\n"
     ]
    },
    {
     "name": "stdout",
     "output_type": "stream",
     "text": [
      "========= TEST EVALUATION STARTED =========\n",
      "END OF 23 EPOCH\n",
      "| Time taken:   2.159 |\n",
      "| Test acc:  0.72129  | Test f1:  0.51142  |\n",
      "========= EPOCH 24 STARTED =========\n"
     ]
    },
    {
     "name": "stderr",
     "output_type": "stream",
     "text": [
      "100%|██████████| 891/891 [00:02<00:00, 427.66it/s]\n"
     ]
    },
    {
     "name": "stdout",
     "output_type": "stream",
     "text": [
      "========= TEST EVALUATION STARTED =========\n",
      "END OF 24 EPOCH\n",
      "| Time taken:   2.097 |\n",
      "| Test acc:  0.72010  | Test f1:  0.51047  |\n",
      "========= EPOCH 25 STARTED =========\n"
     ]
    },
    {
     "name": "stderr",
     "output_type": "stream",
     "text": [
      "100%|██████████| 891/891 [00:02<00:00, 437.59it/s]\n",
      "[I 2023-12-17 14:05:25,049] Trial 8 finished with value: 0.7212240314430095 and parameters: {'num_layers': 1, 'layer_units_0': 29, 'dropout': 0.3924872949963505, 'lr': 1.4707840784698425e-05}. Best is trial 3 with value: 0.7219258843346434.\n",
      "C:\\Users\\patel\\AppData\\Local\\Temp\\ipykernel_73972\\2609389762.py:3: FutureWarning: suggest_int() got {'step'} as positional arguments but they were expected to be given as keyword arguments.\n",
      "  num_layers = trial.suggest_int('num_layers', 1, 2, 3)  # Number of layers to optimize\n",
      "C:\\Users\\patel\\AppData\\Roaming\\Python\\Python311\\site-packages\\optuna\\distributions.py:700: UserWarning: The distribution is specified by [1, 2] and step=3, but the range is not divisible by `step`. It will be replaced by [1, 1].\n",
      "  warnings.warn(\n"
     ]
    },
    {
     "name": "stdout",
     "output_type": "stream",
     "text": [
      "========= TEST EVALUATION STARTED =========\n",
      "END OF 25 EPOCH\n",
      "| Time taken:   2.042 |\n",
      "| Test acc:  0.72122  | Test f1:  0.51223  |\n",
      "========= EPOCH 1 STARTED =========\n"
     ]
    },
    {
     "name": "stderr",
     "output_type": "stream",
     "text": [
      "100%|██████████| 891/891 [00:02<00:00, 397.46it/s]\n"
     ]
    },
    {
     "name": "stdout",
     "output_type": "stream",
     "text": [
      "========= TEST EVALUATION STARTED =========\n",
      "END OF 1 EPOCH\n",
      "| Time taken:   2.253 |\n",
      "| Test acc:  0.72031  | Test f1:  0.51160  |\n",
      "========= EPOCH 2 STARTED =========\n"
     ]
    },
    {
     "name": "stderr",
     "output_type": "stream",
     "text": [
      "100%|██████████| 891/891 [00:02<00:00, 436.64it/s]\n"
     ]
    },
    {
     "name": "stdout",
     "output_type": "stream",
     "text": [
      "========= TEST EVALUATION STARTED =========\n",
      "END OF 2 EPOCH\n",
      "| Time taken:   2.050 |\n",
      "| Test acc:  0.72052  | Test f1:  0.51287  |\n",
      "========= EPOCH 3 STARTED =========\n"
     ]
    },
    {
     "name": "stderr",
     "output_type": "stream",
     "text": [
      "100%|██████████| 891/891 [00:02<00:00, 412.26it/s]\n"
     ]
    },
    {
     "name": "stdout",
     "output_type": "stream",
     "text": [
      "========= TEST EVALUATION STARTED =========\n",
      "END OF 3 EPOCH\n",
      "| Time taken:   2.181 |\n",
      "| Test acc:  0.72024  | Test f1:  0.51208  |\n",
      "========= EPOCH 4 STARTED =========\n"
     ]
    },
    {
     "name": "stderr",
     "output_type": "stream",
     "text": [
      "100%|██████████| 891/891 [00:02<00:00, 394.87it/s]\n"
     ]
    },
    {
     "name": "stdout",
     "output_type": "stream",
     "text": [
      "========= TEST EVALUATION STARTED =========\n",
      "END OF 4 EPOCH\n",
      "| Time taken:   2.269 |\n",
      "| Test acc:  0.71933  | Test f1:  0.51015  |\n",
      "========= EPOCH 5 STARTED =========\n"
     ]
    },
    {
     "name": "stderr",
     "output_type": "stream",
     "text": [
      "100%|██████████| 891/891 [00:02<00:00, 433.21it/s]\n"
     ]
    },
    {
     "name": "stdout",
     "output_type": "stream",
     "text": [
      "========= TEST EVALUATION STARTED =========\n",
      "END OF 5 EPOCH\n",
      "| Time taken:   2.071 |\n",
      "| Test acc:  0.72122  | Test f1:  0.51419  |\n",
      "========= EPOCH 6 STARTED =========\n"
     ]
    },
    {
     "name": "stderr",
     "output_type": "stream",
     "text": [
      "100%|██████████| 891/891 [00:02<00:00, 436.63it/s]\n"
     ]
    },
    {
     "name": "stdout",
     "output_type": "stream",
     "text": [
      "========= TEST EVALUATION STARTED =========\n",
      "END OF 6 EPOCH\n",
      "| Time taken:   2.052 |\n",
      "| Test acc:  0.72101  | Test f1:  0.51273  |\n",
      "========= EPOCH 7 STARTED =========\n"
     ]
    },
    {
     "name": "stderr",
     "output_type": "stream",
     "text": [
      "100%|██████████| 891/891 [00:02<00:00, 440.03it/s]\n"
     ]
    },
    {
     "name": "stdout",
     "output_type": "stream",
     "text": [
      "========= TEST EVALUATION STARTED =========\n",
      "END OF 7 EPOCH\n",
      "| Time taken:   2.052 |\n",
      "| Test acc:  0.72031  | Test f1:  0.51288  |\n",
      "========= EPOCH 8 STARTED =========\n"
     ]
    },
    {
     "name": "stderr",
     "output_type": "stream",
     "text": [
      "100%|██████████| 891/891 [00:02<00:00, 431.98it/s]\n"
     ]
    },
    {
     "name": "stdout",
     "output_type": "stream",
     "text": [
      "========= TEST EVALUATION STARTED =========\n",
      "END OF 8 EPOCH\n",
      "| Time taken:   2.079 |\n",
      "| Test acc:  0.72066  | Test f1:  0.51060  |\n",
      "========= EPOCH 9 STARTED =========\n"
     ]
    },
    {
     "name": "stderr",
     "output_type": "stream",
     "text": [
      "100%|██████████| 891/891 [00:02<00:00, 424.83it/s]\n"
     ]
    },
    {
     "name": "stdout",
     "output_type": "stream",
     "text": [
      "========= TEST EVALUATION STARTED =========\n",
      "END OF 9 EPOCH\n",
      "| Time taken:   2.113 |\n",
      "| Test acc:  0.72087  | Test f1:  0.51289  |\n",
      "========= EPOCH 10 STARTED =========\n"
     ]
    },
    {
     "name": "stderr",
     "output_type": "stream",
     "text": [
      "100%|██████████| 891/891 [00:02<00:00, 425.90it/s]\n"
     ]
    },
    {
     "name": "stdout",
     "output_type": "stream",
     "text": [
      "========= TEST EVALUATION STARTED =========\n",
      "END OF 10 EPOCH\n",
      "| Time taken:   2.092 |\n",
      "| Test acc:  0.72066  | Test f1:  0.51132  |\n",
      "========= EPOCH 11 STARTED =========\n"
     ]
    },
    {
     "name": "stderr",
     "output_type": "stream",
     "text": [
      "100%|██████████| 891/891 [00:02<00:00, 431.86it/s]\n"
     ]
    },
    {
     "name": "stdout",
     "output_type": "stream",
     "text": [
      "========= TEST EVALUATION STARTED =========\n",
      "END OF 11 EPOCH\n",
      "| Time taken:   2.069 |\n",
      "| Test acc:  0.72073  | Test f1:  0.51175  |\n",
      "========= EPOCH 12 STARTED =========\n"
     ]
    },
    {
     "name": "stderr",
     "output_type": "stream",
     "text": [
      "100%|██████████| 891/891 [00:02<00:00, 418.95it/s]\n"
     ]
    },
    {
     "name": "stdout",
     "output_type": "stream",
     "text": [
      "========= TEST EVALUATION STARTED =========\n",
      "END OF 12 EPOCH\n",
      "| Time taken:   2.139 |\n",
      "| Test acc:  0.71891  | Test f1:  0.50816  |\n",
      "========= EPOCH 13 STARTED =========\n"
     ]
    },
    {
     "name": "stderr",
     "output_type": "stream",
     "text": [
      "100%|██████████| 891/891 [00:02<00:00, 430.82it/s]\n"
     ]
    },
    {
     "name": "stdout",
     "output_type": "stream",
     "text": [
      "========= TEST EVALUATION STARTED =========\n",
      "END OF 13 EPOCH\n",
      "| Time taken:   2.070 |\n",
      "| Test acc:  0.71947  | Test f1:  0.51165  |\n",
      "========= EPOCH 14 STARTED =========\n"
     ]
    },
    {
     "name": "stderr",
     "output_type": "stream",
     "text": [
      "100%|██████████| 891/891 [00:02<00:00, 442.00it/s]\n"
     ]
    },
    {
     "name": "stdout",
     "output_type": "stream",
     "text": [
      "========= TEST EVALUATION STARTED =========\n",
      "END OF 14 EPOCH\n",
      "| Time taken:   2.055 |\n",
      "| Test acc:  0.72010  | Test f1:  0.51180  |\n",
      "========= EPOCH 15 STARTED =========\n"
     ]
    },
    {
     "name": "stderr",
     "output_type": "stream",
     "text": [
      "100%|██████████| 891/891 [00:02<00:00, 432.26it/s]\n"
     ]
    },
    {
     "name": "stdout",
     "output_type": "stream",
     "text": [
      "========= TEST EVALUATION STARTED =========\n",
      "END OF 15 EPOCH\n",
      "| Time taken:   2.078 |\n",
      "| Test acc:  0.72045  | Test f1:  0.51147  |\n",
      "========= EPOCH 16 STARTED =========\n"
     ]
    },
    {
     "name": "stderr",
     "output_type": "stream",
     "text": [
      "100%|██████████| 891/891 [00:02<00:00, 423.52it/s]\n"
     ]
    },
    {
     "name": "stdout",
     "output_type": "stream",
     "text": [
      "========= TEST EVALUATION STARTED =========\n",
      "END OF 16 EPOCH\n",
      "| Time taken:   2.118 |\n",
      "| Test acc:  0.72052  | Test f1:  0.51188  |\n",
      "========= EPOCH 17 STARTED =========\n"
     ]
    },
    {
     "name": "stderr",
     "output_type": "stream",
     "text": [
      "100%|██████████| 891/891 [00:02<00:00, 440.70it/s]\n"
     ]
    },
    {
     "name": "stdout",
     "output_type": "stream",
     "text": [
      "========= TEST EVALUATION STARTED =========\n",
      "END OF 17 EPOCH\n",
      "| Time taken:   2.041 |\n",
      "| Test acc:  0.72045  | Test f1:  0.51136  |\n",
      "========= EPOCH 18 STARTED =========\n"
     ]
    },
    {
     "name": "stderr",
     "output_type": "stream",
     "text": [
      "100%|██████████| 891/891 [00:02<00:00, 431.94it/s]\n"
     ]
    },
    {
     "name": "stdout",
     "output_type": "stream",
     "text": [
      "========= TEST EVALUATION STARTED =========\n",
      "END OF 18 EPOCH\n",
      "| Time taken:   2.078 |\n",
      "| Test acc:  0.72073  | Test f1:  0.50934  |\n",
      "========= EPOCH 19 STARTED =========\n"
     ]
    },
    {
     "name": "stderr",
     "output_type": "stream",
     "text": [
      "100%|██████████| 891/891 [00:02<00:00, 418.00it/s]\n"
     ]
    },
    {
     "name": "stdout",
     "output_type": "stream",
     "text": [
      "========= TEST EVALUATION STARTED =========\n",
      "END OF 19 EPOCH\n",
      "| Time taken:   2.137 |\n",
      "| Test acc:  0.71996  | Test f1:  0.50891  |\n",
      "========= EPOCH 20 STARTED =========\n"
     ]
    },
    {
     "name": "stderr",
     "output_type": "stream",
     "text": [
      "100%|██████████| 891/891 [00:02<00:00, 429.02it/s]\n"
     ]
    },
    {
     "name": "stdout",
     "output_type": "stream",
     "text": [
      "========= TEST EVALUATION STARTED =========\n",
      "END OF 20 EPOCH\n",
      "| Time taken:   2.090 |\n",
      "| Test acc:  0.72017  | Test f1:  0.51165  |\n",
      "========= EPOCH 21 STARTED =========\n"
     ]
    },
    {
     "name": "stderr",
     "output_type": "stream",
     "text": [
      "100%|██████████| 891/891 [00:02<00:00, 434.88it/s]\n"
     ]
    },
    {
     "name": "stdout",
     "output_type": "stream",
     "text": [
      "========= TEST EVALUATION STARTED =========\n",
      "END OF 21 EPOCH\n",
      "| Time taken:   2.049 |\n",
      "| Test acc:  0.72087  | Test f1:  0.51255  |\n",
      "========= EPOCH 22 STARTED =========\n"
     ]
    },
    {
     "name": "stderr",
     "output_type": "stream",
     "text": [
      "100%|██████████| 891/891 [00:02<00:00, 433.95it/s]\n"
     ]
    },
    {
     "name": "stdout",
     "output_type": "stream",
     "text": [
      "========= TEST EVALUATION STARTED =========\n",
      "END OF 22 EPOCH\n",
      "| Time taken:   2.077 |\n",
      "| Test acc:  0.72101  | Test f1:  0.51258  |\n",
      "========= EPOCH 23 STARTED =========\n"
     ]
    },
    {
     "name": "stderr",
     "output_type": "stream",
     "text": [
      "100%|██████████| 891/891 [00:02<00:00, 435.03it/s]\n"
     ]
    },
    {
     "name": "stdout",
     "output_type": "stream",
     "text": [
      "========= TEST EVALUATION STARTED =========\n",
      "END OF 23 EPOCH\n",
      "| Time taken:   2.068 |\n",
      "| Test acc:  0.72087  | Test f1:  0.51143  |\n",
      "========= EPOCH 24 STARTED =========\n"
     ]
    },
    {
     "name": "stderr",
     "output_type": "stream",
     "text": [
      "100%|██████████| 891/891 [00:02<00:00, 439.16it/s]\n"
     ]
    },
    {
     "name": "stdout",
     "output_type": "stream",
     "text": [
      "========= TEST EVALUATION STARTED =========\n",
      "END OF 24 EPOCH\n",
      "| Time taken:   2.055 |\n",
      "| Test acc:  0.72094  | Test f1:  0.50912  |\n",
      "========= EPOCH 25 STARTED =========\n"
     ]
    },
    {
     "name": "stderr",
     "output_type": "stream",
     "text": [
      "100%|██████████| 891/891 [00:02<00:00, 421.57it/s]\n",
      "[I 2023-12-17 14:06:17,526] Trial 9 finished with value: 0.7210134755755194 and parameters: {'num_layers': 1, 'layer_units_0': 29, 'dropout': 0.45936775094240617, 'lr': 0.006044170236594996}. Best is trial 3 with value: 0.7219258843346434.\n",
      "C:\\Users\\patel\\AppData\\Local\\Temp\\ipykernel_73972\\2609389762.py:3: FutureWarning: suggest_int() got {'step'} as positional arguments but they were expected to be given as keyword arguments.\n",
      "  num_layers = trial.suggest_int('num_layers', 1, 2, 3)  # Number of layers to optimize\n",
      "C:\\Users\\patel\\AppData\\Roaming\\Python\\Python311\\site-packages\\optuna\\distributions.py:700: UserWarning: The distribution is specified by [1, 2] and step=3, but the range is not divisible by `step`. It will be replaced by [1, 1].\n",
      "  warnings.warn(\n"
     ]
    },
    {
     "name": "stdout",
     "output_type": "stream",
     "text": [
      "========= TEST EVALUATION STARTED =========\n",
      "END OF 25 EPOCH\n",
      "| Time taken:   2.128 |\n",
      "| Test acc:  0.72101  | Test f1:  0.51268  |\n",
      "========= EPOCH 1 STARTED =========\n"
     ]
    },
    {
     "name": "stderr",
     "output_type": "stream",
     "text": [
      "100%|██████████| 891/891 [00:02<00:00, 415.06it/s]\n"
     ]
    },
    {
     "name": "stdout",
     "output_type": "stream",
     "text": [
      "========= TEST EVALUATION STARTED =========\n",
      "END OF 1 EPOCH\n",
      "| Time taken:   2.166 |\n",
      "| Test acc:  0.72052  | Test f1:  0.51428  |\n",
      "========= EPOCH 2 STARTED =========\n"
     ]
    },
    {
     "name": "stderr",
     "output_type": "stream",
     "text": [
      "100%|██████████| 891/891 [00:02<00:00, 409.79it/s]\n"
     ]
    },
    {
     "name": "stdout",
     "output_type": "stream",
     "text": [
      "========= TEST EVALUATION STARTED =========\n",
      "END OF 2 EPOCH\n",
      "| Time taken:   2.187 |\n",
      "| Test acc:  0.72143  | Test f1:  0.51630  |\n",
      "========= EPOCH 3 STARTED =========\n"
     ]
    },
    {
     "name": "stderr",
     "output_type": "stream",
     "text": [
      "100%|██████████| 891/891 [00:02<00:00, 407.49it/s]\n"
     ]
    },
    {
     "name": "stdout",
     "output_type": "stream",
     "text": [
      "========= TEST EVALUATION STARTED =========\n",
      "END OF 3 EPOCH\n",
      "| Time taken:   2.196 |\n",
      "| Test acc:  0.72129  | Test f1:  0.51411  |\n",
      "========= EPOCH 4 STARTED =========\n"
     ]
    },
    {
     "name": "stderr",
     "output_type": "stream",
     "text": [
      "100%|██████████| 891/891 [00:02<00:00, 409.83it/s]\n"
     ]
    },
    {
     "name": "stdout",
     "output_type": "stream",
     "text": [
      "========= TEST EVALUATION STARTED =========\n",
      "END OF 4 EPOCH\n",
      "| Time taken:   2.187 |\n",
      "| Test acc:  0.72087  | Test f1:  0.51223  |\n",
      "========= EPOCH 5 STARTED =========\n"
     ]
    },
    {
     "name": "stderr",
     "output_type": "stream",
     "text": [
      "100%|██████████| 891/891 [00:02<00:00, 414.97it/s]\n"
     ]
    },
    {
     "name": "stdout",
     "output_type": "stream",
     "text": [
      "========= TEST EVALUATION STARTED =========\n",
      "END OF 5 EPOCH\n",
      "| Time taken:   2.165 |\n",
      "| Test acc:  0.72172  | Test f1:  0.51297  |\n",
      "========= EPOCH 6 STARTED =========\n"
     ]
    },
    {
     "name": "stderr",
     "output_type": "stream",
     "text": [
      "100%|██████████| 891/891 [00:02<00:00, 413.99it/s]\n"
     ]
    },
    {
     "name": "stdout",
     "output_type": "stream",
     "text": [
      "========= TEST EVALUATION STARTED =========\n",
      "END OF 6 EPOCH\n",
      "| Time taken:   2.161 |\n",
      "| Test acc:  0.72207  | Test f1:  0.51400  |\n",
      "========= EPOCH 7 STARTED =========\n"
     ]
    },
    {
     "name": "stderr",
     "output_type": "stream",
     "text": [
      "100%|██████████| 891/891 [00:02<00:00, 412.35it/s]\n"
     ]
    },
    {
     "name": "stdout",
     "output_type": "stream",
     "text": [
      "========= TEST EVALUATION STARTED =========\n",
      "END OF 7 EPOCH\n",
      "| Time taken:   2.181 |\n",
      "| Test acc:  0.72228  | Test f1:  0.51251  |\n",
      "========= EPOCH 8 STARTED =========\n"
     ]
    },
    {
     "name": "stderr",
     "output_type": "stream",
     "text": [
      "100%|██████████| 891/891 [00:02<00:00, 413.84it/s]\n"
     ]
    },
    {
     "name": "stdout",
     "output_type": "stream",
     "text": [
      "========= TEST EVALUATION STARTED =========\n",
      "END OF 8 EPOCH\n",
      "| Time taken:   2.166 |\n",
      "| Test acc:  0.72186  | Test f1:  0.51336  |\n",
      "========= EPOCH 9 STARTED =========\n"
     ]
    },
    {
     "name": "stderr",
     "output_type": "stream",
     "text": [
      "100%|██████████| 891/891 [00:02<00:00, 416.50it/s]\n"
     ]
    },
    {
     "name": "stdout",
     "output_type": "stream",
     "text": [
      "========= TEST EVALUATION STARTED =========\n",
      "END OF 9 EPOCH\n",
      "| Time taken:   2.152 |\n",
      "| Test acc:  0.72052  | Test f1:  0.51291  |\n",
      "========= EPOCH 10 STARTED =========\n"
     ]
    },
    {
     "name": "stderr",
     "output_type": "stream",
     "text": [
      "100%|██████████| 891/891 [00:02<00:00, 412.50it/s]\n"
     ]
    },
    {
     "name": "stdout",
     "output_type": "stream",
     "text": [
      "========= TEST EVALUATION STARTED =========\n",
      "END OF 10 EPOCH\n",
      "| Time taken:   2.176 |\n",
      "| Test acc:  0.72122  | Test f1:  0.51206  |\n",
      "========= EPOCH 11 STARTED =========\n"
     ]
    },
    {
     "name": "stderr",
     "output_type": "stream",
     "text": [
      "100%|██████████| 891/891 [00:02<00:00, 422.27it/s]\n"
     ]
    },
    {
     "name": "stdout",
     "output_type": "stream",
     "text": [
      "========= TEST EVALUATION STARTED =========\n",
      "END OF 11 EPOCH\n",
      "| Time taken:   2.123 |\n",
      "| Test acc:  0.72186  | Test f1:  0.51413  |\n",
      "========= EPOCH 12 STARTED =========\n"
     ]
    },
    {
     "name": "stderr",
     "output_type": "stream",
     "text": [
      "100%|██████████| 891/891 [00:02<00:00, 412.59it/s]\n"
     ]
    },
    {
     "name": "stdout",
     "output_type": "stream",
     "text": [
      "========= TEST EVALUATION STARTED =========\n",
      "END OF 12 EPOCH\n",
      "| Time taken:   2.167 |\n",
      "| Test acc:  0.72045  | Test f1:  0.51071  |\n",
      "========= EPOCH 13 STARTED =========\n"
     ]
    },
    {
     "name": "stderr",
     "output_type": "stream",
     "text": [
      "100%|██████████| 891/891 [00:02<00:00, 412.54it/s]\n"
     ]
    },
    {
     "name": "stdout",
     "output_type": "stream",
     "text": [
      "========= TEST EVALUATION STARTED =========\n",
      "END OF 13 EPOCH\n",
      "| Time taken:   2.173 |\n",
      "| Test acc:  0.72052  | Test f1:  0.51060  |\n",
      "========= EPOCH 14 STARTED =========\n"
     ]
    },
    {
     "name": "stderr",
     "output_type": "stream",
     "text": [
      "100%|██████████| 891/891 [00:02<00:00, 420.79it/s]\n"
     ]
    },
    {
     "name": "stdout",
     "output_type": "stream",
     "text": [
      "========= TEST EVALUATION STARTED =========\n",
      "END OF 14 EPOCH\n",
      "| Time taken:   2.132 |\n",
      "| Test acc:  0.72017  | Test f1:  0.51043  |\n",
      "========= EPOCH 15 STARTED =========\n"
     ]
    },
    {
     "name": "stderr",
     "output_type": "stream",
     "text": [
      "100%|██████████| 891/891 [00:02<00:00, 414.00it/s]\n"
     ]
    },
    {
     "name": "stdout",
     "output_type": "stream",
     "text": [
      "========= TEST EVALUATION STARTED =========\n",
      "END OF 15 EPOCH\n",
      "| Time taken:   2.167 |\n",
      "| Test acc:  0.72115  | Test f1:  0.51208  |\n",
      "========= EPOCH 16 STARTED =========\n"
     ]
    },
    {
     "name": "stderr",
     "output_type": "stream",
     "text": [
      "100%|██████████| 891/891 [00:02<00:00, 418.94it/s]\n"
     ]
    },
    {
     "name": "stdout",
     "output_type": "stream",
     "text": [
      "========= TEST EVALUATION STARTED =========\n",
      "END OF 16 EPOCH\n",
      "| Time taken:   2.140 |\n",
      "| Test acc:  0.72108  | Test f1:  0.51126  |\n",
      "========= EPOCH 17 STARTED =========\n"
     ]
    },
    {
     "name": "stderr",
     "output_type": "stream",
     "text": [
      "100%|██████████| 891/891 [00:02<00:00, 414.15it/s]\n"
     ]
    },
    {
     "name": "stdout",
     "output_type": "stream",
     "text": [
      "========= TEST EVALUATION STARTED =========\n",
      "END OF 17 EPOCH\n",
      "| Time taken:   2.162 |\n",
      "| Test acc:  0.72073  | Test f1:  0.51428  |\n",
      "========= EPOCH 18 STARTED =========\n"
     ]
    },
    {
     "name": "stderr",
     "output_type": "stream",
     "text": [
      "100%|██████████| 891/891 [00:02<00:00, 413.39it/s]\n"
     ]
    },
    {
     "name": "stdout",
     "output_type": "stream",
     "text": [
      "========= TEST EVALUATION STARTED =========\n",
      "END OF 18 EPOCH\n",
      "| Time taken:   2.171 |\n",
      "| Test acc:  0.72052  | Test f1:  0.51077  |\n",
      "========= EPOCH 19 STARTED =========\n"
     ]
    },
    {
     "name": "stderr",
     "output_type": "stream",
     "text": [
      "100%|██████████| 891/891 [00:02<00:00, 421.96it/s]\n"
     ]
    },
    {
     "name": "stdout",
     "output_type": "stream",
     "text": [
      "========= TEST EVALUATION STARTED =========\n",
      "END OF 19 EPOCH\n",
      "| Time taken:   2.119 |\n",
      "| Test acc:  0.72150  | Test f1:  0.51077  |\n",
      "========= EPOCH 20 STARTED =========\n"
     ]
    },
    {
     "name": "stderr",
     "output_type": "stream",
     "text": [
      "100%|██████████| 891/891 [00:02<00:00, 419.34it/s]\n"
     ]
    },
    {
     "name": "stdout",
     "output_type": "stream",
     "text": [
      "========= TEST EVALUATION STARTED =========\n",
      "END OF 20 EPOCH\n",
      "| Time taken:   2.145 |\n",
      "| Test acc:  0.72080  | Test f1:  0.51309  |\n",
      "========= EPOCH 21 STARTED =========\n"
     ]
    },
    {
     "name": "stderr",
     "output_type": "stream",
     "text": [
      "100%|██████████| 891/891 [00:02<00:00, 412.41it/s]\n"
     ]
    },
    {
     "name": "stdout",
     "output_type": "stream",
     "text": [
      "========= TEST EVALUATION STARTED =========\n",
      "END OF 21 EPOCH\n",
      "| Time taken:   2.173 |\n",
      "| Test acc:  0.72010  | Test f1:  0.50818  |\n",
      "========= EPOCH 22 STARTED =========\n"
     ]
    },
    {
     "name": "stderr",
     "output_type": "stream",
     "text": [
      "100%|██████████| 891/891 [00:02<00:00, 417.89it/s]\n"
     ]
    },
    {
     "name": "stdout",
     "output_type": "stream",
     "text": [
      "========= TEST EVALUATION STARTED =========\n",
      "END OF 22 EPOCH\n",
      "| Time taken:   2.147 |\n",
      "| Test acc:  0.72045  | Test f1:  0.51131  |\n",
      "========= EPOCH 23 STARTED =========\n"
     ]
    },
    {
     "name": "stderr",
     "output_type": "stream",
     "text": [
      "100%|██████████| 891/891 [00:02<00:00, 419.34it/s]\n"
     ]
    },
    {
     "name": "stdout",
     "output_type": "stream",
     "text": [
      "========= TEST EVALUATION STARTED =========\n",
      "END OF 23 EPOCH\n",
      "| Time taken:   2.139 |\n",
      "| Test acc:  0.72073  | Test f1:  0.51168  |\n",
      "========= EPOCH 24 STARTED =========\n"
     ]
    },
    {
     "name": "stderr",
     "output_type": "stream",
     "text": [
      "100%|██████████| 891/891 [00:02<00:00, 419.39it/s]\n"
     ]
    },
    {
     "name": "stdout",
     "output_type": "stream",
     "text": [
      "========= TEST EVALUATION STARTED =========\n",
      "END OF 24 EPOCH\n",
      "| Time taken:   2.138 |\n",
      "| Test acc:  0.72024  | Test f1:  0.51049  |\n",
      "========= EPOCH 25 STARTED =========\n"
     ]
    },
    {
     "name": "stderr",
     "output_type": "stream",
     "text": [
      "100%|██████████| 891/891 [00:02<00:00, 416.67it/s]\n",
      "[I 2023-12-17 14:07:11,528] Trial 10 finished with value: 0.7203818079730488 and parameters: {'num_layers': 1, 'layer_units_0': 18, 'dropout': 0.49346181602138317, 'lr': 0.0009041348614274704}. Best is trial 3 with value: 0.7219258843346434.\n",
      "C:\\Users\\patel\\AppData\\Local\\Temp\\ipykernel_73972\\2609389762.py:3: FutureWarning: suggest_int() got {'step'} as positional arguments but they were expected to be given as keyword arguments.\n",
      "  num_layers = trial.suggest_int('num_layers', 1, 2, 3)  # Number of layers to optimize\n",
      "C:\\Users\\patel\\AppData\\Roaming\\Python\\Python311\\site-packages\\optuna\\distributions.py:700: UserWarning: The distribution is specified by [1, 2] and step=3, but the range is not divisible by `step`. It will be replaced by [1, 1].\n",
      "  warnings.warn(\n"
     ]
    },
    {
     "name": "stdout",
     "output_type": "stream",
     "text": [
      "========= TEST EVALUATION STARTED =========\n",
      "END OF 25 EPOCH\n",
      "| Time taken:   2.146 |\n",
      "| Test acc:  0.72038  | Test f1:  0.51348  |\n",
      "========= EPOCH 1 STARTED =========\n"
     ]
    },
    {
     "name": "stderr",
     "output_type": "stream",
     "text": [
      "100%|██████████| 891/891 [00:02<00:00, 417.83it/s]\n"
     ]
    },
    {
     "name": "stdout",
     "output_type": "stream",
     "text": [
      "========= TEST EVALUATION STARTED =========\n",
      "END OF 1 EPOCH\n",
      "| Time taken:   2.145 |\n",
      "| Test acc:  0.71982  | Test f1:  0.50985  |\n",
      "========= EPOCH 2 STARTED =========\n"
     ]
    },
    {
     "name": "stderr",
     "output_type": "stream",
     "text": [
      "100%|██████████| 891/891 [00:02<00:00, 404.57it/s]\n"
     ]
    },
    {
     "name": "stdout",
     "output_type": "stream",
     "text": [
      "========= TEST EVALUATION STARTED =========\n",
      "END OF 2 EPOCH\n",
      "| Time taken:   2.215 |\n",
      "| Test acc:  0.71975  | Test f1:  0.51055  |\n",
      "========= EPOCH 3 STARTED =========\n"
     ]
    },
    {
     "name": "stderr",
     "output_type": "stream",
     "text": [
      "100%|██████████| 891/891 [00:02<00:00, 422.69it/s]\n"
     ]
    },
    {
     "name": "stdout",
     "output_type": "stream",
     "text": [
      "========= TEST EVALUATION STARTED =========\n",
      "END OF 3 EPOCH\n",
      "| Time taken:   2.119 |\n",
      "| Test acc:  0.72052  | Test f1:  0.51261  |\n",
      "========= EPOCH 4 STARTED =========\n"
     ]
    },
    {
     "name": "stderr",
     "output_type": "stream",
     "text": [
      "100%|██████████| 891/891 [00:01<00:00, 456.95it/s]\n"
     ]
    },
    {
     "name": "stdout",
     "output_type": "stream",
     "text": [
      "========= TEST EVALUATION STARTED =========\n",
      "END OF 4 EPOCH\n",
      "| Time taken:   1.962 |\n",
      "| Test acc:  0.72052  | Test f1:  0.51261  |\n",
      "========= EPOCH 5 STARTED =========\n"
     ]
    },
    {
     "name": "stderr",
     "output_type": "stream",
     "text": [
      "100%|██████████| 891/891 [00:01<00:00, 469.51it/s]\n"
     ]
    },
    {
     "name": "stdout",
     "output_type": "stream",
     "text": [
      "========= TEST EVALUATION STARTED =========\n",
      "END OF 5 EPOCH\n",
      "| Time taken:   1.909 |\n",
      "| Test acc:  0.72207  | Test f1:  0.51375  |\n",
      "========= EPOCH 6 STARTED =========\n"
     ]
    },
    {
     "name": "stderr",
     "output_type": "stream",
     "text": [
      "100%|██████████| 891/891 [00:02<00:00, 409.44it/s]\n"
     ]
    },
    {
     "name": "stdout",
     "output_type": "stream",
     "text": [
      "========= TEST EVALUATION STARTED =========\n",
      "END OF 6 EPOCH\n",
      "| Time taken:   2.197 |\n",
      "| Test acc:  0.72087  | Test f1:  0.50897  |\n",
      "========= EPOCH 7 STARTED =========\n"
     ]
    },
    {
     "name": "stderr",
     "output_type": "stream",
     "text": [
      "100%|██████████| 891/891 [00:01<00:00, 507.70it/s]\n"
     ]
    },
    {
     "name": "stdout",
     "output_type": "stream",
     "text": [
      "========= TEST EVALUATION STARTED =========\n",
      "END OF 7 EPOCH\n",
      "| Time taken:   1.771 |\n",
      "| Test acc:  0.72017  | Test f1:  0.51050  |\n",
      "========= EPOCH 8 STARTED =========\n"
     ]
    },
    {
     "name": "stderr",
     "output_type": "stream",
     "text": [
      "100%|██████████| 891/891 [00:01<00:00, 492.32it/s]\n"
     ]
    },
    {
     "name": "stdout",
     "output_type": "stream",
     "text": [
      "========= TEST EVALUATION STARTED =========\n",
      "END OF 8 EPOCH\n",
      "| Time taken:   1.810 |\n",
      "| Test acc:  0.72087  | Test f1:  0.51298  |\n",
      "========= EPOCH 9 STARTED =========\n"
     ]
    },
    {
     "name": "stderr",
     "output_type": "stream",
     "text": [
      "100%|██████████| 891/891 [07:48<00:00,  1.90it/s] \n"
     ]
    },
    {
     "name": "stdout",
     "output_type": "stream",
     "text": [
      "========= TEST EVALUATION STARTED =========\n",
      "END OF 9 EPOCH\n",
      "| Time taken:  468.946 |\n",
      "| Test acc:  0.71996  | Test f1:  0.51105  |\n",
      "========= EPOCH 10 STARTED =========\n"
     ]
    },
    {
     "name": "stderr",
     "output_type": "stream",
     "text": [
      "100%|██████████| 891/891 [02:41<00:00,  5.50it/s] \n"
     ]
    },
    {
     "name": "stdout",
     "output_type": "stream",
     "text": [
      "========= TEST EVALUATION STARTED =========\n",
      "END OF 10 EPOCH\n",
      "| Time taken:  161.983 |\n",
      "| Test acc:  0.72045  | Test f1:  0.51317  |\n",
      "========= EPOCH 11 STARTED =========\n"
     ]
    },
    {
     "name": "stderr",
     "output_type": "stream",
     "text": [
      "100%|██████████| 891/891 [00:02<00:00, 317.83it/s]\n"
     ]
    },
    {
     "name": "stdout",
     "output_type": "stream",
     "text": [
      "========= TEST EVALUATION STARTED =========\n",
      "END OF 11 EPOCH\n",
      "| Time taken:   2.819 |\n",
      "| Test acc:  0.72045  | Test f1:  0.51263  |\n",
      "========= EPOCH 12 STARTED =========\n"
     ]
    },
    {
     "name": "stderr",
     "output_type": "stream",
     "text": [
      "100%|██████████| 891/891 [00:02<00:00, 422.48it/s]\n"
     ]
    },
    {
     "name": "stdout",
     "output_type": "stream",
     "text": [
      "========= TEST EVALUATION STARTED =========\n",
      "END OF 12 EPOCH\n",
      "| Time taken:   2.121 |\n",
      "| Test acc:  0.72066  | Test f1:  0.51088  |\n",
      "========= EPOCH 13 STARTED =========\n"
     ]
    },
    {
     "name": "stderr",
     "output_type": "stream",
     "text": [
      "100%|██████████| 891/891 [00:01<00:00, 494.37it/s]\n"
     ]
    },
    {
     "name": "stdout",
     "output_type": "stream",
     "text": [
      "========= TEST EVALUATION STARTED =========\n",
      "END OF 13 EPOCH\n",
      "| Time taken:   1.818 |\n",
      "| Test acc:  0.72031  | Test f1:  0.51316  |\n",
      "========= EPOCH 14 STARTED =========\n"
     ]
    },
    {
     "name": "stderr",
     "output_type": "stream",
     "text": [
      "100%|██████████| 891/891 [00:01<00:00, 515.90it/s]\n"
     ]
    },
    {
     "name": "stdout",
     "output_type": "stream",
     "text": [
      "========= TEST EVALUATION STARTED =========\n",
      "END OF 14 EPOCH\n",
      "| Time taken:   1.743 |\n",
      "| Test acc:  0.72080  | Test f1:  0.51240  |\n",
      "========= EPOCH 15 STARTED =========\n"
     ]
    },
    {
     "name": "stderr",
     "output_type": "stream",
     "text": [
      "100%|██████████| 891/891 [00:01<00:00, 484.58it/s]\n"
     ]
    },
    {
     "name": "stdout",
     "output_type": "stream",
     "text": [
      "========= TEST EVALUATION STARTED =========\n",
      "END OF 15 EPOCH\n",
      "| Time taken:   2.509 |\n",
      "| Test acc:  0.72038  | Test f1:  0.51351  |\n",
      "========= EPOCH 16 STARTED =========\n"
     ]
    },
    {
     "name": "stderr",
     "output_type": "stream",
     "text": [
      "100%|██████████| 891/891 [00:02<00:00, 400.48it/s]\n"
     ]
    },
    {
     "name": "stdout",
     "output_type": "stream",
     "text": [
      "========= TEST EVALUATION STARTED =========\n",
      "END OF 16 EPOCH\n",
      "| Time taken:   2.237 |\n",
      "| Test acc:  0.72031  | Test f1:  0.51113  |\n",
      "========= EPOCH 17 STARTED =========\n"
     ]
    },
    {
     "name": "stderr",
     "output_type": "stream",
     "text": [
      "100%|██████████| 891/891 [00:02<00:00, 438.88it/s]\n"
     ]
    },
    {
     "name": "stdout",
     "output_type": "stream",
     "text": [
      "========= TEST EVALUATION STARTED =========\n",
      "END OF 17 EPOCH\n",
      "| Time taken:   2.040 |\n",
      "| Test acc:  0.72073  | Test f1:  0.51059  |\n",
      "========= EPOCH 18 STARTED =========\n"
     ]
    },
    {
     "name": "stderr",
     "output_type": "stream",
     "text": [
      "100%|██████████| 891/891 [00:02<00:00, 419.20it/s]\n"
     ]
    },
    {
     "name": "stdout",
     "output_type": "stream",
     "text": [
      "========= TEST EVALUATION STARTED =========\n",
      "END OF 18 EPOCH\n",
      "| Time taken:   2.132 |\n",
      "| Test acc:  0.71954  | Test f1:  0.51309  |\n",
      "========= EPOCH 19 STARTED =========\n"
     ]
    },
    {
     "name": "stderr",
     "output_type": "stream",
     "text": [
      "100%|██████████| 891/891 [00:02<00:00, 434.71it/s]\n"
     ]
    },
    {
     "name": "stdout",
     "output_type": "stream",
     "text": [
      "========= TEST EVALUATION STARTED =========\n",
      "END OF 19 EPOCH\n",
      "| Time taken:   2.062 |\n",
      "| Test acc:  0.72038  | Test f1:  0.51231  |\n",
      "========= EPOCH 20 STARTED =========\n"
     ]
    },
    {
     "name": "stderr",
     "output_type": "stream",
     "text": [
      "100%|██████████| 891/891 [00:01<00:00, 456.05it/s]\n"
     ]
    },
    {
     "name": "stdout",
     "output_type": "stream",
     "text": [
      "========= TEST EVALUATION STARTED =========\n",
      "END OF 20 EPOCH\n",
      "| Time taken:   1.972 |\n",
      "| Test acc:  0.71989  | Test f1:  0.51394  |\n",
      "========= EPOCH 21 STARTED =========\n"
     ]
    },
    {
     "name": "stderr",
     "output_type": "stream",
     "text": [
      "100%|██████████| 891/891 [00:02<00:00, 441.02it/s]\n"
     ]
    },
    {
     "name": "stdout",
     "output_type": "stream",
     "text": [
      "========= TEST EVALUATION STARTED =========\n",
      "END OF 21 EPOCH\n",
      "| Time taken:   2.027 |\n",
      "| Test acc:  0.72010  | Test f1:  0.50835  |\n",
      "========= EPOCH 22 STARTED =========\n"
     ]
    },
    {
     "name": "stderr",
     "output_type": "stream",
     "text": [
      "100%|██████████| 891/891 [00:02<00:00, 443.57it/s]\n"
     ]
    },
    {
     "name": "stdout",
     "output_type": "stream",
     "text": [
      "========= TEST EVALUATION STARTED =========\n",
      "END OF 22 EPOCH\n",
      "| Time taken:   2.027 |\n",
      "| Test acc:  0.71975  | Test f1:  0.51025  |\n",
      "========= EPOCH 23 STARTED =========\n"
     ]
    },
    {
     "name": "stderr",
     "output_type": "stream",
     "text": [
      "100%|██████████| 891/891 [00:02<00:00, 437.52it/s]\n"
     ]
    },
    {
     "name": "stdout",
     "output_type": "stream",
     "text": [
      "========= TEST EVALUATION STARTED =========\n",
      "END OF 23 EPOCH\n",
      "| Time taken:   2.050 |\n",
      "| Test acc:  0.71947  | Test f1:  0.51252  |\n",
      "========= EPOCH 24 STARTED =========\n"
     ]
    },
    {
     "name": "stderr",
     "output_type": "stream",
     "text": [
      "100%|██████████| 891/891 [00:01<00:00, 453.88it/s]\n"
     ]
    },
    {
     "name": "stdout",
     "output_type": "stream",
     "text": [
      "========= TEST EVALUATION STARTED =========\n",
      "END OF 24 EPOCH\n",
      "| Time taken:   1.974 |\n",
      "| Test acc:  0.72094  | Test f1:  0.51048  |\n",
      "========= EPOCH 25 STARTED =========\n"
     ]
    },
    {
     "name": "stderr",
     "output_type": "stream",
     "text": [
      "100%|██████████| 891/891 [00:02<00:00, 407.79it/s]\n",
      "[I 2023-12-17 14:18:30,337] Trial 11 finished with value: 0.7211538461538461 and parameters: {'num_layers': 1, 'layer_units_0': 19, 'dropout': 0.37836884157861816, 'lr': 0.0002644466069709206}. Best is trial 3 with value: 0.7219258843346434.\n",
      "C:\\Users\\patel\\AppData\\Local\\Temp\\ipykernel_73972\\2609389762.py:3: FutureWarning: suggest_int() got {'step'} as positional arguments but they were expected to be given as keyword arguments.\n",
      "  num_layers = trial.suggest_int('num_layers', 1, 2, 3)  # Number of layers to optimize\n",
      "C:\\Users\\patel\\AppData\\Roaming\\Python\\Python311\\site-packages\\optuna\\distributions.py:700: UserWarning: The distribution is specified by [1, 2] and step=3, but the range is not divisible by `step`. It will be replaced by [1, 1].\n",
      "  warnings.warn(\n"
     ]
    },
    {
     "name": "stdout",
     "output_type": "stream",
     "text": [
      "========= TEST EVALUATION STARTED =========\n",
      "END OF 25 EPOCH\n",
      "| Time taken:   2.198 |\n",
      "| Test acc:  0.72115  | Test f1:  0.51452  |\n",
      "========= EPOCH 1 STARTED =========\n"
     ]
    },
    {
     "name": "stderr",
     "output_type": "stream",
     "text": [
      "100%|██████████| 891/891 [00:02<00:00, 399.63it/s]\n"
     ]
    },
    {
     "name": "stdout",
     "output_type": "stream",
     "text": [
      "========= TEST EVALUATION STARTED =========\n",
      "END OF 1 EPOCH\n",
      "| Time taken:   2.249 |\n",
      "| Test acc:  0.72031  | Test f1:  0.51241  |\n",
      "========= EPOCH 2 STARTED =========\n"
     ]
    },
    {
     "name": "stderr",
     "output_type": "stream",
     "text": [
      "100%|██████████| 891/891 [00:02<00:00, 423.74it/s]\n"
     ]
    },
    {
     "name": "stdout",
     "output_type": "stream",
     "text": [
      "========= TEST EVALUATION STARTED =========\n",
      "END OF 2 EPOCH\n",
      "| Time taken:   2.114 |\n",
      "| Test acc:  0.72052  | Test f1:  0.51264  |\n",
      "========= EPOCH 3 STARTED =========\n"
     ]
    },
    {
     "name": "stderr",
     "output_type": "stream",
     "text": [
      "100%|██████████| 891/891 [00:02<00:00, 399.51it/s]\n"
     ]
    },
    {
     "name": "stdout",
     "output_type": "stream",
     "text": [
      "========= TEST EVALUATION STARTED =========\n",
      "END OF 3 EPOCH\n",
      "| Time taken:   2.241 |\n",
      "| Test acc:  0.71961  | Test f1:  0.51074  |\n",
      "========= EPOCH 4 STARTED =========\n"
     ]
    },
    {
     "name": "stderr",
     "output_type": "stream",
     "text": [
      "100%|██████████| 891/891 [00:02<00:00, 387.55it/s]\n"
     ]
    },
    {
     "name": "stdout",
     "output_type": "stream",
     "text": [
      "========= TEST EVALUATION STARTED =========\n",
      "END OF 4 EPOCH\n",
      "| Time taken:   2.320 |\n",
      "| Test acc:  0.71947  | Test f1:  0.51014  |\n",
      "========= EPOCH 5 STARTED =========\n"
     ]
    },
    {
     "name": "stderr",
     "output_type": "stream",
     "text": [
      "100%|██████████| 891/891 [00:02<00:00, 401.24it/s]\n"
     ]
    },
    {
     "name": "stdout",
     "output_type": "stream",
     "text": [
      "========= TEST EVALUATION STARTED =========\n",
      "END OF 5 EPOCH\n",
      "| Time taken:   2.221 |\n",
      "| Test acc:  0.71912  | Test f1:  0.50928  |\n",
      "========= EPOCH 6 STARTED =========\n"
     ]
    },
    {
     "name": "stderr",
     "output_type": "stream",
     "text": [
      "100%|██████████| 891/891 [00:02<00:00, 441.28it/s]\n"
     ]
    },
    {
     "name": "stdout",
     "output_type": "stream",
     "text": [
      "========= TEST EVALUATION STARTED =========\n",
      "END OF 6 EPOCH\n",
      "| Time taken:   2.053 |\n",
      "| Test acc:  0.71989  | Test f1:  0.51128  |\n",
      "========= EPOCH 7 STARTED =========\n"
     ]
    },
    {
     "name": "stderr",
     "output_type": "stream",
     "text": [
      "100%|██████████| 891/891 [00:02<00:00, 445.02it/s]\n"
     ]
    },
    {
     "name": "stdout",
     "output_type": "stream",
     "text": [
      "========= TEST EVALUATION STARTED =========\n",
      "END OF 7 EPOCH\n",
      "| Time taken:   2.017 |\n",
      "| Test acc:  0.71954  | Test f1:  0.51153  |\n",
      "========= EPOCH 8 STARTED =========\n"
     ]
    },
    {
     "name": "stderr",
     "output_type": "stream",
     "text": [
      "100%|██████████| 891/891 [00:02<00:00, 411.44it/s]\n"
     ]
    },
    {
     "name": "stdout",
     "output_type": "stream",
     "text": [
      "========= TEST EVALUATION STARTED =========\n",
      "END OF 8 EPOCH\n",
      "| Time taken:   2.181 |\n",
      "| Test acc:  0.71954  | Test f1:  0.51138  |\n",
      "========= EPOCH 9 STARTED =========\n"
     ]
    },
    {
     "name": "stderr",
     "output_type": "stream",
     "text": [
      "100%|██████████| 891/891 [00:02<00:00, 438.43it/s]\n"
     ]
    },
    {
     "name": "stdout",
     "output_type": "stream",
     "text": [
      "========= TEST EVALUATION STARTED =========\n",
      "END OF 9 EPOCH\n",
      "| Time taken:   2.044 |\n",
      "| Test acc:  0.71989  | Test f1:  0.50912  |\n",
      "========= EPOCH 10 STARTED =========\n"
     ]
    },
    {
     "name": "stderr",
     "output_type": "stream",
     "text": [
      "100%|██████████| 891/891 [00:02<00:00, 431.00it/s]\n"
     ]
    },
    {
     "name": "stdout",
     "output_type": "stream",
     "text": [
      "========= TEST EVALUATION STARTED =========\n",
      "END OF 10 EPOCH\n",
      "| Time taken:   2.079 |\n",
      "| Test acc:  0.71996  | Test f1:  0.51097  |\n",
      "========= EPOCH 11 STARTED =========\n"
     ]
    },
    {
     "name": "stderr",
     "output_type": "stream",
     "text": [
      "100%|██████████| 891/891 [00:02<00:00, 430.66it/s]\n"
     ]
    },
    {
     "name": "stdout",
     "output_type": "stream",
     "text": [
      "========= TEST EVALUATION STARTED =========\n",
      "END OF 11 EPOCH\n",
      "| Time taken:   2.085 |\n",
      "| Test acc:  0.72045  | Test f1:  0.51177  |\n",
      "========= EPOCH 12 STARTED =========\n"
     ]
    },
    {
     "name": "stderr",
     "output_type": "stream",
     "text": [
      "100%|██████████| 891/891 [00:02<00:00, 435.23it/s]\n"
     ]
    },
    {
     "name": "stdout",
     "output_type": "stream",
     "text": [
      "========= TEST EVALUATION STARTED =========\n",
      "END OF 12 EPOCH\n",
      "| Time taken:   2.059 |\n",
      "| Test acc:  0.72108  | Test f1:  0.51213  |\n",
      "========= EPOCH 13 STARTED =========\n"
     ]
    },
    {
     "name": "stderr",
     "output_type": "stream",
     "text": [
      "100%|██████████| 891/891 [00:02<00:00, 428.78it/s]\n"
     ]
    },
    {
     "name": "stdout",
     "output_type": "stream",
     "text": [
      "========= TEST EVALUATION STARTED =========\n",
      "END OF 13 EPOCH\n",
      "| Time taken:   2.094 |\n",
      "| Test acc:  0.72003  | Test f1:  0.51122  |\n",
      "========= EPOCH 14 STARTED =========\n"
     ]
    },
    {
     "name": "stderr",
     "output_type": "stream",
     "text": [
      "100%|██████████| 891/891 [00:02<00:00, 426.46it/s]\n"
     ]
    },
    {
     "name": "stdout",
     "output_type": "stream",
     "text": [
      "========= TEST EVALUATION STARTED =========\n",
      "END OF 14 EPOCH\n",
      "| Time taken:   2.089 |\n",
      "| Test acc:  0.72080  | Test f1:  0.51320  |\n",
      "========= EPOCH 15 STARTED =========\n"
     ]
    },
    {
     "name": "stderr",
     "output_type": "stream",
     "text": [
      "100%|██████████| 891/891 [00:02<00:00, 428.01it/s]\n"
     ]
    },
    {
     "name": "stdout",
     "output_type": "stream",
     "text": [
      "========= TEST EVALUATION STARTED =========\n",
      "END OF 15 EPOCH\n",
      "| Time taken:   2.090 |\n",
      "| Test acc:  0.71989  | Test f1:  0.51135  |\n",
      "========= EPOCH 16 STARTED =========\n"
     ]
    },
    {
     "name": "stderr",
     "output_type": "stream",
     "text": [
      "100%|██████████| 891/891 [00:02<00:00, 429.13it/s]\n"
     ]
    },
    {
     "name": "stdout",
     "output_type": "stream",
     "text": [
      "========= TEST EVALUATION STARTED =========\n",
      "END OF 16 EPOCH\n",
      "| Time taken:   2.083 |\n",
      "| Test acc:  0.72017  | Test f1:  0.51039  |\n",
      "========= EPOCH 17 STARTED =========\n"
     ]
    },
    {
     "name": "stderr",
     "output_type": "stream",
     "text": [
      "100%|██████████| 891/891 [00:02<00:00, 416.26it/s]\n"
     ]
    },
    {
     "name": "stdout",
     "output_type": "stream",
     "text": [
      "========= TEST EVALUATION STARTED =========\n",
      "END OF 17 EPOCH\n",
      "| Time taken:   2.161 |\n",
      "| Test acc:  0.71996  | Test f1:  0.50759  |\n",
      "========= EPOCH 18 STARTED =========\n"
     ]
    },
    {
     "name": "stderr",
     "output_type": "stream",
     "text": [
      "100%|██████████| 891/891 [00:02<00:00, 432.08it/s]\n"
     ]
    },
    {
     "name": "stdout",
     "output_type": "stream",
     "text": [
      "========= TEST EVALUATION STARTED =========\n",
      "END OF 18 EPOCH\n",
      "| Time taken:   2.076 |\n",
      "| Test acc:  0.71968  | Test f1:  0.51048  |\n",
      "========= EPOCH 19 STARTED =========\n"
     ]
    },
    {
     "name": "stderr",
     "output_type": "stream",
     "text": [
      "100%|██████████| 891/891 [00:02<00:00, 432.62it/s]\n"
     ]
    },
    {
     "name": "stdout",
     "output_type": "stream",
     "text": [
      "========= TEST EVALUATION STARTED =========\n",
      "END OF 19 EPOCH\n",
      "| Time taken:   2.071 |\n",
      "| Test acc:  0.72080  | Test f1:  0.51082  |\n",
      "========= EPOCH 20 STARTED =========\n"
     ]
    },
    {
     "name": "stderr",
     "output_type": "stream",
     "text": [
      "100%|██████████| 891/891 [00:02<00:00, 438.44it/s]\n"
     ]
    },
    {
     "name": "stdout",
     "output_type": "stream",
     "text": [
      "========= TEST EVALUATION STARTED =========\n",
      "END OF 20 EPOCH\n",
      "| Time taken:   2.049 |\n",
      "| Test acc:  0.71940  | Test f1:  0.51016  |\n",
      "========= EPOCH 21 STARTED =========\n"
     ]
    },
    {
     "name": "stderr",
     "output_type": "stream",
     "text": [
      "100%|██████████| 891/891 [00:01<00:00, 447.45it/s]\n"
     ]
    },
    {
     "name": "stdout",
     "output_type": "stream",
     "text": [
      "========= TEST EVALUATION STARTED =========\n",
      "END OF 21 EPOCH\n",
      "| Time taken:   2.007 |\n",
      "| Test acc:  0.72010  | Test f1:  0.51208  |\n",
      "========= EPOCH 22 STARTED =========\n"
     ]
    },
    {
     "name": "stderr",
     "output_type": "stream",
     "text": [
      "100%|██████████| 891/891 [00:01<00:00, 451.40it/s]\n"
     ]
    },
    {
     "name": "stdout",
     "output_type": "stream",
     "text": [
      "========= TEST EVALUATION STARTED =========\n",
      "END OF 22 EPOCH\n",
      "| Time taken:   1.990 |\n",
      "| Test acc:  0.72010  | Test f1:  0.51043  |\n",
      "========= EPOCH 23 STARTED =========\n"
     ]
    },
    {
     "name": "stderr",
     "output_type": "stream",
     "text": [
      "100%|██████████| 891/891 [00:02<00:00, 429.13it/s]\n"
     ]
    },
    {
     "name": "stdout",
     "output_type": "stream",
     "text": [
      "========= TEST EVALUATION STARTED =========\n",
      "END OF 23 EPOCH\n",
      "| Time taken:   2.092 |\n",
      "| Test acc:  0.72052  | Test f1:  0.51057  |\n",
      "========= EPOCH 24 STARTED =========\n"
     ]
    },
    {
     "name": "stderr",
     "output_type": "stream",
     "text": [
      "100%|██████████| 891/891 [00:02<00:00, 441.62it/s]\n"
     ]
    },
    {
     "name": "stdout",
     "output_type": "stream",
     "text": [
      "========= TEST EVALUATION STARTED =========\n",
      "END OF 24 EPOCH\n",
      "| Time taken:   2.018 |\n",
      "| Test acc:  0.71933  | Test f1:  0.51121  |\n",
      "========= EPOCH 25 STARTED =========\n"
     ]
    },
    {
     "name": "stderr",
     "output_type": "stream",
     "text": [
      "100%|██████████| 891/891 [00:01<00:00, 449.53it/s]\n",
      "[I 2023-12-17 14:19:22,840] Trial 12 finished with value: 0.7193992139247614 and parameters: {'num_layers': 1, 'layer_units_0': 28, 'dropout': 0.4363186516965643, 'lr': 0.00031222668338964406}. Best is trial 3 with value: 0.7219258843346434.\n",
      "C:\\Users\\patel\\AppData\\Local\\Temp\\ipykernel_73972\\2609389762.py:3: FutureWarning: suggest_int() got {'step'} as positional arguments but they were expected to be given as keyword arguments.\n",
      "  num_layers = trial.suggest_int('num_layers', 1, 2, 3)  # Number of layers to optimize\n",
      "C:\\Users\\patel\\AppData\\Roaming\\Python\\Python311\\site-packages\\optuna\\distributions.py:700: UserWarning: The distribution is specified by [1, 2] and step=3, but the range is not divisible by `step`. It will be replaced by [1, 1].\n",
      "  warnings.warn(\n"
     ]
    },
    {
     "name": "stdout",
     "output_type": "stream",
     "text": [
      "========= TEST EVALUATION STARTED =========\n",
      "END OF 25 EPOCH\n",
      "| Time taken:   2.013 |\n",
      "| Test acc:  0.71940  | Test f1:  0.51139  |\n",
      "========= EPOCH 1 STARTED =========\n"
     ]
    },
    {
     "name": "stderr",
     "output_type": "stream",
     "text": [
      "100%|██████████| 891/891 [00:01<00:00, 461.21it/s]\n"
     ]
    },
    {
     "name": "stdout",
     "output_type": "stream",
     "text": [
      "========= TEST EVALUATION STARTED =========\n",
      "END OF 1 EPOCH\n",
      "| Time taken:   1.932 |\n",
      "| Test acc:  0.71898  | Test f1:  0.51073  |\n",
      "========= EPOCH 2 STARTED =========\n"
     ]
    },
    {
     "name": "stderr",
     "output_type": "stream",
     "text": [
      "100%|██████████| 891/891 [00:01<00:00, 456.43it/s]\n"
     ]
    },
    {
     "name": "stdout",
     "output_type": "stream",
     "text": [
      "========= TEST EVALUATION STARTED =========\n",
      "END OF 2 EPOCH\n",
      "| Time taken:   1.970 |\n",
      "| Test acc:  0.72003  | Test f1:  0.51030  |\n",
      "========= EPOCH 3 STARTED =========\n"
     ]
    },
    {
     "name": "stderr",
     "output_type": "stream",
     "text": [
      "100%|██████████| 891/891 [00:01<00:00, 451.90it/s]\n"
     ]
    },
    {
     "name": "stdout",
     "output_type": "stream",
     "text": [
      "========= TEST EVALUATION STARTED =========\n",
      "END OF 3 EPOCH\n",
      "| Time taken:   1.972 |\n",
      "| Test acc:  0.71989  | Test f1:  0.51252  |\n",
      "========= EPOCH 4 STARTED =========\n"
     ]
    },
    {
     "name": "stderr",
     "output_type": "stream",
     "text": [
      "100%|██████████| 891/891 [00:01<00:00, 455.75it/s]\n"
     ]
    },
    {
     "name": "stdout",
     "output_type": "stream",
     "text": [
      "========= TEST EVALUATION STARTED =========\n",
      "END OF 4 EPOCH\n",
      "| Time taken:   1.955 |\n",
      "| Test acc:  0.72073  | Test f1:  0.51152  |\n",
      "========= EPOCH 5 STARTED =========\n"
     ]
    },
    {
     "name": "stderr",
     "output_type": "stream",
     "text": [
      "100%|██████████| 891/891 [00:01<00:00, 451.95it/s]\n"
     ]
    },
    {
     "name": "stdout",
     "output_type": "stream",
     "text": [
      "========= TEST EVALUATION STARTED =========\n",
      "END OF 5 EPOCH\n",
      "| Time taken:   1.971 |\n",
      "| Test acc:  0.72059  | Test f1:  0.51093  |\n",
      "========= EPOCH 6 STARTED =========\n"
     ]
    },
    {
     "name": "stderr",
     "output_type": "stream",
     "text": [
      "100%|██████████| 891/891 [00:01<00:00, 453.18it/s]\n"
     ]
    },
    {
     "name": "stdout",
     "output_type": "stream",
     "text": [
      "========= TEST EVALUATION STARTED =========\n",
      "END OF 6 EPOCH\n",
      "| Time taken:   1.984 |\n",
      "| Test acc:  0.71940  | Test f1:  0.51391  |\n",
      "========= EPOCH 7 STARTED =========\n"
     ]
    },
    {
     "name": "stderr",
     "output_type": "stream",
     "text": [
      "100%|██████████| 891/891 [00:01<00:00, 458.40it/s]\n"
     ]
    },
    {
     "name": "stdout",
     "output_type": "stream",
     "text": [
      "========= TEST EVALUATION STARTED =========\n",
      "END OF 7 EPOCH\n",
      "| Time taken:   1.955 |\n",
      "| Test acc:  0.71961  | Test f1:  0.50989  |\n",
      "========= EPOCH 8 STARTED =========\n"
     ]
    },
    {
     "name": "stderr",
     "output_type": "stream",
     "text": [
      "100%|██████████| 891/891 [00:01<00:00, 451.50it/s]\n"
     ]
    },
    {
     "name": "stdout",
     "output_type": "stream",
     "text": [
      "========= TEST EVALUATION STARTED =========\n",
      "END OF 8 EPOCH\n",
      "| Time taken:   1.986 |\n",
      "| Test acc:  0.71996  | Test f1:  0.51109  |\n",
      "========= EPOCH 9 STARTED =========\n"
     ]
    },
    {
     "name": "stderr",
     "output_type": "stream",
     "text": [
      "100%|██████████| 891/891 [00:01<00:00, 456.75it/s]\n"
     ]
    },
    {
     "name": "stdout",
     "output_type": "stream",
     "text": [
      "========= TEST EVALUATION STARTED =========\n",
      "END OF 9 EPOCH\n",
      "| Time taken:   1.959 |\n",
      "| Test acc:  0.71891  | Test f1:  0.50989  |\n",
      "========= EPOCH 10 STARTED =========\n"
     ]
    },
    {
     "name": "stderr",
     "output_type": "stream",
     "text": [
      "100%|██████████| 891/891 [00:01<00:00, 450.20it/s]\n"
     ]
    },
    {
     "name": "stdout",
     "output_type": "stream",
     "text": [
      "========= TEST EVALUATION STARTED =========\n",
      "END OF 10 EPOCH\n",
      "| Time taken:   1.986 |\n",
      "| Test acc:  0.71863  | Test f1:  0.51223  |\n",
      "========= EPOCH 11 STARTED =========\n"
     ]
    },
    {
     "name": "stderr",
     "output_type": "stream",
     "text": [
      "100%|██████████| 891/891 [00:01<00:00, 458.20it/s]\n"
     ]
    },
    {
     "name": "stdout",
     "output_type": "stream",
     "text": [
      "========= TEST EVALUATION STARTED =========\n",
      "END OF 11 EPOCH\n",
      "| Time taken:   1.963 |\n",
      "| Test acc:  0.71989  | Test f1:  0.51288  |\n",
      "========= EPOCH 12 STARTED =========\n"
     ]
    },
    {
     "name": "stderr",
     "output_type": "stream",
     "text": [
      "100%|██████████| 891/891 [00:01<00:00, 454.66it/s]\n"
     ]
    },
    {
     "name": "stdout",
     "output_type": "stream",
     "text": [
      "========= TEST EVALUATION STARTED =========\n",
      "END OF 12 EPOCH\n",
      "| Time taken:   1.974 |\n",
      "| Test acc:  0.71905  | Test f1:  0.50983  |\n",
      "========= EPOCH 13 STARTED =========\n"
     ]
    },
    {
     "name": "stderr",
     "output_type": "stream",
     "text": [
      "100%|██████████| 891/891 [00:01<00:00, 456.70it/s]\n"
     ]
    },
    {
     "name": "stdout",
     "output_type": "stream",
     "text": [
      "========= TEST EVALUATION STARTED =========\n",
      "END OF 13 EPOCH\n",
      "| Time taken:   1.965 |\n",
      "| Test acc:  0.71842  | Test f1:  0.51077  |\n",
      "========= EPOCH 14 STARTED =========\n"
     ]
    },
    {
     "name": "stderr",
     "output_type": "stream",
     "text": [
      "100%|██████████| 891/891 [00:01<00:00, 450.13it/s]\n"
     ]
    },
    {
     "name": "stdout",
     "output_type": "stream",
     "text": [
      "========= TEST EVALUATION STARTED =========\n",
      "END OF 14 EPOCH\n",
      "| Time taken:   1.986 |\n",
      "| Test acc:  0.72038  | Test f1:  0.50963  |\n",
      "========= EPOCH 15 STARTED =========\n"
     ]
    },
    {
     "name": "stderr",
     "output_type": "stream",
     "text": [
      "100%|██████████| 891/891 [00:01<00:00, 456.24it/s]\n"
     ]
    },
    {
     "name": "stdout",
     "output_type": "stream",
     "text": [
      "========= TEST EVALUATION STARTED =========\n",
      "END OF 15 EPOCH\n",
      "| Time taken:   1.965 |\n",
      "| Test acc:  0.71905  | Test f1:  0.50853  |\n",
      "========= EPOCH 16 STARTED =========\n"
     ]
    },
    {
     "name": "stderr",
     "output_type": "stream",
     "text": [
      "100%|██████████| 891/891 [00:01<00:00, 461.13it/s]\n"
     ]
    },
    {
     "name": "stdout",
     "output_type": "stream",
     "text": [
      "========= TEST EVALUATION STARTED =========\n",
      "END OF 16 EPOCH\n",
      "| Time taken:   1.951 |\n",
      "| Test acc:  0.72017  | Test f1:  0.50959  |\n",
      "========= EPOCH 17 STARTED =========\n"
     ]
    },
    {
     "name": "stderr",
     "output_type": "stream",
     "text": [
      "100%|██████████| 891/891 [00:01<00:00, 453.31it/s]\n"
     ]
    },
    {
     "name": "stdout",
     "output_type": "stream",
     "text": [
      "========= TEST EVALUATION STARTED =========\n",
      "END OF 17 EPOCH\n",
      "| Time taken:   1.980 |\n",
      "| Test acc:  0.71905  | Test f1:  0.50983  |\n",
      "========= EPOCH 18 STARTED =========\n"
     ]
    },
    {
     "name": "stderr",
     "output_type": "stream",
     "text": [
      "100%|██████████| 891/891 [00:01<00:00, 457.04it/s]\n"
     ]
    },
    {
     "name": "stdout",
     "output_type": "stream",
     "text": [
      "========= TEST EVALUATION STARTED =========\n",
      "END OF 18 EPOCH\n",
      "| Time taken:   1.963 |\n",
      "| Test acc:  0.72059  | Test f1:  0.51114  |\n",
      "========= EPOCH 19 STARTED =========\n"
     ]
    },
    {
     "name": "stderr",
     "output_type": "stream",
     "text": [
      "100%|██████████| 891/891 [00:01<00:00, 448.64it/s]\n"
     ]
    },
    {
     "name": "stdout",
     "output_type": "stream",
     "text": [
      "========= TEST EVALUATION STARTED =========\n",
      "END OF 19 EPOCH\n",
      "| Time taken:   2.002 |\n",
      "| Test acc:  0.71947  | Test f1:  0.51123  |\n",
      "========= EPOCH 20 STARTED =========\n"
     ]
    },
    {
     "name": "stderr",
     "output_type": "stream",
     "text": [
      "100%|██████████| 891/891 [00:01<00:00, 453.50it/s]\n"
     ]
    },
    {
     "name": "stdout",
     "output_type": "stream",
     "text": [
      "========= TEST EVALUATION STARTED =========\n",
      "END OF 20 EPOCH\n",
      "| Time taken:   1.980 |\n",
      "| Test acc:  0.71884  | Test f1:  0.50891  |\n",
      "========= EPOCH 21 STARTED =========\n"
     ]
    },
    {
     "name": "stderr",
     "output_type": "stream",
     "text": [
      "100%|██████████| 891/891 [00:01<00:00, 454.50it/s]\n"
     ]
    },
    {
     "name": "stdout",
     "output_type": "stream",
     "text": [
      "========= TEST EVALUATION STARTED =========\n",
      "END OF 21 EPOCH\n",
      "| Time taken:   1.971 |\n",
      "| Test acc:  0.71996  | Test f1:  0.51282  |\n",
      "========= EPOCH 22 STARTED =========\n"
     ]
    },
    {
     "name": "stderr",
     "output_type": "stream",
     "text": [
      "100%|██████████| 891/891 [00:01<00:00, 451.82it/s]\n"
     ]
    },
    {
     "name": "stdout",
     "output_type": "stream",
     "text": [
      "========= TEST EVALUATION STARTED =========\n",
      "END OF 22 EPOCH\n",
      "| Time taken:   1.985 |\n",
      "| Test acc:  0.71933  | Test f1:  0.51352  |\n",
      "========= EPOCH 23 STARTED =========\n"
     ]
    },
    {
     "name": "stderr",
     "output_type": "stream",
     "text": [
      "100%|██████████| 891/891 [00:01<00:00, 459.96it/s]\n"
     ]
    },
    {
     "name": "stdout",
     "output_type": "stream",
     "text": [
      "========= TEST EVALUATION STARTED =========\n",
      "END OF 23 EPOCH\n",
      "| Time taken:   1.953 |\n",
      "| Test acc:  0.71996  | Test f1:  0.51017  |\n",
      "========= EPOCH 24 STARTED =========\n"
     ]
    },
    {
     "name": "stderr",
     "output_type": "stream",
     "text": [
      "100%|██████████| 891/891 [00:02<00:00, 442.40it/s]\n"
     ]
    },
    {
     "name": "stdout",
     "output_type": "stream",
     "text": [
      "========= TEST EVALUATION STARTED =========\n",
      "END OF 24 EPOCH\n",
      "| Time taken:   2.026 |\n",
      "| Test acc:  0.72010  | Test f1:  0.51181  |\n",
      "========= EPOCH 25 STARTED =========\n"
     ]
    },
    {
     "name": "stderr",
     "output_type": "stream",
     "text": [
      "100%|██████████| 891/891 [00:01<00:00, 456.50it/s]\n",
      "[I 2023-12-17 14:20:12,164] Trial 13 finished with value: 0.7201712521055587 and parameters: {'num_layers': 1, 'layer_units_0': 21, 'dropout': 0.3419140833457801, 'lr': 0.0012481943904961803}. Best is trial 3 with value: 0.7219258843346434.\n",
      "C:\\Users\\patel\\AppData\\Local\\Temp\\ipykernel_73972\\2609389762.py:3: FutureWarning: suggest_int() got {'step'} as positional arguments but they were expected to be given as keyword arguments.\n",
      "  num_layers = trial.suggest_int('num_layers', 1, 2, 3)  # Number of layers to optimize\n",
      "C:\\Users\\patel\\AppData\\Roaming\\Python\\Python311\\site-packages\\optuna\\distributions.py:700: UserWarning: The distribution is specified by [1, 2] and step=3, but the range is not divisible by `step`. It will be replaced by [1, 1].\n",
      "  warnings.warn(\n"
     ]
    },
    {
     "name": "stdout",
     "output_type": "stream",
     "text": [
      "========= TEST EVALUATION STARTED =========\n",
      "END OF 25 EPOCH\n",
      "| Time taken:   1.965 |\n",
      "| Test acc:  0.72017  | Test f1:  0.50938  |\n",
      "========= EPOCH 1 STARTED =========\n"
     ]
    },
    {
     "name": "stderr",
     "output_type": "stream",
     "text": [
      "100%|██████████| 891/891 [00:01<00:00, 457.97it/s]\n"
     ]
    },
    {
     "name": "stdout",
     "output_type": "stream",
     "text": [
      "========= TEST EVALUATION STARTED =========\n",
      "END OF 1 EPOCH\n",
      "| Time taken:   1.958 |\n",
      "| Test acc:  0.71996  | Test f1:  0.51057  |\n",
      "========= EPOCH 2 STARTED =========\n"
     ]
    },
    {
     "name": "stderr",
     "output_type": "stream",
     "text": [
      "100%|██████████| 891/891 [00:01<00:00, 446.78it/s]\n"
     ]
    },
    {
     "name": "stdout",
     "output_type": "stream",
     "text": [
      "========= TEST EVALUATION STARTED =========\n",
      "END OF 2 EPOCH\n",
      "| Time taken:   2.007 |\n",
      "| Test acc:  0.72080  | Test f1:  0.50935  |\n",
      "========= EPOCH 3 STARTED =========\n"
     ]
    },
    {
     "name": "stderr",
     "output_type": "stream",
     "text": [
      "100%|██████████| 891/891 [00:01<00:00, 458.23it/s]\n"
     ]
    },
    {
     "name": "stdout",
     "output_type": "stream",
     "text": [
      "========= TEST EVALUATION STARTED =========\n",
      "END OF 3 EPOCH\n",
      "| Time taken:   1.958 |\n",
      "| Test acc:  0.72073  | Test f1:  0.51074  |\n",
      "========= EPOCH 4 STARTED =========\n"
     ]
    },
    {
     "name": "stderr",
     "output_type": "stream",
     "text": [
      "100%|██████████| 891/891 [00:01<00:00, 458.96it/s]\n"
     ]
    },
    {
     "name": "stdout",
     "output_type": "stream",
     "text": [
      "========= TEST EVALUATION STARTED =========\n",
      "END OF 4 EPOCH\n",
      "| Time taken:   1.951 |\n",
      "| Test acc:  0.71982  | Test f1:  0.50942  |\n",
      "========= EPOCH 5 STARTED =========\n"
     ]
    },
    {
     "name": "stderr",
     "output_type": "stream",
     "text": [
      "100%|██████████| 891/891 [00:01<00:00, 451.65it/s]\n"
     ]
    },
    {
     "name": "stdout",
     "output_type": "stream",
     "text": [
      "========= TEST EVALUATION STARTED =========\n",
      "END OF 5 EPOCH\n",
      "| Time taken:   1.986 |\n",
      "| Test acc:  0.72024  | Test f1:  0.51137  |\n",
      "========= EPOCH 6 STARTED =========\n"
     ]
    },
    {
     "name": "stderr",
     "output_type": "stream",
     "text": [
      "100%|██████████| 891/891 [00:01<00:00, 454.85it/s]\n"
     ]
    },
    {
     "name": "stdout",
     "output_type": "stream",
     "text": [
      "========= TEST EVALUATION STARTED =========\n",
      "END OF 6 EPOCH\n",
      "| Time taken:   1.973 |\n",
      "| Test acc:  0.71954  | Test f1:  0.50864  |\n",
      "========= EPOCH 7 STARTED =========\n"
     ]
    },
    {
     "name": "stderr",
     "output_type": "stream",
     "text": [
      "100%|██████████| 891/891 [00:01<00:00, 454.85it/s]\n"
     ]
    },
    {
     "name": "stdout",
     "output_type": "stream",
     "text": [
      "========= TEST EVALUATION STARTED =========\n",
      "END OF 7 EPOCH\n",
      "| Time taken:   1.971 |\n",
      "| Test acc:  0.72017  | Test f1:  0.51153  |\n",
      "========= EPOCH 8 STARTED =========\n"
     ]
    },
    {
     "name": "stderr",
     "output_type": "stream",
     "text": [
      "100%|██████████| 891/891 [00:01<00:00, 456.58it/s]\n"
     ]
    },
    {
     "name": "stdout",
     "output_type": "stream",
     "text": [
      "========= TEST EVALUATION STARTED =========\n",
      "END OF 8 EPOCH\n",
      "| Time taken:   1.960 |\n",
      "| Test acc:  0.72010  | Test f1:  0.51283  |\n",
      "========= EPOCH 9 STARTED =========\n"
     ]
    },
    {
     "name": "stderr",
     "output_type": "stream",
     "text": [
      "100%|██████████| 891/891 [00:01<00:00, 457.95it/s]\n"
     ]
    },
    {
     "name": "stdout",
     "output_type": "stream",
     "text": [
      "========= TEST EVALUATION STARTED =========\n",
      "END OF 9 EPOCH\n",
      "| Time taken:   1.958 |\n",
      "| Test acc:  0.71947  | Test f1:  0.50829  |\n",
      "========= EPOCH 10 STARTED =========\n"
     ]
    },
    {
     "name": "stderr",
     "output_type": "stream",
     "text": [
      "100%|██████████| 891/891 [00:01<00:00, 451.35it/s]\n"
     ]
    },
    {
     "name": "stdout",
     "output_type": "stream",
     "text": [
      "========= TEST EVALUATION STARTED =========\n",
      "END OF 10 EPOCH\n",
      "| Time taken:   1.986 |\n",
      "| Test acc:  0.72094  | Test f1:  0.51068  |\n",
      "========= EPOCH 11 STARTED =========\n"
     ]
    },
    {
     "name": "stderr",
     "output_type": "stream",
     "text": [
      "100%|██████████| 891/891 [00:01<00:00, 461.33it/s]\n"
     ]
    },
    {
     "name": "stdout",
     "output_type": "stream",
     "text": [
      "========= TEST EVALUATION STARTED =========\n",
      "END OF 11 EPOCH\n",
      "| Time taken:   1.951 |\n",
      "| Test acc:  0.72108  | Test f1:  0.51211  |\n",
      "========= EPOCH 12 STARTED =========\n"
     ]
    },
    {
     "name": "stderr",
     "output_type": "stream",
     "text": [
      "100%|██████████| 891/891 [00:01<00:00, 461.54it/s]\n"
     ]
    },
    {
     "name": "stdout",
     "output_type": "stream",
     "text": [
      "========= TEST EVALUATION STARTED =========\n",
      "END OF 12 EPOCH\n",
      "| Time taken:   1.944 |\n",
      "| Test acc:  0.72115  | Test f1:  0.50987  |\n",
      "========= EPOCH 13 STARTED =========\n"
     ]
    },
    {
     "name": "stderr",
     "output_type": "stream",
     "text": [
      "100%|██████████| 891/891 [00:01<00:00, 454.72it/s]\n"
     ]
    },
    {
     "name": "stdout",
     "output_type": "stream",
     "text": [
      "========= TEST EVALUATION STARTED =========\n",
      "END OF 13 EPOCH\n",
      "| Time taken:   1.971 |\n",
      "| Test acc:  0.72010  | Test f1:  0.51178  |\n",
      "========= EPOCH 14 STARTED =========\n"
     ]
    },
    {
     "name": "stderr",
     "output_type": "stream",
     "text": [
      "100%|██████████| 891/891 [00:01<00:00, 456.83it/s]\n"
     ]
    },
    {
     "name": "stdout",
     "output_type": "stream",
     "text": [
      "========= TEST EVALUATION STARTED =========\n",
      "END OF 14 EPOCH\n",
      "| Time taken:   1.960 |\n",
      "| Test acc:  0.72045  | Test f1:  0.51162  |\n",
      "========= EPOCH 15 STARTED =========\n"
     ]
    },
    {
     "name": "stderr",
     "output_type": "stream",
     "text": [
      "100%|██████████| 891/891 [00:01<00:00, 461.05it/s]\n"
     ]
    },
    {
     "name": "stdout",
     "output_type": "stream",
     "text": [
      "========= TEST EVALUATION STARTED =========\n",
      "END OF 15 EPOCH\n",
      "| Time taken:   1.950 |\n",
      "| Test acc:  0.71996  | Test f1:  0.50814  |\n",
      "========= EPOCH 16 STARTED =========\n"
     ]
    },
    {
     "name": "stderr",
     "output_type": "stream",
     "text": [
      "100%|██████████| 891/891 [00:01<00:00, 448.35it/s]\n"
     ]
    },
    {
     "name": "stdout",
     "output_type": "stream",
     "text": [
      "========= TEST EVALUATION STARTED =========\n",
      "END OF 16 EPOCH\n",
      "| Time taken:   1.993 |\n",
      "| Test acc:  0.72024  | Test f1:  0.51141  |\n",
      "========= EPOCH 17 STARTED =========\n"
     ]
    },
    {
     "name": "stderr",
     "output_type": "stream",
     "text": [
      "100%|██████████| 891/891 [00:01<00:00, 458.07it/s]\n"
     ]
    },
    {
     "name": "stdout",
     "output_type": "stream",
     "text": [
      "========= TEST EVALUATION STARTED =========\n",
      "END OF 17 EPOCH\n",
      "| Time taken:   1.965 |\n",
      "| Test acc:  0.72094  | Test f1:  0.51216  |\n",
      "========= EPOCH 18 STARTED =========\n"
     ]
    },
    {
     "name": "stderr",
     "output_type": "stream",
     "text": [
      "100%|██████████| 891/891 [00:01<00:00, 455.02it/s]\n"
     ]
    },
    {
     "name": "stdout",
     "output_type": "stream",
     "text": [
      "========= TEST EVALUATION STARTED =========\n",
      "END OF 18 EPOCH\n",
      "| Time taken:   1.965 |\n",
      "| Test acc:  0.72059  | Test f1:  0.51249  |\n",
      "========= EPOCH 19 STARTED =========\n"
     ]
    },
    {
     "name": "stderr",
     "output_type": "stream",
     "text": [
      "100%|██████████| 891/891 [00:01<00:00, 453.01it/s]\n"
     ]
    },
    {
     "name": "stdout",
     "output_type": "stream",
     "text": [
      "========= TEST EVALUATION STARTED =========\n",
      "END OF 19 EPOCH\n",
      "| Time taken:   1.986 |\n",
      "| Test acc:  0.72024  | Test f1:  0.51153  |\n",
      "========= EPOCH 20 STARTED =========\n"
     ]
    },
    {
     "name": "stderr",
     "output_type": "stream",
     "text": [
      "100%|██████████| 891/891 [00:01<00:00, 450.23it/s]\n"
     ]
    },
    {
     "name": "stdout",
     "output_type": "stream",
     "text": [
      "========= TEST EVALUATION STARTED =========\n",
      "END OF 20 EPOCH\n",
      "| Time taken:   1.986 |\n",
      "| Test acc:  0.72003  | Test f1:  0.51004  |\n",
      "========= EPOCH 21 STARTED =========\n"
     ]
    },
    {
     "name": "stderr",
     "output_type": "stream",
     "text": [
      "100%|██████████| 891/891 [00:01<00:00, 451.68it/s]\n"
     ]
    },
    {
     "name": "stdout",
     "output_type": "stream",
     "text": [
      "========= TEST EVALUATION STARTED =========\n",
      "END OF 21 EPOCH\n",
      "| Time taken:   1.992 |\n",
      "| Test acc:  0.72031  | Test f1:  0.51302  |\n",
      "========= EPOCH 22 STARTED =========\n"
     ]
    },
    {
     "name": "stderr",
     "output_type": "stream",
     "text": [
      "100%|██████████| 891/891 [00:01<00:00, 458.30it/s]\n"
     ]
    },
    {
     "name": "stdout",
     "output_type": "stream",
     "text": [
      "========= TEST EVALUATION STARTED =========\n",
      "END OF 22 EPOCH\n",
      "| Time taken:   1.960 |\n",
      "| Test acc:  0.71961  | Test f1:  0.51165  |\n",
      "========= EPOCH 23 STARTED =========\n"
     ]
    },
    {
     "name": "stderr",
     "output_type": "stream",
     "text": [
      "100%|██████████| 891/891 [00:01<00:00, 455.07it/s]\n"
     ]
    },
    {
     "name": "stdout",
     "output_type": "stream",
     "text": [
      "========= TEST EVALUATION STARTED =========\n",
      "END OF 23 EPOCH\n",
      "| Time taken:   1.966 |\n",
      "| Test acc:  0.71989  | Test f1:  0.51072  |\n",
      "========= EPOCH 24 STARTED =========\n"
     ]
    },
    {
     "name": "stderr",
     "output_type": "stream",
     "text": [
      "100%|██████████| 891/891 [00:01<00:00, 448.22it/s]\n"
     ]
    },
    {
     "name": "stdout",
     "output_type": "stream",
     "text": [
      "========= TEST EVALUATION STARTED =========\n",
      "END OF 24 EPOCH\n",
      "| Time taken:   2.006 |\n",
      "| Test acc:  0.71884  | Test f1:  0.51216  |\n",
      "========= EPOCH 25 STARTED =========\n"
     ]
    },
    {
     "name": "stderr",
     "output_type": "stream",
     "text": [
      "100%|██████████| 891/891 [00:01<00:00, 458.29it/s]\n",
      "[I 2023-12-17 14:21:01,441] Trial 14 finished with value: 0.7192588433464346 and parameters: {'num_layers': 1, 'layer_units_0': 27, 'dropout': 0.3955626941067305, 'lr': 8.00548260119474e-05}. Best is trial 3 with value: 0.7219258843346434.\n",
      "C:\\Users\\patel\\AppData\\Local\\Temp\\ipykernel_73972\\2609389762.py:3: FutureWarning: suggest_int() got {'step'} as positional arguments but they were expected to be given as keyword arguments.\n",
      "  num_layers = trial.suggest_int('num_layers', 1, 2, 3)  # Number of layers to optimize\n",
      "C:\\Users\\patel\\AppData\\Roaming\\Python\\Python311\\site-packages\\optuna\\distributions.py:700: UserWarning: The distribution is specified by [1, 2] and step=3, but the range is not divisible by `step`. It will be replaced by [1, 1].\n",
      "  warnings.warn(\n"
     ]
    },
    {
     "name": "stdout",
     "output_type": "stream",
     "text": [
      "========= TEST EVALUATION STARTED =========\n",
      "END OF 25 EPOCH\n",
      "| Time taken:   1.952 |\n",
      "| Test acc:  0.71926  | Test f1:  0.50800  |\n",
      "========= EPOCH 1 STARTED =========\n"
     ]
    },
    {
     "name": "stderr",
     "output_type": "stream",
     "text": [
      "100%|██████████| 891/891 [00:01<00:00, 453.53it/s]\n"
     ]
    },
    {
     "name": "stdout",
     "output_type": "stream",
     "text": [
      "========= TEST EVALUATION STARTED =========\n",
      "END OF 1 EPOCH\n",
      "| Time taken:   1.976 |\n",
      "| Test acc:  0.71996  | Test f1:  0.51166  |\n",
      "========= EPOCH 2 STARTED =========\n"
     ]
    },
    {
     "name": "stderr",
     "output_type": "stream",
     "text": [
      "100%|██████████| 891/891 [00:01<00:00, 457.97it/s]\n"
     ]
    },
    {
     "name": "stdout",
     "output_type": "stream",
     "text": [
      "========= TEST EVALUATION STARTED =========\n",
      "END OF 2 EPOCH\n",
      "| Time taken:   1.962 |\n",
      "| Test acc:  0.71989  | Test f1:  0.51168  |\n",
      "========= EPOCH 3 STARTED =========\n"
     ]
    },
    {
     "name": "stderr",
     "output_type": "stream",
     "text": [
      "100%|██████████| 891/891 [00:01<00:00, 455.14it/s]\n"
     ]
    },
    {
     "name": "stdout",
     "output_type": "stream",
     "text": [
      "========= TEST EVALUATION STARTED =========\n",
      "END OF 3 EPOCH\n",
      "| Time taken:   1.970 |\n",
      "| Test acc:  0.71975  | Test f1:  0.51241  |\n",
      "========= EPOCH 4 STARTED =========\n"
     ]
    },
    {
     "name": "stderr",
     "output_type": "stream",
     "text": [
      "100%|██████████| 891/891 [00:01<00:00, 447.21it/s]\n"
     ]
    },
    {
     "name": "stdout",
     "output_type": "stream",
     "text": [
      "========= TEST EVALUATION STARTED =========\n",
      "END OF 4 EPOCH\n",
      "| Time taken:   2.002 |\n",
      "| Test acc:  0.71982  | Test f1:  0.51297  |\n",
      "========= EPOCH 5 STARTED =========\n"
     ]
    },
    {
     "name": "stderr",
     "output_type": "stream",
     "text": [
      "100%|██████████| 891/891 [00:01<00:00, 450.09it/s]\n"
     ]
    },
    {
     "name": "stdout",
     "output_type": "stream",
     "text": [
      "========= TEST EVALUATION STARTED =========\n",
      "END OF 5 EPOCH\n",
      "| Time taken:   1.992 |\n",
      "| Test acc:  0.71870  | Test f1:  0.50910  |\n",
      "========= EPOCH 6 STARTED =========\n"
     ]
    },
    {
     "name": "stderr",
     "output_type": "stream",
     "text": [
      "100%|██████████| 891/891 [00:01<00:00, 454.93it/s]\n"
     ]
    },
    {
     "name": "stdout",
     "output_type": "stream",
     "text": [
      "========= TEST EVALUATION STARTED =========\n",
      "END OF 6 EPOCH\n",
      "| Time taken:   1.966 |\n",
      "| Test acc:  0.71919  | Test f1:  0.51103  |\n",
      "========= EPOCH 7 STARTED =========\n"
     ]
    },
    {
     "name": "stderr",
     "output_type": "stream",
     "text": [
      "100%|██████████| 891/891 [00:01<00:00, 457.29it/s]\n"
     ]
    },
    {
     "name": "stdout",
     "output_type": "stream",
     "text": [
      "========= TEST EVALUATION STARTED =========\n",
      "END OF 7 EPOCH\n",
      "| Time taken:   1.965 |\n",
      "| Test acc:  0.71863  | Test f1:  0.51160  |\n",
      "========= EPOCH 8 STARTED =========\n"
     ]
    },
    {
     "name": "stderr",
     "output_type": "stream",
     "text": [
      "100%|██████████| 891/891 [00:01<00:00, 452.50it/s]\n"
     ]
    },
    {
     "name": "stdout",
     "output_type": "stream",
     "text": [
      "========= TEST EVALUATION STARTED =========\n",
      "END OF 8 EPOCH\n",
      "| Time taken:   1.979 |\n",
      "| Test acc:  0.72003  | Test f1:  0.51185  |\n",
      "========= EPOCH 9 STARTED =========\n"
     ]
    },
    {
     "name": "stderr",
     "output_type": "stream",
     "text": [
      "100%|██████████| 891/891 [00:01<00:00, 458.39it/s]\n"
     ]
    },
    {
     "name": "stdout",
     "output_type": "stream",
     "text": [
      "========= TEST EVALUATION STARTED =========\n",
      "END OF 9 EPOCH\n",
      "| Time taken:   1.958 |\n",
      "| Test acc:  0.72059  | Test f1:  0.51217  |\n",
      "========= EPOCH 10 STARTED =========\n"
     ]
    },
    {
     "name": "stderr",
     "output_type": "stream",
     "text": [
      "100%|██████████| 891/891 [00:01<00:00, 461.56it/s]\n"
     ]
    },
    {
     "name": "stdout",
     "output_type": "stream",
     "text": [
      "========= TEST EVALUATION STARTED =========\n",
      "END OF 10 EPOCH\n",
      "| Time taken:   1.945 |\n",
      "| Test acc:  0.72087  | Test f1:  0.51130  |\n",
      "========= EPOCH 11 STARTED =========\n"
     ]
    },
    {
     "name": "stderr",
     "output_type": "stream",
     "text": [
      "100%|██████████| 891/891 [00:01<00:00, 456.68it/s]\n"
     ]
    },
    {
     "name": "stdout",
     "output_type": "stream",
     "text": [
      "========= TEST EVALUATION STARTED =========\n",
      "END OF 11 EPOCH\n",
      "| Time taken:   1.965 |\n",
      "| Test acc:  0.71912  | Test f1:  0.51250  |\n",
      "========= EPOCH 12 STARTED =========\n"
     ]
    },
    {
     "name": "stderr",
     "output_type": "stream",
     "text": [
      "100%|██████████| 891/891 [00:01<00:00, 461.58it/s]\n"
     ]
    },
    {
     "name": "stdout",
     "output_type": "stream",
     "text": [
      "========= TEST EVALUATION STARTED =========\n",
      "END OF 12 EPOCH\n",
      "| Time taken:   1.938 |\n",
      "| Test acc:  0.72017  | Test f1:  0.51129  |\n",
      "========= EPOCH 13 STARTED =========\n"
     ]
    },
    {
     "name": "stderr",
     "output_type": "stream",
     "text": [
      "100%|██████████| 891/891 [00:01<00:00, 458.03it/s]\n"
     ]
    },
    {
     "name": "stdout",
     "output_type": "stream",
     "text": [
      "========= TEST EVALUATION STARTED =========\n",
      "END OF 13 EPOCH\n",
      "| Time taken:   1.958 |\n",
      "| Test acc:  0.72101  | Test f1:  0.51289  |\n",
      "========= EPOCH 14 STARTED =========\n"
     ]
    },
    {
     "name": "stderr",
     "output_type": "stream",
     "text": [
      "100%|██████████| 891/891 [00:01<00:00, 454.67it/s]\n"
     ]
    },
    {
     "name": "stdout",
     "output_type": "stream",
     "text": [
      "========= TEST EVALUATION STARTED =========\n",
      "END OF 14 EPOCH\n",
      "| Time taken:   1.978 |\n",
      "| Test acc:  0.72066  | Test f1:  0.51187  |\n",
      "========= EPOCH 15 STARTED =========\n"
     ]
    },
    {
     "name": "stderr",
     "output_type": "stream",
     "text": [
      "100%|██████████| 891/891 [00:01<00:00, 458.25it/s]\n"
     ]
    },
    {
     "name": "stdout",
     "output_type": "stream",
     "text": [
      "========= TEST EVALUATION STARTED =========\n",
      "END OF 15 EPOCH\n",
      "| Time taken:   1.951 |\n",
      "| Test acc:  0.72066  | Test f1:  0.51230  |\n",
      "========= EPOCH 16 STARTED =========\n"
     ]
    },
    {
     "name": "stderr",
     "output_type": "stream",
     "text": [
      "100%|██████████| 891/891 [00:01<00:00, 461.26it/s]\n"
     ]
    },
    {
     "name": "stdout",
     "output_type": "stream",
     "text": [
      "========= TEST EVALUATION STARTED =========\n",
      "END OF 16 EPOCH\n",
      "| Time taken:   1.951 |\n",
      "| Test acc:  0.72010  | Test f1:  0.51278  |\n",
      "========= EPOCH 17 STARTED =========\n"
     ]
    },
    {
     "name": "stderr",
     "output_type": "stream",
     "text": [
      "100%|██████████| 891/891 [00:01<00:00, 453.62it/s]\n"
     ]
    },
    {
     "name": "stdout",
     "output_type": "stream",
     "text": [
      "========= TEST EVALUATION STARTED =========\n",
      "END OF 17 EPOCH\n",
      "| Time taken:   1.972 |\n",
      "| Test acc:  0.72059  | Test f1:  0.51224  |\n",
      "========= EPOCH 18 STARTED =========\n"
     ]
    },
    {
     "name": "stderr",
     "output_type": "stream",
     "text": [
      "100%|██████████| 891/891 [00:01<00:00, 461.22it/s]\n"
     ]
    },
    {
     "name": "stdout",
     "output_type": "stream",
     "text": [
      "========= TEST EVALUATION STARTED =========\n",
      "END OF 18 EPOCH\n",
      "| Time taken:   1.950 |\n",
      "| Test acc:  0.72045  | Test f1:  0.51005  |\n",
      "========= EPOCH 19 STARTED =========\n"
     ]
    },
    {
     "name": "stderr",
     "output_type": "stream",
     "text": [
      "100%|██████████| 891/891 [00:01<00:00, 451.52it/s]\n"
     ]
    },
    {
     "name": "stdout",
     "output_type": "stream",
     "text": [
      "========= TEST EVALUATION STARTED =========\n",
      "END OF 19 EPOCH\n",
      "| Time taken:   1.980 |\n",
      "| Test acc:  0.72214  | Test f1:  0.51453  |\n",
      "========= EPOCH 20 STARTED =========\n"
     ]
    },
    {
     "name": "stderr",
     "output_type": "stream",
     "text": [
      "100%|██████████| 891/891 [00:01<00:00, 458.04it/s]\n"
     ]
    },
    {
     "name": "stdout",
     "output_type": "stream",
     "text": [
      "========= TEST EVALUATION STARTED =========\n",
      "END OF 20 EPOCH\n",
      "| Time taken:   1.967 |\n",
      "| Test acc:  0.72143  | Test f1:  0.51251  |\n",
      "========= EPOCH 21 STARTED =========\n"
     ]
    },
    {
     "name": "stderr",
     "output_type": "stream",
     "text": [
      "100%|██████████| 891/891 [00:01<00:00, 452.22it/s]\n"
     ]
    },
    {
     "name": "stdout",
     "output_type": "stream",
     "text": [
      "========= TEST EVALUATION STARTED =========\n",
      "END OF 21 EPOCH\n",
      "| Time taken:   1.983 |\n",
      "| Test acc:  0.72024  | Test f1:  0.51238  |\n",
      "========= EPOCH 22 STARTED =========\n"
     ]
    },
    {
     "name": "stderr",
     "output_type": "stream",
     "text": [
      "100%|██████████| 891/891 [00:01<00:00, 454.66it/s]\n"
     ]
    },
    {
     "name": "stdout",
     "output_type": "stream",
     "text": [
      "========= TEST EVALUATION STARTED =========\n",
      "END OF 22 EPOCH\n",
      "| Time taken:   1.972 |\n",
      "| Test acc:  0.72038  | Test f1:  0.51224  |\n",
      "========= EPOCH 23 STARTED =========\n"
     ]
    },
    {
     "name": "stderr",
     "output_type": "stream",
     "text": [
      "100%|██████████| 891/891 [00:01<00:00, 461.25it/s]\n"
     ]
    },
    {
     "name": "stdout",
     "output_type": "stream",
     "text": [
      "========= TEST EVALUATION STARTED =========\n",
      "END OF 23 EPOCH\n",
      "| Time taken:   1.944 |\n",
      "| Test acc:  0.72017  | Test f1:  0.51127  |\n",
      "========= EPOCH 24 STARTED =========\n"
     ]
    },
    {
     "name": "stderr",
     "output_type": "stream",
     "text": [
      "100%|██████████| 891/891 [00:01<00:00, 458.07it/s]\n"
     ]
    },
    {
     "name": "stdout",
     "output_type": "stream",
     "text": [
      "========= TEST EVALUATION STARTED =========\n",
      "END OF 24 EPOCH\n",
      "| Time taken:   1.959 |\n",
      "| Test acc:  0.72115  | Test f1:  0.51294  |\n",
      "========= EPOCH 25 STARTED =========\n"
     ]
    },
    {
     "name": "stderr",
     "output_type": "stream",
     "text": [
      "100%|██████████| 891/891 [00:01<00:00, 455.11it/s]\n",
      "[I 2023-12-17 14:21:50,615] Trial 15 finished with value: 0.7190482874789444 and parameters: {'num_layers': 1, 'layer_units_0': 20, 'dropout': 0.47382318668306245, 'lr': 0.001987299314340751}. Best is trial 3 with value: 0.7219258843346434.\n",
      "C:\\Users\\patel\\AppData\\Local\\Temp\\ipykernel_73972\\2609389762.py:3: FutureWarning: suggest_int() got {'step'} as positional arguments but they were expected to be given as keyword arguments.\n",
      "  num_layers = trial.suggest_int('num_layers', 1, 2, 3)  # Number of layers to optimize\n",
      "C:\\Users\\patel\\AppData\\Roaming\\Python\\Python311\\site-packages\\optuna\\distributions.py:700: UserWarning: The distribution is specified by [1, 2] and step=3, but the range is not divisible by `step`. It will be replaced by [1, 1].\n",
      "  warnings.warn(\n"
     ]
    },
    {
     "name": "stdout",
     "output_type": "stream",
     "text": [
      "========= TEST EVALUATION STARTED =========\n",
      "END OF 25 EPOCH\n",
      "| Time taken:   1.965 |\n",
      "| Test acc:  0.71905  | Test f1:  0.51064  |\n",
      "========= EPOCH 1 STARTED =========\n"
     ]
    },
    {
     "name": "stderr",
     "output_type": "stream",
     "text": [
      "100%|██████████| 891/891 [00:01<00:00, 461.66it/s]\n"
     ]
    },
    {
     "name": "stdout",
     "output_type": "stream",
     "text": [
      "========= TEST EVALUATION STARTED =========\n",
      "END OF 1 EPOCH\n",
      "| Time taken:   1.938 |\n",
      "| Test acc:  0.71989  | Test f1:  0.50991  |\n",
      "========= EPOCH 2 STARTED =========\n"
     ]
    },
    {
     "name": "stderr",
     "output_type": "stream",
     "text": [
      "100%|██████████| 891/891 [00:02<00:00, 437.44it/s]\n"
     ]
    },
    {
     "name": "stdout",
     "output_type": "stream",
     "text": [
      "========= TEST EVALUATION STARTED =========\n",
      "END OF 2 EPOCH\n",
      "| Time taken:   2.056 |\n",
      "| Test acc:  0.71905  | Test f1:  0.50910  |\n",
      "========= EPOCH 3 STARTED =========\n"
     ]
    },
    {
     "name": "stderr",
     "output_type": "stream",
     "text": [
      "100%|██████████| 891/891 [00:02<00:00, 434.02it/s]\n"
     ]
    },
    {
     "name": "stdout",
     "output_type": "stream",
     "text": [
      "========= TEST EVALUATION STARTED =========\n",
      "END OF 3 EPOCH\n",
      "| Time taken:   2.073 |\n",
      "| Test acc:  0.71968  | Test f1:  0.51233  |\n",
      "========= EPOCH 4 STARTED =========\n"
     ]
    },
    {
     "name": "stderr",
     "output_type": "stream",
     "text": [
      "100%|██████████| 891/891 [00:02<00:00, 392.50it/s]\n"
     ]
    },
    {
     "name": "stdout",
     "output_type": "stream",
     "text": [
      "========= TEST EVALUATION STARTED =========\n",
      "END OF 4 EPOCH\n",
      "| Time taken:   2.281 |\n",
      "| Test acc:  0.72010  | Test f1:  0.51274  |\n",
      "========= EPOCH 5 STARTED =========\n"
     ]
    },
    {
     "name": "stderr",
     "output_type": "stream",
     "text": [
      "100%|██████████| 891/891 [00:02<00:00, 415.24it/s]\n"
     ]
    },
    {
     "name": "stdout",
     "output_type": "stream",
     "text": [
      "========= TEST EVALUATION STARTED =========\n",
      "END OF 5 EPOCH\n",
      "| Time taken:   2.158 |\n",
      "| Test acc:  0.72066  | Test f1:  0.51329  |\n",
      "========= EPOCH 6 STARTED =========\n"
     ]
    },
    {
     "name": "stderr",
     "output_type": "stream",
     "text": [
      "100%|██████████| 891/891 [00:02<00:00, 429.24it/s]\n"
     ]
    },
    {
     "name": "stdout",
     "output_type": "stream",
     "text": [
      "========= TEST EVALUATION STARTED =========\n",
      "END OF 6 EPOCH\n",
      "| Time taken:   2.092 |\n",
      "| Test acc:  0.71989  | Test f1:  0.51361  |\n",
      "========= EPOCH 7 STARTED =========\n"
     ]
    },
    {
     "name": "stderr",
     "output_type": "stream",
     "text": [
      "100%|██████████| 891/891 [00:02<00:00, 435.81it/s]\n"
     ]
    },
    {
     "name": "stdout",
     "output_type": "stream",
     "text": [
      "========= TEST EVALUATION STARTED =========\n",
      "END OF 7 EPOCH\n",
      "| Time taken:   2.055 |\n",
      "| Test acc:  0.71989  | Test f1:  0.51441  |\n",
      "========= EPOCH 8 STARTED =========\n"
     ]
    },
    {
     "name": "stderr",
     "output_type": "stream",
     "text": [
      "100%|██████████| 891/891 [00:02<00:00, 417.07it/s]\n"
     ]
    },
    {
     "name": "stdout",
     "output_type": "stream",
     "text": [
      "========= TEST EVALUATION STARTED =========\n",
      "END OF 8 EPOCH\n",
      "| Time taken:   2.150 |\n",
      "| Test acc:  0.71933  | Test f1:  0.51181  |\n",
      "========= EPOCH 9 STARTED =========\n"
     ]
    },
    {
     "name": "stderr",
     "output_type": "stream",
     "text": [
      "100%|██████████| 891/891 [00:02<00:00, 441.08it/s]\n"
     ]
    },
    {
     "name": "stdout",
     "output_type": "stream",
     "text": [
      "========= TEST EVALUATION STARTED =========\n",
      "END OF 9 EPOCH\n",
      "| Time taken:   2.029 |\n",
      "| Test acc:  0.72059  | Test f1:  0.51222  |\n",
      "========= EPOCH 10 STARTED =========\n"
     ]
    },
    {
     "name": "stderr",
     "output_type": "stream",
     "text": [
      "100%|██████████| 891/891 [00:02<00:00, 445.10it/s]\n"
     ]
    },
    {
     "name": "stdout",
     "output_type": "stream",
     "text": [
      "========= TEST EVALUATION STARTED =========\n",
      "END OF 10 EPOCH\n",
      "| Time taken:   2.021 |\n",
      "| Test acc:  0.72052  | Test f1:  0.51092  |\n",
      "========= EPOCH 11 STARTED =========\n"
     ]
    },
    {
     "name": "stderr",
     "output_type": "stream",
     "text": [
      "100%|██████████| 891/891 [00:01<00:00, 451.96it/s]\n"
     ]
    },
    {
     "name": "stdout",
     "output_type": "stream",
     "text": [
      "========= TEST EVALUATION STARTED =========\n",
      "END OF 11 EPOCH\n",
      "| Time taken:   1.979 |\n",
      "| Test acc:  0.71947  | Test f1:  0.51311  |\n",
      "========= EPOCH 12 STARTED =========\n"
     ]
    },
    {
     "name": "stderr",
     "output_type": "stream",
     "text": [
      "100%|██████████| 891/891 [00:01<00:00, 445.88it/s]\n"
     ]
    },
    {
     "name": "stdout",
     "output_type": "stream",
     "text": [
      "========= TEST EVALUATION STARTED =========\n",
      "END OF 12 EPOCH\n",
      "| Time taken:   2.016 |\n",
      "| Test acc:  0.72010  | Test f1:  0.51235  |\n",
      "========= EPOCH 13 STARTED =========\n"
     ]
    },
    {
     "name": "stderr",
     "output_type": "stream",
     "text": [
      "100%|██████████| 891/891 [00:02<00:00, 415.71it/s]\n"
     ]
    },
    {
     "name": "stdout",
     "output_type": "stream",
     "text": [
      "========= TEST EVALUATION STARTED =========\n",
      "END OF 13 EPOCH\n",
      "| Time taken:   2.157 |\n",
      "| Test acc:  0.72003  | Test f1:  0.51193  |\n",
      "========= EPOCH 14 STARTED =========\n"
     ]
    },
    {
     "name": "stderr",
     "output_type": "stream",
     "text": [
      "100%|██████████| 891/891 [00:02<00:00, 441.05it/s]\n"
     ]
    },
    {
     "name": "stdout",
     "output_type": "stream",
     "text": [
      "========= TEST EVALUATION STARTED =========\n",
      "END OF 14 EPOCH\n",
      "| Time taken:   2.036 |\n",
      "| Test acc:  0.71975  | Test f1:  0.50988  |\n",
      "========= EPOCH 15 STARTED =========\n"
     ]
    },
    {
     "name": "stderr",
     "output_type": "stream",
     "text": [
      "100%|██████████| 891/891 [00:01<00:00, 454.77it/s]\n"
     ]
    },
    {
     "name": "stdout",
     "output_type": "stream",
     "text": [
      "========= TEST EVALUATION STARTED =========\n",
      "END OF 15 EPOCH\n",
      "| Time taken:   1.970 |\n",
      "| Test acc:  0.71989  | Test f1:  0.51402  |\n",
      "========= EPOCH 16 STARTED =========\n"
     ]
    },
    {
     "name": "stderr",
     "output_type": "stream",
     "text": [
      "100%|██████████| 891/891 [00:01<00:00, 466.11it/s]\n"
     ]
    },
    {
     "name": "stdout",
     "output_type": "stream",
     "text": [
      "========= TEST EVALUATION STARTED =========\n",
      "END OF 16 EPOCH\n",
      "| Time taken:   1.917 |\n",
      "| Test acc:  0.72066  | Test f1:  0.51259  |\n",
      "========= EPOCH 17 STARTED =========\n"
     ]
    },
    {
     "name": "stderr",
     "output_type": "stream",
     "text": [
      "100%|██████████| 891/891 [00:01<00:00, 452.86it/s]\n"
     ]
    },
    {
     "name": "stdout",
     "output_type": "stream",
     "text": [
      "========= TEST EVALUATION STARTED =========\n",
      "END OF 17 EPOCH\n",
      "| Time taken:   1.985 |\n",
      "| Test acc:  0.72066  | Test f1:  0.51292  |\n",
      "========= EPOCH 18 STARTED =========\n"
     ]
    },
    {
     "name": "stderr",
     "output_type": "stream",
     "text": [
      "100%|██████████| 891/891 [00:01<00:00, 461.81it/s]\n"
     ]
    },
    {
     "name": "stdout",
     "output_type": "stream",
     "text": [
      "========= TEST EVALUATION STARTED =========\n",
      "END OF 18 EPOCH\n",
      "| Time taken:   1.945 |\n",
      "| Test acc:  0.72087  | Test f1:  0.51216  |\n",
      "========= EPOCH 19 STARTED =========\n"
     ]
    },
    {
     "name": "stderr",
     "output_type": "stream",
     "text": [
      "100%|██████████| 891/891 [00:02<00:00, 444.35it/s]\n"
     ]
    },
    {
     "name": "stdout",
     "output_type": "stream",
     "text": [
      "========= TEST EVALUATION STARTED =========\n",
      "END OF 19 EPOCH\n",
      "| Time taken:   2.014 |\n",
      "| Test acc:  0.71982  | Test f1:  0.51284  |\n",
      "========= EPOCH 20 STARTED =========\n"
     ]
    },
    {
     "name": "stderr",
     "output_type": "stream",
     "text": [
      "100%|██████████| 891/891 [00:02<00:00, 437.98it/s]\n"
     ]
    },
    {
     "name": "stdout",
     "output_type": "stream",
     "text": [
      "========= TEST EVALUATION STARTED =========\n",
      "END OF 20 EPOCH\n",
      "| Time taken:   2.048 |\n",
      "| Test acc:  0.71933  | Test f1:  0.51106  |\n",
      "========= EPOCH 21 STARTED =========\n"
     ]
    },
    {
     "name": "stderr",
     "output_type": "stream",
     "text": [
      "100%|██████████| 891/891 [00:01<00:00, 459.79it/s]\n"
     ]
    },
    {
     "name": "stdout",
     "output_type": "stream",
     "text": [
      "========= TEST EVALUATION STARTED =========\n",
      "END OF 21 EPOCH\n",
      "| Time taken:   1.944 |\n",
      "| Test acc:  0.72073  | Test f1:  0.51244  |\n",
      "========= EPOCH 22 STARTED =========\n"
     ]
    },
    {
     "name": "stderr",
     "output_type": "stream",
     "text": [
      "100%|██████████| 891/891 [00:01<00:00, 468.27it/s]\n"
     ]
    },
    {
     "name": "stdout",
     "output_type": "stream",
     "text": [
      "========= TEST EVALUATION STARTED =========\n",
      "END OF 22 EPOCH\n",
      "| Time taken:   1.919 |\n",
      "| Test acc:  0.72031  | Test f1:  0.51198  |\n",
      "========= EPOCH 23 STARTED =========\n"
     ]
    },
    {
     "name": "stderr",
     "output_type": "stream",
     "text": [
      "100%|██████████| 891/891 [00:01<00:00, 458.94it/s]\n"
     ]
    },
    {
     "name": "stdout",
     "output_type": "stream",
     "text": [
      "========= TEST EVALUATION STARTED =========\n",
      "END OF 23 EPOCH\n",
      "| Time taken:   1.958 |\n",
      "| Test acc:  0.71954  | Test f1:  0.51293  |\n",
      "========= EPOCH 24 STARTED =========\n"
     ]
    },
    {
     "name": "stderr",
     "output_type": "stream",
     "text": [
      "100%|██████████| 891/891 [00:02<00:00, 436.43it/s]\n"
     ]
    },
    {
     "name": "stdout",
     "output_type": "stream",
     "text": [
      "========= TEST EVALUATION STARTED =========\n",
      "END OF 24 EPOCH\n",
      "| Time taken:   2.054 |\n",
      "| Test acc:  0.71975  | Test f1:  0.51501  |\n",
      "========= EPOCH 25 STARTED =========\n"
     ]
    },
    {
     "name": "stderr",
     "output_type": "stream",
     "text": [
      "100%|██████████| 891/891 [00:01<00:00, 452.46it/s]\n",
      "[I 2023-12-17 14:22:41,420] Trial 16 finished with value: 0.720241437394722 and parameters: {'num_layers': 1, 'layer_units_0': 31, 'dropout': 0.36009754900451674, 'lr': 9.749363337561717e-05}. Best is trial 3 with value: 0.7219258843346434.\n",
      "C:\\Users\\patel\\AppData\\Local\\Temp\\ipykernel_73972\\2609389762.py:3: FutureWarning: suggest_int() got {'step'} as positional arguments but they were expected to be given as keyword arguments.\n",
      "  num_layers = trial.suggest_int('num_layers', 1, 2, 3)  # Number of layers to optimize\n",
      "C:\\Users\\patel\\AppData\\Roaming\\Python\\Python311\\site-packages\\optuna\\distributions.py:700: UserWarning: The distribution is specified by [1, 2] and step=3, but the range is not divisible by `step`. It will be replaced by [1, 1].\n",
      "  warnings.warn(\n"
     ]
    },
    {
     "name": "stdout",
     "output_type": "stream",
     "text": [
      "========= TEST EVALUATION STARTED =========\n",
      "END OF 25 EPOCH\n",
      "| Time taken:   1.988 |\n",
      "| Test acc:  0.72024  | Test f1:  0.51398  |\n",
      "========= EPOCH 1 STARTED =========\n"
     ]
    },
    {
     "name": "stderr",
     "output_type": "stream",
     "text": [
      "100%|██████████| 891/891 [00:01<00:00, 467.30it/s]\n"
     ]
    },
    {
     "name": "stdout",
     "output_type": "stream",
     "text": [
      "========= TEST EVALUATION STARTED =========\n",
      "END OF 1 EPOCH\n",
      "| Time taken:   1.920 |\n",
      "| Test acc:  0.72087  | Test f1:  0.51305  |\n",
      "========= EPOCH 2 STARTED =========\n"
     ]
    },
    {
     "name": "stderr",
     "output_type": "stream",
     "text": [
      "100%|██████████| 891/891 [00:01<00:00, 472.58it/s]\n"
     ]
    },
    {
     "name": "stdout",
     "output_type": "stream",
     "text": [
      "========= TEST EVALUATION STARTED =========\n",
      "END OF 2 EPOCH\n",
      "| Time taken:   1.897 |\n",
      "| Test acc:  0.71989  | Test f1:  0.51219  |\n",
      "========= EPOCH 3 STARTED =========\n"
     ]
    },
    {
     "name": "stderr",
     "output_type": "stream",
     "text": [
      "100%|██████████| 891/891 [00:02<00:00, 431.94it/s]\n"
     ]
    },
    {
     "name": "stdout",
     "output_type": "stream",
     "text": [
      "========= TEST EVALUATION STARTED =========\n",
      "END OF 3 EPOCH\n",
      "| Time taken:   2.077 |\n",
      "| Test acc:  0.71954  | Test f1:  0.51229  |\n",
      "========= EPOCH 4 STARTED =========\n"
     ]
    },
    {
     "name": "stderr",
     "output_type": "stream",
     "text": [
      "100%|██████████| 891/891 [00:01<00:00, 467.05it/s]\n"
     ]
    },
    {
     "name": "stdout",
     "output_type": "stream",
     "text": [
      "========= TEST EVALUATION STARTED =========\n",
      "END OF 4 EPOCH\n",
      "| Time taken:   1.923 |\n",
      "| Test acc:  0.72059  | Test f1:  0.51286  |\n",
      "========= EPOCH 5 STARTED =========\n"
     ]
    },
    {
     "name": "stderr",
     "output_type": "stream",
     "text": [
      "100%|██████████| 891/891 [00:01<00:00, 460.02it/s]\n"
     ]
    },
    {
     "name": "stdout",
     "output_type": "stream",
     "text": [
      "========= TEST EVALUATION STARTED =========\n",
      "END OF 5 EPOCH\n",
      "| Time taken:   1.944 |\n",
      "| Test acc:  0.71996  | Test f1:  0.51330  |\n",
      "========= EPOCH 6 STARTED =========\n"
     ]
    },
    {
     "name": "stderr",
     "output_type": "stream",
     "text": [
      "100%|██████████| 891/891 [00:01<00:00, 455.54it/s]\n"
     ]
    },
    {
     "name": "stdout",
     "output_type": "stream",
     "text": [
      "========= TEST EVALUATION STARTED =========\n",
      "END OF 6 EPOCH\n",
      "| Time taken:   1.966 |\n",
      "| Test acc:  0.71982  | Test f1:  0.51165  |\n",
      "========= EPOCH 7 STARTED =========\n"
     ]
    },
    {
     "name": "stderr",
     "output_type": "stream",
     "text": [
      "100%|██████████| 891/891 [00:01<00:00, 450.39it/s]\n"
     ]
    },
    {
     "name": "stdout",
     "output_type": "stream",
     "text": [
      "========= TEST EVALUATION STARTED =========\n",
      "END OF 7 EPOCH\n",
      "| Time taken:   1.993 |\n",
      "| Test acc:  0.71996  | Test f1:  0.51435  |\n",
      "========= EPOCH 8 STARTED =========\n"
     ]
    },
    {
     "name": "stderr",
     "output_type": "stream",
     "text": [
      "100%|██████████| 891/891 [00:01<00:00, 464.02it/s]\n"
     ]
    },
    {
     "name": "stdout",
     "output_type": "stream",
     "text": [
      "========= TEST EVALUATION STARTED =========\n",
      "END OF 8 EPOCH\n",
      "| Time taken:   1.930 |\n",
      "| Test acc:  0.72045  | Test f1:  0.51013  |\n",
      "========= EPOCH 9 STARTED =========\n"
     ]
    },
    {
     "name": "stderr",
     "output_type": "stream",
     "text": [
      "100%|██████████| 891/891 [00:01<00:00, 461.79it/s]\n"
     ]
    },
    {
     "name": "stdout",
     "output_type": "stream",
     "text": [
      "========= TEST EVALUATION STARTED =========\n",
      "END OF 9 EPOCH\n",
      "| Time taken:   1.947 |\n",
      "| Test acc:  0.71933  | Test f1:  0.51289  |\n",
      "========= EPOCH 10 STARTED =========\n"
     ]
    },
    {
     "name": "stderr",
     "output_type": "stream",
     "text": [
      "100%|██████████| 891/891 [00:01<00:00, 462.34it/s]\n"
     ]
    },
    {
     "name": "stdout",
     "output_type": "stream",
     "text": [
      "========= TEST EVALUATION STARTED =========\n",
      "END OF 10 EPOCH\n",
      "| Time taken:   1.940 |\n",
      "| Test acc:  0.72038  | Test f1:  0.51264  |\n",
      "========= EPOCH 11 STARTED =========\n"
     ]
    },
    {
     "name": "stderr",
     "output_type": "stream",
     "text": [
      "100%|██████████| 891/891 [00:01<00:00, 458.20it/s]\n"
     ]
    },
    {
     "name": "stdout",
     "output_type": "stream",
     "text": [
      "========= TEST EVALUATION STARTED =========\n",
      "END OF 11 EPOCH\n",
      "| Time taken:   1.957 |\n",
      "| Test acc:  0.72003  | Test f1:  0.51238  |\n",
      "========= EPOCH 12 STARTED =========\n"
     ]
    },
    {
     "name": "stderr",
     "output_type": "stream",
     "text": [
      "100%|██████████| 891/891 [00:01<00:00, 461.29it/s]\n"
     ]
    },
    {
     "name": "stdout",
     "output_type": "stream",
     "text": [
      "========= TEST EVALUATION STARTED =========\n",
      "END OF 12 EPOCH\n",
      "| Time taken:   1.943 |\n",
      "| Test acc:  0.71905  | Test f1:  0.51081  |\n",
      "========= EPOCH 13 STARTED =========\n"
     ]
    },
    {
     "name": "stderr",
     "output_type": "stream",
     "text": [
      "100%|██████████| 891/891 [00:01<00:00, 468.35it/s]\n"
     ]
    },
    {
     "name": "stdout",
     "output_type": "stream",
     "text": [
      "========= TEST EVALUATION STARTED =========\n",
      "END OF 13 EPOCH\n",
      "| Time taken:   1.913 |\n",
      "| Test acc:  0.71898  | Test f1:  0.51134  |\n",
      "========= EPOCH 14 STARTED =========\n"
     ]
    },
    {
     "name": "stderr",
     "output_type": "stream",
     "text": [
      "100%|██████████| 891/891 [00:01<00:00, 471.62it/s]\n"
     ]
    },
    {
     "name": "stdout",
     "output_type": "stream",
     "text": [
      "========= TEST EVALUATION STARTED =========\n",
      "END OF 14 EPOCH\n",
      "| Time taken:   1.905 |\n",
      "| Test acc:  0.71968  | Test f1:  0.51141  |\n",
      "========= EPOCH 15 STARTED =========\n"
     ]
    },
    {
     "name": "stderr",
     "output_type": "stream",
     "text": [
      "100%|██████████| 891/891 [00:01<00:00, 460.99it/s]\n"
     ]
    },
    {
     "name": "stdout",
     "output_type": "stream",
     "text": [
      "========= TEST EVALUATION STARTED =========\n",
      "END OF 15 EPOCH\n",
      "| Time taken:   1.942 |\n",
      "| Test acc:  0.71975  | Test f1:  0.51133  |\n",
      "========= EPOCH 16 STARTED =========\n"
     ]
    },
    {
     "name": "stderr",
     "output_type": "stream",
     "text": [
      "100%|██████████| 891/891 [00:01<00:00, 469.47it/s]\n"
     ]
    },
    {
     "name": "stdout",
     "output_type": "stream",
     "text": [
      "========= TEST EVALUATION STARTED =========\n",
      "END OF 16 EPOCH\n",
      "| Time taken:   1.903 |\n",
      "| Test acc:  0.72045  | Test f1:  0.51547  |\n",
      "========= EPOCH 17 STARTED =========\n"
     ]
    },
    {
     "name": "stderr",
     "output_type": "stream",
     "text": [
      "100%|██████████| 891/891 [00:01<00:00, 466.80it/s]\n"
     ]
    },
    {
     "name": "stdout",
     "output_type": "stream",
     "text": [
      "========= TEST EVALUATION STARTED =========\n",
      "END OF 17 EPOCH\n",
      "| Time taken:   1.924 |\n",
      "| Test acc:  0.71933  | Test f1:  0.51244  |\n",
      "========= EPOCH 18 STARTED =========\n"
     ]
    },
    {
     "name": "stderr",
     "output_type": "stream",
     "text": [
      "100%|██████████| 891/891 [00:01<00:00, 472.34it/s]\n"
     ]
    },
    {
     "name": "stdout",
     "output_type": "stream",
     "text": [
      "========= TEST EVALUATION STARTED =========\n",
      "END OF 18 EPOCH\n",
      "| Time taken:   1.896 |\n",
      "| Test acc:  0.72045  | Test f1:  0.51123  |\n",
      "========= EPOCH 19 STARTED =========\n"
     ]
    },
    {
     "name": "stderr",
     "output_type": "stream",
     "text": [
      "100%|██████████| 891/891 [00:01<00:00, 463.34it/s]\n"
     ]
    },
    {
     "name": "stdout",
     "output_type": "stream",
     "text": [
      "========= TEST EVALUATION STARTED =========\n",
      "END OF 19 EPOCH\n",
      "| Time taken:   1.938 |\n",
      "| Test acc:  0.72017  | Test f1:  0.51294  |\n",
      "========= EPOCH 20 STARTED =========\n"
     ]
    },
    {
     "name": "stderr",
     "output_type": "stream",
     "text": [
      "100%|██████████| 891/891 [00:01<00:00, 467.04it/s]\n"
     ]
    },
    {
     "name": "stdout",
     "output_type": "stream",
     "text": [
      "========= TEST EVALUATION STARTED =========\n",
      "END OF 20 EPOCH\n",
      "| Time taken:   1.921 |\n",
      "| Test acc:  0.71947  | Test f1:  0.51223  |\n",
      "========= EPOCH 21 STARTED =========\n"
     ]
    },
    {
     "name": "stderr",
     "output_type": "stream",
     "text": [
      "100%|██████████| 891/891 [00:01<00:00, 448.46it/s]\n"
     ]
    },
    {
     "name": "stdout",
     "output_type": "stream",
     "text": [
      "========= TEST EVALUATION STARTED =========\n",
      "END OF 21 EPOCH\n",
      "| Time taken:   2.004 |\n",
      "| Test acc:  0.72003  | Test f1:  0.51363  |\n",
      "========= EPOCH 22 STARTED =========\n"
     ]
    },
    {
     "name": "stderr",
     "output_type": "stream",
     "text": [
      "100%|██████████| 891/891 [00:01<00:00, 463.62it/s]\n"
     ]
    },
    {
     "name": "stdout",
     "output_type": "stream",
     "text": [
      "========= TEST EVALUATION STARTED =========\n",
      "END OF 22 EPOCH\n",
      "| Time taken:   1.922 |\n",
      "| Test acc:  0.72045  | Test f1:  0.51230  |\n",
      "========= EPOCH 23 STARTED =========\n"
     ]
    },
    {
     "name": "stderr",
     "output_type": "stream",
     "text": [
      "100%|██████████| 891/891 [00:01<00:00, 465.39it/s]\n"
     ]
    },
    {
     "name": "stdout",
     "output_type": "stream",
     "text": [
      "========= TEST EVALUATION STARTED =========\n",
      "END OF 23 EPOCH\n",
      "| Time taken:   1.941 |\n",
      "| Test acc:  0.72010  | Test f1:  0.51257  |\n",
      "========= EPOCH 24 STARTED =========\n"
     ]
    },
    {
     "name": "stderr",
     "output_type": "stream",
     "text": [
      "100%|██████████| 891/891 [00:02<00:00, 442.91it/s]\n"
     ]
    },
    {
     "name": "stdout",
     "output_type": "stream",
     "text": [
      "========= TEST EVALUATION STARTED =========\n",
      "END OF 24 EPOCH\n",
      "| Time taken:   2.026 |\n",
      "| Test acc:  0.71940  | Test f1:  0.51280  |\n",
      "========= EPOCH 25 STARTED =========\n"
     ]
    },
    {
     "name": "stderr",
     "output_type": "stream",
     "text": [
      "100%|██████████| 891/891 [00:01<00:00, 456.91it/s]\n",
      "[I 2023-12-17 14:23:30,073] Trial 17 finished with value: 0.7200308815272319 and parameters: {'num_layers': 1, 'layer_units_0': 26, 'dropout': 0.42803768481815724, 'lr': 3.0790436923955005e-05}. Best is trial 3 with value: 0.7219258843346434.\n",
      "C:\\Users\\patel\\AppData\\Local\\Temp\\ipykernel_73972\\2609389762.py:3: FutureWarning: suggest_int() got {'step'} as positional arguments but they were expected to be given as keyword arguments.\n",
      "  num_layers = trial.suggest_int('num_layers', 1, 2, 3)  # Number of layers to optimize\n",
      "C:\\Users\\patel\\AppData\\Roaming\\Python\\Python311\\site-packages\\optuna\\distributions.py:700: UserWarning: The distribution is specified by [1, 2] and step=3, but the range is not divisible by `step`. It will be replaced by [1, 1].\n",
      "  warnings.warn(\n"
     ]
    },
    {
     "name": "stdout",
     "output_type": "stream",
     "text": [
      "========= TEST EVALUATION STARTED =========\n",
      "END OF 25 EPOCH\n",
      "| Time taken:   1.964 |\n",
      "| Test acc:  0.72003  | Test f1:  0.51200  |\n",
      "========= EPOCH 1 STARTED =========\n"
     ]
    },
    {
     "name": "stderr",
     "output_type": "stream",
     "text": [
      "100%|██████████| 891/891 [00:01<00:00, 461.47it/s]\n"
     ]
    },
    {
     "name": "stdout",
     "output_type": "stream",
     "text": [
      "========= TEST EVALUATION STARTED =========\n",
      "END OF 1 EPOCH\n",
      "| Time taken:   1.944 |\n",
      "| Test acc:  0.72066  | Test f1:  0.51279  |\n",
      "========= EPOCH 2 STARTED =========\n"
     ]
    },
    {
     "name": "stderr",
     "output_type": "stream",
     "text": [
      "100%|██████████| 891/891 [00:01<00:00, 447.01it/s]\n"
     ]
    },
    {
     "name": "stdout",
     "output_type": "stream",
     "text": [
      "========= TEST EVALUATION STARTED =========\n",
      "END OF 2 EPOCH\n",
      "| Time taken:   2.007 |\n",
      "| Test acc:  0.71778  | Test f1:  0.51316  |\n",
      "========= EPOCH 3 STARTED =========\n"
     ]
    },
    {
     "name": "stderr",
     "output_type": "stream",
     "text": [
      "100%|██████████| 891/891 [00:01<00:00, 455.17it/s]\n"
     ]
    },
    {
     "name": "stdout",
     "output_type": "stream",
     "text": [
      "========= TEST EVALUATION STARTED =========\n",
      "END OF 3 EPOCH\n",
      "| Time taken:   1.966 |\n",
      "| Test acc:  0.71940  | Test f1:  0.51256  |\n",
      "========= EPOCH 4 STARTED =========\n"
     ]
    },
    {
     "name": "stderr",
     "output_type": "stream",
     "text": [
      "100%|██████████| 891/891 [00:01<00:00, 459.91it/s]\n"
     ]
    },
    {
     "name": "stdout",
     "output_type": "stream",
     "text": [
      "========= TEST EVALUATION STARTED =========\n",
      "END OF 4 EPOCH\n",
      "| Time taken:   1.951 |\n",
      "| Test acc:  0.72010  | Test f1:  0.51227  |\n",
      "========= EPOCH 5 STARTED =========\n"
     ]
    },
    {
     "name": "stderr",
     "output_type": "stream",
     "text": [
      "100%|██████████| 891/891 [00:01<00:00, 473.61it/s]\n"
     ]
    },
    {
     "name": "stdout",
     "output_type": "stream",
     "text": [
      "========= TEST EVALUATION STARTED =========\n",
      "END OF 5 EPOCH\n",
      "| Time taken:   1.889 |\n",
      "| Test acc:  0.71905  | Test f1:  0.51308  |\n",
      "========= EPOCH 6 STARTED =========\n"
     ]
    },
    {
     "name": "stderr",
     "output_type": "stream",
     "text": [
      "100%|██████████| 891/891 [00:01<00:00, 454.97it/s]\n"
     ]
    },
    {
     "name": "stdout",
     "output_type": "stream",
     "text": [
      "========= TEST EVALUATION STARTED =========\n",
      "END OF 6 EPOCH\n",
      "| Time taken:   1.965 |\n",
      "| Test acc:  0.71828  | Test f1:  0.51040  |\n",
      "========= EPOCH 7 STARTED =========\n"
     ]
    },
    {
     "name": "stderr",
     "output_type": "stream",
     "text": [
      "100%|██████████| 891/891 [00:01<00:00, 459.66it/s]\n"
     ]
    },
    {
     "name": "stdout",
     "output_type": "stream",
     "text": [
      "========= TEST EVALUATION STARTED =========\n",
      "END OF 7 EPOCH\n",
      "| Time taken:   1.958 |\n",
      "| Test acc:  0.71961  | Test f1:  0.51153  |\n",
      "========= EPOCH 8 STARTED =========\n"
     ]
    },
    {
     "name": "stderr",
     "output_type": "stream",
     "text": [
      "100%|██████████| 891/891 [00:01<00:00, 469.97it/s]\n"
     ]
    },
    {
     "name": "stdout",
     "output_type": "stream",
     "text": [
      "========= TEST EVALUATION STARTED =========\n",
      "END OF 8 EPOCH\n",
      "| Time taken:   1.903 |\n",
      "| Test acc:  0.72031  | Test f1:  0.51058  |\n",
      "========= EPOCH 9 STARTED =========\n"
     ]
    },
    {
     "name": "stderr",
     "output_type": "stream",
     "text": [
      "100%|██████████| 891/891 [00:01<00:00, 456.64it/s]\n"
     ]
    },
    {
     "name": "stdout",
     "output_type": "stream",
     "text": [
      "========= TEST EVALUATION STARTED =========\n",
      "END OF 9 EPOCH\n",
      "| Time taken:   1.965 |\n",
      "| Test acc:  0.72052  | Test f1:  0.51132  |\n",
      "========= EPOCH 10 STARTED =========\n"
     ]
    },
    {
     "name": "stderr",
     "output_type": "stream",
     "text": [
      "100%|██████████| 891/891 [00:01<00:00, 466.74it/s]\n"
     ]
    },
    {
     "name": "stdout",
     "output_type": "stream",
     "text": [
      "========= TEST EVALUATION STARTED =========\n",
      "END OF 10 EPOCH\n",
      "| Time taken:   1.917 |\n",
      "| Test acc:  0.72010  | Test f1:  0.51108  |\n",
      "========= EPOCH 11 STARTED =========\n"
     ]
    },
    {
     "name": "stderr",
     "output_type": "stream",
     "text": [
      "100%|██████████| 891/891 [00:01<00:00, 461.52it/s]\n"
     ]
    },
    {
     "name": "stdout",
     "output_type": "stream",
     "text": [
      "========= TEST EVALUATION STARTED =========\n",
      "END OF 11 EPOCH\n",
      "| Time taken:   1.938 |\n",
      "| Test acc:  0.71947  | Test f1:  0.51025  |\n",
      "========= EPOCH 12 STARTED =========\n"
     ]
    },
    {
     "name": "stderr",
     "output_type": "stream",
     "text": [
      "100%|██████████| 891/891 [00:01<00:00, 468.20it/s]\n"
     ]
    },
    {
     "name": "stdout",
     "output_type": "stream",
     "text": [
      "========= TEST EVALUATION STARTED =========\n",
      "END OF 12 EPOCH\n",
      "| Time taken:   1.917 |\n",
      "| Test acc:  0.72038  | Test f1:  0.50859  |\n",
      "========= EPOCH 13 STARTED =========\n"
     ]
    },
    {
     "name": "stderr",
     "output_type": "stream",
     "text": [
      "100%|██████████| 891/891 [00:01<00:00, 469.53it/s]\n"
     ]
    },
    {
     "name": "stdout",
     "output_type": "stream",
     "text": [
      "========= TEST EVALUATION STARTED =========\n",
      "END OF 13 EPOCH\n",
      "| Time taken:   1.911 |\n",
      "| Test acc:  0.71947  | Test f1:  0.50976  |\n",
      "========= EPOCH 14 STARTED =========\n"
     ]
    },
    {
     "name": "stderr",
     "output_type": "stream",
     "text": [
      "100%|██████████| 891/891 [00:01<00:00, 466.72it/s]\n"
     ]
    },
    {
     "name": "stdout",
     "output_type": "stream",
     "text": [
      "========= TEST EVALUATION STARTED =========\n",
      "END OF 14 EPOCH\n",
      "| Time taken:   1.922 |\n",
      "| Test acc:  0.71996  | Test f1:  0.51185  |\n",
      "========= EPOCH 15 STARTED =========\n"
     ]
    },
    {
     "name": "stderr",
     "output_type": "stream",
     "text": [
      "100%|██████████| 891/891 [00:01<00:00, 453.49it/s]\n"
     ]
    },
    {
     "name": "stdout",
     "output_type": "stream",
     "text": [
      "========= TEST EVALUATION STARTED =========\n",
      "END OF 15 EPOCH\n",
      "| Time taken:   1.980 |\n",
      "| Test acc:  0.71842  | Test f1:  0.51011  |\n",
      "========= EPOCH 16 STARTED =========\n"
     ]
    },
    {
     "name": "stderr",
     "output_type": "stream",
     "text": [
      "100%|██████████| 891/891 [00:01<00:00, 470.78it/s]\n"
     ]
    },
    {
     "name": "stdout",
     "output_type": "stream",
     "text": [
      "========= TEST EVALUATION STARTED =========\n",
      "END OF 16 EPOCH\n",
      "| Time taken:   1.903 |\n",
      "| Test acc:  0.71933  | Test f1:  0.51181  |\n",
      "========= EPOCH 17 STARTED =========\n"
     ]
    },
    {
     "name": "stderr",
     "output_type": "stream",
     "text": [
      "100%|██████████| 891/891 [00:01<00:00, 463.48it/s]\n"
     ]
    },
    {
     "name": "stdout",
     "output_type": "stream",
     "text": [
      "========= TEST EVALUATION STARTED =========\n",
      "END OF 17 EPOCH\n",
      "| Time taken:   1.939 |\n",
      "| Test acc:  0.72003  | Test f1:  0.51325  |\n",
      "========= EPOCH 18 STARTED =========\n"
     ]
    },
    {
     "name": "stderr",
     "output_type": "stream",
     "text": [
      "100%|██████████| 891/891 [00:01<00:00, 467.39it/s]\n"
     ]
    },
    {
     "name": "stdout",
     "output_type": "stream",
     "text": [
      "========= TEST EVALUATION STARTED =========\n",
      "END OF 18 EPOCH\n",
      "| Time taken:   1.919 |\n",
      "| Test acc:  0.72094  | Test f1:  0.51226  |\n",
      "========= EPOCH 19 STARTED =========\n"
     ]
    },
    {
     "name": "stderr",
     "output_type": "stream",
     "text": [
      "100%|██████████| 891/891 [00:01<00:00, 473.96it/s]\n"
     ]
    },
    {
     "name": "stdout",
     "output_type": "stream",
     "text": [
      "========= TEST EVALUATION STARTED =========\n",
      "END OF 19 EPOCH\n",
      "| Time taken:   1.892 |\n",
      "| Test acc:  0.72010  | Test f1:  0.51170  |\n",
      "========= EPOCH 20 STARTED =========\n"
     ]
    },
    {
     "name": "stderr",
     "output_type": "stream",
     "text": [
      "100%|██████████| 891/891 [00:01<00:00, 470.30it/s]\n"
     ]
    },
    {
     "name": "stdout",
     "output_type": "stream",
     "text": [
      "========= TEST EVALUATION STARTED =========\n",
      "END OF 20 EPOCH\n",
      "| Time taken:   1.904 |\n",
      "| Test acc:  0.72010  | Test f1:  0.51278  |\n",
      "========= EPOCH 21 STARTED =========\n"
     ]
    },
    {
     "name": "stderr",
     "output_type": "stream",
     "text": [
      "100%|██████████| 891/891 [00:01<00:00, 465.05it/s]\n"
     ]
    },
    {
     "name": "stdout",
     "output_type": "stream",
     "text": [
      "========= TEST EVALUATION STARTED =========\n",
      "END OF 21 EPOCH\n",
      "| Time taken:   1.926 |\n",
      "| Test acc:  0.71961  | Test f1:  0.51217  |\n",
      "========= EPOCH 22 STARTED =========\n"
     ]
    },
    {
     "name": "stderr",
     "output_type": "stream",
     "text": [
      "100%|██████████| 891/891 [00:01<00:00, 460.13it/s]\n"
     ]
    },
    {
     "name": "stdout",
     "output_type": "stream",
     "text": [
      "========= TEST EVALUATION STARTED =========\n",
      "END OF 22 EPOCH\n",
      "| Time taken:   1.952 |\n",
      "| Test acc:  0.72010  | Test f1:  0.50886  |\n",
      "========= EPOCH 23 STARTED =========\n"
     ]
    },
    {
     "name": "stderr",
     "output_type": "stream",
     "text": [
      "100%|██████████| 891/891 [00:01<00:00, 467.04it/s]\n"
     ]
    },
    {
     "name": "stdout",
     "output_type": "stream",
     "text": [
      "========= TEST EVALUATION STARTED =========\n",
      "END OF 23 EPOCH\n",
      "| Time taken:   1.923 |\n",
      "| Test acc:  0.71989  | Test f1:  0.50939  |\n",
      "========= EPOCH 24 STARTED =========\n"
     ]
    },
    {
     "name": "stderr",
     "output_type": "stream",
     "text": [
      "100%|██████████| 891/891 [00:01<00:00, 470.73it/s]\n"
     ]
    },
    {
     "name": "stdout",
     "output_type": "stream",
     "text": [
      "========= TEST EVALUATION STARTED =========\n",
      "END OF 24 EPOCH\n",
      "| Time taken:   1.893 |\n",
      "| Test acc:  0.71891  | Test f1:  0.51090  |\n",
      "========= EPOCH 25 STARTED =========\n"
     ]
    },
    {
     "name": "stderr",
     "output_type": "stream",
     "text": [
      "100%|██████████| 891/891 [00:01<00:00, 466.22it/s]\n",
      "[I 2023-12-17 14:24:18,396] Trial 18 finished with value: 0.7200308815272319 and parameters: {'num_layers': 1, 'layer_units_0': 30, 'dropout': 0.3134174109164942, 'lr': 0.00015746127421076636}. Best is trial 3 with value: 0.7219258843346434.\n",
      "C:\\Users\\patel\\AppData\\Local\\Temp\\ipykernel_73972\\2609389762.py:3: FutureWarning: suggest_int() got {'step'} as positional arguments but they were expected to be given as keyword arguments.\n",
      "  num_layers = trial.suggest_int('num_layers', 1, 2, 3)  # Number of layers to optimize\n",
      "C:\\Users\\patel\\AppData\\Roaming\\Python\\Python311\\site-packages\\optuna\\distributions.py:700: UserWarning: The distribution is specified by [1, 2] and step=3, but the range is not divisible by `step`. It will be replaced by [1, 1].\n",
      "  warnings.warn(\n"
     ]
    },
    {
     "name": "stdout",
     "output_type": "stream",
     "text": [
      "========= TEST EVALUATION STARTED =========\n",
      "END OF 25 EPOCH\n",
      "| Time taken:   1.927 |\n",
      "| Test acc:  0.72003  | Test f1:  0.51303  |\n",
      "========= EPOCH 1 STARTED =========\n"
     ]
    },
    {
     "name": "stderr",
     "output_type": "stream",
     "text": [
      "100%|██████████| 891/891 [00:01<00:00, 462.35it/s]\n"
     ]
    },
    {
     "name": "stdout",
     "output_type": "stream",
     "text": [
      "========= TEST EVALUATION STARTED =========\n",
      "END OF 1 EPOCH\n",
      "| Time taken:   1.927 |\n",
      "| Test acc:  0.71933  | Test f1:  0.51101  |\n",
      "========= EPOCH 2 STARTED =========\n"
     ]
    },
    {
     "name": "stderr",
     "output_type": "stream",
     "text": [
      "100%|██████████| 891/891 [00:01<00:00, 471.78it/s]\n"
     ]
    },
    {
     "name": "stdout",
     "output_type": "stream",
     "text": [
      "========= TEST EVALUATION STARTED =========\n",
      "END OF 2 EPOCH\n",
      "| Time taken:   1.904 |\n",
      "| Test acc:  0.71814  | Test f1:  0.51173  |\n",
      "========= EPOCH 3 STARTED =========\n"
     ]
    },
    {
     "name": "stderr",
     "output_type": "stream",
     "text": [
      "100%|██████████| 891/891 [00:01<00:00, 469.77it/s]\n"
     ]
    },
    {
     "name": "stdout",
     "output_type": "stream",
     "text": [
      "========= TEST EVALUATION STARTED =========\n",
      "END OF 3 EPOCH\n",
      "| Time taken:   1.907 |\n",
      "| Test acc:  0.72024  | Test f1:  0.51557  |\n",
      "========= EPOCH 4 STARTED =========\n"
     ]
    },
    {
     "name": "stderr",
     "output_type": "stream",
     "text": [
      "100%|██████████| 891/891 [00:01<00:00, 475.41it/s]\n"
     ]
    },
    {
     "name": "stdout",
     "output_type": "stream",
     "text": [
      "========= TEST EVALUATION STARTED =========\n",
      "END OF 4 EPOCH\n",
      "| Time taken:   1.890 |\n",
      "| Test acc:  0.72003  | Test f1:  0.51367  |\n",
      "========= EPOCH 5 STARTED =========\n"
     ]
    },
    {
     "name": "stderr",
     "output_type": "stream",
     "text": [
      "100%|██████████| 891/891 [00:01<00:00, 477.14it/s]\n"
     ]
    },
    {
     "name": "stdout",
     "output_type": "stream",
     "text": [
      "========= TEST EVALUATION STARTED =========\n",
      "END OF 5 EPOCH\n",
      "| Time taken:   1.881 |\n",
      "| Test acc:  0.72003  | Test f1:  0.51330  |\n",
      "========= EPOCH 6 STARTED =========\n"
     ]
    },
    {
     "name": "stderr",
     "output_type": "stream",
     "text": [
      "100%|██████████| 891/891 [00:01<00:00, 479.40it/s]\n"
     ]
    },
    {
     "name": "stdout",
     "output_type": "stream",
     "text": [
      "========= TEST EVALUATION STARTED =========\n",
      "END OF 6 EPOCH\n",
      "| Time taken:   1.868 |\n",
      "| Test acc:  0.71905  | Test f1:  0.51049  |\n",
      "========= EPOCH 7 STARTED =========\n"
     ]
    },
    {
     "name": "stderr",
     "output_type": "stream",
     "text": [
      "100%|██████████| 891/891 [00:01<00:00, 475.93it/s]\n"
     ]
    },
    {
     "name": "stdout",
     "output_type": "stream",
     "text": [
      "========= TEST EVALUATION STARTED =========\n",
      "END OF 7 EPOCH\n",
      "| Time taken:   1.883 |\n",
      "| Test acc:  0.71842  | Test f1:  0.51190  |\n",
      "========= EPOCH 8 STARTED =========\n"
     ]
    },
    {
     "name": "stderr",
     "output_type": "stream",
     "text": [
      "100%|██████████| 891/891 [00:01<00:00, 445.81it/s]\n"
     ]
    },
    {
     "name": "stdout",
     "output_type": "stream",
     "text": [
      "========= TEST EVALUATION STARTED =========\n",
      "END OF 8 EPOCH\n",
      "| Time taken:   2.000 |\n",
      "| Test acc:  0.71968  | Test f1:  0.51332  |\n",
      "========= EPOCH 9 STARTED =========\n"
     ]
    },
    {
     "name": "stderr",
     "output_type": "stream",
     "text": [
      "100%|██████████| 891/891 [00:01<00:00, 453.51it/s]\n"
     ]
    },
    {
     "name": "stdout",
     "output_type": "stream",
     "text": [
      "========= TEST EVALUATION STARTED =========\n",
      "END OF 9 EPOCH\n",
      "| Time taken:   1.972 |\n",
      "| Test acc:  0.71954  | Test f1:  0.51225  |\n",
      "========= EPOCH 10 STARTED =========\n"
     ]
    },
    {
     "name": "stderr",
     "output_type": "stream",
     "text": [
      "100%|██████████| 891/891 [00:01<00:00, 458.43it/s]\n"
     ]
    },
    {
     "name": "stdout",
     "output_type": "stream",
     "text": [
      "========= TEST EVALUATION STARTED =========\n",
      "END OF 10 EPOCH\n",
      "| Time taken:   1.951 |\n",
      "| Test acc:  0.71961  | Test f1:  0.51282  |\n",
      "========= EPOCH 11 STARTED =========\n"
     ]
    },
    {
     "name": "stderr",
     "output_type": "stream",
     "text": [
      "100%|██████████| 891/891 [00:01<00:00, 453.59it/s]\n"
     ]
    },
    {
     "name": "stdout",
     "output_type": "stream",
     "text": [
      "========= TEST EVALUATION STARTED =========\n",
      "END OF 11 EPOCH\n",
      "| Time taken:   1.972 |\n",
      "| Test acc:  0.72073  | Test f1:  0.51286  |\n",
      "========= EPOCH 12 STARTED =========\n"
     ]
    },
    {
     "name": "stderr",
     "output_type": "stream",
     "text": [
      "100%|██████████| 891/891 [00:01<00:00, 461.56it/s]\n"
     ]
    },
    {
     "name": "stdout",
     "output_type": "stream",
     "text": [
      "========= TEST EVALUATION STARTED =========\n",
      "END OF 12 EPOCH\n",
      "| Time taken:   1.944 |\n",
      "| Test acc:  0.72024  | Test f1:  0.51278  |\n",
      "========= EPOCH 13 STARTED =========\n"
     ]
    },
    {
     "name": "stderr",
     "output_type": "stream",
     "text": [
      "100%|██████████| 891/891 [00:01<00:00, 468.22it/s]\n"
     ]
    },
    {
     "name": "stdout",
     "output_type": "stream",
     "text": [
      "========= TEST EVALUATION STARTED =========\n",
      "END OF 13 EPOCH\n",
      "| Time taken:   1.917 |\n",
      "| Test acc:  0.72003  | Test f1:  0.51464  |\n",
      "========= EPOCH 14 STARTED =========\n"
     ]
    },
    {
     "name": "stderr",
     "output_type": "stream",
     "text": [
      "100%|██████████| 891/891 [00:01<00:00, 471.61it/s]\n"
     ]
    },
    {
     "name": "stdout",
     "output_type": "stream",
     "text": [
      "========= TEST EVALUATION STARTED =========\n",
      "END OF 14 EPOCH\n",
      "| Time taken:   1.903 |\n",
      "| Test acc:  0.71884  | Test f1:  0.51166  |\n",
      "========= EPOCH 15 STARTED =========\n"
     ]
    },
    {
     "name": "stderr",
     "output_type": "stream",
     "text": [
      "100%|██████████| 891/891 [00:01<00:00, 463.09it/s]\n"
     ]
    },
    {
     "name": "stdout",
     "output_type": "stream",
     "text": [
      "========= TEST EVALUATION STARTED =========\n",
      "END OF 15 EPOCH\n",
      "| Time taken:   1.937 |\n",
      "| Test acc:  0.71905  | Test f1:  0.50965  |\n",
      "========= EPOCH 16 STARTED =========\n"
     ]
    },
    {
     "name": "stderr",
     "output_type": "stream",
     "text": [
      "100%|██████████| 891/891 [00:01<00:00, 468.35it/s]\n"
     ]
    },
    {
     "name": "stdout",
     "output_type": "stream",
     "text": [
      "========= TEST EVALUATION STARTED =========\n",
      "END OF 16 EPOCH\n",
      "| Time taken:   1.917 |\n",
      "| Test acc:  0.71912  | Test f1:  0.51219  |\n",
      "========= EPOCH 17 STARTED =========\n"
     ]
    },
    {
     "name": "stderr",
     "output_type": "stream",
     "text": [
      "100%|██████████| 891/891 [00:01<00:00, 459.79it/s]\n"
     ]
    },
    {
     "name": "stdout",
     "output_type": "stream",
     "text": [
      "========= TEST EVALUATION STARTED =========\n",
      "END OF 17 EPOCH\n",
      "| Time taken:   1.952 |\n",
      "| Test acc:  0.71905  | Test f1:  0.50964  |\n",
      "========= EPOCH 18 STARTED =========\n"
     ]
    },
    {
     "name": "stderr",
     "output_type": "stream",
     "text": [
      "100%|██████████| 891/891 [00:02<00:00, 436.41it/s]\n"
     ]
    },
    {
     "name": "stdout",
     "output_type": "stream",
     "text": [
      "========= TEST EVALUATION STARTED =========\n",
      "END OF 18 EPOCH\n",
      "| Time taken:   2.048 |\n",
      "| Test acc:  0.71926  | Test f1:  0.50996  |\n",
      "========= EPOCH 19 STARTED =========\n"
     ]
    },
    {
     "name": "stderr",
     "output_type": "stream",
     "text": [
      "100%|██████████| 891/891 [00:02<00:00, 385.69it/s]\n"
     ]
    },
    {
     "name": "stdout",
     "output_type": "stream",
     "text": [
      "========= TEST EVALUATION STARTED =========\n",
      "END OF 19 EPOCH\n",
      "| Time taken:   2.316 |\n",
      "| Test acc:  0.72024  | Test f1:  0.51024  |\n",
      "========= EPOCH 20 STARTED =========\n"
     ]
    },
    {
     "name": "stderr",
     "output_type": "stream",
     "text": [
      "100%|██████████| 891/891 [00:01<00:00, 446.07it/s]\n"
     ]
    },
    {
     "name": "stdout",
     "output_type": "stream",
     "text": [
      "========= TEST EVALUATION STARTED =========\n",
      "END OF 20 EPOCH\n",
      "| Time taken:   2.008 |\n",
      "| Test acc:  0.71961  | Test f1:  0.51180  |\n",
      "========= EPOCH 21 STARTED =========\n"
     ]
    },
    {
     "name": "stderr",
     "output_type": "stream",
     "text": [
      "100%|██████████| 891/891 [00:01<00:00, 456.40it/s]\n"
     ]
    },
    {
     "name": "stdout",
     "output_type": "stream",
     "text": [
      "========= TEST EVALUATION STARTED =========\n",
      "END OF 21 EPOCH\n",
      "| Time taken:   1.962 |\n",
      "| Test acc:  0.72157  | Test f1:  0.51379  |\n",
      "========= EPOCH 22 STARTED =========\n"
     ]
    },
    {
     "name": "stderr",
     "output_type": "stream",
     "text": [
      "100%|██████████| 891/891 [00:01<00:00, 453.69it/s]\n"
     ]
    },
    {
     "name": "stdout",
     "output_type": "stream",
     "text": [
      "========= TEST EVALUATION STARTED =========\n",
      "END OF 22 EPOCH\n",
      "| Time taken:   1.970 |\n",
      "| Test acc:  0.72045  | Test f1:  0.51091  |\n",
      "========= EPOCH 23 STARTED =========\n"
     ]
    },
    {
     "name": "stderr",
     "output_type": "stream",
     "text": [
      "100%|██████████| 891/891 [00:01<00:00, 466.63it/s]\n"
     ]
    },
    {
     "name": "stdout",
     "output_type": "stream",
     "text": [
      "========= TEST EVALUATION STARTED =========\n",
      "END OF 23 EPOCH\n",
      "| Time taken:   1.921 |\n",
      "| Test acc:  0.72157  | Test f1:  0.51115  |\n",
      "========= EPOCH 24 STARTED =========\n"
     ]
    },
    {
     "name": "stderr",
     "output_type": "stream",
     "text": [
      "100%|██████████| 891/891 [00:01<00:00, 467.68it/s]\n"
     ]
    },
    {
     "name": "stdout",
     "output_type": "stream",
     "text": [
      "========= TEST EVALUATION STARTED =========\n",
      "END OF 24 EPOCH\n",
      "| Time taken:   1.922 |\n",
      "| Test acc:  0.72136  | Test f1:  0.51185  |\n",
      "========= EPOCH 25 STARTED =========\n"
     ]
    },
    {
     "name": "stderr",
     "output_type": "stream",
     "text": [
      "100%|██████████| 891/891 [00:02<00:00, 402.50it/s]\n",
      "[I 2023-12-17 14:25:07,514] Trial 19 finished with value: 0.7197501403705783 and parameters: {'num_layers': 1, 'layer_units_0': 34, 'dropout': 0.4061645825527297, 'lr': 0.0006563959246211601}. Best is trial 3 with value: 0.7219258843346434.\n"
     ]
    },
    {
     "name": "stdout",
     "output_type": "stream",
     "text": [
      "========= TEST EVALUATION STARTED =========\n",
      "END OF 25 EPOCH\n",
      "| Time taken:   2.219 |\n",
      "| Test acc:  0.71975  | Test f1:  0.51276  |\n"
     ]
    }
   ],
   "source": [
    "study = optuna.create_study(direction='maximize')\n",
    "study.optimize(task, n_trials=20)"
   ]
  },
  {
   "cell_type": "code",
   "execution_count": 75,
   "metadata": {},
   "outputs": [
    {
     "data": {
      "text/plain": [
       "{'num_layers': 1,\n",
       " 'layer_units_0': 21,\n",
       " 'dropout': 0.3920997163518337,\n",
       " 'lr': 0.007618416528710563}"
      ]
     },
     "execution_count": 75,
     "metadata": {},
     "output_type": "execute_result"
    }
   ],
   "source": [
    "study.best_params"
   ]
  },
  {
   "cell_type": "code",
   "execution_count": 84,
   "metadata": {},
   "outputs": [],
   "source": [
    "model = ANN(24, 50, 21).to(device)\n",
    "\n",
    "train_model(\n",
    "        model=model,            # global variable model used\n",
    "        train_dataloader=train_dataloader,\n",
    "        test_dataloader=test_dataloader,\n",
    "        optimiser=optimiser,    # global optimiser used\n",
    "        verbose=False\n",
    "    )"
   ]
  },
  {
   "cell_type": "code",
   "execution_count": 85,
   "metadata": {},
   "outputs": [
    {
     "name": "stdout",
     "output_type": "stream",
     "text": [
      "tensor([1, 1, 0,  ..., 1, 0, 1]) (array([0, 1, 2], dtype=int64), array([15261, 14780,   489], dtype=int64))\n"
     ]
    }
   ],
   "source": [
    "# get the best model\n",
    "\n",
    "print_pred_stats(x)\n",
    "submit(x)"
   ]
  },
  {
   "cell_type": "markdown",
   "metadata": {},
   "source": [
    "### Experiements with initialzation of weights\n",
    "\n",
    "Normal runs of the NN model is initialized with all weights zero.\n",
    "\n",
    "Experiments performed are:\n",
    "1) Xavier Uniform Initialization\n",
    "2) Xavier Normal Initialization\n",
    "3) He Uniform Initialization\n",
    "4) He Normal Initialization"
   ]
  },
  {
   "cell_type": "code",
   "execution_count": 30,
   "metadata": {},
   "outputs": [],
   "source": [
    "class XavUniANN(ANN):\n",
    "    def __init__(\n",
    "        self,\n",
    "        in_dim: int,\n",
    "        hidden_dim_1: int,\n",
    "        hidden_dim_2: int,\n",
    "        n_classes:int = 3,\n",
    "        dropout:float = 0.2\n",
    "    ):\n",
    "        super().__init__(in_dim, hidden_dim_1, hidden_dim_2, n_classes, dropout)\n",
    "\n",
    "        for m in self.modules():\n",
    "            if isinstance(m, nn.Linear):\n",
    "                nn.init.xavier_uniform_(m.weight)\n",
    "                nn.init.constant_(m.bias, 0)\n",
    "\n",
    "class XavNorANN(ANN):\n",
    "    def __init__(\n",
    "        self,\n",
    "        in_dim: int,\n",
    "        hidden_dim_1: int,\n",
    "        hidden_dim_2: int,\n",
    "        n_classes:int = 3,\n",
    "        dropout:float = 0.2\n",
    "    ):\n",
    "        super().__init__(in_dim, hidden_dim_1, hidden_dim_2, n_classes, dropout)\n",
    "\n",
    "        for m in self.modules():\n",
    "            if isinstance(m, nn.Linear):\n",
    "                nn.init.xavier_normal_(m.weight)\n",
    "                nn.init.constant_(m.bias, 0)\n",
    "\n",
    "class HeNorANN(ANN):\n",
    "    def __init__(\n",
    "        self,\n",
    "        in_dim: int,\n",
    "        hidden_dim_1: int,\n",
    "        hidden_dim_2: int,\n",
    "        n_classes:int = 3,\n",
    "        dropout:float = 0.2\n",
    "    ):\n",
    "        super().__init__(in_dim, hidden_dim_1, hidden_dim_2, n_classes, dropout)\n",
    "\n",
    "        for m in self.modules():\n",
    "            if isinstance(m, nn.Linear):\n",
    "                nn.init.kaiming_normal_(m.weight)\n",
    "                nn.init.constant_(m.bias, 0)\n",
    "\n",
    "class HeUnANN(ANN):\n",
    "    def __init__(\n",
    "        self,\n",
    "        in_dim: int,\n",
    "        hidden_dim_1: int,\n",
    "        hidden_dim_2: int,\n",
    "        n_classes:int = 3,\n",
    "        dropout:float = 0.2\n",
    "    ):\n",
    "        super().__init__(in_dim, hidden_dim_1, hidden_dim_2, n_classes, dropout)\n",
    "\n",
    "        for m in self.modules():\n",
    "            if isinstance(m, nn.Linear):\n",
    "                nn.init.kaiming_uniform_(m.weight)\n",
    "                nn.init.constant_(m.bias, 0)"
   ]
  },
  {
   "cell_type": "code",
   "execution_count": 31,
   "metadata": {},
   "outputs": [
    {
     "name": "stdout",
     "output_type": "stream",
     "text": [
      "Xavier Uniform...Completed\n",
      "Xavier Normal...Comleted\n",
      "He Normal...Completed\n",
      "He Uniform..."
     ]
    }
   ],
   "source": [
    "model1 = XavUniANN(24, 21, 20).to(device)\n",
    "model2 = XavNorANN(24, 21, 20).to(device)\n",
    "model3 = HeNorANN(24, 21, 20).to(device)\n",
    "model4 = HeUnANN(24, 21, 20).to(device)\n",
    "\n",
    "\n",
    "print(\"Xavier Uniform...\", end=\"\")\n",
    "train_model(\n",
    "        model=model1,            # global variable model used\n",
    "        train_dataloader=train_dataloader,\n",
    "        test_dataloader=test_dataloader,\n",
    "        optimiser=optimiser,    # global optimiser used\n",
    "        verbose=False\n",
    "    )\n",
    "print(\"Completed\")\n",
    "\n",
    "print(\"Xavier Normal...\", end=\"\")\n",
    "train_model(\n",
    "        model=model2,            # global variable model used\n",
    "        train_dataloader=train_dataloader,\n",
    "        test_dataloader=test_dataloader,\n",
    "        optimiser=optimiser,    # global optimiser used\n",
    "        verbose=False\n",
    "    )\n",
    "print(\"Comleted\")\n",
    "\n",
    "print(\"He Normal...\", end=\"\")\n",
    "train_model(\n",
    "        model=model3,            # global variable model used\n",
    "        train_dataloader=train_dataloader,\n",
    "        test_dataloader=test_dataloader,\n",
    "        optimiser=optimiser,    # global optimiser used\n",
    "        verbose=False\n",
    "    )\n",
    "print(\"Completed\")\n",
    "\n",
    "print(\"He Uniform...\", end=\"\")\n",
    "train_model(\n",
    "        model=model4,            # global variable model used\n",
    "        train_dataloader=train_dataloader,\n",
    "        test_dataloader=test_dataloader,\n",
    "        optimiser=optimiser,    # global optimiser used\n",
    "        verbose=False\n",
    "    )"
   ]
  },
  {
   "cell_type": "code",
   "execution_count": 32,
   "metadata": {},
   "outputs": [
    {
     "name": "stdout",
     "output_type": "stream",
     "text": [
      "tensor([2, 0, 0,  ..., 2, 2, 1]) (array([0, 1, 2], dtype=int64), array([ 9607,  9235, 11688], dtype=int64))\n"
     ]
    }
   ],
   "source": [
    "print_pred_stats(x, model=model1)\n",
    "submit(x, model=model1)"
   ]
  },
  {
   "cell_type": "code",
   "execution_count": 33,
   "metadata": {},
   "outputs": [
    {
     "name": "stdout",
     "output_type": "stream",
     "text": [
      "tensor([1, 0, 1,  ..., 0, 1, 0]) (array([0, 1, 2], dtype=int64), array([13262, 12046,  5222], dtype=int64))\n"
     ]
    }
   ],
   "source": [
    "print_pred_stats(x, model=model2)\n",
    "submit(x, model=model2)"
   ]
  },
  {
   "cell_type": "code",
   "execution_count": 34,
   "metadata": {},
   "outputs": [
    {
     "name": "stdout",
     "output_type": "stream",
     "text": [
      "tensor([1, 2, 1,  ..., 2, 1, 0]) (array([0, 1, 2], dtype=int64), array([ 8603, 14910,  7017], dtype=int64))\n"
     ]
    }
   ],
   "source": [
    "print_pred_stats(x, model=model3)\n",
    "submit(x, model=model3)"
   ]
  },
  {
   "cell_type": "code",
   "execution_count": 35,
   "metadata": {},
   "outputs": [
    {
     "name": "stdout",
     "output_type": "stream",
     "text": [
      "tensor([1, 1, 0,  ..., 1, 2, 2]) (array([0, 1, 2], dtype=int64), array([ 4250,  7230, 19050], dtype=int64))\n"
     ]
    }
   ],
   "source": [
    "print_pred_stats(x, model=model4)\n",
    "submit(x, model=model4)"
   ]
  },
  {
   "cell_type": "markdown",
   "metadata": {},
   "source": [
    "### Prediction Stats\n",
    "\n",
    "The model suffers from random initialization of the weights and gives a bad score on Kaggle.\n",
    "\n",
    "Xavier Uniform => 57.8 %\n",
    "\n",
    "Xavier Normal => 61.1 %\n",
    "\n",
    "He Normal => 62.8 %\n",
    "\n",
    "He Uniform => 64.2 %"
   ]
  },
  {
   "cell_type": "markdown",
   "metadata": {},
   "source": [
    "### Experimentation with data (SMOTE)"
   ]
  },
  {
   "cell_type": "code",
   "execution_count": 38,
   "metadata": {},
   "outputs": [
    {
     "data": {
      "text/plain": [
       "readmission_id\n",
       "2    38405\n",
       "1    24881\n",
       "0     7950\n",
       "Name: count, dtype: int64"
      ]
     },
     "execution_count": 38,
     "metadata": {},
     "output_type": "execute_result"
    }
   ],
   "source": [
    "train_data['readmission_id'].value_counts()"
   ]
  },
  {
   "cell_type": "code",
   "execution_count": null,
   "metadata": {},
   "outputs": [],
   "source": [
    "from imblearn.over_sampling import SMOTE\n",
    "from imblearn.under_sampling import RandomUnderSampler\n",
    "\n",
    "oversampler = SMOTE(sampling_strategy={0: 15000})\n",
    "undersampler = RandomUnderSampler(sampling_strategy={2: 30000})\n",
    "\n",
    "kdf_X, kdf_y = oversampler.fit_resample(x_train.drop('readmission_id', axis=1), x_train['readmission_id'])\n",
    "kdf_X, kdf_y = undersampler.fit_resample(kdf_X, kdf_y)"
   ]
  },
  {
   "cell_type": "code",
   "execution_count": null,
   "metadata": {},
   "outputs": [],
   "source": [
    "train_dataset = Data(kdf_X.to_numpy().astype('float64'), kdf_y.to_numpy())\n",
    "# test_dataset = Data(kdf_X.astype('float64'), kdf_y.to_numpy())\n",
    "\n",
    "train_dataloader = DataLoader(train_dataset, batch_size=64)\n",
    "# test_dataloader = DataLoader(test_dataset, batch_size=64)"
   ]
  }
 ],
 "metadata": {
  "kernelspec": {
   "display_name": "Python 3 (ipykernel)",
   "language": "python",
   "name": "python3"
  },
  "language_info": {
   "codemirror_mode": {
    "name": "ipython",
    "version": 3
   },
   "file_extension": ".py",
   "mimetype": "text/x-python",
   "name": "python",
   "nbconvert_exporter": "python",
   "pygments_lexer": "ipython3",
   "version": "3.11.3"
  }
 },
 "nbformat": 4,
 "nbformat_minor": 4
}
